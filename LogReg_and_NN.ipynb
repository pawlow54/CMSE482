{
 "cells": [
  {
   "cell_type": "code",
   "execution_count": 1,
   "id": "initial_id",
   "metadata": {
    "collapsed": true,
    "ExecuteTime": {
     "end_time": "2024-03-28T00:34:53.841269800Z",
     "start_time": "2024-03-28T00:34:49.015583900Z"
    }
   },
   "outputs": [],
   "source": [
    "import pandas as pd\n",
    "import numpy as np\n",
    "from sklearn.model_selection import train_test_split\n",
    "from sklearn.ensemble import RandomForestClassifier\n",
    "from sklearn.preprocessing import OneHotEncoder\n",
    "from sklearn.impute import SimpleImputer\n",
    "from sklearn.pipeline import make_pipeline\n",
    "from sklearn.compose import make_column_transformer\n",
    "from sklearn.metrics import accuracy_score, precision_score, recall_score, f1_score"
   ]
  },
  {
   "cell_type": "markdown",
   "source": [
    "# THE GOOD STUFF"
   ],
   "metadata": {
    "collapsed": false
   },
   "id": "ca432c920128bc09"
  },
  {
   "cell_type": "code",
   "outputs": [],
   "source": [
    "df_2021 = pd.read_csv('2021data.csv')\n",
    "df_2022 = pd.read_csv('2022data.csv')\n",
    "df_2023 = pd.read_csv('2023data.csv')"
   ],
   "metadata": {
    "collapsed": false,
    "ExecuteTime": {
     "end_time": "2024-03-28T00:38:49.761936600Z",
     "start_time": "2024-03-28T00:38:49.513188500Z"
    }
   },
   "id": "569565b1a7085714",
   "execution_count": 21
  },
  {
   "cell_type": "code",
   "outputs": [
    {
     "name": "stderr",
     "output_type": "stream",
     "text": [
      "C:\\Users\\bpawl\\AppData\\Local\\Temp\\ipykernel_12948\\3988736548.py:5: FutureWarning: Downcasting behavior in `replace` is deprecated and will be removed in a future version. To retain the old behavior, explicitly call `result.infer_objects(copy=False)`. To opt-in to the future behavior, set `pd.set_option('future.no_silent_downcasting', True)`\n",
      "  df_2021['OT'] = df_2021['OT'].fillna(0).replace('OT', 1)\n"
     ]
    },
    {
     "data": {
      "text/plain": "    Team  Result   OT  H/A  Score_Tm  Score_Opp  Off_1stD  Off_TotYd  \\\n0  49ers     1.0  0.0  0.0      41.0       33.0      21.0      442.0   \n1  49ers     0.0  0.0  0.0      10.0       17.0      19.0      338.0   \n2  49ers     0.0  0.0  1.0      18.0       30.0      13.0      280.0   \n3  49ers     1.0  0.0  1.0      34.0       26.0      23.0      423.0   \n4  49ers     0.0  0.0  0.0      23.0       30.0      17.0      365.0   \n\n   Off_PassYd  Off_RushYd  Off_TO  Def_1stD  Def_TotYd  Def_PassYd  \\\n0       311.0       131.0     2.0      31.0      430.0       314.0   \n1       186.0       152.0     1.0      20.0      304.0       210.0   \n2       169.0       111.0     4.0      17.0      295.0       147.0   \n3       215.0       208.0     1.0      17.0      323.0       256.0   \n4       294.0        71.0     3.0      21.0      327.0       181.0   \n\n   Def_RushYD  Def_TO  Exp_Offense  Exp_Defense  Exp_SpecTms  \n0       116.0     1.0        15.48        -5.16        -1.73  \n1        94.0     1.0        -6.53        -1.74        -0.47  \n2       148.0     2.0       -15.30        -1.16         4.24  \n3        67.0     2.0         8.93         4.16        -6.10  \n4       146.0     3.0        -0.51        -2.27        -3.44  ",
      "text/html": "<div>\n<style scoped>\n    .dataframe tbody tr th:only-of-type {\n        vertical-align: middle;\n    }\n\n    .dataframe tbody tr th {\n        vertical-align: top;\n    }\n\n    .dataframe thead th {\n        text-align: right;\n    }\n</style>\n<table border=\"1\" class=\"dataframe\">\n  <thead>\n    <tr style=\"text-align: right;\">\n      <th></th>\n      <th>Team</th>\n      <th>Result</th>\n      <th>OT</th>\n      <th>H/A</th>\n      <th>Score_Tm</th>\n      <th>Score_Opp</th>\n      <th>Off_1stD</th>\n      <th>Off_TotYd</th>\n      <th>Off_PassYd</th>\n      <th>Off_RushYd</th>\n      <th>Off_TO</th>\n      <th>Def_1stD</th>\n      <th>Def_TotYd</th>\n      <th>Def_PassYd</th>\n      <th>Def_RushYD</th>\n      <th>Def_TO</th>\n      <th>Exp_Offense</th>\n      <th>Exp_Defense</th>\n      <th>Exp_SpecTms</th>\n    </tr>\n  </thead>\n  <tbody>\n    <tr>\n      <th>0</th>\n      <td>49ers</td>\n      <td>1.0</td>\n      <td>0.0</td>\n      <td>0.0</td>\n      <td>41.0</td>\n      <td>33.0</td>\n      <td>21.0</td>\n      <td>442.0</td>\n      <td>311.0</td>\n      <td>131.0</td>\n      <td>2.0</td>\n      <td>31.0</td>\n      <td>430.0</td>\n      <td>314.0</td>\n      <td>116.0</td>\n      <td>1.0</td>\n      <td>15.48</td>\n      <td>-5.16</td>\n      <td>-1.73</td>\n    </tr>\n    <tr>\n      <th>1</th>\n      <td>49ers</td>\n      <td>0.0</td>\n      <td>0.0</td>\n      <td>0.0</td>\n      <td>10.0</td>\n      <td>17.0</td>\n      <td>19.0</td>\n      <td>338.0</td>\n      <td>186.0</td>\n      <td>152.0</td>\n      <td>1.0</td>\n      <td>20.0</td>\n      <td>304.0</td>\n      <td>210.0</td>\n      <td>94.0</td>\n      <td>1.0</td>\n      <td>-6.53</td>\n      <td>-1.74</td>\n      <td>-0.47</td>\n    </tr>\n    <tr>\n      <th>2</th>\n      <td>49ers</td>\n      <td>0.0</td>\n      <td>0.0</td>\n      <td>1.0</td>\n      <td>18.0</td>\n      <td>30.0</td>\n      <td>13.0</td>\n      <td>280.0</td>\n      <td>169.0</td>\n      <td>111.0</td>\n      <td>4.0</td>\n      <td>17.0</td>\n      <td>295.0</td>\n      <td>147.0</td>\n      <td>148.0</td>\n      <td>2.0</td>\n      <td>-15.30</td>\n      <td>-1.16</td>\n      <td>4.24</td>\n    </tr>\n    <tr>\n      <th>3</th>\n      <td>49ers</td>\n      <td>1.0</td>\n      <td>0.0</td>\n      <td>1.0</td>\n      <td>34.0</td>\n      <td>26.0</td>\n      <td>23.0</td>\n      <td>423.0</td>\n      <td>215.0</td>\n      <td>208.0</td>\n      <td>1.0</td>\n      <td>17.0</td>\n      <td>323.0</td>\n      <td>256.0</td>\n      <td>67.0</td>\n      <td>2.0</td>\n      <td>8.93</td>\n      <td>4.16</td>\n      <td>-6.10</td>\n    </tr>\n    <tr>\n      <th>4</th>\n      <td>49ers</td>\n      <td>0.0</td>\n      <td>0.0</td>\n      <td>0.0</td>\n      <td>23.0</td>\n      <td>30.0</td>\n      <td>17.0</td>\n      <td>365.0</td>\n      <td>294.0</td>\n      <td>71.0</td>\n      <td>3.0</td>\n      <td>21.0</td>\n      <td>327.0</td>\n      <td>181.0</td>\n      <td>146.0</td>\n      <td>3.0</td>\n      <td>-0.51</td>\n      <td>-2.27</td>\n      <td>-3.44</td>\n    </tr>\n  </tbody>\n</table>\n</div>"
     },
     "execution_count": 22,
     "metadata": {},
     "output_type": "execute_result"
    }
   ],
   "source": [
    "# Convert Win to 1 and anything else to 0\n",
    "df_2021['Result'] = df_2021['Result'].apply(lambda x: 1 if x == 'W' else 0) \n",
    "\n",
    "# 1 if OT, 0 if no OT\n",
    "df_2021['OT'] = df_2021['OT'].fillna(0).replace('OT', 1)\n",
    "\n",
    "# 1 is home, 0 is away\n",
    "df_2021['H/A'] = df_2021['H/A'].fillna(1).replace('@', 0)\n",
    "\n",
    "df_2021 = df_2021.drop(columns=['Day', 'Date', 'Time', 'Link', 'Rec', 'Week'])\n",
    "df_2021 = df_2021.dropna()\n",
    "df_2021 = df_2021.reset_index()\n",
    "df_2021 = df_2021.drop(columns=['index'])\n",
    "df_2021['Score_Tm'] = df_2021['Score_Tm'].astype(float)\n",
    "df_2021 = df_2021[~(df_2021['H/A'] == 'N')]\n",
    "df_2021['H/A'] = df_2021['H/A'].astype(float)\n",
    "df_2021['OT'] = df_2021['OT'].astype(float)\n",
    "df_2021['Result'] = df_2021['Result'].astype(float)\n",
    "df_2021.pop('Opp')\n",
    "\n",
    "df_2021.head()"
   ],
   "metadata": {
    "collapsed": false,
    "ExecuteTime": {
     "end_time": "2024-03-28T00:38:50.900411200Z",
     "start_time": "2024-03-28T00:38:50.611846600Z"
    }
   },
   "id": "1cbb62aeeac4af53",
   "execution_count": 22
  },
  {
   "cell_type": "code",
   "outputs": [
    {
     "name": "stderr",
     "output_type": "stream",
     "text": [
      "C:\\Users\\bpawl\\AppData\\Local\\Temp\\ipykernel_12948\\288872902.py:5: FutureWarning: Downcasting behavior in `replace` is deprecated and will be removed in a future version. To retain the old behavior, explicitly call `result.infer_objects(copy=False)`. To opt-in to the future behavior, set `pd.set_option('future.no_silent_downcasting', True)`\n",
      "  df_2022['OT'] = df_2022['OT'].fillna(0).replace('OT', 1)\n"
     ]
    },
    {
     "data": {
      "text/plain": "    Team  Result   OT  H/A  Score_Tm  Score_Opp  Off_1stD  Off_TotYd  \\\n0  49ers     0.0  0.0  0.0      10.0       19.0      17.0      331.0   \n1  49ers     1.0  0.0  0.0      37.0       15.0      22.0      397.0   \n2  49ers     0.0  0.0  1.0      23.0       44.0      25.0      444.0   \n3  49ers     1.0  0.0  1.0      22.0       16.0      22.0      387.0   \n4  49ers     1.0  0.0  1.0      33.0       17.0      24.0      351.0   \n\n   Off_PassYd  Off_RushYd  Off_TO  Def_1stD  Def_TotYd  Def_PassYd  \\\n0       155.0       176.0     2.0      15.0      204.0       105.0   \n1       244.0       153.0     1.0      15.0      308.0       244.0   \n2       343.0       101.0     3.0      24.0      529.0       417.0   \n3       230.0       157.0     1.0      12.0      238.0       187.0   \n4       230.0       121.0     1.0      14.0      308.0       275.0   \n\n   Def_RushYD  Def_TO  Exp_Offense  Exp_Defense  Exp_SpecTms  \n0        99.0     1.0       -11.26        -0.67         0.42  \n1        64.0     1.0        16.04        13.22        -7.82  \n2       112.0     2.0         3.59       -30.58         8.50  \n3        51.0     1.0         6.20         7.29        -5.38  \n4        33.0     4.0         1.78        13.36         1.00  ",
      "text/html": "<div>\n<style scoped>\n    .dataframe tbody tr th:only-of-type {\n        vertical-align: middle;\n    }\n\n    .dataframe tbody tr th {\n        vertical-align: top;\n    }\n\n    .dataframe thead th {\n        text-align: right;\n    }\n</style>\n<table border=\"1\" class=\"dataframe\">\n  <thead>\n    <tr style=\"text-align: right;\">\n      <th></th>\n      <th>Team</th>\n      <th>Result</th>\n      <th>OT</th>\n      <th>H/A</th>\n      <th>Score_Tm</th>\n      <th>Score_Opp</th>\n      <th>Off_1stD</th>\n      <th>Off_TotYd</th>\n      <th>Off_PassYd</th>\n      <th>Off_RushYd</th>\n      <th>Off_TO</th>\n      <th>Def_1stD</th>\n      <th>Def_TotYd</th>\n      <th>Def_PassYd</th>\n      <th>Def_RushYD</th>\n      <th>Def_TO</th>\n      <th>Exp_Offense</th>\n      <th>Exp_Defense</th>\n      <th>Exp_SpecTms</th>\n    </tr>\n  </thead>\n  <tbody>\n    <tr>\n      <th>0</th>\n      <td>49ers</td>\n      <td>0.0</td>\n      <td>0.0</td>\n      <td>0.0</td>\n      <td>10.0</td>\n      <td>19.0</td>\n      <td>17.0</td>\n      <td>331.0</td>\n      <td>155.0</td>\n      <td>176.0</td>\n      <td>2.0</td>\n      <td>15.0</td>\n      <td>204.0</td>\n      <td>105.0</td>\n      <td>99.0</td>\n      <td>1.0</td>\n      <td>-11.26</td>\n      <td>-0.67</td>\n      <td>0.42</td>\n    </tr>\n    <tr>\n      <th>1</th>\n      <td>49ers</td>\n      <td>1.0</td>\n      <td>0.0</td>\n      <td>0.0</td>\n      <td>37.0</td>\n      <td>15.0</td>\n      <td>22.0</td>\n      <td>397.0</td>\n      <td>244.0</td>\n      <td>153.0</td>\n      <td>1.0</td>\n      <td>15.0</td>\n      <td>308.0</td>\n      <td>244.0</td>\n      <td>64.0</td>\n      <td>1.0</td>\n      <td>16.04</td>\n      <td>13.22</td>\n      <td>-7.82</td>\n    </tr>\n    <tr>\n      <th>2</th>\n      <td>49ers</td>\n      <td>0.0</td>\n      <td>0.0</td>\n      <td>1.0</td>\n      <td>23.0</td>\n      <td>44.0</td>\n      <td>25.0</td>\n      <td>444.0</td>\n      <td>343.0</td>\n      <td>101.0</td>\n      <td>3.0</td>\n      <td>24.0</td>\n      <td>529.0</td>\n      <td>417.0</td>\n      <td>112.0</td>\n      <td>2.0</td>\n      <td>3.59</td>\n      <td>-30.58</td>\n      <td>8.50</td>\n    </tr>\n    <tr>\n      <th>3</th>\n      <td>49ers</td>\n      <td>1.0</td>\n      <td>0.0</td>\n      <td>1.0</td>\n      <td>22.0</td>\n      <td>16.0</td>\n      <td>22.0</td>\n      <td>387.0</td>\n      <td>230.0</td>\n      <td>157.0</td>\n      <td>1.0</td>\n      <td>12.0</td>\n      <td>238.0</td>\n      <td>187.0</td>\n      <td>51.0</td>\n      <td>1.0</td>\n      <td>6.20</td>\n      <td>7.29</td>\n      <td>-5.38</td>\n    </tr>\n    <tr>\n      <th>4</th>\n      <td>49ers</td>\n      <td>1.0</td>\n      <td>0.0</td>\n      <td>1.0</td>\n      <td>33.0</td>\n      <td>17.0</td>\n      <td>24.0</td>\n      <td>351.0</td>\n      <td>230.0</td>\n      <td>121.0</td>\n      <td>1.0</td>\n      <td>14.0</td>\n      <td>308.0</td>\n      <td>275.0</td>\n      <td>33.0</td>\n      <td>4.0</td>\n      <td>1.78</td>\n      <td>13.36</td>\n      <td>1.00</td>\n    </tr>\n  </tbody>\n</table>\n</div>"
     },
     "execution_count": 23,
     "metadata": {},
     "output_type": "execute_result"
    }
   ],
   "source": [
    "# Convert Win to 1 and anything else to 0\n",
    "df_2022['Result'] = df_2022['Result'].apply(lambda x: 1 if x == 'W' else 0) \n",
    "\n",
    "# 1 if OT, 0 if no OT\n",
    "df_2022['OT'] = df_2022['OT'].fillna(0).replace('OT', 1)\n",
    "\n",
    "# 1 is home, 0 is away\n",
    "df_2022['H/A'] = df_2022['H/A'].fillna(1).replace('@', 0)\n",
    "\n",
    "df_2022 = df_2022.drop(columns=['Day', 'Date', 'Time', 'Link', 'Rec', 'Week'])\n",
    "df_2022 = df_2022.dropna()\n",
    "df_2022 = df_2022.reset_index()\n",
    "df_2022 = df_2022.drop(columns=['index'])\n",
    "df_2022['Score_Tm'] = df_2022['Score_Tm'].astype(float)\n",
    "df_2022 = df_2022[~(df_2022['H/A'] == 'N')]\n",
    "df_2022['H/A'] = df_2022['H/A'].astype(float)\n",
    "df_2022['OT'] = df_2022['OT'].astype(float)\n",
    "df_2022['Result'] = df_2022['Result'].astype(float)\n",
    "df_2022.pop('Opp')\n",
    "\n",
    "df_2022.head()"
   ],
   "metadata": {
    "collapsed": false,
    "ExecuteTime": {
     "end_time": "2024-03-28T00:38:52.486691100Z",
     "start_time": "2024-03-28T00:38:52.164721600Z"
    }
   },
   "id": "4f1c90aaab93a85a",
   "execution_count": 23
  },
  {
   "cell_type": "code",
   "outputs": [
    {
     "name": "stderr",
     "output_type": "stream",
     "text": [
      "C:\\Users\\bpawl\\AppData\\Local\\Temp\\ipykernel_12948\\3475630129.py:5: FutureWarning: Downcasting behavior in `replace` is deprecated and will be removed in a future version. To retain the old behavior, explicitly call `result.infer_objects(copy=False)`. To opt-in to the future behavior, set `pd.set_option('future.no_silent_downcasting', True)`\n",
      "  df_2023['OT'] = df_2023['OT'].fillna(0).replace('OT', 1)\n"
     ]
    },
    {
     "data": {
      "text/plain": "    Team  Result   OT  H/A  Score_Tm  Score_Opp  Off_1stD  Off_TotYd  \\\n0  49ers     1.0  0.0  0.0      30.0        7.0      22.0      391.0   \n1  49ers     1.0  0.0  1.0      42.0       10.0      25.0      421.0   \n2  49ers     0.0  0.0  0.0      17.0       19.0      15.0      215.0   \n3  49ers     0.0  0.0  0.0      17.0       22.0      19.0      325.0   \n4  49ers     0.0  0.0  1.0      17.0       31.0      24.0      460.0   \n\n   Off_PassYd  Off_RushYd  Off_TO  Def_1stD  Def_TotYd  Def_PassYd  \\\n0       203.0       188.0     1.0      15.0      239.0       198.0   \n1       251.0       170.0     1.0       8.0      197.0       140.0   \n2       107.0       108.0     1.0      18.0      334.0       174.0   \n3       260.0        65.0     3.0      24.0      452.0       378.0   \n4       347.0       113.0     3.0      29.0      400.0       266.0   \n\n   Def_RushYD  Def_TO  Exp_Offense  Exp_Defense  Exp_SpecTms  \n0        41.0     2.0         9.73        13.55        -0.78  \n1        57.0     4.0        12.84        23.12        -5.21  \n2       160.0     2.0        -6.05        11.32        -7.34  \n3        74.0     1.0         5.43       -16.30         6.07  \n4       134.0     1.0         9.25       -18.30         2.48  ",
      "text/html": "<div>\n<style scoped>\n    .dataframe tbody tr th:only-of-type {\n        vertical-align: middle;\n    }\n\n    .dataframe tbody tr th {\n        vertical-align: top;\n    }\n\n    .dataframe thead th {\n        text-align: right;\n    }\n</style>\n<table border=\"1\" class=\"dataframe\">\n  <thead>\n    <tr style=\"text-align: right;\">\n      <th></th>\n      <th>Team</th>\n      <th>Result</th>\n      <th>OT</th>\n      <th>H/A</th>\n      <th>Score_Tm</th>\n      <th>Score_Opp</th>\n      <th>Off_1stD</th>\n      <th>Off_TotYd</th>\n      <th>Off_PassYd</th>\n      <th>Off_RushYd</th>\n      <th>Off_TO</th>\n      <th>Def_1stD</th>\n      <th>Def_TotYd</th>\n      <th>Def_PassYd</th>\n      <th>Def_RushYD</th>\n      <th>Def_TO</th>\n      <th>Exp_Offense</th>\n      <th>Exp_Defense</th>\n      <th>Exp_SpecTms</th>\n    </tr>\n  </thead>\n  <tbody>\n    <tr>\n      <th>0</th>\n      <td>49ers</td>\n      <td>1.0</td>\n      <td>0.0</td>\n      <td>0.0</td>\n      <td>30.0</td>\n      <td>7.0</td>\n      <td>22.0</td>\n      <td>391.0</td>\n      <td>203.0</td>\n      <td>188.0</td>\n      <td>1.0</td>\n      <td>15.0</td>\n      <td>239.0</td>\n      <td>198.0</td>\n      <td>41.0</td>\n      <td>2.0</td>\n      <td>9.73</td>\n      <td>13.55</td>\n      <td>-0.78</td>\n    </tr>\n    <tr>\n      <th>1</th>\n      <td>49ers</td>\n      <td>1.0</td>\n      <td>0.0</td>\n      <td>1.0</td>\n      <td>42.0</td>\n      <td>10.0</td>\n      <td>25.0</td>\n      <td>421.0</td>\n      <td>251.0</td>\n      <td>170.0</td>\n      <td>1.0</td>\n      <td>8.0</td>\n      <td>197.0</td>\n      <td>140.0</td>\n      <td>57.0</td>\n      <td>4.0</td>\n      <td>12.84</td>\n      <td>23.12</td>\n      <td>-5.21</td>\n    </tr>\n    <tr>\n      <th>2</th>\n      <td>49ers</td>\n      <td>0.0</td>\n      <td>0.0</td>\n      <td>0.0</td>\n      <td>17.0</td>\n      <td>19.0</td>\n      <td>15.0</td>\n      <td>215.0</td>\n      <td>107.0</td>\n      <td>108.0</td>\n      <td>1.0</td>\n      <td>18.0</td>\n      <td>334.0</td>\n      <td>174.0</td>\n      <td>160.0</td>\n      <td>2.0</td>\n      <td>-6.05</td>\n      <td>11.32</td>\n      <td>-7.34</td>\n    </tr>\n    <tr>\n      <th>3</th>\n      <td>49ers</td>\n      <td>0.0</td>\n      <td>0.0</td>\n      <td>0.0</td>\n      <td>17.0</td>\n      <td>22.0</td>\n      <td>19.0</td>\n      <td>325.0</td>\n      <td>260.0</td>\n      <td>65.0</td>\n      <td>3.0</td>\n      <td>24.0</td>\n      <td>452.0</td>\n      <td>378.0</td>\n      <td>74.0</td>\n      <td>1.0</td>\n      <td>5.43</td>\n      <td>-16.30</td>\n      <td>6.07</td>\n    </tr>\n    <tr>\n      <th>4</th>\n      <td>49ers</td>\n      <td>0.0</td>\n      <td>0.0</td>\n      <td>1.0</td>\n      <td>17.0</td>\n      <td>31.0</td>\n      <td>24.0</td>\n      <td>460.0</td>\n      <td>347.0</td>\n      <td>113.0</td>\n      <td>3.0</td>\n      <td>29.0</td>\n      <td>400.0</td>\n      <td>266.0</td>\n      <td>134.0</td>\n      <td>1.0</td>\n      <td>9.25</td>\n      <td>-18.30</td>\n      <td>2.48</td>\n    </tr>\n  </tbody>\n</table>\n</div>"
     },
     "execution_count": 24,
     "metadata": {},
     "output_type": "execute_result"
    }
   ],
   "source": [
    "# Convert Win to 1 and anything else to 0\n",
    "df_2023['Result'] = df_2023['Result'].apply(lambda x: 1 if x == 'W' else 0) \n",
    "\n",
    "# 1 if OT, 0 if no OT\n",
    "df_2023['OT'] = df_2023['OT'].fillna(0).replace('OT', 1)\n",
    "\n",
    "# 1 is home, 0 is away\n",
    "df_2023['H/A'] = df_2023['H/A'].fillna(1).replace('@', 0)\n",
    "\n",
    "df_2023 = df_2023.drop(columns=['Day', 'Date', 'Time', 'Link', 'Rec', 'Week'])\n",
    "df_2023 = df_2023.dropna()\n",
    "df_2023 = df_2023.reset_index()\n",
    "df_2023 = df_2023.drop(columns=['index'])\n",
    "df_2023['Score_Tm'] = df_2023['Score_Tm'].astype(float)\n",
    "df_2023 = df_2023[~(df_2023['H/A'] == 'N')]\n",
    "df_2023['H/A'] = df_2023['H/A'].astype(float)\n",
    "df_2023['OT'] = df_2023['OT'].astype(float)\n",
    "df_2023['Result'] = df_2023['Result'].astype(float)\n",
    "df_2023.pop('Opp')\n",
    "\n",
    "df_2023.head()"
   ],
   "metadata": {
    "collapsed": false,
    "ExecuteTime": {
     "end_time": "2024-03-28T00:38:54.475882500Z",
     "start_time": "2024-03-28T00:38:53.785535100Z"
    }
   },
   "id": "947f90ca3f7a3a39",
   "execution_count": 24
  },
  {
   "cell_type": "code",
   "outputs": [],
   "source": [
    "agg_2021 = df_2021.groupby(df_2021.columns[0]).mean().reset_index()\n",
    "\n",
    "agg_2022 = df_2021.groupby(df_2022.columns[0]).mean().reset_index()\n",
    "\n",
    "agg_2023 = df_2021.groupby(df_2023.columns[0]).mean().reset_index()"
   ],
   "metadata": {
    "collapsed": false,
    "ExecuteTime": {
     "end_time": "2024-03-28T00:38:56.107643400Z",
     "start_time": "2024-03-28T00:38:55.779533100Z"
    }
   },
   "id": "d779c04727e15e94",
   "execution_count": 25
  },
  {
   "cell_type": "code",
   "outputs": [
    {
     "data": {
      "text/plain": "      Team    Result        OT       H/A   Score_Tm  Score_Opp   Off_1stD  \\\n0    49ers  0.636364  0.090909  0.363636  23.636364  20.636364  18.818182   \n1    bears  0.500000  0.000000  0.625000  17.625000  18.500000  18.625000   \n2  bengals  0.600000  0.200000  0.300000  26.900000  20.400000  18.900000   \n3    bills  0.666667  0.000000  0.444444  28.666667  12.111111  22.666667   \n4  broncos  0.571429  0.000000  0.571429  19.857143  16.428571  20.428571   \n\n    Off_TotYd  Off_PassYd  Off_RushYd    Off_TO   Def_1stD   Def_TotYd  \\\n0  358.636364  225.000000  133.636364  1.636364  19.272727  309.727273   \n1  331.750000  212.750000  119.000000  2.000000  18.500000  271.625000   \n2  331.700000  223.200000  108.500000  1.700000  19.200000  342.300000   \n3  358.333333  225.111111  133.222222  1.777778  14.777778  249.111111   \n4  346.285714  221.857143  124.428571  1.285714  18.142857  317.000000   \n\n   Def_PassYd  Def_RushYD    Def_TO  Exp_Offense  Exp_Defense  Exp_SpecTms  \n0  219.090909   90.636364  1.454545     3.477273     0.251818    -1.626364  \n1  154.375000  117.250000  1.875000    -2.573750     3.120000    -0.567500  \n2  250.800000   91.500000  2.100000     2.364000     2.279000     2.332000  \n3  146.111111  103.000000  2.111111     8.024444     9.343333    -1.233333  \n4  211.428571  105.571429  1.428571     4.684286     1.810000    -1.164286  ",
      "text/html": "<div>\n<style scoped>\n    .dataframe tbody tr th:only-of-type {\n        vertical-align: middle;\n    }\n\n    .dataframe tbody tr th {\n        vertical-align: top;\n    }\n\n    .dataframe thead th {\n        text-align: right;\n    }\n</style>\n<table border=\"1\" class=\"dataframe\">\n  <thead>\n    <tr style=\"text-align: right;\">\n      <th></th>\n      <th>Team</th>\n      <th>Result</th>\n      <th>OT</th>\n      <th>H/A</th>\n      <th>Score_Tm</th>\n      <th>Score_Opp</th>\n      <th>Off_1stD</th>\n      <th>Off_TotYd</th>\n      <th>Off_PassYd</th>\n      <th>Off_RushYd</th>\n      <th>Off_TO</th>\n      <th>Def_1stD</th>\n      <th>Def_TotYd</th>\n      <th>Def_PassYd</th>\n      <th>Def_RushYD</th>\n      <th>Def_TO</th>\n      <th>Exp_Offense</th>\n      <th>Exp_Defense</th>\n      <th>Exp_SpecTms</th>\n    </tr>\n  </thead>\n  <tbody>\n    <tr>\n      <th>0</th>\n      <td>49ers</td>\n      <td>0.636364</td>\n      <td>0.090909</td>\n      <td>0.363636</td>\n      <td>23.636364</td>\n      <td>20.636364</td>\n      <td>18.818182</td>\n      <td>358.636364</td>\n      <td>225.000000</td>\n      <td>133.636364</td>\n      <td>1.636364</td>\n      <td>19.272727</td>\n      <td>309.727273</td>\n      <td>219.090909</td>\n      <td>90.636364</td>\n      <td>1.454545</td>\n      <td>3.477273</td>\n      <td>0.251818</td>\n      <td>-1.626364</td>\n    </tr>\n    <tr>\n      <th>1</th>\n      <td>bears</td>\n      <td>0.500000</td>\n      <td>0.000000</td>\n      <td>0.625000</td>\n      <td>17.625000</td>\n      <td>18.500000</td>\n      <td>18.625000</td>\n      <td>331.750000</td>\n      <td>212.750000</td>\n      <td>119.000000</td>\n      <td>2.000000</td>\n      <td>18.500000</td>\n      <td>271.625000</td>\n      <td>154.375000</td>\n      <td>117.250000</td>\n      <td>1.875000</td>\n      <td>-2.573750</td>\n      <td>3.120000</td>\n      <td>-0.567500</td>\n    </tr>\n    <tr>\n      <th>2</th>\n      <td>bengals</td>\n      <td>0.600000</td>\n      <td>0.200000</td>\n      <td>0.300000</td>\n      <td>26.900000</td>\n      <td>20.400000</td>\n      <td>18.900000</td>\n      <td>331.700000</td>\n      <td>223.200000</td>\n      <td>108.500000</td>\n      <td>1.700000</td>\n      <td>19.200000</td>\n      <td>342.300000</td>\n      <td>250.800000</td>\n      <td>91.500000</td>\n      <td>2.100000</td>\n      <td>2.364000</td>\n      <td>2.279000</td>\n      <td>2.332000</td>\n    </tr>\n    <tr>\n      <th>3</th>\n      <td>bills</td>\n      <td>0.666667</td>\n      <td>0.000000</td>\n      <td>0.444444</td>\n      <td>28.666667</td>\n      <td>12.111111</td>\n      <td>22.666667</td>\n      <td>358.333333</td>\n      <td>225.111111</td>\n      <td>133.222222</td>\n      <td>1.777778</td>\n      <td>14.777778</td>\n      <td>249.111111</td>\n      <td>146.111111</td>\n      <td>103.000000</td>\n      <td>2.111111</td>\n      <td>8.024444</td>\n      <td>9.343333</td>\n      <td>-1.233333</td>\n    </tr>\n    <tr>\n      <th>4</th>\n      <td>broncos</td>\n      <td>0.571429</td>\n      <td>0.000000</td>\n      <td>0.571429</td>\n      <td>19.857143</td>\n      <td>16.428571</td>\n      <td>20.428571</td>\n      <td>346.285714</td>\n      <td>221.857143</td>\n      <td>124.428571</td>\n      <td>1.285714</td>\n      <td>18.142857</td>\n      <td>317.000000</td>\n      <td>211.428571</td>\n      <td>105.571429</td>\n      <td>1.428571</td>\n      <td>4.684286</td>\n      <td>1.810000</td>\n      <td>-1.164286</td>\n    </tr>\n  </tbody>\n</table>\n</div>"
     },
     "execution_count": 26,
     "metadata": {},
     "output_type": "execute_result"
    }
   ],
   "source": [
    "agg_2021.head()"
   ],
   "metadata": {
    "collapsed": false,
    "ExecuteTime": {
     "end_time": "2024-03-28T00:38:57.466652600Z",
     "start_time": "2024-03-28T00:38:57.026662500Z"
    }
   },
   "id": "3103764fbf585e8d",
   "execution_count": 26
  },
  {
   "cell_type": "code",
   "outputs": [],
   "source": [
    "df_2022 = pd.read_csv('2022data.csv')\n",
    "df_2023 = pd.read_csv('2023data.csv')\n",
    "#df_2024\n",
    "\n",
    "mask = df_2022['Week'].isin(['Wild Card', 'Division', 'Conf. Champ.', 'SuperBowl'])\n",
    "df_2022 = df_2022[~mask]\n",
    "df_2022 = df_2022.dropna(subset = ['Opp'])\n",
    "df_2022 = df_2022[df_2022['Opp'] != 'Bye Week'].reset_index()\n",
    "\n",
    "mask = df_2023['Week'].isin(['Wild Card', 'Division', 'Conf. Champ.', 'SuperBowl'])\n",
    "df_2023 = df_2023[~mask]\n",
    "df_2023 = df_2023.dropna(subset = ['Opp'])\n",
    "df_2023 = df_2023[df_2023['Opp'] != 'Bye Week'].reset_index()"
   ],
   "metadata": {
    "collapsed": false,
    "ExecuteTime": {
     "end_time": "2024-03-28T00:38:59.597200100Z",
     "start_time": "2024-03-28T00:38:59.015354600Z"
    }
   },
   "id": "f7bb075bb39cfe19",
   "execution_count": 27
  },
  {
   "cell_type": "code",
   "outputs": [],
   "source": [
    "wl_2022 = df_2022[['Result']]\n",
    "wl_2023 = df_2023[['Result']]\n",
    "\n",
    "df_2022 = df_2022[['Week', 'Team', 'Opp']]\n",
    "df_2023 = df_2023[['Week', 'Team', 'Opp']]\n",
    "#df_2024"
   ],
   "metadata": {
    "collapsed": false,
    "ExecuteTime": {
     "end_time": "2024-03-28T00:39:00.819829900Z",
     "start_time": "2024-03-28T00:39:00.644918400Z"
    }
   },
   "id": "5f88646224249e70",
   "execution_count": 28
  },
  {
   "cell_type": "code",
   "outputs": [],
   "source": [
    "\n",
    "# Create a mapping dictionary to convert team names\n",
    "team_mapping = {\n",
    "    'Chicago Bears': 'bears',\n",
    "    'Seattle Seahawks': 'seahawks',\n",
    "    'Denver Broncos': 'broncos',\n",
    "    'Los Angeles Rams': 'rams',\n",
    "    'Carolina Panthers': 'panthers',\n",
    "    'Atlanta Falcons': 'falcons',\n",
    "    'Kansas City Chiefs': 'chiefs',\n",
    "    'Los Angeles Chargers': 'chargers',\n",
    "    'Arizona Cardinals': 'cardinals',\n",
    "    'New Orleans Saints': 'saints',\n",
    "    'Miami Dolphins': 'dolphins',\n",
    "    'Tampa Bay Buccaneers': 'buccaneers',\n",
    "    'Washington Commanders': 'commanders',\n",
    "    'Las Vegas Raiders': 'raiders',\n",
    "    'Dallas Cowboys': 'cowboys',\n",
    "    'Philadelphia Eagles': 'eagles',\n",
    "    'San Francisco 49ers': '49ers',\n",
    "    'Green Bay Packers': 'packers',\n",
    "    'Houston Texans': 'texans',\n",
    "    'New York Giants': 'giants',\n",
    "    'Minnesota Vikings': 'vikings',\n",
    "    'New England Patriots': 'patriots',\n",
    "    'Detroit Lions': 'lions',\n",
    "    'New York Jets': 'jets',\n",
    "    'Buffalo Bills': 'bills',\n",
    "    'Pittsburgh Steelers': 'steelers',\n",
    "    'Baltimore Ravens': 'ravens',\n",
    "    'Cleveland Browns': 'browns',\n",
    "    'Tennessee Titans': 'titans',\n",
    "    'Cincinnati Bengals': 'bengals',\n",
    "    'Indianapolis Colts': 'colts',\n",
    "    'Jacksonville Jaguars': 'jaguars'\n",
    "}\n",
    "\n",
    "# Map team names to their abbreviated versions in the 'Opp' column\n",
    "df_2022['Opp'] = df_2022['Opp'].map(team_mapping)\n",
    "df_2023['Opp'] = df_2023['Opp'].map(team_mapping)"
   ],
   "metadata": {
    "collapsed": false,
    "ExecuteTime": {
     "end_time": "2024-03-28T00:39:02.447064600Z",
     "start_time": "2024-03-28T00:39:02.303794500Z"
    }
   },
   "id": "458ca25cdc52f41e",
   "execution_count": 29
  },
  {
   "cell_type": "code",
   "outputs": [],
   "source": [
    "df_2022_team = df_2022[['Week', 'Team']]\n",
    "df_2022_opp = df_2022[['Week', 'Opp']]\n",
    "\n",
    "df_2023_team = df_2023[['Week', 'Team']]\n",
    "df_2023_opp = df_2023[['Week', 'Opp']]"
   ],
   "metadata": {
    "collapsed": false,
    "ExecuteTime": {
     "end_time": "2024-03-28T00:39:03.495348900Z",
     "start_time": "2024-03-28T00:39:03.355084200Z"
    }
   },
   "id": "7234b70f1c6e552a",
   "execution_count": 30
  },
  {
   "cell_type": "code",
   "outputs": [],
   "source": [
    "df_2022_team = pd.merge(df_2022_team, agg_2021, how = 'left', on = 'Team')\n",
    "\n",
    "for col in df_2022_team.columns:\n",
    "    if col not in ['Team', 'Week']:\n",
    "        df_2022_team.rename(columns={col: 'Team_' + col}, inplace=True)\n",
    "     \n",
    "     \n",
    "df_2023_team = pd.merge(df_2023_team, agg_2022, how = 'left', on = 'Team')\n",
    "\n",
    "for col in df_2023_team.columns:\n",
    "    if col not in ['Team', 'Week']:\n",
    "        df_2023_team.rename(columns={col: 'Team_' + col}, inplace=True)   "
   ],
   "metadata": {
    "collapsed": false,
    "ExecuteTime": {
     "end_time": "2024-03-28T00:39:04.693457400Z",
     "start_time": "2024-03-28T00:39:04.468175900Z"
    }
   },
   "id": "f8b1c68397e9d1d5",
   "execution_count": 31
  },
  {
   "cell_type": "code",
   "outputs": [],
   "source": [
    "df_2022_opp = pd.merge(df_2022_opp, agg_2021, how = 'left', left_on = 'Opp', right_on = 'Team')\n",
    "df_2022_opp = df_2022_opp.drop(columns = 'Team')\n",
    "\n",
    "for col in df_2022_opp.columns:\n",
    "    if col not in ['Opp', 'Week']:\n",
    "        df_2022_opp.rename(columns={col: 'Opp_' + col}, inplace=True)\n",
    "        \n",
    "df_2022_opp = df_2022_opp.drop(columns = ['Week'])\n",
    "\n",
    "\n",
    "df_2023_opp = pd.merge(df_2023_opp, agg_2022, how = 'left', left_on = 'Opp', right_on = 'Team')\n",
    "df_2023_opp = df_2023_opp.drop(columns = 'Team')\n",
    "\n",
    "for col in df_2023_opp.columns:\n",
    "    if col not in ['Opp', 'Week']:\n",
    "        df_2023_opp.rename(columns={col: 'Opp_' + col}, inplace=True)\n",
    "        \n",
    "df_2023_opp = df_2023_opp.drop(columns = ['Week'])"
   ],
   "metadata": {
    "collapsed": false,
    "ExecuteTime": {
     "end_time": "2024-03-28T00:39:05.989630500Z",
     "start_time": "2024-03-28T00:39:05.520268800Z"
    }
   },
   "id": "80918e5f377a411f",
   "execution_count": 32
  },
  {
   "cell_type": "code",
   "outputs": [],
   "source": [
    "df_2022_agg = pd.concat([df_2022_team, df_2022_opp], axis = 1)\n",
    "df_2022_agg = pd.concat([df_2022_agg, wl_2022], axis = 1)\n",
    "\n",
    "df_2023_agg = pd.concat([df_2023_team, df_2023_opp], axis = 1)\n",
    "df_2023_agg = pd.concat([df_2023_agg, wl_2023], axis = 1)"
   ],
   "metadata": {
    "collapsed": false,
    "ExecuteTime": {
     "end_time": "2024-03-28T00:39:07.082905100Z",
     "start_time": "2024-03-28T00:39:06.865580600Z"
    }
   },
   "id": "e1bd06cc98ea01af",
   "execution_count": 33
  },
  {
   "cell_type": "code",
   "outputs": [
    {
     "data": {
      "text/plain": "    Week    Team  Team_Result   Team_OT  Team_H/A  Team_Score_Tm  \\\n0      1   49ers     0.636364  0.090909  0.363636      23.636364   \n1      2   49ers     0.636364  0.090909  0.363636      23.636364   \n2      3   49ers     0.636364  0.090909  0.363636      23.636364   \n3      4   49ers     0.636364  0.090909  0.363636      23.636364   \n4      5   49ers     0.636364  0.090909  0.363636      23.636364   \n..   ...     ...          ...       ...       ...            ...   \n445    4  saints     0.142857  0.142857  0.571429      16.571429   \n446    5  saints     0.142857  0.142857  0.571429      16.571429   \n451   10  saints     0.142857  0.142857  0.571429      16.571429   \n499    8  texans     0.000000  0.000000  0.375000       9.750000   \n507   16  texans     0.000000  0.000000  0.375000       9.750000   \n\n     Team_Score_Opp  Team_Off_1stD  Team_Off_TotYd  Team_Off_PassYd  ...  \\\n0         20.636364      18.818182      358.636364       225.000000  ...   \n1         20.636364      18.818182      358.636364       225.000000  ...   \n2         20.636364      18.818182      358.636364       225.000000  ...   \n3         20.636364      18.818182      358.636364       225.000000  ...   \n4         20.636364      18.818182      358.636364       225.000000  ...   \n..              ...            ...             ...              ...  ...   \n445       27.571429      14.571429      283.428571       182.714286  ...   \n446       27.571429      14.571429      283.428571       182.714286  ...   \n451       27.571429      14.571429      283.428571       182.714286  ...   \n499       27.375000      12.000000      221.000000       148.750000  ...   \n507       27.375000      12.000000      221.000000       148.750000  ...   \n\n     Opp_Off_TO  Opp_Def_1stD  Opp_Def_TotYd  Opp_Def_PassYd  Opp_Def_RushYD  \\\n0      2.000000     18.500000     271.625000      154.375000      117.250000   \n1      1.625000     21.875000     365.375000      250.375000      115.000000   \n2      1.285714     18.142857     317.000000      211.428571      105.571429   \n3      2.181818     19.272727     323.090909      235.000000       88.090909   \n4      2.100000     17.100000     282.400000      178.600000      103.800000   \n..          ...           ...            ...             ...             ...   \n445    1.375000     22.000000     342.875000      218.375000      124.500000   \n446    1.625000     21.875000     365.375000      250.375000      115.000000   \n451    1.400000     19.800000     365.100000      215.000000      150.100000   \n499    1.833333     22.500000     361.000000      271.500000       89.500000   \n507    1.833333     22.500000     361.000000      271.500000       89.500000   \n\n     Opp_Def_TO  Opp_Exp_Offense  Opp_Exp_Defense  Opp_Exp_SpecTms  Result  \n0      1.875000        -2.573750         3.120000        -0.567500       L  \n1      1.250000         1.265000        -4.305000         1.530000       W  \n2      1.428571         4.684286         1.810000        -1.164286       L  \n3      1.727273         2.621818         0.015455         0.578182       W  \n4      1.500000        -6.894000         4.772000        -0.035000       W  \n..          ...              ...              ...              ...     ...  \n445    2.000000         2.143750         0.177500        -1.373750       L  \n446    1.250000         1.265000        -4.305000         1.530000       W  \n451    1.600000        -1.306000        -2.900000        -0.072000       L  \n499    1.833333         3.473333        -0.823333        -0.740000       L  \n507    1.833333         3.473333        -0.823333        -0.740000       W  \n\n[272 rows x 40 columns]",
      "text/html": "<div>\n<style scoped>\n    .dataframe tbody tr th:only-of-type {\n        vertical-align: middle;\n    }\n\n    .dataframe tbody tr th {\n        vertical-align: top;\n    }\n\n    .dataframe thead th {\n        text-align: right;\n    }\n</style>\n<table border=\"1\" class=\"dataframe\">\n  <thead>\n    <tr style=\"text-align: right;\">\n      <th></th>\n      <th>Week</th>\n      <th>Team</th>\n      <th>Team_Result</th>\n      <th>Team_OT</th>\n      <th>Team_H/A</th>\n      <th>Team_Score_Tm</th>\n      <th>Team_Score_Opp</th>\n      <th>Team_Off_1stD</th>\n      <th>Team_Off_TotYd</th>\n      <th>Team_Off_PassYd</th>\n      <th>...</th>\n      <th>Opp_Off_TO</th>\n      <th>Opp_Def_1stD</th>\n      <th>Opp_Def_TotYd</th>\n      <th>Opp_Def_PassYd</th>\n      <th>Opp_Def_RushYD</th>\n      <th>Opp_Def_TO</th>\n      <th>Opp_Exp_Offense</th>\n      <th>Opp_Exp_Defense</th>\n      <th>Opp_Exp_SpecTms</th>\n      <th>Result</th>\n    </tr>\n  </thead>\n  <tbody>\n    <tr>\n      <th>0</th>\n      <td>1</td>\n      <td>49ers</td>\n      <td>0.636364</td>\n      <td>0.090909</td>\n      <td>0.363636</td>\n      <td>23.636364</td>\n      <td>20.636364</td>\n      <td>18.818182</td>\n      <td>358.636364</td>\n      <td>225.000000</td>\n      <td>...</td>\n      <td>2.000000</td>\n      <td>18.500000</td>\n      <td>271.625000</td>\n      <td>154.375000</td>\n      <td>117.250000</td>\n      <td>1.875000</td>\n      <td>-2.573750</td>\n      <td>3.120000</td>\n      <td>-0.567500</td>\n      <td>L</td>\n    </tr>\n    <tr>\n      <th>1</th>\n      <td>2</td>\n      <td>49ers</td>\n      <td>0.636364</td>\n      <td>0.090909</td>\n      <td>0.363636</td>\n      <td>23.636364</td>\n      <td>20.636364</td>\n      <td>18.818182</td>\n      <td>358.636364</td>\n      <td>225.000000</td>\n      <td>...</td>\n      <td>1.625000</td>\n      <td>21.875000</td>\n      <td>365.375000</td>\n      <td>250.375000</td>\n      <td>115.000000</td>\n      <td>1.250000</td>\n      <td>1.265000</td>\n      <td>-4.305000</td>\n      <td>1.530000</td>\n      <td>W</td>\n    </tr>\n    <tr>\n      <th>2</th>\n      <td>3</td>\n      <td>49ers</td>\n      <td>0.636364</td>\n      <td>0.090909</td>\n      <td>0.363636</td>\n      <td>23.636364</td>\n      <td>20.636364</td>\n      <td>18.818182</td>\n      <td>358.636364</td>\n      <td>225.000000</td>\n      <td>...</td>\n      <td>1.285714</td>\n      <td>18.142857</td>\n      <td>317.000000</td>\n      <td>211.428571</td>\n      <td>105.571429</td>\n      <td>1.428571</td>\n      <td>4.684286</td>\n      <td>1.810000</td>\n      <td>-1.164286</td>\n      <td>L</td>\n    </tr>\n    <tr>\n      <th>3</th>\n      <td>4</td>\n      <td>49ers</td>\n      <td>0.636364</td>\n      <td>0.090909</td>\n      <td>0.363636</td>\n      <td>23.636364</td>\n      <td>20.636364</td>\n      <td>18.818182</td>\n      <td>358.636364</td>\n      <td>225.000000</td>\n      <td>...</td>\n      <td>2.181818</td>\n      <td>19.272727</td>\n      <td>323.090909</td>\n      <td>235.000000</td>\n      <td>88.090909</td>\n      <td>1.727273</td>\n      <td>2.621818</td>\n      <td>0.015455</td>\n      <td>0.578182</td>\n      <td>W</td>\n    </tr>\n    <tr>\n      <th>4</th>\n      <td>5</td>\n      <td>49ers</td>\n      <td>0.636364</td>\n      <td>0.090909</td>\n      <td>0.363636</td>\n      <td>23.636364</td>\n      <td>20.636364</td>\n      <td>18.818182</td>\n      <td>358.636364</td>\n      <td>225.000000</td>\n      <td>...</td>\n      <td>2.100000</td>\n      <td>17.100000</td>\n      <td>282.400000</td>\n      <td>178.600000</td>\n      <td>103.800000</td>\n      <td>1.500000</td>\n      <td>-6.894000</td>\n      <td>4.772000</td>\n      <td>-0.035000</td>\n      <td>W</td>\n    </tr>\n    <tr>\n      <th>...</th>\n      <td>...</td>\n      <td>...</td>\n      <td>...</td>\n      <td>...</td>\n      <td>...</td>\n      <td>...</td>\n      <td>...</td>\n      <td>...</td>\n      <td>...</td>\n      <td>...</td>\n      <td>...</td>\n      <td>...</td>\n      <td>...</td>\n      <td>...</td>\n      <td>...</td>\n      <td>...</td>\n      <td>...</td>\n      <td>...</td>\n      <td>...</td>\n      <td>...</td>\n      <td>...</td>\n    </tr>\n    <tr>\n      <th>445</th>\n      <td>4</td>\n      <td>saints</td>\n      <td>0.142857</td>\n      <td>0.142857</td>\n      <td>0.571429</td>\n      <td>16.571429</td>\n      <td>27.571429</td>\n      <td>14.571429</td>\n      <td>283.428571</td>\n      <td>182.714286</td>\n      <td>...</td>\n      <td>1.375000</td>\n      <td>22.000000</td>\n      <td>342.875000</td>\n      <td>218.375000</td>\n      <td>124.500000</td>\n      <td>2.000000</td>\n      <td>2.143750</td>\n      <td>0.177500</td>\n      <td>-1.373750</td>\n      <td>L</td>\n    </tr>\n    <tr>\n      <th>446</th>\n      <td>5</td>\n      <td>saints</td>\n      <td>0.142857</td>\n      <td>0.142857</td>\n      <td>0.571429</td>\n      <td>16.571429</td>\n      <td>27.571429</td>\n      <td>14.571429</td>\n      <td>283.428571</td>\n      <td>182.714286</td>\n      <td>...</td>\n      <td>1.625000</td>\n      <td>21.875000</td>\n      <td>365.375000</td>\n      <td>250.375000</td>\n      <td>115.000000</td>\n      <td>1.250000</td>\n      <td>1.265000</td>\n      <td>-4.305000</td>\n      <td>1.530000</td>\n      <td>W</td>\n    </tr>\n    <tr>\n      <th>451</th>\n      <td>10</td>\n      <td>saints</td>\n      <td>0.142857</td>\n      <td>0.142857</td>\n      <td>0.571429</td>\n      <td>16.571429</td>\n      <td>27.571429</td>\n      <td>14.571429</td>\n      <td>283.428571</td>\n      <td>182.714286</td>\n      <td>...</td>\n      <td>1.400000</td>\n      <td>19.800000</td>\n      <td>365.100000</td>\n      <td>215.000000</td>\n      <td>150.100000</td>\n      <td>1.600000</td>\n      <td>-1.306000</td>\n      <td>-2.900000</td>\n      <td>-0.072000</td>\n      <td>L</td>\n    </tr>\n    <tr>\n      <th>499</th>\n      <td>8</td>\n      <td>texans</td>\n      <td>0.000000</td>\n      <td>0.000000</td>\n      <td>0.375000</td>\n      <td>9.750000</td>\n      <td>27.375000</td>\n      <td>12.000000</td>\n      <td>221.000000</td>\n      <td>148.750000</td>\n      <td>...</td>\n      <td>1.833333</td>\n      <td>22.500000</td>\n      <td>361.000000</td>\n      <td>271.500000</td>\n      <td>89.500000</td>\n      <td>1.833333</td>\n      <td>3.473333</td>\n      <td>-0.823333</td>\n      <td>-0.740000</td>\n      <td>L</td>\n    </tr>\n    <tr>\n      <th>507</th>\n      <td>16</td>\n      <td>texans</td>\n      <td>0.000000</td>\n      <td>0.000000</td>\n      <td>0.375000</td>\n      <td>9.750000</td>\n      <td>27.375000</td>\n      <td>12.000000</td>\n      <td>221.000000</td>\n      <td>148.750000</td>\n      <td>...</td>\n      <td>1.833333</td>\n      <td>22.500000</td>\n      <td>361.000000</td>\n      <td>271.500000</td>\n      <td>89.500000</td>\n      <td>1.833333</td>\n      <td>3.473333</td>\n      <td>-0.823333</td>\n      <td>-0.740000</td>\n      <td>W</td>\n    </tr>\n  </tbody>\n</table>\n<p>272 rows × 40 columns</p>\n</div>"
     },
     "execution_count": 34,
     "metadata": {},
     "output_type": "execute_result"
    }
   ],
   "source": [
    "df_2022_agg['Match'] = df_2022_agg.apply(lambda row: '-'.join(sorted([row['Team'], row['Opp']])), axis=1)\n",
    "df_2022_agg = df_2022_agg.drop_duplicates(subset=['Match', 'Week'])\n",
    "df_2022_agg = df_2022_agg.drop(columns=['Match'])\n",
    "\n",
    "df_2023_agg['Match'] = df_2023_agg.apply(lambda row: '-'.join(sorted([row['Team'], row['Opp']])), axis=1)\n",
    "df_2023_agg = df_2023_agg.drop_duplicates(subset=['Match', 'Week'])\n",
    "df_2023_agg = df_2023_agg.drop(columns=['Match'])\n",
    "\n",
    "df_2022_agg"
   ],
   "metadata": {
    "collapsed": false,
    "ExecuteTime": {
     "end_time": "2024-03-28T00:39:08.137257Z",
     "start_time": "2024-03-28T00:39:07.925464900Z"
    }
   },
   "id": "3249122153efe521",
   "execution_count": 34
  },
  {
   "cell_type": "markdown",
   "source": [
    "['49ers' 'bears' 'bengals' 'bills' 'broncos' 'browns' 'buccaneers'\n",
    " 'cardinals' 'chargers' 'chiefs' 'colts' 'commanders' 'cowboys' 'dolphins'\n",
    " 'eagles' 'falcons' 'giants' 'jaguars' 'jets' 'lions' 'packers' 'panthers'\n",
    " 'patriots' 'raiders' 'rams' 'ravens' 'saints' 'seahawks' 'steelers'\n",
    " 'texans' 'titans' 'vikings']"
   ],
   "metadata": {
    "collapsed": false
   },
   "id": "cf8aadbe165df73c"
  },
  {
   "cell_type": "code",
   "outputs": [],
   "source": [
    "team_name_to_number = {\n",
    "    '49ers': 0,\n",
    "    'bears': 1,\n",
    "    'bengals': 2,\n",
    "    'bills': 3,\n",
    "    'broncos': 4,\n",
    "    'browns': 5,\n",
    "    'buccaneers': 6,\n",
    "    'cardinals': 7,\n",
    "    'chargers': 8,\n",
    "    'chiefs': 9,\n",
    "    'colts': 10,\n",
    "    'commanders': 11,\n",
    "    'cowboys': 12,\n",
    "    'dolphins': 13,\n",
    "    'eagles': 14,\n",
    "    'falcons': 15,\n",
    "    'giants': 16,\n",
    "    'jaguars': 17,\n",
    "    'jets': 18,\n",
    "    'lions': 19,\n",
    "    'packers': 20,\n",
    "    'panthers': 21,\n",
    "    'patriots': 22,\n",
    "    'raiders': 23,\n",
    "    'rams': 24,\n",
    "    'ravens': 25,\n",
    "    'saints': 26,\n",
    "    'seahawks': 27,\n",
    "    'steelers': 28,\n",
    "    'texans': 29,\n",
    "    'titans': 30,\n",
    "    'vikings': 31\n",
    "}\n",
    "\n",
    "df_2022_agg['Team'] = df_2022_agg['Team'].map(team_name_to_number)\n",
    "df_2022_agg['Opp'] = df_2022_agg['Opp'].map(team_name_to_number)\n",
    "\n",
    "result_mapping = {'W': 1, 'L': 0}\n",
    "df_2022_agg['Result'] = df_2022_agg['Result'].map(result_mapping)\n",
    "\n",
    "\n",
    "df_2023_agg['Team'] = df_2023_agg['Team'].map(team_name_to_number)\n",
    "df_2023_agg['Opp'] = df_2023_agg['Opp'].map(team_name_to_number)\n",
    "\n",
    "\n",
    "df_2023_agg['Result'] = df_2023_agg['Result'].map(result_mapping)"
   ],
   "metadata": {
    "collapsed": false,
    "ExecuteTime": {
     "end_time": "2024-03-28T00:39:10.309362500Z",
     "start_time": "2024-03-28T00:39:10.132362300Z"
    }
   },
   "id": "2565f2ef1575a923",
   "execution_count": 35
  },
  {
   "cell_type": "code",
   "outputs": [
    {
     "data": {
      "text/plain": "    Week  Team  Team_Result   Team_OT  Team_H/A  Team_Score_Tm  \\\n0      1     0     0.636364  0.090909  0.363636      23.636364   \n1      2     0     0.636364  0.090909  0.363636      23.636364   \n2      3     0     0.636364  0.090909  0.363636      23.636364   \n3      4     0     0.636364  0.090909  0.363636      23.636364   \n4      5     0     0.636364  0.090909  0.363636      23.636364   \n..   ...   ...          ...       ...       ...            ...   \n445    4    26     0.142857  0.142857  0.571429      16.571429   \n446    5    26     0.142857  0.142857  0.571429      16.571429   \n451   10    26     0.142857  0.142857  0.571429      16.571429   \n499    8    29     0.000000  0.000000  0.375000       9.750000   \n507   16    29     0.000000  0.000000  0.375000       9.750000   \n\n     Team_Score_Opp  Team_Off_1stD  Team_Off_TotYd  Team_Off_PassYd  ...  \\\n0         20.636364      18.818182      358.636364       225.000000  ...   \n1         20.636364      18.818182      358.636364       225.000000  ...   \n2         20.636364      18.818182      358.636364       225.000000  ...   \n3         20.636364      18.818182      358.636364       225.000000  ...   \n4         20.636364      18.818182      358.636364       225.000000  ...   \n..              ...            ...             ...              ...  ...   \n445       27.571429      14.571429      283.428571       182.714286  ...   \n446       27.571429      14.571429      283.428571       182.714286  ...   \n451       27.571429      14.571429      283.428571       182.714286  ...   \n499       27.375000      12.000000      221.000000       148.750000  ...   \n507       27.375000      12.000000      221.000000       148.750000  ...   \n\n     Opp_Off_TO  Opp_Def_1stD  Opp_Def_TotYd  Opp_Def_PassYd  Opp_Def_RushYD  \\\n0      2.000000     18.500000     271.625000      154.375000      117.250000   \n1      1.625000     21.875000     365.375000      250.375000      115.000000   \n2      1.285714     18.142857     317.000000      211.428571      105.571429   \n3      2.181818     19.272727     323.090909      235.000000       88.090909   \n4      2.100000     17.100000     282.400000      178.600000      103.800000   \n..          ...           ...            ...             ...             ...   \n445    1.375000     22.000000     342.875000      218.375000      124.500000   \n446    1.625000     21.875000     365.375000      250.375000      115.000000   \n451    1.400000     19.800000     365.100000      215.000000      150.100000   \n499    1.833333     22.500000     361.000000      271.500000       89.500000   \n507    1.833333     22.500000     361.000000      271.500000       89.500000   \n\n     Opp_Def_TO  Opp_Exp_Offense  Opp_Exp_Defense  Opp_Exp_SpecTms  Result  \n0      1.875000        -2.573750         3.120000        -0.567500       0  \n1      1.250000         1.265000        -4.305000         1.530000       1  \n2      1.428571         4.684286         1.810000        -1.164286       0  \n3      1.727273         2.621818         0.015455         0.578182       1  \n4      1.500000        -6.894000         4.772000        -0.035000       1  \n..          ...              ...              ...              ...     ...  \n445    2.000000         2.143750         0.177500        -1.373750       0  \n446    1.250000         1.265000        -4.305000         1.530000       1  \n451    1.600000        -1.306000        -2.900000        -0.072000       0  \n499    1.833333         3.473333        -0.823333        -0.740000       0  \n507    1.833333         3.473333        -0.823333        -0.740000       1  \n\n[269 rows x 40 columns]",
      "text/html": "<div>\n<style scoped>\n    .dataframe tbody tr th:only-of-type {\n        vertical-align: middle;\n    }\n\n    .dataframe tbody tr th {\n        vertical-align: top;\n    }\n\n    .dataframe thead th {\n        text-align: right;\n    }\n</style>\n<table border=\"1\" class=\"dataframe\">\n  <thead>\n    <tr style=\"text-align: right;\">\n      <th></th>\n      <th>Week</th>\n      <th>Team</th>\n      <th>Team_Result</th>\n      <th>Team_OT</th>\n      <th>Team_H/A</th>\n      <th>Team_Score_Tm</th>\n      <th>Team_Score_Opp</th>\n      <th>Team_Off_1stD</th>\n      <th>Team_Off_TotYd</th>\n      <th>Team_Off_PassYd</th>\n      <th>...</th>\n      <th>Opp_Off_TO</th>\n      <th>Opp_Def_1stD</th>\n      <th>Opp_Def_TotYd</th>\n      <th>Opp_Def_PassYd</th>\n      <th>Opp_Def_RushYD</th>\n      <th>Opp_Def_TO</th>\n      <th>Opp_Exp_Offense</th>\n      <th>Opp_Exp_Defense</th>\n      <th>Opp_Exp_SpecTms</th>\n      <th>Result</th>\n    </tr>\n  </thead>\n  <tbody>\n    <tr>\n      <th>0</th>\n      <td>1</td>\n      <td>0</td>\n      <td>0.636364</td>\n      <td>0.090909</td>\n      <td>0.363636</td>\n      <td>23.636364</td>\n      <td>20.636364</td>\n      <td>18.818182</td>\n      <td>358.636364</td>\n      <td>225.000000</td>\n      <td>...</td>\n      <td>2.000000</td>\n      <td>18.500000</td>\n      <td>271.625000</td>\n      <td>154.375000</td>\n      <td>117.250000</td>\n      <td>1.875000</td>\n      <td>-2.573750</td>\n      <td>3.120000</td>\n      <td>-0.567500</td>\n      <td>0</td>\n    </tr>\n    <tr>\n      <th>1</th>\n      <td>2</td>\n      <td>0</td>\n      <td>0.636364</td>\n      <td>0.090909</td>\n      <td>0.363636</td>\n      <td>23.636364</td>\n      <td>20.636364</td>\n      <td>18.818182</td>\n      <td>358.636364</td>\n      <td>225.000000</td>\n      <td>...</td>\n      <td>1.625000</td>\n      <td>21.875000</td>\n      <td>365.375000</td>\n      <td>250.375000</td>\n      <td>115.000000</td>\n      <td>1.250000</td>\n      <td>1.265000</td>\n      <td>-4.305000</td>\n      <td>1.530000</td>\n      <td>1</td>\n    </tr>\n    <tr>\n      <th>2</th>\n      <td>3</td>\n      <td>0</td>\n      <td>0.636364</td>\n      <td>0.090909</td>\n      <td>0.363636</td>\n      <td>23.636364</td>\n      <td>20.636364</td>\n      <td>18.818182</td>\n      <td>358.636364</td>\n      <td>225.000000</td>\n      <td>...</td>\n      <td>1.285714</td>\n      <td>18.142857</td>\n      <td>317.000000</td>\n      <td>211.428571</td>\n      <td>105.571429</td>\n      <td>1.428571</td>\n      <td>4.684286</td>\n      <td>1.810000</td>\n      <td>-1.164286</td>\n      <td>0</td>\n    </tr>\n    <tr>\n      <th>3</th>\n      <td>4</td>\n      <td>0</td>\n      <td>0.636364</td>\n      <td>0.090909</td>\n      <td>0.363636</td>\n      <td>23.636364</td>\n      <td>20.636364</td>\n      <td>18.818182</td>\n      <td>358.636364</td>\n      <td>225.000000</td>\n      <td>...</td>\n      <td>2.181818</td>\n      <td>19.272727</td>\n      <td>323.090909</td>\n      <td>235.000000</td>\n      <td>88.090909</td>\n      <td>1.727273</td>\n      <td>2.621818</td>\n      <td>0.015455</td>\n      <td>0.578182</td>\n      <td>1</td>\n    </tr>\n    <tr>\n      <th>4</th>\n      <td>5</td>\n      <td>0</td>\n      <td>0.636364</td>\n      <td>0.090909</td>\n      <td>0.363636</td>\n      <td>23.636364</td>\n      <td>20.636364</td>\n      <td>18.818182</td>\n      <td>358.636364</td>\n      <td>225.000000</td>\n      <td>...</td>\n      <td>2.100000</td>\n      <td>17.100000</td>\n      <td>282.400000</td>\n      <td>178.600000</td>\n      <td>103.800000</td>\n      <td>1.500000</td>\n      <td>-6.894000</td>\n      <td>4.772000</td>\n      <td>-0.035000</td>\n      <td>1</td>\n    </tr>\n    <tr>\n      <th>...</th>\n      <td>...</td>\n      <td>...</td>\n      <td>...</td>\n      <td>...</td>\n      <td>...</td>\n      <td>...</td>\n      <td>...</td>\n      <td>...</td>\n      <td>...</td>\n      <td>...</td>\n      <td>...</td>\n      <td>...</td>\n      <td>...</td>\n      <td>...</td>\n      <td>...</td>\n      <td>...</td>\n      <td>...</td>\n      <td>...</td>\n      <td>...</td>\n      <td>...</td>\n      <td>...</td>\n    </tr>\n    <tr>\n      <th>445</th>\n      <td>4</td>\n      <td>26</td>\n      <td>0.142857</td>\n      <td>0.142857</td>\n      <td>0.571429</td>\n      <td>16.571429</td>\n      <td>27.571429</td>\n      <td>14.571429</td>\n      <td>283.428571</td>\n      <td>182.714286</td>\n      <td>...</td>\n      <td>1.375000</td>\n      <td>22.000000</td>\n      <td>342.875000</td>\n      <td>218.375000</td>\n      <td>124.500000</td>\n      <td>2.000000</td>\n      <td>2.143750</td>\n      <td>0.177500</td>\n      <td>-1.373750</td>\n      <td>0</td>\n    </tr>\n    <tr>\n      <th>446</th>\n      <td>5</td>\n      <td>26</td>\n      <td>0.142857</td>\n      <td>0.142857</td>\n      <td>0.571429</td>\n      <td>16.571429</td>\n      <td>27.571429</td>\n      <td>14.571429</td>\n      <td>283.428571</td>\n      <td>182.714286</td>\n      <td>...</td>\n      <td>1.625000</td>\n      <td>21.875000</td>\n      <td>365.375000</td>\n      <td>250.375000</td>\n      <td>115.000000</td>\n      <td>1.250000</td>\n      <td>1.265000</td>\n      <td>-4.305000</td>\n      <td>1.530000</td>\n      <td>1</td>\n    </tr>\n    <tr>\n      <th>451</th>\n      <td>10</td>\n      <td>26</td>\n      <td>0.142857</td>\n      <td>0.142857</td>\n      <td>0.571429</td>\n      <td>16.571429</td>\n      <td>27.571429</td>\n      <td>14.571429</td>\n      <td>283.428571</td>\n      <td>182.714286</td>\n      <td>...</td>\n      <td>1.400000</td>\n      <td>19.800000</td>\n      <td>365.100000</td>\n      <td>215.000000</td>\n      <td>150.100000</td>\n      <td>1.600000</td>\n      <td>-1.306000</td>\n      <td>-2.900000</td>\n      <td>-0.072000</td>\n      <td>0</td>\n    </tr>\n    <tr>\n      <th>499</th>\n      <td>8</td>\n      <td>29</td>\n      <td>0.000000</td>\n      <td>0.000000</td>\n      <td>0.375000</td>\n      <td>9.750000</td>\n      <td>27.375000</td>\n      <td>12.000000</td>\n      <td>221.000000</td>\n      <td>148.750000</td>\n      <td>...</td>\n      <td>1.833333</td>\n      <td>22.500000</td>\n      <td>361.000000</td>\n      <td>271.500000</td>\n      <td>89.500000</td>\n      <td>1.833333</td>\n      <td>3.473333</td>\n      <td>-0.823333</td>\n      <td>-0.740000</td>\n      <td>0</td>\n    </tr>\n    <tr>\n      <th>507</th>\n      <td>16</td>\n      <td>29</td>\n      <td>0.000000</td>\n      <td>0.000000</td>\n      <td>0.375000</td>\n      <td>9.750000</td>\n      <td>27.375000</td>\n      <td>12.000000</td>\n      <td>221.000000</td>\n      <td>148.750000</td>\n      <td>...</td>\n      <td>1.833333</td>\n      <td>22.500000</td>\n      <td>361.000000</td>\n      <td>271.500000</td>\n      <td>89.500000</td>\n      <td>1.833333</td>\n      <td>3.473333</td>\n      <td>-0.823333</td>\n      <td>-0.740000</td>\n      <td>1</td>\n    </tr>\n  </tbody>\n</table>\n<p>269 rows × 40 columns</p>\n</div>"
     },
     "execution_count": 36,
     "metadata": {},
     "output_type": "execute_result"
    }
   ],
   "source": [
    "df_2022_agg.dropna(subset = ['Result'], inplace=True)\n",
    "df_2022_agg['Result'] = df_2022_agg['Result'].astype(int)\n",
    "\n",
    "df_2023_agg.dropna(subset = ['Result'], inplace=True)\n",
    "df_2023_agg['Result'] = df_2023_agg['Result'].astype(int)\n",
    "\n",
    "df_2022_agg"
   ],
   "metadata": {
    "collapsed": false,
    "ExecuteTime": {
     "end_time": "2024-03-28T00:39:11.732638500Z",
     "start_time": "2024-03-28T00:39:11.453470700Z"
    }
   },
   "id": "b7076250cdfac875",
   "execution_count": 36
  },
  {
   "cell_type": "code",
   "outputs": [
    {
     "data": {
      "text/plain": "    Week  Team  Team_Result   Team_OT  Team_H/A  Team_Score_Tm  \\\n0      1     0     0.636364  0.090909  0.363636      23.636364   \n1      2     0     0.636364  0.090909  0.363636      23.636364   \n2      3     0     0.636364  0.090909  0.363636      23.636364   \n3      4     0     0.636364  0.090909  0.363636      23.636364   \n4      5     0     0.636364  0.090909  0.363636      23.636364   \n..   ...   ...          ...       ...       ...            ...   \n474   17    27     0.375000  0.125000  0.250000      19.750000   \n479    4    28     0.500000  0.200000  0.500000      20.700000   \n483    9    28     0.500000  0.200000  0.500000      20.700000   \n506   15    29     0.000000  0.000000  0.375000       9.750000   \n508   17    29     0.000000  0.000000  0.375000       9.750000   \n\n     Team_Score_Opp  Team_Off_1stD  Team_Off_TotYd  Team_Off_PassYd  ...  \\\n0         20.636364      18.818182      358.636364           225.00  ...   \n1         20.636364      18.818182      358.636364           225.00  ...   \n2         20.636364      18.818182      358.636364           225.00  ...   \n3         20.636364      18.818182      358.636364           225.00  ...   \n4         20.636364      18.818182      358.636364           225.00  ...   \n..              ...            ...             ...              ...  ...   \n474       21.500000      17.000000      311.375000           197.25  ...   \n479       26.300000      19.500000      318.600000           222.60  ...   \n483       26.300000      19.500000      318.600000           222.60  ...   \n506       27.375000      12.000000      221.000000           148.75  ...   \n508       27.375000      12.000000      221.000000           148.75  ...   \n\n     Opp_Off_TO  Opp_Def_1stD  Opp_Def_TotYd  Opp_Def_PassYd  Opp_Def_RushYD  \\\n0      2.000000     18.500000     271.625000      154.375000      117.250000   \n1      1.625000     21.875000     365.375000      250.375000      115.000000   \n2      1.285714     18.142857     317.000000      211.428571      105.571429   \n3      2.181818     19.272727     323.090909      235.000000       88.090909   \n4      2.100000     17.100000     282.400000      178.600000      103.800000   \n..          ...           ...            ...             ...             ...   \n474    1.400000     19.800000     365.100000      215.000000      150.100000   \n479    2.125000     22.250000     360.875000      202.125000      158.750000   \n483    1.833333     22.500000     361.000000      271.500000       89.500000   \n506    1.833333     22.500000     361.000000      271.500000       89.500000   \n508    1.833333     22.500000     361.000000      271.500000       89.500000   \n\n     Opp_Def_TO  Opp_Exp_Offense  Opp_Exp_Defense  Opp_Exp_SpecTms  Result  \n0      1.875000        -2.573750         3.120000        -0.567500       0  \n1      1.250000         1.265000        -4.305000         1.530000       1  \n2      1.428571         4.684286         1.810000        -1.164286       0  \n3      1.727273         2.621818         0.015455         0.578182       1  \n4      1.500000        -6.894000         4.772000        -0.035000       1  \n..          ...              ...              ...              ...     ...  \n474    1.600000        -1.306000        -2.900000        -0.072000       0  \n479    1.750000       -12.305000        -6.358750         1.808750       0  \n483    1.833333         3.473333        -0.823333        -0.740000       1  \n506    1.833333         3.473333        -0.823333        -0.740000       1  \n508    1.833333         3.473333        -0.823333        -0.740000       1  \n\n[541 rows x 40 columns]",
      "text/html": "<div>\n<style scoped>\n    .dataframe tbody tr th:only-of-type {\n        vertical-align: middle;\n    }\n\n    .dataframe tbody tr th {\n        vertical-align: top;\n    }\n\n    .dataframe thead th {\n        text-align: right;\n    }\n</style>\n<table border=\"1\" class=\"dataframe\">\n  <thead>\n    <tr style=\"text-align: right;\">\n      <th></th>\n      <th>Week</th>\n      <th>Team</th>\n      <th>Team_Result</th>\n      <th>Team_OT</th>\n      <th>Team_H/A</th>\n      <th>Team_Score_Tm</th>\n      <th>Team_Score_Opp</th>\n      <th>Team_Off_1stD</th>\n      <th>Team_Off_TotYd</th>\n      <th>Team_Off_PassYd</th>\n      <th>...</th>\n      <th>Opp_Off_TO</th>\n      <th>Opp_Def_1stD</th>\n      <th>Opp_Def_TotYd</th>\n      <th>Opp_Def_PassYd</th>\n      <th>Opp_Def_RushYD</th>\n      <th>Opp_Def_TO</th>\n      <th>Opp_Exp_Offense</th>\n      <th>Opp_Exp_Defense</th>\n      <th>Opp_Exp_SpecTms</th>\n      <th>Result</th>\n    </tr>\n  </thead>\n  <tbody>\n    <tr>\n      <th>0</th>\n      <td>1</td>\n      <td>0</td>\n      <td>0.636364</td>\n      <td>0.090909</td>\n      <td>0.363636</td>\n      <td>23.636364</td>\n      <td>20.636364</td>\n      <td>18.818182</td>\n      <td>358.636364</td>\n      <td>225.00</td>\n      <td>...</td>\n      <td>2.000000</td>\n      <td>18.500000</td>\n      <td>271.625000</td>\n      <td>154.375000</td>\n      <td>117.250000</td>\n      <td>1.875000</td>\n      <td>-2.573750</td>\n      <td>3.120000</td>\n      <td>-0.567500</td>\n      <td>0</td>\n    </tr>\n    <tr>\n      <th>1</th>\n      <td>2</td>\n      <td>0</td>\n      <td>0.636364</td>\n      <td>0.090909</td>\n      <td>0.363636</td>\n      <td>23.636364</td>\n      <td>20.636364</td>\n      <td>18.818182</td>\n      <td>358.636364</td>\n      <td>225.00</td>\n      <td>...</td>\n      <td>1.625000</td>\n      <td>21.875000</td>\n      <td>365.375000</td>\n      <td>250.375000</td>\n      <td>115.000000</td>\n      <td>1.250000</td>\n      <td>1.265000</td>\n      <td>-4.305000</td>\n      <td>1.530000</td>\n      <td>1</td>\n    </tr>\n    <tr>\n      <th>2</th>\n      <td>3</td>\n      <td>0</td>\n      <td>0.636364</td>\n      <td>0.090909</td>\n      <td>0.363636</td>\n      <td>23.636364</td>\n      <td>20.636364</td>\n      <td>18.818182</td>\n      <td>358.636364</td>\n      <td>225.00</td>\n      <td>...</td>\n      <td>1.285714</td>\n      <td>18.142857</td>\n      <td>317.000000</td>\n      <td>211.428571</td>\n      <td>105.571429</td>\n      <td>1.428571</td>\n      <td>4.684286</td>\n      <td>1.810000</td>\n      <td>-1.164286</td>\n      <td>0</td>\n    </tr>\n    <tr>\n      <th>3</th>\n      <td>4</td>\n      <td>0</td>\n      <td>0.636364</td>\n      <td>0.090909</td>\n      <td>0.363636</td>\n      <td>23.636364</td>\n      <td>20.636364</td>\n      <td>18.818182</td>\n      <td>358.636364</td>\n      <td>225.00</td>\n      <td>...</td>\n      <td>2.181818</td>\n      <td>19.272727</td>\n      <td>323.090909</td>\n      <td>235.000000</td>\n      <td>88.090909</td>\n      <td>1.727273</td>\n      <td>2.621818</td>\n      <td>0.015455</td>\n      <td>0.578182</td>\n      <td>1</td>\n    </tr>\n    <tr>\n      <th>4</th>\n      <td>5</td>\n      <td>0</td>\n      <td>0.636364</td>\n      <td>0.090909</td>\n      <td>0.363636</td>\n      <td>23.636364</td>\n      <td>20.636364</td>\n      <td>18.818182</td>\n      <td>358.636364</td>\n      <td>225.00</td>\n      <td>...</td>\n      <td>2.100000</td>\n      <td>17.100000</td>\n      <td>282.400000</td>\n      <td>178.600000</td>\n      <td>103.800000</td>\n      <td>1.500000</td>\n      <td>-6.894000</td>\n      <td>4.772000</td>\n      <td>-0.035000</td>\n      <td>1</td>\n    </tr>\n    <tr>\n      <th>...</th>\n      <td>...</td>\n      <td>...</td>\n      <td>...</td>\n      <td>...</td>\n      <td>...</td>\n      <td>...</td>\n      <td>...</td>\n      <td>...</td>\n      <td>...</td>\n      <td>...</td>\n      <td>...</td>\n      <td>...</td>\n      <td>...</td>\n      <td>...</td>\n      <td>...</td>\n      <td>...</td>\n      <td>...</td>\n      <td>...</td>\n      <td>...</td>\n      <td>...</td>\n      <td>...</td>\n    </tr>\n    <tr>\n      <th>474</th>\n      <td>17</td>\n      <td>27</td>\n      <td>0.375000</td>\n      <td>0.125000</td>\n      <td>0.250000</td>\n      <td>19.750000</td>\n      <td>21.500000</td>\n      <td>17.000000</td>\n      <td>311.375000</td>\n      <td>197.25</td>\n      <td>...</td>\n      <td>1.400000</td>\n      <td>19.800000</td>\n      <td>365.100000</td>\n      <td>215.000000</td>\n      <td>150.100000</td>\n      <td>1.600000</td>\n      <td>-1.306000</td>\n      <td>-2.900000</td>\n      <td>-0.072000</td>\n      <td>0</td>\n    </tr>\n    <tr>\n      <th>479</th>\n      <td>4</td>\n      <td>28</td>\n      <td>0.500000</td>\n      <td>0.200000</td>\n      <td>0.500000</td>\n      <td>20.700000</td>\n      <td>26.300000</td>\n      <td>19.500000</td>\n      <td>318.600000</td>\n      <td>222.60</td>\n      <td>...</td>\n      <td>2.125000</td>\n      <td>22.250000</td>\n      <td>360.875000</td>\n      <td>202.125000</td>\n      <td>158.750000</td>\n      <td>1.750000</td>\n      <td>-12.305000</td>\n      <td>-6.358750</td>\n      <td>1.808750</td>\n      <td>0</td>\n    </tr>\n    <tr>\n      <th>483</th>\n      <td>9</td>\n      <td>28</td>\n      <td>0.500000</td>\n      <td>0.200000</td>\n      <td>0.500000</td>\n      <td>20.700000</td>\n      <td>26.300000</td>\n      <td>19.500000</td>\n      <td>318.600000</td>\n      <td>222.60</td>\n      <td>...</td>\n      <td>1.833333</td>\n      <td>22.500000</td>\n      <td>361.000000</td>\n      <td>271.500000</td>\n      <td>89.500000</td>\n      <td>1.833333</td>\n      <td>3.473333</td>\n      <td>-0.823333</td>\n      <td>-0.740000</td>\n      <td>1</td>\n    </tr>\n    <tr>\n      <th>506</th>\n      <td>15</td>\n      <td>29</td>\n      <td>0.000000</td>\n      <td>0.000000</td>\n      <td>0.375000</td>\n      <td>9.750000</td>\n      <td>27.375000</td>\n      <td>12.000000</td>\n      <td>221.000000</td>\n      <td>148.75</td>\n      <td>...</td>\n      <td>1.833333</td>\n      <td>22.500000</td>\n      <td>361.000000</td>\n      <td>271.500000</td>\n      <td>89.500000</td>\n      <td>1.833333</td>\n      <td>3.473333</td>\n      <td>-0.823333</td>\n      <td>-0.740000</td>\n      <td>1</td>\n    </tr>\n    <tr>\n      <th>508</th>\n      <td>17</td>\n      <td>29</td>\n      <td>0.000000</td>\n      <td>0.000000</td>\n      <td>0.375000</td>\n      <td>9.750000</td>\n      <td>27.375000</td>\n      <td>12.000000</td>\n      <td>221.000000</td>\n      <td>148.75</td>\n      <td>...</td>\n      <td>1.833333</td>\n      <td>22.500000</td>\n      <td>361.000000</td>\n      <td>271.500000</td>\n      <td>89.500000</td>\n      <td>1.833333</td>\n      <td>3.473333</td>\n      <td>-0.823333</td>\n      <td>-0.740000</td>\n      <td>1</td>\n    </tr>\n  </tbody>\n</table>\n<p>541 rows × 40 columns</p>\n</div>"
     },
     "execution_count": 37,
     "metadata": {},
     "output_type": "execute_result"
    }
   ],
   "source": [
    "df_agg_combined = pd.concat([df_2022_agg, df_2023_agg], axis = 0)\n",
    "df_agg_combined"
   ],
   "metadata": {
    "collapsed": false,
    "ExecuteTime": {
     "end_time": "2024-03-28T00:39:13.868196700Z",
     "start_time": "2024-03-28T00:39:13.211124200Z"
    }
   },
   "id": "f821a304a135cf2b",
   "execution_count": 37
  },
  {
   "cell_type": "code",
   "outputs": [
    {
     "name": "stdout",
     "output_type": "stream",
     "text": [
      "Accuracy: 0.5229357798165137\n",
      "Precision: 0.5272727272727272\n",
      "Recall: 0.5272727272727272\n",
      "F1 Score: 0.5272727272727272\n"
     ]
    },
    {
     "name": "stderr",
     "output_type": "stream",
     "text": [
      "C:\\Users\\bpawl\\AppData\\Local\\Programs\\Python\\Python311\\Lib\\site-packages\\sklearn\\linear_model\\_logistic.py:469: ConvergenceWarning: lbfgs failed to converge (status=1):\n",
      "STOP: TOTAL NO. of ITERATIONS REACHED LIMIT.\n",
      "\n",
      "Increase the number of iterations (max_iter) or scale the data as shown in:\n",
      "    https://scikit-learn.org/stable/modules/preprocessing.html\n",
      "Please also refer to the documentation for alternative solver options:\n",
      "    https://scikit-learn.org/stable/modules/linear_model.html#logistic-regression\n",
      "  n_iter_i = _check_optimize_result(\n"
     ]
    }
   ],
   "source": [
    "from sklearn.linear_model import LogisticRegression\n",
    "\n",
    "X_train, X_test, y_train, y_test = train_test_split(df_agg_combined.iloc[:, 1:39], df_agg_combined.iloc[:, 39], test_size = 0.2, random_state = 1)\n",
    "\n",
    "lr = LogisticRegression(max_iter = 10000)\n",
    "\n",
    "lr.fit(X_train, y_train)\n",
    "\n",
    "y_pred = lr.predict(X_test)\n",
    "\n",
    "# Calculate accuracy score\n",
    "accuracy = accuracy_score(y_test, y_pred)\n",
    "\n",
    "# Calculate precision\n",
    "precision = precision_score(y_test, y_pred)\n",
    "\n",
    "# Calculate recall\n",
    "recall = recall_score(y_test, y_pred)\n",
    "\n",
    "# Calculate F1 score\n",
    "f1 = f1_score(y_test, y_pred)\n",
    "\n",
    "# Print the scores\n",
    "print(\"Accuracy:\", accuracy)\n",
    "print(\"Precision:\", precision)\n",
    "print(\"Recall:\", recall)\n",
    "print(\"F1 Score:\", f1)"
   ],
   "metadata": {
    "collapsed": false,
    "ExecuteTime": {
     "end_time": "2024-03-28T00:39:24.737627300Z",
     "start_time": "2024-03-28T00:39:15.376327300Z"
    }
   },
   "id": "bc333bf6018622cb",
   "execution_count": 38
  },
  {
   "cell_type": "code",
   "outputs": [],
   "source": [
    "lions_2024 = pd.read_excel('lions_2024.xlsx')\n",
    "\n",
    "\n",
    "lions_2024_team = lions_2024[['Team']]\n",
    "lions_2024_opp = lions_2024[['Opp']]\n",
    "\n",
    "lions_2024_team = pd.merge(lions_2024_team, agg_2023, how = 'left', on = 'Team')\n",
    "\n",
    "for col in lions_2024_team.columns:\n",
    "    if col not in ['Team']:\n",
    "        lions_2024_team.rename(columns={col: 'Team_' + col}, inplace=True) \n",
    "        \n",
    "lions_2024_opp = pd.merge(lions_2024_opp, agg_2023, how = 'left', left_on = 'Opp', right_on = 'Team')\n",
    "lions_2024_opp = lions_2024_opp.drop(columns = 'Team')\n",
    "\n",
    "for col in lions_2024_opp.columns:\n",
    "    if col not in ['Opp']:\n",
    "        lions_2024_opp.rename(columns={col: 'Opp_' + col}, inplace=True)\n",
    "        \n",
    "\n",
    "lions_2024_agg = pd.concat([lions_2024_team, lions_2024_opp], axis = 1)\n",
    "\n",
    "lions_2024_agg['Team'] = lions_2024_agg['Team'].map(team_name_to_number)\n",
    "lions_2024_agg['Opp'] = lions_2024_agg['Opp'].map(team_name_to_number)\n",
    "\n",
    "\n",
    "lions_pred = lr.predict(lions_2024_agg)\n",
    "\n",
    "lions_2024 = pd.concat([lions_2024, pd.DataFrame(lions_pred)], axis = 1)"
   ],
   "metadata": {
    "collapsed": false,
    "ExecuteTime": {
     "end_time": "2024-03-28T00:40:18.413763300Z",
     "start_time": "2024-03-28T00:40:17.469254700Z"
    }
   },
   "id": "3945b4f9f4aad11e",
   "execution_count": 39
  },
  {
   "cell_type": "code",
   "outputs": [
    {
     "data": {
      "text/plain": "     Team         Opp  0\n0   lions       bears  1\n1   lions     packers  0\n2   lions     vikings  0\n3   lions  buccaneers  0\n4   lions        rams  0\n5   lions    seahawks  0\n6   lions     jaguars  0\n7   lions      titans  0\n8   lions       bills  0\n9   lions     cowboys  0\n10  lions   cardinals  0\n11  lions       49ers  0\n12  lions      texans  1\n13  lions       colts  0",
      "text/html": "<div>\n<style scoped>\n    .dataframe tbody tr th:only-of-type {\n        vertical-align: middle;\n    }\n\n    .dataframe tbody tr th {\n        vertical-align: top;\n    }\n\n    .dataframe thead th {\n        text-align: right;\n    }\n</style>\n<table border=\"1\" class=\"dataframe\">\n  <thead>\n    <tr style=\"text-align: right;\">\n      <th></th>\n      <th>Team</th>\n      <th>Opp</th>\n      <th>0</th>\n    </tr>\n  </thead>\n  <tbody>\n    <tr>\n      <th>0</th>\n      <td>lions</td>\n      <td>bears</td>\n      <td>1</td>\n    </tr>\n    <tr>\n      <th>1</th>\n      <td>lions</td>\n      <td>packers</td>\n      <td>0</td>\n    </tr>\n    <tr>\n      <th>2</th>\n      <td>lions</td>\n      <td>vikings</td>\n      <td>0</td>\n    </tr>\n    <tr>\n      <th>3</th>\n      <td>lions</td>\n      <td>buccaneers</td>\n      <td>0</td>\n    </tr>\n    <tr>\n      <th>4</th>\n      <td>lions</td>\n      <td>rams</td>\n      <td>0</td>\n    </tr>\n    <tr>\n      <th>5</th>\n      <td>lions</td>\n      <td>seahawks</td>\n      <td>0</td>\n    </tr>\n    <tr>\n      <th>6</th>\n      <td>lions</td>\n      <td>jaguars</td>\n      <td>0</td>\n    </tr>\n    <tr>\n      <th>7</th>\n      <td>lions</td>\n      <td>titans</td>\n      <td>0</td>\n    </tr>\n    <tr>\n      <th>8</th>\n      <td>lions</td>\n      <td>bills</td>\n      <td>0</td>\n    </tr>\n    <tr>\n      <th>9</th>\n      <td>lions</td>\n      <td>cowboys</td>\n      <td>0</td>\n    </tr>\n    <tr>\n      <th>10</th>\n      <td>lions</td>\n      <td>cardinals</td>\n      <td>0</td>\n    </tr>\n    <tr>\n      <th>11</th>\n      <td>lions</td>\n      <td>49ers</td>\n      <td>0</td>\n    </tr>\n    <tr>\n      <th>12</th>\n      <td>lions</td>\n      <td>texans</td>\n      <td>1</td>\n    </tr>\n    <tr>\n      <th>13</th>\n      <td>lions</td>\n      <td>colts</td>\n      <td>0</td>\n    </tr>\n  </tbody>\n</table>\n</div>"
     },
     "execution_count": 40,
     "metadata": {},
     "output_type": "execute_result"
    }
   ],
   "source": [
    "lions_2024"
   ],
   "metadata": {
    "collapsed": false,
    "ExecuteTime": {
     "end_time": "2024-03-28T00:40:29.786296600Z",
     "start_time": "2024-03-28T00:40:29.502751700Z"
    }
   },
   "id": "dcac398a9f741f9a",
   "execution_count": 40
  },
  {
   "cell_type": "code",
   "outputs": [],
   "source": [
    "chiefs_2024 = pd.read_excel('chiefs_2024.xlsx')\n",
    "\n",
    "\n",
    "chiefs_2024_team = chiefs_2024[['Team']]\n",
    "chiefs_2024_opp = chiefs_2024[['Opp']]\n",
    "\n",
    "chiefs_2024_team = pd.merge(chiefs_2024_team, agg_2023, how = 'left', on = 'Team')\n",
    "\n",
    "for col in chiefs_2024_team.columns:\n",
    "    if col not in ['Team']:\n",
    "        chiefs_2024_team.rename(columns={col: 'Team_' + col}, inplace=True) \n",
    "        \n",
    "chiefs_2024_opp = pd.merge(chiefs_2024_opp, agg_2023, how = 'left', left_on = 'Opp', right_on = 'Team')\n",
    "chiefs_2024_opp = chiefs_2024_opp.drop(columns = 'Team')\n",
    "\n",
    "for col in chiefs_2024_opp.columns:\n",
    "    if col not in ['Opp']:\n",
    "        chiefs_2024_opp.rename(columns={col: 'Opp_' + col}, inplace=True)\n",
    "        \n",
    "\n",
    "chiefs_2024_agg = pd.concat([chiefs_2024_team, chiefs_2024_opp], axis = 1)\n",
    "\n",
    "chiefs_2024_agg['Team'] = chiefs_2024_agg['Team'].map(team_name_to_number)\n",
    "chiefs_2024_agg['Opp'] = chiefs_2024_agg['Opp'].map(team_name_to_number)\n",
    "\n",
    "chiefs_2024_agg.fillna(0, inplace = True)\n",
    "\n",
    "chiefs_pred = lr.predict(chiefs_2024_agg)\n",
    "\n",
    "chiefs_2024 = pd.concat([chiefs_2024, pd.DataFrame(chiefs_pred)], axis = 1)"
   ],
   "metadata": {
    "collapsed": false,
    "ExecuteTime": {
     "end_time": "2024-03-28T00:40:54.013851700Z",
     "start_time": "2024-03-28T00:40:53.702479700Z"
    }
   },
   "id": "7029a6aed9c32601",
   "execution_count": 41
  },
  {
   "cell_type": "code",
   "outputs": [
    {
     "data": {
      "text/plain": "      Team         Opp  0\n0   chiefs     broncos  1\n1   chiefs    chargers  1\n2   chiefs     raiders  1\n3   chiefs      ravens  0\n4   chiefs     bengals  1\n5   chiefs      texans  1\n6   chiefs      saints  1\n7   chiefs  buccaneers  1\n8   chiefs    steelers  1\n9   chiefs      browns  1\n10  chiefs       bills  1\n11  chiefs     falcons  1\n12  chiefs     pathers  1\n13  chiefs       49ers  1",
      "text/html": "<div>\n<style scoped>\n    .dataframe tbody tr th:only-of-type {\n        vertical-align: middle;\n    }\n\n    .dataframe tbody tr th {\n        vertical-align: top;\n    }\n\n    .dataframe thead th {\n        text-align: right;\n    }\n</style>\n<table border=\"1\" class=\"dataframe\">\n  <thead>\n    <tr style=\"text-align: right;\">\n      <th></th>\n      <th>Team</th>\n      <th>Opp</th>\n      <th>0</th>\n    </tr>\n  </thead>\n  <tbody>\n    <tr>\n      <th>0</th>\n      <td>chiefs</td>\n      <td>broncos</td>\n      <td>1</td>\n    </tr>\n    <tr>\n      <th>1</th>\n      <td>chiefs</td>\n      <td>chargers</td>\n      <td>1</td>\n    </tr>\n    <tr>\n      <th>2</th>\n      <td>chiefs</td>\n      <td>raiders</td>\n      <td>1</td>\n    </tr>\n    <tr>\n      <th>3</th>\n      <td>chiefs</td>\n      <td>ravens</td>\n      <td>0</td>\n    </tr>\n    <tr>\n      <th>4</th>\n      <td>chiefs</td>\n      <td>bengals</td>\n      <td>1</td>\n    </tr>\n    <tr>\n      <th>5</th>\n      <td>chiefs</td>\n      <td>texans</td>\n      <td>1</td>\n    </tr>\n    <tr>\n      <th>6</th>\n      <td>chiefs</td>\n      <td>saints</td>\n      <td>1</td>\n    </tr>\n    <tr>\n      <th>7</th>\n      <td>chiefs</td>\n      <td>buccaneers</td>\n      <td>1</td>\n    </tr>\n    <tr>\n      <th>8</th>\n      <td>chiefs</td>\n      <td>steelers</td>\n      <td>1</td>\n    </tr>\n    <tr>\n      <th>9</th>\n      <td>chiefs</td>\n      <td>browns</td>\n      <td>1</td>\n    </tr>\n    <tr>\n      <th>10</th>\n      <td>chiefs</td>\n      <td>bills</td>\n      <td>1</td>\n    </tr>\n    <tr>\n      <th>11</th>\n      <td>chiefs</td>\n      <td>falcons</td>\n      <td>1</td>\n    </tr>\n    <tr>\n      <th>12</th>\n      <td>chiefs</td>\n      <td>pathers</td>\n      <td>1</td>\n    </tr>\n    <tr>\n      <th>13</th>\n      <td>chiefs</td>\n      <td>49ers</td>\n      <td>1</td>\n    </tr>\n  </tbody>\n</table>\n</div>"
     },
     "execution_count": 42,
     "metadata": {},
     "output_type": "execute_result"
    }
   ],
   "source": [
    "chiefs_2024"
   ],
   "metadata": {
    "collapsed": false,
    "ExecuteTime": {
     "end_time": "2024-03-28T00:40:55.082301600Z",
     "start_time": "2024-03-28T00:40:54.892296600Z"
    }
   },
   "id": "2c990d5d0523292b",
   "execution_count": 42
  },
  {
   "cell_type": "code",
   "outputs": [],
   "source": [
    "cowboys_2024 = pd.read_excel('cowboys_2024.xlsx')\n",
    "\n",
    "\n",
    "cowboys_2024_team = cowboys_2024[['Team']]\n",
    "cowboys_2024_opp = cowboys_2024[['Opp']]\n",
    "\n",
    "cowboys_2024_team = pd.merge(cowboys_2024_team, agg_2023, how='left', on='Team')\n",
    "\n",
    "for col in cowboys_2024_team.columns:\n",
    "    if col not in ['Team']:\n",
    "        cowboys_2024_team.rename(columns={col: 'Team_' + col}, inplace=True) \n",
    "        \n",
    "cowboys_2024_opp = pd.merge(cowboys_2024_opp, agg_2023, how='left', left_on='Opp', right_on='Team')\n",
    "cowboys_2024_opp = cowboys_2024_opp.drop(columns='Team')\n",
    "\n",
    "for col in cowboys_2024_opp.columns:\n",
    "    if col not in ['Opp']:\n",
    "        cowboys_2024_opp.rename(columns={col: 'Opp_' + col}, inplace=True)\n",
    "        \n",
    "\n",
    "cowboys_2024_agg = pd.concat([cowboys_2024_team, cowboys_2024_opp], axis=1)\n",
    "\n",
    "cowboys_2024_agg['Team'] = cowboys_2024_agg['Team'].map(team_name_to_number)\n",
    "cowboys_2024_agg['Opp'] = cowboys_2024_agg['Opp'].map(team_name_to_number)\n",
    "\n",
    "cowboys_2024_agg.fillna(0, inplace = True)\n",
    "\n",
    "cowboys_pred = lr.predict(cowboys_2024_agg)\n",
    "\n",
    "cowboys_2024 = pd.concat([cowboys_2024, pd.DataFrame(cowboys_pred)], axis=1)"
   ],
   "metadata": {
    "collapsed": false,
    "ExecuteTime": {
     "end_time": "2024-03-28T00:41:16.452058600Z",
     "start_time": "2024-03-28T00:41:16.259071900Z"
    }
   },
   "id": "9aff749634459614",
   "execution_count": 43
  },
  {
   "cell_type": "code",
   "outputs": [
    {
     "data": {
      "text/plain": "       Team         Opp  0\n0   cowboys      giants  1\n1   cowboys      eagles  1\n2   cowboys  commanders  1\n3   cowboys      saints  1\n4   cowboys  buccaneers  1\n5   cowboys       lions  1\n6   cowboys      ravels  1\n7   cowboys     bengals  1\n8   cowboys      texans  1\n9   cowboys     falcons  1\n10  cowboys    panthers  1\n11  cowboys       49ers  1\n12  cowboys      browns  1\n13  cowboys    steelers  1",
      "text/html": "<div>\n<style scoped>\n    .dataframe tbody tr th:only-of-type {\n        vertical-align: middle;\n    }\n\n    .dataframe tbody tr th {\n        vertical-align: top;\n    }\n\n    .dataframe thead th {\n        text-align: right;\n    }\n</style>\n<table border=\"1\" class=\"dataframe\">\n  <thead>\n    <tr style=\"text-align: right;\">\n      <th></th>\n      <th>Team</th>\n      <th>Opp</th>\n      <th>0</th>\n    </tr>\n  </thead>\n  <tbody>\n    <tr>\n      <th>0</th>\n      <td>cowboys</td>\n      <td>giants</td>\n      <td>1</td>\n    </tr>\n    <tr>\n      <th>1</th>\n      <td>cowboys</td>\n      <td>eagles</td>\n      <td>1</td>\n    </tr>\n    <tr>\n      <th>2</th>\n      <td>cowboys</td>\n      <td>commanders</td>\n      <td>1</td>\n    </tr>\n    <tr>\n      <th>3</th>\n      <td>cowboys</td>\n      <td>saints</td>\n      <td>1</td>\n    </tr>\n    <tr>\n      <th>4</th>\n      <td>cowboys</td>\n      <td>buccaneers</td>\n      <td>1</td>\n    </tr>\n    <tr>\n      <th>5</th>\n      <td>cowboys</td>\n      <td>lions</td>\n      <td>1</td>\n    </tr>\n    <tr>\n      <th>6</th>\n      <td>cowboys</td>\n      <td>ravels</td>\n      <td>1</td>\n    </tr>\n    <tr>\n      <th>7</th>\n      <td>cowboys</td>\n      <td>bengals</td>\n      <td>1</td>\n    </tr>\n    <tr>\n      <th>8</th>\n      <td>cowboys</td>\n      <td>texans</td>\n      <td>1</td>\n    </tr>\n    <tr>\n      <th>9</th>\n      <td>cowboys</td>\n      <td>falcons</td>\n      <td>1</td>\n    </tr>\n    <tr>\n      <th>10</th>\n      <td>cowboys</td>\n      <td>panthers</td>\n      <td>1</td>\n    </tr>\n    <tr>\n      <th>11</th>\n      <td>cowboys</td>\n      <td>49ers</td>\n      <td>1</td>\n    </tr>\n    <tr>\n      <th>12</th>\n      <td>cowboys</td>\n      <td>browns</td>\n      <td>1</td>\n    </tr>\n    <tr>\n      <th>13</th>\n      <td>cowboys</td>\n      <td>steelers</td>\n      <td>1</td>\n    </tr>\n  </tbody>\n</table>\n</div>"
     },
     "execution_count": 44,
     "metadata": {},
     "output_type": "execute_result"
    }
   ],
   "source": [
    "cowboys_2024"
   ],
   "metadata": {
    "collapsed": false,
    "ExecuteTime": {
     "end_time": "2024-03-28T00:41:18.415855400Z",
     "start_time": "2024-03-28T00:41:18.047216600Z"
    }
   },
   "id": "7254be18ec38f861",
   "execution_count": 44
  },
  {
   "cell_type": "markdown",
   "source": [
    "# NEURAL NETWORK"
   ],
   "metadata": {
    "collapsed": false
   },
   "id": "8978efecd4682ca9"
  },
  {
   "cell_type": "code",
   "outputs": [],
   "source": [
    "import tensorflow as tf\n",
    "from tensorflow.keras.models import Model\n",
    "from tensorflow.keras.layers import Dense, Input\n",
    "from tensorflow.keras.optimizers import Adam, SGD"
   ],
   "metadata": {
    "collapsed": false,
    "ExecuteTime": {
     "end_time": "2024-03-28T00:42:42.736182Z",
     "start_time": "2024-03-28T00:42:27.684775900Z"
    }
   },
   "id": "75b00075b460da03",
   "execution_count": 45
  },
  {
   "cell_type": "code",
   "outputs": [],
   "source": [
    "n_feat = lions_2024_agg.shape[1]\n",
    "\n",
    "#Input Layer\n",
    "input_layer = Input(shape=(n_feat,))\n",
    "\n",
    "#Hidden layers\n",
    "hidden1 = Dense(64, activation = 'relu')(input_layer)\n",
    "hidden2 = Dense(32, activation = 'relu')(hidden1)\n",
    "\n",
    "#Output layer\n",
    "output_layer = Dense(1, activation = 'sigmoid')(hidden2)\n",
    "\n",
    "#model\n",
    "model = Model(inputs = input_layer, outputs = output_layer)"
   ],
   "metadata": {
    "collapsed": false,
    "ExecuteTime": {
     "end_time": "2024-03-28T00:42:45.405490300Z",
     "start_time": "2024-03-28T00:42:45.162648100Z"
    }
   },
   "id": "649b337abc244158",
   "execution_count": 46
  },
  {
   "cell_type": "code",
   "outputs": [],
   "source": [
    "X_train, X_test, y_train, y_test = train_test_split(df_2023_agg.iloc[:, 1:39], df_2023_agg.iloc[:, 39], test_size = 0.2, random_state = 1)"
   ],
   "metadata": {
    "collapsed": false,
    "ExecuteTime": {
     "end_time": "2024-03-28T00:44:38.522709700Z",
     "start_time": "2024-03-28T00:44:38.310593300Z"
    }
   },
   "id": "d6f0f1fcaca38c00",
   "execution_count": 48
  },
  {
   "cell_type": "code",
   "outputs": [
    {
     "name": "stdout",
     "output_type": "stream",
     "text": [
      "Epoch 1/100\n",
      "\u001B[1m7/7\u001B[0m \u001B[32m━━━━━━━━━━━━━━━━━━━━\u001B[0m\u001B[37m\u001B[0m \u001B[1m5s\u001B[0m 89ms/step - accuracy: 0.5493 - loss: 28.9238 - val_accuracy: 0.4545 - val_loss: 6.8324\n",
      "Epoch 2/100\n",
      "\u001B[1m7/7\u001B[0m \u001B[32m━━━━━━━━━━━━━━━━━━━━\u001B[0m\u001B[37m\u001B[0m \u001B[1m0s\u001B[0m 18ms/step - accuracy: 0.4304 - loss: 10.0883 - val_accuracy: 0.4545 - val_loss: 6.1154\n",
      "Epoch 3/100\n",
      "\u001B[1m7/7\u001B[0m \u001B[32m━━━━━━━━━━━━━━━━━━━━\u001B[0m\u001B[37m\u001B[0m \u001B[1m0s\u001B[0m 14ms/step - accuracy: 0.4579 - loss: 4.2319 - val_accuracy: 0.4545 - val_loss: 2.6118\n",
      "Epoch 4/100\n",
      "\u001B[1m7/7\u001B[0m \u001B[32m━━━━━━━━━━━━━━━━━━━━\u001B[0m\u001B[37m\u001B[0m \u001B[1m0s\u001B[0m 19ms/step - accuracy: 0.4978 - loss: 2.0712 - val_accuracy: 0.5909 - val_loss: 2.1023\n",
      "Epoch 5/100\n",
      "\u001B[1m7/7\u001B[0m \u001B[32m━━━━━━━━━━━━━━━━━━━━\u001B[0m\u001B[37m\u001B[0m \u001B[1m0s\u001B[0m 17ms/step - accuracy: 0.4850 - loss: 2.4532 - val_accuracy: 0.5000 - val_loss: 1.0796\n",
      "Epoch 6/100\n",
      "\u001B[1m7/7\u001B[0m \u001B[32m━━━━━━━━━━━━━━━━━━━━\u001B[0m\u001B[37m\u001B[0m \u001B[1m0s\u001B[0m 21ms/step - accuracy: 0.5429 - loss: 1.1013 - val_accuracy: 0.5455 - val_loss: 1.0130\n",
      "Epoch 7/100\n",
      "\u001B[1m7/7\u001B[0m \u001B[32m━━━━━━━━━━━━━━━━━━━━\u001B[0m\u001B[37m\u001B[0m \u001B[1m0s\u001B[0m 15ms/step - accuracy: 0.5816 - loss: 1.0336 - val_accuracy: 0.5000 - val_loss: 0.9999\n",
      "Epoch 8/100\n",
      "\u001B[1m7/7\u001B[0m \u001B[32m━━━━━━━━━━━━━━━━━━━━\u001B[0m\u001B[37m\u001B[0m \u001B[1m0s\u001B[0m 21ms/step - accuracy: 0.5029 - loss: 1.0869 - val_accuracy: 0.5455 - val_loss: 0.8575\n",
      "Epoch 9/100\n",
      "\u001B[1m7/7\u001B[0m \u001B[32m━━━━━━━━━━━━━━━━━━━━\u001B[0m\u001B[37m\u001B[0m \u001B[1m0s\u001B[0m 18ms/step - accuracy: 0.5949 - loss: 0.7933 - val_accuracy: 0.4091 - val_loss: 0.8810\n",
      "Epoch 10/100\n",
      "\u001B[1m7/7\u001B[0m \u001B[32m━━━━━━━━━━━━━━━━━━━━\u001B[0m\u001B[37m\u001B[0m \u001B[1m0s\u001B[0m 18ms/step - accuracy: 0.5593 - loss: 0.7062 - val_accuracy: 0.4545 - val_loss: 1.1070\n",
      "Epoch 11/100\n",
      "\u001B[1m7/7\u001B[0m \u001B[32m━━━━━━━━━━━━━━━━━━━━\u001B[0m\u001B[37m\u001B[0m \u001B[1m0s\u001B[0m 17ms/step - accuracy: 0.5823 - loss: 0.8409 - val_accuracy: 0.4545 - val_loss: 2.4699\n",
      "Epoch 12/100\n",
      "\u001B[1m7/7\u001B[0m \u001B[32m━━━━━━━━━━━━━━━━━━━━\u001B[0m\u001B[37m\u001B[0m \u001B[1m0s\u001B[0m 17ms/step - accuracy: 0.5670 - loss: 1.5510 - val_accuracy: 0.4545 - val_loss: 2.0017\n",
      "Epoch 13/100\n",
      "\u001B[1m7/7\u001B[0m \u001B[32m━━━━━━━━━━━━━━━━━━━━\u001B[0m\u001B[37m\u001B[0m \u001B[1m0s\u001B[0m 14ms/step - accuracy: 0.4723 - loss: 1.3561 - val_accuracy: 0.5000 - val_loss: 0.7851\n",
      "Epoch 14/100\n",
      "\u001B[1m7/7\u001B[0m \u001B[32m━━━━━━━━━━━━━━━━━━━━\u001B[0m\u001B[37m\u001B[0m \u001B[1m0s\u001B[0m 19ms/step - accuracy: 0.5933 - loss: 0.8239 - val_accuracy: 0.4545 - val_loss: 0.8064\n",
      "Epoch 15/100\n",
      "\u001B[1m7/7\u001B[0m \u001B[32m━━━━━━━━━━━━━━━━━━━━\u001B[0m\u001B[37m\u001B[0m \u001B[1m0s\u001B[0m 15ms/step - accuracy: 0.5742 - loss: 0.7152 - val_accuracy: 0.4091 - val_loss: 0.8535\n",
      "Epoch 16/100\n",
      "\u001B[1m7/7\u001B[0m \u001B[32m━━━━━━━━━━━━━━━━━━━━\u001B[0m\u001B[37m\u001B[0m \u001B[1m0s\u001B[0m 19ms/step - accuracy: 0.5995 - loss: 0.6858 - val_accuracy: 0.5000 - val_loss: 0.7955\n",
      "Epoch 17/100\n",
      "\u001B[1m7/7\u001B[0m \u001B[32m━━━━━━━━━━━━━━━━━━━━\u001B[0m\u001B[37m\u001B[0m \u001B[1m0s\u001B[0m 16ms/step - accuracy: 0.6516 - loss: 0.6500 - val_accuracy: 0.5455 - val_loss: 1.2642\n",
      "Epoch 18/100\n",
      "\u001B[1m7/7\u001B[0m \u001B[32m━━━━━━━━━━━━━━━━━━━━\u001B[0m\u001B[37m\u001B[0m \u001B[1m0s\u001B[0m 17ms/step - accuracy: 0.5442 - loss: 1.0542 - val_accuracy: 0.4545 - val_loss: 1.0706\n",
      "Epoch 19/100\n",
      "\u001B[1m7/7\u001B[0m \u001B[32m━━━━━━━━━━━━━━━━━━━━\u001B[0m\u001B[37m\u001B[0m \u001B[1m0s\u001B[0m 19ms/step - accuracy: 0.5347 - loss: 1.0281 - val_accuracy: 0.4091 - val_loss: 0.8321\n",
      "Epoch 20/100\n",
      "\u001B[1m7/7\u001B[0m \u001B[32m━━━━━━━━━━━━━━━━━━━━\u001B[0m\u001B[37m\u001B[0m \u001B[1m0s\u001B[0m 16ms/step - accuracy: 0.5645 - loss: 0.7509 - val_accuracy: 0.5455 - val_loss: 1.3372\n",
      "Epoch 21/100\n",
      "\u001B[1m7/7\u001B[0m \u001B[32m━━━━━━━━━━━━━━━━━━━━\u001B[0m\u001B[37m\u001B[0m \u001B[1m0s\u001B[0m 15ms/step - accuracy: 0.5858 - loss: 1.2530 - val_accuracy: 0.5455 - val_loss: 1.2029\n",
      "Epoch 22/100\n",
      "\u001B[1m7/7\u001B[0m \u001B[32m━━━━━━━━━━━━━━━━━━━━\u001B[0m\u001B[37m\u001B[0m \u001B[1m0s\u001B[0m 17ms/step - accuracy: 0.5504 - loss: 1.2450 - val_accuracy: 0.5455 - val_loss: 1.3890\n",
      "Epoch 23/100\n",
      "\u001B[1m7/7\u001B[0m \u001B[32m━━━━━━━━━━━━━━━━━━━━\u001B[0m\u001B[37m\u001B[0m \u001B[1m0s\u001B[0m 15ms/step - accuracy: 0.5579 - loss: 1.4203 - val_accuracy: 0.4545 - val_loss: 0.9817\n",
      "Epoch 24/100\n",
      "\u001B[1m7/7\u001B[0m \u001B[32m━━━━━━━━━━━━━━━━━━━━\u001B[0m\u001B[37m\u001B[0m \u001B[1m0s\u001B[0m 16ms/step - accuracy: 0.5528 - loss: 0.9729 - val_accuracy: 0.4545 - val_loss: 1.6248\n",
      "Epoch 25/100\n",
      "\u001B[1m7/7\u001B[0m \u001B[32m━━━━━━━━━━━━━━━━━━━━\u001B[0m\u001B[37m\u001B[0m \u001B[1m0s\u001B[0m 15ms/step - accuracy: 0.5555 - loss: 1.0483 - val_accuracy: 0.5455 - val_loss: 0.8352\n",
      "Epoch 26/100\n",
      "\u001B[1m7/7\u001B[0m \u001B[32m━━━━━━━━━━━━━━━━━━━━\u001B[0m\u001B[37m\u001B[0m \u001B[1m0s\u001B[0m 19ms/step - accuracy: 0.5736 - loss: 0.7544 - val_accuracy: 0.4091 - val_loss: 0.8354\n",
      "Epoch 27/100\n",
      "\u001B[1m7/7\u001B[0m \u001B[32m━━━━━━━━━━━━━━━━━━━━\u001B[0m\u001B[37m\u001B[0m \u001B[1m0s\u001B[0m 20ms/step - accuracy: 0.5438 - loss: 0.7525 - val_accuracy: 0.4091 - val_loss: 0.8498\n",
      "Epoch 28/100\n",
      "\u001B[1m7/7\u001B[0m \u001B[32m━━━━━━━━━━━━━━━━━━━━\u001B[0m\u001B[37m\u001B[0m \u001B[1m0s\u001B[0m 16ms/step - accuracy: 0.5710 - loss: 0.7710 - val_accuracy: 0.4545 - val_loss: 0.8130\n",
      "Epoch 29/100\n",
      "\u001B[1m7/7\u001B[0m \u001B[32m━━━━━━━━━━━━━━━━━━━━\u001B[0m\u001B[37m\u001B[0m \u001B[1m0s\u001B[0m 16ms/step - accuracy: 0.6023 - loss: 0.7077 - val_accuracy: 0.4091 - val_loss: 0.8270\n",
      "Epoch 30/100\n",
      "\u001B[1m7/7\u001B[0m \u001B[32m━━━━━━━━━━━━━━━━━━━━\u001B[0m\u001B[37m\u001B[0m \u001B[1m0s\u001B[0m 15ms/step - accuracy: 0.6016 - loss: 0.6756 - val_accuracy: 0.3636 - val_loss: 0.8603\n",
      "Epoch 31/100\n",
      "\u001B[1m7/7\u001B[0m \u001B[32m━━━━━━━━━━━━━━━━━━━━\u001B[0m\u001B[37m\u001B[0m \u001B[1m0s\u001B[0m 14ms/step - accuracy: 0.5625 - loss: 0.7371 - val_accuracy: 0.5000 - val_loss: 0.8992\n",
      "Epoch 32/100\n",
      "\u001B[1m7/7\u001B[0m \u001B[32m━━━━━━━━━━━━━━━━━━━━\u001B[0m\u001B[37m\u001B[0m \u001B[1m0s\u001B[0m 17ms/step - accuracy: 0.5523 - loss: 0.9481 - val_accuracy: 0.4545 - val_loss: 1.1053\n",
      "Epoch 33/100\n",
      "\u001B[1m7/7\u001B[0m \u001B[32m━━━━━━━━━━━━━━━━━━━━\u001B[0m\u001B[37m\u001B[0m \u001B[1m0s\u001B[0m 19ms/step - accuracy: 0.6114 - loss: 0.9119 - val_accuracy: 0.4545 - val_loss: 1.8337\n",
      "Epoch 34/100\n",
      "\u001B[1m7/7\u001B[0m \u001B[32m━━━━━━━━━━━━━━━━━━━━\u001B[0m\u001B[37m\u001B[0m \u001B[1m0s\u001B[0m 15ms/step - accuracy: 0.5313 - loss: 1.0597 - val_accuracy: 0.4091 - val_loss: 0.7899\n",
      "Epoch 35/100\n",
      "\u001B[1m7/7\u001B[0m \u001B[32m━━━━━━━━━━━━━━━━━━━━\u001B[0m\u001B[37m\u001B[0m \u001B[1m0s\u001B[0m 17ms/step - accuracy: 0.6068 - loss: 0.8008 - val_accuracy: 0.5455 - val_loss: 0.8772\n",
      "Epoch 36/100\n",
      "\u001B[1m7/7\u001B[0m \u001B[32m━━━━━━━━━━━━━━━━━━━━\u001B[0m\u001B[37m\u001B[0m \u001B[1m0s\u001B[0m 13ms/step - accuracy: 0.5125 - loss: 0.8192 - val_accuracy: 0.5455 - val_loss: 0.9268\n",
      "Epoch 37/100\n",
      "\u001B[1m7/7\u001B[0m \u001B[32m━━━━━━━━━━━━━━━━━━━━\u001B[0m\u001B[37m\u001B[0m \u001B[1m0s\u001B[0m 18ms/step - accuracy: 0.5163 - loss: 0.9293 - val_accuracy: 0.4091 - val_loss: 0.9708\n",
      "Epoch 38/100\n",
      "\u001B[1m7/7\u001B[0m \u001B[32m━━━━━━━━━━━━━━━━━━━━\u001B[0m\u001B[37m\u001B[0m \u001B[1m0s\u001B[0m 14ms/step - accuracy: 0.6022 - loss: 0.7081 - val_accuracy: 0.5000 - val_loss: 0.7938\n",
      "Epoch 39/100\n",
      "\u001B[1m7/7\u001B[0m \u001B[32m━━━━━━━━━━━━━━━━━━━━\u001B[0m\u001B[37m\u001B[0m \u001B[1m0s\u001B[0m 15ms/step - accuracy: 0.6017 - loss: 0.6751 - val_accuracy: 0.4545 - val_loss: 0.8319\n",
      "Epoch 40/100\n",
      "\u001B[1m7/7\u001B[0m \u001B[32m━━━━━━━━━━━━━━━━━━━━\u001B[0m\u001B[37m\u001B[0m \u001B[1m0s\u001B[0m 17ms/step - accuracy: 0.5846 - loss: 0.6617 - val_accuracy: 0.4545 - val_loss: 0.7802\n",
      "Epoch 41/100\n",
      "\u001B[1m7/7\u001B[0m \u001B[32m━━━━━━━━━━━━━━━━━━━━\u001B[0m\u001B[37m\u001B[0m \u001B[1m0s\u001B[0m 15ms/step - accuracy: 0.6367 - loss: 0.6520 - val_accuracy: 0.5000 - val_loss: 0.7504\n",
      "Epoch 42/100\n",
      "\u001B[1m7/7\u001B[0m \u001B[32m━━━━━━━━━━━━━━━━━━━━\u001B[0m\u001B[37m\u001B[0m \u001B[1m0s\u001B[0m 16ms/step - accuracy: 0.5978 - loss: 0.7048 - val_accuracy: 0.4545 - val_loss: 0.7590\n",
      "Epoch 43/100\n",
      "\u001B[1m7/7\u001B[0m \u001B[32m━━━━━━━━━━━━━━━━━━━━\u001B[0m\u001B[37m\u001B[0m \u001B[1m0s\u001B[0m 15ms/step - accuracy: 0.6405 - loss: 0.6810 - val_accuracy: 0.4545 - val_loss: 1.1783\n",
      "Epoch 44/100\n",
      "\u001B[1m7/7\u001B[0m \u001B[32m━━━━━━━━━━━━━━━━━━━━\u001B[0m\u001B[37m\u001B[0m \u001B[1m0s\u001B[0m 17ms/step - accuracy: 0.5317 - loss: 0.7967 - val_accuracy: 0.4545 - val_loss: 0.8984\n",
      "Epoch 45/100\n",
      "\u001B[1m7/7\u001B[0m \u001B[32m━━━━━━━━━━━━━━━━━━━━\u001B[0m\u001B[37m\u001B[0m \u001B[1m0s\u001B[0m 15ms/step - accuracy: 0.5245 - loss: 0.8179 - val_accuracy: 0.5455 - val_loss: 0.9985\n",
      "Epoch 46/100\n",
      "\u001B[1m7/7\u001B[0m \u001B[32m━━━━━━━━━━━━━━━━━━━━\u001B[0m\u001B[37m\u001B[0m \u001B[1m0s\u001B[0m 17ms/step - accuracy: 0.5146 - loss: 0.9208 - val_accuracy: 0.4545 - val_loss: 1.0540\n",
      "Epoch 47/100\n",
      "\u001B[1m7/7\u001B[0m \u001B[32m━━━━━━━━━━━━━━━━━━━━\u001B[0m\u001B[37m\u001B[0m \u001B[1m0s\u001B[0m 16ms/step - accuracy: 0.5392 - loss: 0.7733 - val_accuracy: 0.4545 - val_loss: 0.7936\n",
      "Epoch 48/100\n",
      "\u001B[1m7/7\u001B[0m \u001B[32m━━━━━━━━━━━━━━━━━━━━\u001B[0m\u001B[37m\u001B[0m \u001B[1m0s\u001B[0m 15ms/step - accuracy: 0.5453 - loss: 0.7346 - val_accuracy: 0.3636 - val_loss: 0.7856\n",
      "Epoch 49/100\n",
      "\u001B[1m7/7\u001B[0m \u001B[32m━━━━━━━━━━━━━━━━━━━━\u001B[0m\u001B[37m\u001B[0m \u001B[1m0s\u001B[0m 16ms/step - accuracy: 0.6133 - loss: 0.6287 - val_accuracy: 0.5000 - val_loss: 0.7405\n",
      "Epoch 50/100\n",
      "\u001B[1m7/7\u001B[0m \u001B[32m━━━━━━━━━━━━━━━━━━━━\u001B[0m\u001B[37m\u001B[0m \u001B[1m0s\u001B[0m 19ms/step - accuracy: 0.5927 - loss: 0.6557 - val_accuracy: 0.5455 - val_loss: 0.7327\n",
      "Epoch 51/100\n",
      "\u001B[1m7/7\u001B[0m \u001B[32m━━━━━━━━━━━━━━━━━━━━\u001B[0m\u001B[37m\u001B[0m \u001B[1m0s\u001B[0m 17ms/step - accuracy: 0.6659 - loss: 0.6254 - val_accuracy: 0.4545 - val_loss: 0.7620\n",
      "Epoch 52/100\n",
      "\u001B[1m7/7\u001B[0m \u001B[32m━━━━━━━━━━━━━━━━━━━━\u001B[0m\u001B[37m\u001B[0m \u001B[1m0s\u001B[0m 16ms/step - accuracy: 0.6582 - loss: 0.6482 - val_accuracy: 0.5455 - val_loss: 0.7758\n",
      "Epoch 53/100\n",
      "\u001B[1m7/7\u001B[0m \u001B[32m━━━━━━━━━━━━━━━━━━━━\u001B[0m\u001B[37m\u001B[0m \u001B[1m0s\u001B[0m 20ms/step - accuracy: 0.6248 - loss: 0.6154 - val_accuracy: 0.4545 - val_loss: 0.8453\n",
      "Epoch 54/100\n",
      "\u001B[1m7/7\u001B[0m \u001B[32m━━━━━━━━━━━━━━━━━━━━\u001B[0m\u001B[37m\u001B[0m \u001B[1m0s\u001B[0m 19ms/step - accuracy: 0.5769 - loss: 0.6799 - val_accuracy: 0.3636 - val_loss: 0.7882\n",
      "Epoch 55/100\n",
      "\u001B[1m7/7\u001B[0m \u001B[32m━━━━━━━━━━━━━━━━━━━━\u001B[0m\u001B[37m\u001B[0m \u001B[1m0s\u001B[0m 20ms/step - accuracy: 0.6226 - loss: 0.6315 - val_accuracy: 0.4545 - val_loss: 0.7265\n",
      "Epoch 56/100\n",
      "\u001B[1m7/7\u001B[0m \u001B[32m━━━━━━━━━━━━━━━━━━━━\u001B[0m\u001B[37m\u001B[0m \u001B[1m0s\u001B[0m 17ms/step - accuracy: 0.6521 - loss: 0.6387 - val_accuracy: 0.5909 - val_loss: 0.7417\n",
      "Epoch 57/100\n",
      "\u001B[1m7/7\u001B[0m \u001B[32m━━━━━━━━━━━━━━━━━━━━\u001B[0m\u001B[37m\u001B[0m \u001B[1m0s\u001B[0m 20ms/step - accuracy: 0.6596 - loss: 0.6093 - val_accuracy: 0.4545 - val_loss: 0.7720\n",
      "Epoch 58/100\n",
      "\u001B[1m7/7\u001B[0m \u001B[32m━━━━━━━━━━━━━━━━━━━━\u001B[0m\u001B[37m\u001B[0m \u001B[1m0s\u001B[0m 14ms/step - accuracy: 0.5978 - loss: 0.6675 - val_accuracy: 0.5455 - val_loss: 0.7877\n",
      "Epoch 59/100\n",
      "\u001B[1m7/7\u001B[0m \u001B[32m━━━━━━━━━━━━━━━━━━━━\u001B[0m\u001B[37m\u001B[0m \u001B[1m0s\u001B[0m 16ms/step - accuracy: 0.6699 - loss: 0.6306 - val_accuracy: 0.3636 - val_loss: 0.8143\n",
      "Epoch 60/100\n",
      "\u001B[1m7/7\u001B[0m \u001B[32m━━━━━━━━━━━━━━━━━━━━\u001B[0m\u001B[37m\u001B[0m \u001B[1m0s\u001B[0m 15ms/step - accuracy: 0.6583 - loss: 0.6197 - val_accuracy: 0.5000 - val_loss: 0.7960\n",
      "Epoch 61/100\n",
      "\u001B[1m7/7\u001B[0m \u001B[32m━━━━━━━━━━━━━━━━━━━━\u001B[0m\u001B[37m\u001B[0m \u001B[1m0s\u001B[0m 15ms/step - accuracy: 0.6577 - loss: 0.6307 - val_accuracy: 0.4545 - val_loss: 0.8039\n",
      "Epoch 62/100\n",
      "\u001B[1m7/7\u001B[0m \u001B[32m━━━━━━━━━━━━━━━━━━━━\u001B[0m\u001B[37m\u001B[0m \u001B[1m0s\u001B[0m 18ms/step - accuracy: 0.6446 - loss: 0.6387 - val_accuracy: 0.4091 - val_loss: 0.8025\n",
      "Epoch 63/100\n",
      "\u001B[1m7/7\u001B[0m \u001B[32m━━━━━━━━━━━━━━━━━━━━\u001B[0m\u001B[37m\u001B[0m \u001B[1m0s\u001B[0m 15ms/step - accuracy: 0.6314 - loss: 0.6312 - val_accuracy: 0.5000 - val_loss: 0.7513\n",
      "Epoch 64/100\n",
      "\u001B[1m7/7\u001B[0m \u001B[32m━━━━━━━━━━━━━━━━━━━━\u001B[0m\u001B[37m\u001B[0m \u001B[1m0s\u001B[0m 18ms/step - accuracy: 0.6231 - loss: 0.6493 - val_accuracy: 0.4091 - val_loss: 0.8006\n",
      "Epoch 65/100\n",
      "\u001B[1m7/7\u001B[0m \u001B[32m━━━━━━━━━━━━━━━━━━━━\u001B[0m\u001B[37m\u001B[0m \u001B[1m0s\u001B[0m 16ms/step - accuracy: 0.6599 - loss: 0.6234 - val_accuracy: 0.4091 - val_loss: 0.8362\n",
      "Epoch 66/100\n",
      "\u001B[1m7/7\u001B[0m \u001B[32m━━━━━━━━━━━━━━━━━━━━\u001B[0m\u001B[37m\u001B[0m \u001B[1m0s\u001B[0m 16ms/step - accuracy: 0.5937 - loss: 0.6730 - val_accuracy: 0.3636 - val_loss: 0.8625\n",
      "Epoch 67/100\n",
      "\u001B[1m7/7\u001B[0m \u001B[32m━━━━━━━━━━━━━━━━━━━━\u001B[0m\u001B[37m\u001B[0m \u001B[1m0s\u001B[0m 15ms/step - accuracy: 0.5853 - loss: 0.6803 - val_accuracy: 0.5000 - val_loss: 1.0108\n",
      "Epoch 68/100\n",
      "\u001B[1m7/7\u001B[0m \u001B[32m━━━━━━━━━━━━━━━━━━━━\u001B[0m\u001B[37m\u001B[0m \u001B[1m0s\u001B[0m 17ms/step - accuracy: 0.5476 - loss: 0.8515 - val_accuracy: 0.5000 - val_loss: 0.8317\n",
      "Epoch 69/100\n",
      "\u001B[1m7/7\u001B[0m \u001B[32m━━━━━━━━━━━━━━━━━━━━\u001B[0m\u001B[37m\u001B[0m \u001B[1m0s\u001B[0m 15ms/step - accuracy: 0.5822 - loss: 0.7317 - val_accuracy: 0.5000 - val_loss: 0.7400\n",
      "Epoch 70/100\n",
      "\u001B[1m7/7\u001B[0m \u001B[32m━━━━━━━━━━━━━━━━━━━━\u001B[0m\u001B[37m\u001B[0m \u001B[1m0s\u001B[0m 16ms/step - accuracy: 0.6085 - loss: 0.6535 - val_accuracy: 0.5000 - val_loss: 0.7589\n",
      "Epoch 71/100\n",
      "\u001B[1m7/7\u001B[0m \u001B[32m━━━━━━━━━━━━━━━━━━━━\u001B[0m\u001B[37m\u001B[0m \u001B[1m0s\u001B[0m 15ms/step - accuracy: 0.6169 - loss: 0.6876 - val_accuracy: 0.4545 - val_loss: 0.7524\n",
      "Epoch 72/100\n",
      "\u001B[1m7/7\u001B[0m \u001B[32m━━━━━━━━━━━━━━━━━━━━\u001B[0m\u001B[37m\u001B[0m \u001B[1m0s\u001B[0m 19ms/step - accuracy: 0.5934 - loss: 0.6620 - val_accuracy: 0.5455 - val_loss: 0.7601\n",
      "Epoch 73/100\n",
      "\u001B[1m7/7\u001B[0m \u001B[32m━━━━━━━━━━━━━━━━━━━━\u001B[0m\u001B[37m\u001B[0m \u001B[1m0s\u001B[0m 16ms/step - accuracy: 0.5932 - loss: 0.6426 - val_accuracy: 0.5000 - val_loss: 0.7853\n",
      "Epoch 74/100\n",
      "\u001B[1m7/7\u001B[0m \u001B[32m━━━━━━━━━━━━━━━━━━━━\u001B[0m\u001B[37m\u001B[0m \u001B[1m0s\u001B[0m 15ms/step - accuracy: 0.6617 - loss: 0.6264 - val_accuracy: 0.5455 - val_loss: 0.7707\n",
      "Epoch 75/100\n",
      "\u001B[1m7/7\u001B[0m \u001B[32m━━━━━━━━━━━━━━━━━━━━\u001B[0m\u001B[37m\u001B[0m \u001B[1m0s\u001B[0m 15ms/step - accuracy: 0.5678 - loss: 0.7031 - val_accuracy: 0.4545 - val_loss: 0.8047\n",
      "Epoch 76/100\n",
      "\u001B[1m7/7\u001B[0m \u001B[32m━━━━━━━━━━━━━━━━━━━━\u001B[0m\u001B[37m\u001B[0m \u001B[1m0s\u001B[0m 15ms/step - accuracy: 0.5746 - loss: 0.6728 - val_accuracy: 0.3636 - val_loss: 0.7687\n",
      "Epoch 77/100\n",
      "\u001B[1m7/7\u001B[0m \u001B[32m━━━━━━━━━━━━━━━━━━━━\u001B[0m\u001B[37m\u001B[0m \u001B[1m0s\u001B[0m 16ms/step - accuracy: 0.6863 - loss: 0.6023 - val_accuracy: 0.3636 - val_loss: 0.7740\n",
      "Epoch 78/100\n",
      "\u001B[1m7/7\u001B[0m \u001B[32m━━━━━━━━━━━━━━━━━━━━\u001B[0m\u001B[37m\u001B[0m \u001B[1m0s\u001B[0m 16ms/step - accuracy: 0.7085 - loss: 0.6028 - val_accuracy: 0.4545 - val_loss: 0.7905\n",
      "Epoch 79/100\n",
      "\u001B[1m7/7\u001B[0m \u001B[32m━━━━━━━━━━━━━━━━━━━━\u001B[0m\u001B[37m\u001B[0m \u001B[1m0s\u001B[0m 18ms/step - accuracy: 0.6381 - loss: 0.6413 - val_accuracy: 0.5000 - val_loss: 0.7625\n",
      "Epoch 80/100\n",
      "\u001B[1m7/7\u001B[0m \u001B[32m━━━━━━━━━━━━━━━━━━━━\u001B[0m\u001B[37m\u001B[0m \u001B[1m0s\u001B[0m 18ms/step - accuracy: 0.6124 - loss: 0.6300 - val_accuracy: 0.4091 - val_loss: 0.8116\n",
      "Epoch 81/100\n",
      "\u001B[1m7/7\u001B[0m \u001B[32m━━━━━━━━━━━━━━━━━━━━\u001B[0m\u001B[37m\u001B[0m \u001B[1m0s\u001B[0m 17ms/step - accuracy: 0.6542 - loss: 0.5957 - val_accuracy: 0.4545 - val_loss: 0.7924\n",
      "Epoch 82/100\n",
      "\u001B[1m7/7\u001B[0m \u001B[32m━━━━━━━━━━━━━━━━━━━━\u001B[0m\u001B[37m\u001B[0m \u001B[1m0s\u001B[0m 17ms/step - accuracy: 0.7007 - loss: 0.5973 - val_accuracy: 0.3636 - val_loss: 0.8316\n",
      "Epoch 83/100\n",
      "\u001B[1m7/7\u001B[0m \u001B[32m━━━━━━━━━━━━━━━━━━━━\u001B[0m\u001B[37m\u001B[0m \u001B[1m0s\u001B[0m 15ms/step - accuracy: 0.6343 - loss: 0.6409 - val_accuracy: 0.4545 - val_loss: 0.8558\n",
      "Epoch 84/100\n",
      "\u001B[1m7/7\u001B[0m \u001B[32m━━━━━━━━━━━━━━━━━━━━\u001B[0m\u001B[37m\u001B[0m \u001B[1m0s\u001B[0m 19ms/step - accuracy: 0.6035 - loss: 0.6221 - val_accuracy: 0.4545 - val_loss: 0.7832\n",
      "Epoch 85/100\n",
      "\u001B[1m7/7\u001B[0m \u001B[32m━━━━━━━━━━━━━━━━━━━━\u001B[0m\u001B[37m\u001B[0m \u001B[1m0s\u001B[0m 15ms/step - accuracy: 0.7008 - loss: 0.5856 - val_accuracy: 0.4545 - val_loss: 0.8258\n",
      "Epoch 86/100\n",
      "\u001B[1m7/7\u001B[0m \u001B[32m━━━━━━━━━━━━━━━━━━━━\u001B[0m\u001B[37m\u001B[0m \u001B[1m0s\u001B[0m 16ms/step - accuracy: 0.5995 - loss: 0.6429 - val_accuracy: 0.5000 - val_loss: 0.8052\n",
      "Epoch 87/100\n",
      "\u001B[1m7/7\u001B[0m \u001B[32m━━━━━━━━━━━━━━━━━━━━\u001B[0m\u001B[37m\u001B[0m \u001B[1m0s\u001B[0m 20ms/step - accuracy: 0.6457 - loss: 0.6223 - val_accuracy: 0.4545 - val_loss: 0.7895\n",
      "Epoch 88/100\n",
      "\u001B[1m7/7\u001B[0m \u001B[32m━━━━━━━━━━━━━━━━━━━━\u001B[0m\u001B[37m\u001B[0m \u001B[1m0s\u001B[0m 17ms/step - accuracy: 0.6790 - loss: 0.6298 - val_accuracy: 0.4545 - val_loss: 0.7787\n",
      "Epoch 89/100\n",
      "\u001B[1m7/7\u001B[0m \u001B[32m━━━━━━━━━━━━━━━━━━━━\u001B[0m\u001B[37m\u001B[0m \u001B[1m0s\u001B[0m 14ms/step - accuracy: 0.6099 - loss: 0.6479 - val_accuracy: 0.5000 - val_loss: 0.9146\n",
      "Epoch 90/100\n",
      "\u001B[1m7/7\u001B[0m \u001B[32m━━━━━━━━━━━━━━━━━━━━\u001B[0m\u001B[37m\u001B[0m \u001B[1m0s\u001B[0m 16ms/step - accuracy: 0.6171 - loss: 0.7073 - val_accuracy: 0.5000 - val_loss: 0.8445\n",
      "Epoch 91/100\n",
      "\u001B[1m7/7\u001B[0m \u001B[32m━━━━━━━━━━━━━━━━━━━━\u001B[0m\u001B[37m\u001B[0m \u001B[1m0s\u001B[0m 20ms/step - accuracy: 0.5915 - loss: 0.7101 - val_accuracy: 0.4545 - val_loss: 0.8041\n",
      "Epoch 92/100\n",
      "\u001B[1m7/7\u001B[0m \u001B[32m━━━━━━━━━━━━━━━━━━━━\u001B[0m\u001B[37m\u001B[0m \u001B[1m0s\u001B[0m 16ms/step - accuracy: 0.5683 - loss: 0.7126 - val_accuracy: 0.5909 - val_loss: 0.7327\n",
      "Epoch 93/100\n",
      "\u001B[1m7/7\u001B[0m \u001B[32m━━━━━━━━━━━━━━━━━━━━\u001B[0m\u001B[37m\u001B[0m \u001B[1m0s\u001B[0m 17ms/step - accuracy: 0.6305 - loss: 0.6416 - val_accuracy: 0.3636 - val_loss: 0.7765\n",
      "Epoch 94/100\n",
      "\u001B[1m7/7\u001B[0m \u001B[32m━━━━━━━━━━━━━━━━━━━━\u001B[0m\u001B[37m\u001B[0m \u001B[1m0s\u001B[0m 17ms/step - accuracy: 0.6081 - loss: 0.6327 - val_accuracy: 0.4091 - val_loss: 0.7988\n",
      "Epoch 95/100\n",
      "\u001B[1m7/7\u001B[0m \u001B[32m━━━━━━━━━━━━━━━━━━━━\u001B[0m\u001B[37m\u001B[0m \u001B[1m0s\u001B[0m 17ms/step - accuracy: 0.6382 - loss: 0.6071 - val_accuracy: 0.4091 - val_loss: 0.8142\n",
      "Epoch 96/100\n",
      "\u001B[1m7/7\u001B[0m \u001B[32m━━━━━━━━━━━━━━━━━━━━\u001B[0m\u001B[37m\u001B[0m \u001B[1m0s\u001B[0m 18ms/step - accuracy: 0.6584 - loss: 0.6136 - val_accuracy: 0.3636 - val_loss: 0.8535\n",
      "Epoch 97/100\n",
      "\u001B[1m7/7\u001B[0m \u001B[32m━━━━━━━━━━━━━━━━━━━━\u001B[0m\u001B[37m\u001B[0m \u001B[1m0s\u001B[0m 15ms/step - accuracy: 0.5410 - loss: 0.6943 - val_accuracy: 0.4091 - val_loss: 0.8692\n",
      "Epoch 98/100\n",
      "\u001B[1m7/7\u001B[0m \u001B[32m━━━━━━━━━━━━━━━━━━━━\u001B[0m\u001B[37m\u001B[0m \u001B[1m0s\u001B[0m 18ms/step - accuracy: 0.5368 - loss: 0.7383 - val_accuracy: 0.5455 - val_loss: 0.7425\n",
      "Epoch 99/100\n",
      "\u001B[1m7/7\u001B[0m \u001B[32m━━━━━━━━━━━━━━━━━━━━\u001B[0m\u001B[37m\u001B[0m \u001B[1m0s\u001B[0m 19ms/step - accuracy: 0.6127 - loss: 0.6702 - val_accuracy: 0.4545 - val_loss: 0.9131\n",
      "Epoch 100/100\n",
      "\u001B[1m7/7\u001B[0m \u001B[32m━━━━━━━━━━━━━━━━━━━━\u001B[0m\u001B[37m\u001B[0m \u001B[1m0s\u001B[0m 16ms/step - accuracy: 0.5474 - loss: 0.7878 - val_accuracy: 0.4091 - val_loss: 0.8710\n",
      "\u001B[1m2/2\u001B[0m \u001B[32m━━━━━━━━━━━━━━━━━━━━\u001B[0m\u001B[37m\u001B[0m \u001B[1m0s\u001B[0m 16ms/step - accuracy: 0.5390 - loss: 0.8063\n",
      "0.5272727012634277\n"
     ]
    }
   ],
   "source": [
    "optimizer = Adam(learning_rate = 0.01 )\n",
    "\n",
    "model.compile(optimizer = optimizer, loss = 'binary_crossentropy', metrics = ['accuracy'])\n",
    "\n",
    "model.fit(X_train, y_train, epochs = 100, batch_size = 32, validation_split = 0.1)\n",
    "\n",
    "test_loss, test_acc = model.evaluate(X_test, y_test)\n",
    "print(test_acc)"
   ],
   "metadata": {
    "collapsed": false,
    "ExecuteTime": {
     "end_time": "2024-03-28T00:45:03.545699500Z",
     "start_time": "2024-03-28T00:44:39.808661400Z"
    }
   },
   "id": "69c4f851b4d910ee",
   "execution_count": 49
  },
  {
   "cell_type": "code",
   "outputs": [
    {
     "name": "stdout",
     "output_type": "stream",
     "text": [
      "\u001B[1m1/1\u001B[0m \u001B[32m━━━━━━━━━━━━━━━━━━━━\u001B[0m\u001B[37m\u001B[0m \u001B[1m0s\u001B[0m 98ms/step\n"
     ]
    },
    {
     "data": {
      "text/plain": "     Team         Opp  0  W/L\n0   lions       bears  1    1\n1   lions     packers  0    0\n2   lions     vikings  0    0\n3   lions  buccaneers  0    0\n4   lions        rams  0    0\n5   lions    seahawks  0    0\n6   lions     jaguars  0    0\n7   lions      titans  0    0\n8   lions       bills  0    1\n9   lions     cowboys  0    0\n10  lions   cardinals  0    1\n11  lions       49ers  0    1\n12  lions      texans  1    0\n13  lions       colts  0    1",
      "text/html": "<div>\n<style scoped>\n    .dataframe tbody tr th:only-of-type {\n        vertical-align: middle;\n    }\n\n    .dataframe tbody tr th {\n        vertical-align: top;\n    }\n\n    .dataframe thead th {\n        text-align: right;\n    }\n</style>\n<table border=\"1\" class=\"dataframe\">\n  <thead>\n    <tr style=\"text-align: right;\">\n      <th></th>\n      <th>Team</th>\n      <th>Opp</th>\n      <th>0</th>\n      <th>W/L</th>\n    </tr>\n  </thead>\n  <tbody>\n    <tr>\n      <th>0</th>\n      <td>lions</td>\n      <td>bears</td>\n      <td>1</td>\n      <td>1</td>\n    </tr>\n    <tr>\n      <th>1</th>\n      <td>lions</td>\n      <td>packers</td>\n      <td>0</td>\n      <td>0</td>\n    </tr>\n    <tr>\n      <th>2</th>\n      <td>lions</td>\n      <td>vikings</td>\n      <td>0</td>\n      <td>0</td>\n    </tr>\n    <tr>\n      <th>3</th>\n      <td>lions</td>\n      <td>buccaneers</td>\n      <td>0</td>\n      <td>0</td>\n    </tr>\n    <tr>\n      <th>4</th>\n      <td>lions</td>\n      <td>rams</td>\n      <td>0</td>\n      <td>0</td>\n    </tr>\n    <tr>\n      <th>5</th>\n      <td>lions</td>\n      <td>seahawks</td>\n      <td>0</td>\n      <td>0</td>\n    </tr>\n    <tr>\n      <th>6</th>\n      <td>lions</td>\n      <td>jaguars</td>\n      <td>0</td>\n      <td>0</td>\n    </tr>\n    <tr>\n      <th>7</th>\n      <td>lions</td>\n      <td>titans</td>\n      <td>0</td>\n      <td>0</td>\n    </tr>\n    <tr>\n      <th>8</th>\n      <td>lions</td>\n      <td>bills</td>\n      <td>0</td>\n      <td>1</td>\n    </tr>\n    <tr>\n      <th>9</th>\n      <td>lions</td>\n      <td>cowboys</td>\n      <td>0</td>\n      <td>0</td>\n    </tr>\n    <tr>\n      <th>10</th>\n      <td>lions</td>\n      <td>cardinals</td>\n      <td>0</td>\n      <td>1</td>\n    </tr>\n    <tr>\n      <th>11</th>\n      <td>lions</td>\n      <td>49ers</td>\n      <td>0</td>\n      <td>1</td>\n    </tr>\n    <tr>\n      <th>12</th>\n      <td>lions</td>\n      <td>texans</td>\n      <td>1</td>\n      <td>0</td>\n    </tr>\n    <tr>\n      <th>13</th>\n      <td>lions</td>\n      <td>colts</td>\n      <td>0</td>\n      <td>1</td>\n    </tr>\n  </tbody>\n</table>\n</div>"
     },
     "execution_count": 50,
     "metadata": {},
     "output_type": "execute_result"
    }
   ],
   "source": [
    "y_pred = model.predict(lions_2024_agg)\n",
    "\n",
    "pred_classes = (y_pred > 0.5).astype(int)\n",
    "\n",
    "lions_2024['W/L'] = pred_classes\n",
    "\n",
    "lions_2024"
   ],
   "metadata": {
    "collapsed": false,
    "ExecuteTime": {
     "end_time": "2024-03-28T00:45:44.479683300Z",
     "start_time": "2024-03-28T00:45:44.265019500Z"
    }
   },
   "id": "f7cba5e0c6de36c",
   "execution_count": 50
  },
  {
   "cell_type": "code",
   "outputs": [
    {
     "name": "stdout",
     "output_type": "stream",
     "text": [
      "\u001B[1m1/1\u001B[0m \u001B[32m━━━━━━━━━━━━━━━━━━━━\u001B[0m\u001B[37m\u001B[0m \u001B[1m0s\u001B[0m 37ms/step\n"
     ]
    },
    {
     "data": {
      "text/plain": "      Team         Opp  0  W/L\n0   chiefs     broncos  1    1\n1   chiefs    chargers  1    1\n2   chiefs     raiders  1    0\n3   chiefs      ravens  0    0\n4   chiefs     bengals  1    0\n5   chiefs      texans  1    0\n6   chiefs      saints  1    0\n7   chiefs  buccaneers  1    1\n8   chiefs    steelers  1    0\n9   chiefs      browns  1    1\n10  chiefs       bills  1    1\n11  chiefs     falcons  1    0\n12  chiefs     pathers  1    0\n13  chiefs       49ers  1    1",
      "text/html": "<div>\n<style scoped>\n    .dataframe tbody tr th:only-of-type {\n        vertical-align: middle;\n    }\n\n    .dataframe tbody tr th {\n        vertical-align: top;\n    }\n\n    .dataframe thead th {\n        text-align: right;\n    }\n</style>\n<table border=\"1\" class=\"dataframe\">\n  <thead>\n    <tr style=\"text-align: right;\">\n      <th></th>\n      <th>Team</th>\n      <th>Opp</th>\n      <th>0</th>\n      <th>W/L</th>\n    </tr>\n  </thead>\n  <tbody>\n    <tr>\n      <th>0</th>\n      <td>chiefs</td>\n      <td>broncos</td>\n      <td>1</td>\n      <td>1</td>\n    </tr>\n    <tr>\n      <th>1</th>\n      <td>chiefs</td>\n      <td>chargers</td>\n      <td>1</td>\n      <td>1</td>\n    </tr>\n    <tr>\n      <th>2</th>\n      <td>chiefs</td>\n      <td>raiders</td>\n      <td>1</td>\n      <td>0</td>\n    </tr>\n    <tr>\n      <th>3</th>\n      <td>chiefs</td>\n      <td>ravens</td>\n      <td>0</td>\n      <td>0</td>\n    </tr>\n    <tr>\n      <th>4</th>\n      <td>chiefs</td>\n      <td>bengals</td>\n      <td>1</td>\n      <td>0</td>\n    </tr>\n    <tr>\n      <th>5</th>\n      <td>chiefs</td>\n      <td>texans</td>\n      <td>1</td>\n      <td>0</td>\n    </tr>\n    <tr>\n      <th>6</th>\n      <td>chiefs</td>\n      <td>saints</td>\n      <td>1</td>\n      <td>0</td>\n    </tr>\n    <tr>\n      <th>7</th>\n      <td>chiefs</td>\n      <td>buccaneers</td>\n      <td>1</td>\n      <td>1</td>\n    </tr>\n    <tr>\n      <th>8</th>\n      <td>chiefs</td>\n      <td>steelers</td>\n      <td>1</td>\n      <td>0</td>\n    </tr>\n    <tr>\n      <th>9</th>\n      <td>chiefs</td>\n      <td>browns</td>\n      <td>1</td>\n      <td>1</td>\n    </tr>\n    <tr>\n      <th>10</th>\n      <td>chiefs</td>\n      <td>bills</td>\n      <td>1</td>\n      <td>1</td>\n    </tr>\n    <tr>\n      <th>11</th>\n      <td>chiefs</td>\n      <td>falcons</td>\n      <td>1</td>\n      <td>0</td>\n    </tr>\n    <tr>\n      <th>12</th>\n      <td>chiefs</td>\n      <td>pathers</td>\n      <td>1</td>\n      <td>0</td>\n    </tr>\n    <tr>\n      <th>13</th>\n      <td>chiefs</td>\n      <td>49ers</td>\n      <td>1</td>\n      <td>1</td>\n    </tr>\n  </tbody>\n</table>\n</div>"
     },
     "execution_count": 51,
     "metadata": {},
     "output_type": "execute_result"
    }
   ],
   "source": [
    "y_pred = model.predict(chiefs_2024_agg)\n",
    "\n",
    "pred_classes = (y_pred > 0.5).astype(int)\n",
    "\n",
    "chiefs_2024['W/L'] = pred_classes\n",
    "\n",
    "chiefs_2024"
   ],
   "metadata": {
    "collapsed": false,
    "ExecuteTime": {
     "end_time": "2024-03-28T00:46:30.278424300Z",
     "start_time": "2024-03-28T00:46:30.170777400Z"
    }
   },
   "id": "34cb73fa6f7ebd2b",
   "execution_count": 51
  },
  {
   "cell_type": "code",
   "outputs": [
    {
     "name": "stdout",
     "output_type": "stream",
     "text": [
      "\u001B[1m1/1\u001B[0m \u001B[32m━━━━━━━━━━━━━━━━━━━━\u001B[0m\u001B[37m\u001B[0m \u001B[1m0s\u001B[0m 47ms/step\n"
     ]
    },
    {
     "data": {
      "text/plain": "       Team         Opp  0  W/L\n0   cowboys      giants  1    0\n1   cowboys      eagles  1    1\n2   cowboys  commanders  1    1\n3   cowboys      saints  1    1\n4   cowboys  buccaneers  1    1\n5   cowboys       lions  1    0\n6   cowboys      ravels  1    0\n7   cowboys     bengals  1    1\n8   cowboys      texans  1    1\n9   cowboys     falcons  1    1\n10  cowboys    panthers  1    1\n11  cowboys       49ers  1    1\n12  cowboys      browns  1    1\n13  cowboys    steelers  1    1",
      "text/html": "<div>\n<style scoped>\n    .dataframe tbody tr th:only-of-type {\n        vertical-align: middle;\n    }\n\n    .dataframe tbody tr th {\n        vertical-align: top;\n    }\n\n    .dataframe thead th {\n        text-align: right;\n    }\n</style>\n<table border=\"1\" class=\"dataframe\">\n  <thead>\n    <tr style=\"text-align: right;\">\n      <th></th>\n      <th>Team</th>\n      <th>Opp</th>\n      <th>0</th>\n      <th>W/L</th>\n    </tr>\n  </thead>\n  <tbody>\n    <tr>\n      <th>0</th>\n      <td>cowboys</td>\n      <td>giants</td>\n      <td>1</td>\n      <td>0</td>\n    </tr>\n    <tr>\n      <th>1</th>\n      <td>cowboys</td>\n      <td>eagles</td>\n      <td>1</td>\n      <td>1</td>\n    </tr>\n    <tr>\n      <th>2</th>\n      <td>cowboys</td>\n      <td>commanders</td>\n      <td>1</td>\n      <td>1</td>\n    </tr>\n    <tr>\n      <th>3</th>\n      <td>cowboys</td>\n      <td>saints</td>\n      <td>1</td>\n      <td>1</td>\n    </tr>\n    <tr>\n      <th>4</th>\n      <td>cowboys</td>\n      <td>buccaneers</td>\n      <td>1</td>\n      <td>1</td>\n    </tr>\n    <tr>\n      <th>5</th>\n      <td>cowboys</td>\n      <td>lions</td>\n      <td>1</td>\n      <td>0</td>\n    </tr>\n    <tr>\n      <th>6</th>\n      <td>cowboys</td>\n      <td>ravels</td>\n      <td>1</td>\n      <td>0</td>\n    </tr>\n    <tr>\n      <th>7</th>\n      <td>cowboys</td>\n      <td>bengals</td>\n      <td>1</td>\n      <td>1</td>\n    </tr>\n    <tr>\n      <th>8</th>\n      <td>cowboys</td>\n      <td>texans</td>\n      <td>1</td>\n      <td>1</td>\n    </tr>\n    <tr>\n      <th>9</th>\n      <td>cowboys</td>\n      <td>falcons</td>\n      <td>1</td>\n      <td>1</td>\n    </tr>\n    <tr>\n      <th>10</th>\n      <td>cowboys</td>\n      <td>panthers</td>\n      <td>1</td>\n      <td>1</td>\n    </tr>\n    <tr>\n      <th>11</th>\n      <td>cowboys</td>\n      <td>49ers</td>\n      <td>1</td>\n      <td>1</td>\n    </tr>\n    <tr>\n      <th>12</th>\n      <td>cowboys</td>\n      <td>browns</td>\n      <td>1</td>\n      <td>1</td>\n    </tr>\n    <tr>\n      <th>13</th>\n      <td>cowboys</td>\n      <td>steelers</td>\n      <td>1</td>\n      <td>1</td>\n    </tr>\n  </tbody>\n</table>\n</div>"
     },
     "execution_count": 52,
     "metadata": {},
     "output_type": "execute_result"
    }
   ],
   "source": [
    "y_pred = model.predict(cowboys_2024_agg)\n",
    "\n",
    "pred_classes = (y_pred > 0.5).astype(int)\n",
    "\n",
    "cowboys_2024['W/L'] = pred_classes\n",
    "\n",
    "cowboys_2024"
   ],
   "metadata": {
    "collapsed": false,
    "ExecuteTime": {
     "end_time": "2024-03-28T00:46:41.041737700Z",
     "start_time": "2024-03-28T00:46:40.939054Z"
    }
   },
   "id": "7d0b9fb8240a9a2d",
   "execution_count": 52
  },
  {
   "cell_type": "code",
   "outputs": [],
   "source": [],
   "metadata": {
    "collapsed": false
   },
   "id": "de4f3f3a2ddfa25"
  }
 ],
 "metadata": {
  "kernelspec": {
   "display_name": "Python 3",
   "language": "python",
   "name": "python3"
  },
  "language_info": {
   "codemirror_mode": {
    "name": "ipython",
    "version": 2
   },
   "file_extension": ".py",
   "mimetype": "text/x-python",
   "name": "python",
   "nbconvert_exporter": "python",
   "pygments_lexer": "ipython2",
   "version": "2.7.6"
  }
 },
 "nbformat": 4,
 "nbformat_minor": 5
}
