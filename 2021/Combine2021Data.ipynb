{
 "cells": [
  {
   "cell_type": "code",
   "execution_count": 16,
   "id": "eb99df63",
   "metadata": {
    "ExecuteTime": {
     "end_time": "2024-02-15T16:10:25.896424300Z",
     "start_time": "2024-02-15T16:10:25.878443400Z"
    }
   },
   "outputs": [],
   "source": [
    "import pandas as pd\n",
    "import os"
   ]
  },
  {
   "cell_type": "code",
   "execution_count": 17,
   "outputs": [
    {
     "name": "stdout",
     "output_type": "stream",
     "text": [
      "    Week     Team  Day          Date       Time  boxscore W/L   OT  Rec  \\\n",
      "0      1    49ers  Sun  September 12  1:00PM ET  boxscore   W  NaN  1-0   \n",
      "1      2    49ers  Sun  September 19  1:00PM ET  boxscore   W  NaN  2-0   \n",
      "2      3    49ers  Sun  September 26  8:20PM ET  boxscore   L  NaN  2-1   \n",
      "3      4    49ers  Sun     October 3  4:05PM ET  boxscore   L  NaN  2-2   \n",
      "4      5    49ers  Sun    October 10  4:25PM ET  boxscore   L  NaN  2-3   \n",
      "..   ...      ...  ...           ...        ...       ...  ..  ...  ...   \n",
      "611   14  vikings  Thu    December 9  8:20PM ET  boxscore   W  NaN  6-7   \n",
      "612   15  vikings  Mon   December 20  8:15PM ET  boxscore   W  NaN  7-7   \n",
      "613   16  vikings  Sun   December 26  1:00PM ET  boxscore   L  NaN  7-8   \n",
      "614   17  vikings  Sun     January 2  8:20PM ET  boxscore   L  NaN  7-9   \n",
      "615   18  vikings  Sun     January 9  1:00PM ET  boxscore   W  NaN  8-9   \n",
      "\n",
      "    Home/Away  ...  RushY   TO  1stD.1  TotYd.1  PassY.1  RushY.1  TO.1  \\\n",
      "0           @  ...  131.0  2.0    31.0    430.0    314.0    116.0   1.0   \n",
      "1           @  ...  117.0  NaN    18.0    328.0    177.0    151.0   NaN   \n",
      "2         NaN  ...   67.0  2.0    21.0    353.0    253.0    100.0   NaN   \n",
      "3         NaN  ...  143.0  2.0    14.0    234.0    129.0    105.0   NaN   \n",
      "4           @  ...  152.0  1.0    20.0    304.0    210.0     94.0   1.0   \n",
      "..        ...  ...    ...  ...     ...      ...      ...      ...   ...   \n",
      "611       NaN  ...  242.0  2.0    22.0    375.0    269.0    106.0   1.0   \n",
      "612         @  ...  132.0  1.0    24.0    370.0    255.0    115.0   3.0   \n",
      "613       NaN  ...   66.0  1.0    22.0    356.0    197.0    159.0   3.0   \n",
      "614         @  ...   27.0  NaN    29.0    481.0    307.0    174.0   NaN   \n",
      "615       NaN  ...  104.0  NaN    24.0    356.0    266.0     90.0   2.0   \n",
      "\n",
      "     Offense  Defense  Sp. Tms  \n",
      "0      15.48    -5.16    -1.73  \n",
      "1       7.86    -5.30     2.68  \n",
      "2      12.19   -15.14     0.95  \n",
      "3       8.61    -2.20   -14.31  \n",
      "4      -6.53    -1.74    -0.47  \n",
      "..       ...      ...      ...  \n",
      "611     8.68    -6.41     1.31  \n",
      "612    -4.65     7.72     5.92  \n",
      "613    -1.81     0.84    -7.80  \n",
      "614   -13.56   -21.96     7.80  \n",
      "615     7.18    12.22    -1.20  \n",
      "\n",
      "[616 rows x 26 columns]\n"
     ]
    }
   ],
   "source": [
    "folder_path = r'C:\\Users\\krizm\\Downloads\\CSE482\\CMSE482ProjectGithub\\2021'\n",
    "files = os.listdir(folder_path)\n",
    "csv_files = [file for file in files if file.endswith('.csv')]\n",
    "\n",
    "dfs = []\n",
    "\n",
    "if len(csv_files) == 0:\n",
    "    print(\"No CSV files found in the specified folder.\")\n",
    "else:\n",
    "    for csv_file in csv_files:\n",
    "        csv_file_path = os.path.join(folder_path, csv_file)\n",
    "        try:\n",
    "            df = pd.read_csv(csv_file_path, encoding='utf-8')\n",
    "            team_name = csv_file.split('2021')[0]\n",
    "            df.insert(1, 'Team', team_name)\n",
    "            dfs.append(df)\n",
    "        except Exception as e:\n",
    "            print(f\"Error reading file {csv_file}: {e}\")\n",
    "\n",
    "if len(dfs) == 0:\n",
    "    print(\"No dataframes were created.\")\n",
    "else:\n",
    "    concatenated_df = pd.concat(dfs, ignore_index=True)\n",
    "    print(concatenated_df)"
   ],
   "metadata": {
    "collapsed": false,
    "ExecuteTime": {
     "end_time": "2024-02-15T16:10:26.421723600Z",
     "start_time": "2024-02-15T16:10:26.213243100Z"
    }
   },
   "id": "6d8443bc818ae2e"
  },
  {
   "cell_type": "code",
   "execution_count": 18,
   "outputs": [
    {
     "data": {
      "text/plain": "    Week     Team  Day          Date       Time  boxscore W/L   OT  Rec  \\\n0      1    49ers  Sun  September 12  1:00PM ET  boxscore   W  NaN  1-0   \n1      2    49ers  Sun  September 19  1:00PM ET  boxscore   W  NaN  2-0   \n2      3    49ers  Sun  September 26  8:20PM ET  boxscore   L  NaN  2-1   \n3      4    49ers  Sun     October 3  4:05PM ET  boxscore   L  NaN  2-2   \n4      5    49ers  Sun    October 10  4:25PM ET  boxscore   L  NaN  2-3   \n..   ...      ...  ...           ...        ...       ...  ..  ...  ...   \n611   14  vikings  Thu    December 9  8:20PM ET  boxscore   W  NaN  6-7   \n612   15  vikings  Mon   December 20  8:15PM ET  boxscore   W  NaN  7-7   \n613   16  vikings  Sun   December 26  1:00PM ET  boxscore   L  NaN  7-8   \n614   17  vikings  Sun     January 2  8:20PM ET  boxscore   L  NaN  7-9   \n615   18  vikings  Sun     January 9  1:00PM ET  boxscore   W  NaN  8-9   \n\n    Home/Away  ...  RushY   TO  1stD.1  TotYd.1  PassY.1  RushY.1  TO.1  \\\n0           @  ...  131.0  2.0    31.0    430.0    314.0    116.0   1.0   \n1           @  ...  117.0  NaN    18.0    328.0    177.0    151.0   NaN   \n2         NaN  ...   67.0  2.0    21.0    353.0    253.0    100.0   NaN   \n3         NaN  ...  143.0  2.0    14.0    234.0    129.0    105.0   NaN   \n4           @  ...  152.0  1.0    20.0    304.0    210.0     94.0   1.0   \n..        ...  ...    ...  ...     ...      ...      ...      ...   ...   \n611       NaN  ...  242.0  2.0    22.0    375.0    269.0    106.0   1.0   \n612         @  ...  132.0  1.0    24.0    370.0    255.0    115.0   3.0   \n613       NaN  ...   66.0  1.0    22.0    356.0    197.0    159.0   3.0   \n614         @  ...   27.0  NaN    29.0    481.0    307.0    174.0   NaN   \n615       NaN  ...  104.0  NaN    24.0    356.0    266.0     90.0   2.0   \n\n     Offense  Defense  Sp. Tms  \n0      15.48    -5.16    -1.73  \n1       7.86    -5.30     2.68  \n2      12.19   -15.14     0.95  \n3       8.61    -2.20   -14.31  \n4      -6.53    -1.74    -0.47  \n..       ...      ...      ...  \n611     8.68    -6.41     1.31  \n612    -4.65     7.72     5.92  \n613    -1.81     0.84    -7.80  \n614   -13.56   -21.96     7.80  \n615     7.18    12.22    -1.20  \n\n[616 rows x 26 columns]",
      "text/html": "<div>\n<style scoped>\n    .dataframe tbody tr th:only-of-type {\n        vertical-align: middle;\n    }\n\n    .dataframe tbody tr th {\n        vertical-align: top;\n    }\n\n    .dataframe thead th {\n        text-align: right;\n    }\n</style>\n<table border=\"1\" class=\"dataframe\">\n  <thead>\n    <tr style=\"text-align: right;\">\n      <th></th>\n      <th>Week</th>\n      <th>Team</th>\n      <th>Day</th>\n      <th>Date</th>\n      <th>Time</th>\n      <th>boxscore</th>\n      <th>W/L</th>\n      <th>OT</th>\n      <th>Rec</th>\n      <th>Home/Away</th>\n      <th>...</th>\n      <th>RushY</th>\n      <th>TO</th>\n      <th>1stD.1</th>\n      <th>TotYd.1</th>\n      <th>PassY.1</th>\n      <th>RushY.1</th>\n      <th>TO.1</th>\n      <th>Offense</th>\n      <th>Defense</th>\n      <th>Sp. Tms</th>\n    </tr>\n  </thead>\n  <tbody>\n    <tr>\n      <th>0</th>\n      <td>1</td>\n      <td>49ers</td>\n      <td>Sun</td>\n      <td>September 12</td>\n      <td>1:00PM ET</td>\n      <td>boxscore</td>\n      <td>W</td>\n      <td>NaN</td>\n      <td>1-0</td>\n      <td>@</td>\n      <td>...</td>\n      <td>131.0</td>\n      <td>2.0</td>\n      <td>31.0</td>\n      <td>430.0</td>\n      <td>314.0</td>\n      <td>116.0</td>\n      <td>1.0</td>\n      <td>15.48</td>\n      <td>-5.16</td>\n      <td>-1.73</td>\n    </tr>\n    <tr>\n      <th>1</th>\n      <td>2</td>\n      <td>49ers</td>\n      <td>Sun</td>\n      <td>September 19</td>\n      <td>1:00PM ET</td>\n      <td>boxscore</td>\n      <td>W</td>\n      <td>NaN</td>\n      <td>2-0</td>\n      <td>@</td>\n      <td>...</td>\n      <td>117.0</td>\n      <td>NaN</td>\n      <td>18.0</td>\n      <td>328.0</td>\n      <td>177.0</td>\n      <td>151.0</td>\n      <td>NaN</td>\n      <td>7.86</td>\n      <td>-5.30</td>\n      <td>2.68</td>\n    </tr>\n    <tr>\n      <th>2</th>\n      <td>3</td>\n      <td>49ers</td>\n      <td>Sun</td>\n      <td>September 26</td>\n      <td>8:20PM ET</td>\n      <td>boxscore</td>\n      <td>L</td>\n      <td>NaN</td>\n      <td>2-1</td>\n      <td>NaN</td>\n      <td>...</td>\n      <td>67.0</td>\n      <td>2.0</td>\n      <td>21.0</td>\n      <td>353.0</td>\n      <td>253.0</td>\n      <td>100.0</td>\n      <td>NaN</td>\n      <td>12.19</td>\n      <td>-15.14</td>\n      <td>0.95</td>\n    </tr>\n    <tr>\n      <th>3</th>\n      <td>4</td>\n      <td>49ers</td>\n      <td>Sun</td>\n      <td>October 3</td>\n      <td>4:05PM ET</td>\n      <td>boxscore</td>\n      <td>L</td>\n      <td>NaN</td>\n      <td>2-2</td>\n      <td>NaN</td>\n      <td>...</td>\n      <td>143.0</td>\n      <td>2.0</td>\n      <td>14.0</td>\n      <td>234.0</td>\n      <td>129.0</td>\n      <td>105.0</td>\n      <td>NaN</td>\n      <td>8.61</td>\n      <td>-2.20</td>\n      <td>-14.31</td>\n    </tr>\n    <tr>\n      <th>4</th>\n      <td>5</td>\n      <td>49ers</td>\n      <td>Sun</td>\n      <td>October 10</td>\n      <td>4:25PM ET</td>\n      <td>boxscore</td>\n      <td>L</td>\n      <td>NaN</td>\n      <td>2-3</td>\n      <td>@</td>\n      <td>...</td>\n      <td>152.0</td>\n      <td>1.0</td>\n      <td>20.0</td>\n      <td>304.0</td>\n      <td>210.0</td>\n      <td>94.0</td>\n      <td>1.0</td>\n      <td>-6.53</td>\n      <td>-1.74</td>\n      <td>-0.47</td>\n    </tr>\n    <tr>\n      <th>...</th>\n      <td>...</td>\n      <td>...</td>\n      <td>...</td>\n      <td>...</td>\n      <td>...</td>\n      <td>...</td>\n      <td>...</td>\n      <td>...</td>\n      <td>...</td>\n      <td>...</td>\n      <td>...</td>\n      <td>...</td>\n      <td>...</td>\n      <td>...</td>\n      <td>...</td>\n      <td>...</td>\n      <td>...</td>\n      <td>...</td>\n      <td>...</td>\n      <td>...</td>\n      <td>...</td>\n    </tr>\n    <tr>\n      <th>611</th>\n      <td>14</td>\n      <td>vikings</td>\n      <td>Thu</td>\n      <td>December 9</td>\n      <td>8:20PM ET</td>\n      <td>boxscore</td>\n      <td>W</td>\n      <td>NaN</td>\n      <td>6-7</td>\n      <td>NaN</td>\n      <td>...</td>\n      <td>242.0</td>\n      <td>2.0</td>\n      <td>22.0</td>\n      <td>375.0</td>\n      <td>269.0</td>\n      <td>106.0</td>\n      <td>1.0</td>\n      <td>8.68</td>\n      <td>-6.41</td>\n      <td>1.31</td>\n    </tr>\n    <tr>\n      <th>612</th>\n      <td>15</td>\n      <td>vikings</td>\n      <td>Mon</td>\n      <td>December 20</td>\n      <td>8:15PM ET</td>\n      <td>boxscore</td>\n      <td>W</td>\n      <td>NaN</td>\n      <td>7-7</td>\n      <td>@</td>\n      <td>...</td>\n      <td>132.0</td>\n      <td>1.0</td>\n      <td>24.0</td>\n      <td>370.0</td>\n      <td>255.0</td>\n      <td>115.0</td>\n      <td>3.0</td>\n      <td>-4.65</td>\n      <td>7.72</td>\n      <td>5.92</td>\n    </tr>\n    <tr>\n      <th>613</th>\n      <td>16</td>\n      <td>vikings</td>\n      <td>Sun</td>\n      <td>December 26</td>\n      <td>1:00PM ET</td>\n      <td>boxscore</td>\n      <td>L</td>\n      <td>NaN</td>\n      <td>7-8</td>\n      <td>NaN</td>\n      <td>...</td>\n      <td>66.0</td>\n      <td>1.0</td>\n      <td>22.0</td>\n      <td>356.0</td>\n      <td>197.0</td>\n      <td>159.0</td>\n      <td>3.0</td>\n      <td>-1.81</td>\n      <td>0.84</td>\n      <td>-7.80</td>\n    </tr>\n    <tr>\n      <th>614</th>\n      <td>17</td>\n      <td>vikings</td>\n      <td>Sun</td>\n      <td>January 2</td>\n      <td>8:20PM ET</td>\n      <td>boxscore</td>\n      <td>L</td>\n      <td>NaN</td>\n      <td>7-9</td>\n      <td>@</td>\n      <td>...</td>\n      <td>27.0</td>\n      <td>NaN</td>\n      <td>29.0</td>\n      <td>481.0</td>\n      <td>307.0</td>\n      <td>174.0</td>\n      <td>NaN</td>\n      <td>-13.56</td>\n      <td>-21.96</td>\n      <td>7.80</td>\n    </tr>\n    <tr>\n      <th>615</th>\n      <td>18</td>\n      <td>vikings</td>\n      <td>Sun</td>\n      <td>January 9</td>\n      <td>1:00PM ET</td>\n      <td>boxscore</td>\n      <td>W</td>\n      <td>NaN</td>\n      <td>8-9</td>\n      <td>NaN</td>\n      <td>...</td>\n      <td>104.0</td>\n      <td>NaN</td>\n      <td>24.0</td>\n      <td>356.0</td>\n      <td>266.0</td>\n      <td>90.0</td>\n      <td>2.0</td>\n      <td>7.18</td>\n      <td>12.22</td>\n      <td>-1.20</td>\n    </tr>\n  </tbody>\n</table>\n<p>616 rows × 26 columns</p>\n</div>"
     },
     "execution_count": 18,
     "metadata": {},
     "output_type": "execute_result"
    }
   ],
   "source": [
    "concatenated_df"
   ],
   "metadata": {
    "collapsed": false,
    "ExecuteTime": {
     "end_time": "2024-02-15T16:10:26.828833200Z",
     "start_time": "2024-02-15T16:10:26.777003Z"
    }
   },
   "id": "21f770b0529037aa"
  },
  {
   "cell_type": "code",
   "execution_count": null,
   "outputs": [],
   "source": [],
   "metadata": {
    "collapsed": false
   },
   "id": "4e0054e5404a61a9"
  }
 ],
 "metadata": {
  "kernelspec": {
   "display_name": "Python 3 (ipykernel)",
   "language": "python",
   "name": "python3"
  },
  "language_info": {
   "codemirror_mode": {
    "name": "ipython",
    "version": 3
   },
   "file_extension": ".py",
   "mimetype": "text/x-python",
   "name": "python",
   "nbconvert_exporter": "python",
   "pygments_lexer": "ipython3",
   "version": "3.9.13"
  }
 },
 "nbformat": 4,
 "nbformat_minor": 5
}
