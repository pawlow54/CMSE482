{
 "cells": [
  {
   "cell_type": "code",
   "outputs": [],
   "source": [
    "#IMPORTS HERE:\n",
    "import pandas as pd\n",
    "import numpy as np\n",
    "import seaborn as sns\n",
    "import matplotlib.pyplot as plt\n",
    "%matplotlib inline\n",
    "import IPython.display as display"
   ],
   "metadata": {
    "collapsed": false,
    "ExecuteTime": {
     "end_time": "2024-02-16T00:13:37.329551100Z",
     "start_time": "2024-02-16T00:13:37.312018300Z"
    }
   },
   "id": "41386d6fb54476c8",
   "execution_count": 21
  },
  {
   "cell_type": "code",
   "execution_count": 28,
   "id": "141452b8",
   "metadata": {
    "ExecuteTime": {
     "end_time": "2024-02-16T00:18:51.198555Z",
     "start_time": "2024-02-16T00:18:51.124025600Z"
    }
   },
   "outputs": [],
   "source": [
    "pd.set_option('display.max_columns', None)\n",
    "\n",
    "column_names = [\"Week\", \"Team\", \"Day\", \"Date\", \"Time\", \"Link\", \"Result\", \"OT\",  \n",
    "        \"Rec\", \"H/A\", \"Opp\", \"Score_Tm\", \"Score_Opp\", \n",
    "        \"Off_1stD\", \"Off_TotYd\", \"Off_PassY\", \"Off_RushY\", \"Off_TO\", \n",
    "        \"Def_1stD\", \"Def_TotYd\", \"Def_PassY\", \"Def_RushY\", \"Def_TO\", \n",
    "        \"Exp_Offense\", \"Exp_Defense\", \"Exp_SpecTms\"]\n",
    "\n",
    "data1 = pd.read_csv('2021data.csv', skiprows=3, names=column_names)\n",
    "\n",
    "data1 = data1[data1['Result'].isin(['W', 'L', 'T'])]\n",
    "\n",
    "data1.drop(columns=['Link', 'Opp'], inplace=True)\n",
    "\n",
    "data1['OT'] = data1['OT'].apply(lambda x: 'Yes' if x == 'OT' else 'No')\n",
    "data1['H/A'] = data1['H/A'].apply(lambda x: 'Away' if x == '@' else 'Home')\n",
    "\n",
    "cols_to_fill = [col for col in data1.columns if col.startswith(('Score', 'Off', 'Def', 'Exp'))]\n",
    "data1[cols_to_fill] = data1[cols_to_fill].fillna(0)\n",
    "\n",
    "data1['Week'] = pd.to_numeric(data1['Week'], errors='coerce')\n",
    "data1 = data1.dropna(subset=['Week'])\n",
    "\n",
    "rec_split = data1['Rec'].str.split('-', expand=True)\n",
    "if len(rec_split.columns) == 2:\n",
    "    rec_split[2] = '0'\n",
    "rec_split.columns = ['Win', 'Loss', 'Tie']\n",
    "data1[['Win', 'Loss', 'Tie']] = rec_split\n",
    "\n",
    "# Replace non-numeric values in 'Win', 'Loss', and 'Tie' columns with 0\n",
    "data1[['Win', 'Loss', 'Tie']] = data1[['Win', 'Loss', 'Tie']].apply(pd.to_numeric, errors='coerce').fillna(0).astype(int)\n",
    "\n",
    "data1 = data1.drop(columns=['Rec'])"
   ]
  },
  {
   "cell_type": "code",
   "execution_count": 27,
   "outputs": [
    {
     "data": {
      "text/plain": "     Week     Team  Day    Date       Time Result  OT   H/A  Score_Tm  \\\n0     3.0    49ers  Sun  26-Sep  8:20PM ET      L  No  Home      28.0   \n1     4.0    49ers  Sun   3-Oct  4:05PM ET      L  No  Home      21.0   \n2     5.0    49ers  Sun  10-Oct  4:25PM ET      L  No  Away      10.0   \n4     7.0    49ers  Sun  24-Oct  8:20PM ET      L  No  Home      18.0   \n5     8.0    49ers  Sun  31-Oct  1:00PM ET      W  No  Away      33.0   \n..    ...      ...  ...     ...        ...    ...  ..   ...       ...   \n609  14.0  vikings  Thu   9-Dec  8:20PM ET      W  No  Home      36.0   \n610  15.0  vikings  Mon  20-Dec  8:15PM ET      W  No  Away      17.0   \n611  16.0  vikings  Sun  26-Dec  1:00PM ET      L  No  Home      23.0   \n612  17.0  vikings  Sun   2-Jan  8:20PM ET      L  No  Away      10.0   \n613  18.0  vikings  Sun   9-Jan  1:00PM ET      W  No  Home      31.0   \n\n     Score_Opp  Off_1stD  Off_TotYd  Off_PassY  Off_RushY  Off_TO  Def_1stD  \\\n0         30.0      26.0      298.0      231.0       67.0     2.0      21.0   \n1         28.0      23.0      457.0      314.0      143.0     2.0      14.0   \n2         17.0      19.0      338.0      186.0      152.0     1.0      20.0   \n4         30.0      13.0      280.0      169.0      111.0     4.0      17.0   \n5         22.0      21.0      467.0      322.0      145.0     0.0      22.0   \n..         ...       ...        ...        ...        ...     ...       ...   \n609       28.0      22.0      458.0      216.0      242.0     2.0      22.0   \n610        9.0      13.0      193.0       61.0      132.0     1.0      24.0   \n611       30.0      19.0      361.0      295.0       66.0     1.0      22.0   \n612       37.0      11.0      206.0      179.0       27.0     0.0      29.0   \n613       17.0      11.0      331.0      227.0      104.0     0.0      24.0   \n\n     Def_TotYd  Def_PassY  Def_RushY  Def_TO  Exp_Offense  Exp_Defense  \\\n0        353.0      253.0      100.0     0.0        12.19       -15.14   \n1        234.0      129.0      105.0     0.0         8.61        -2.20   \n2        304.0      210.0       94.0     1.0        -6.53        -1.74   \n4        295.0      147.0      148.0     2.0       -15.30        -1.16   \n5        324.0      148.0      176.0     1.0        21.75        -9.87   \n..         ...        ...        ...     ...          ...          ...   \n609      375.0      269.0      106.0     1.0         8.68        -6.41   \n610      370.0      255.0      115.0     3.0        -4.65         7.72   \n611      356.0      197.0      159.0     3.0        -1.81         0.84   \n612      481.0      307.0      174.0     0.0       -13.56       -21.96   \n613      356.0      266.0       90.0     2.0         7.18        12.22   \n\n     Exp_SpecTms  Win  Loss  Tie  \n0           0.95    1     0    0  \n1         -14.31    2     0    0  \n2          -0.47    3     0    0  \n4           4.24    4     0    0  \n5          -2.14    4     0    0  \n..           ...  ...   ...  ...  \n609         1.31    7     0    0  \n610         5.92    7     0    0  \n611        -7.80    8     0    0  \n612         7.80    9     0    0  \n613        -1.20    9     0    0  \n\n[542 rows x 26 columns]",
      "text/html": "<div>\n<style scoped>\n    .dataframe tbody tr th:only-of-type {\n        vertical-align: middle;\n    }\n\n    .dataframe tbody tr th {\n        vertical-align: top;\n    }\n\n    .dataframe thead th {\n        text-align: right;\n    }\n</style>\n<table border=\"1\" class=\"dataframe\">\n  <thead>\n    <tr style=\"text-align: right;\">\n      <th></th>\n      <th>Week</th>\n      <th>Team</th>\n      <th>Day</th>\n      <th>Date</th>\n      <th>Time</th>\n      <th>Result</th>\n      <th>OT</th>\n      <th>H/A</th>\n      <th>Score_Tm</th>\n      <th>Score_Opp</th>\n      <th>Off_1stD</th>\n      <th>Off_TotYd</th>\n      <th>Off_PassY</th>\n      <th>Off_RushY</th>\n      <th>Off_TO</th>\n      <th>Def_1stD</th>\n      <th>Def_TotYd</th>\n      <th>Def_PassY</th>\n      <th>Def_RushY</th>\n      <th>Def_TO</th>\n      <th>Exp_Offense</th>\n      <th>Exp_Defense</th>\n      <th>Exp_SpecTms</th>\n      <th>Win</th>\n      <th>Loss</th>\n      <th>Tie</th>\n    </tr>\n  </thead>\n  <tbody>\n    <tr>\n      <th>0</th>\n      <td>3.0</td>\n      <td>49ers</td>\n      <td>Sun</td>\n      <td>26-Sep</td>\n      <td>8:20PM ET</td>\n      <td>L</td>\n      <td>No</td>\n      <td>Home</td>\n      <td>28.0</td>\n      <td>30.0</td>\n      <td>26.0</td>\n      <td>298.0</td>\n      <td>231.0</td>\n      <td>67.0</td>\n      <td>2.0</td>\n      <td>21.0</td>\n      <td>353.0</td>\n      <td>253.0</td>\n      <td>100.0</td>\n      <td>0.0</td>\n      <td>12.19</td>\n      <td>-15.14</td>\n      <td>0.95</td>\n      <td>1</td>\n      <td>0</td>\n      <td>0</td>\n    </tr>\n    <tr>\n      <th>1</th>\n      <td>4.0</td>\n      <td>49ers</td>\n      <td>Sun</td>\n      <td>3-Oct</td>\n      <td>4:05PM ET</td>\n      <td>L</td>\n      <td>No</td>\n      <td>Home</td>\n      <td>21.0</td>\n      <td>28.0</td>\n      <td>23.0</td>\n      <td>457.0</td>\n      <td>314.0</td>\n      <td>143.0</td>\n      <td>2.0</td>\n      <td>14.0</td>\n      <td>234.0</td>\n      <td>129.0</td>\n      <td>105.0</td>\n      <td>0.0</td>\n      <td>8.61</td>\n      <td>-2.20</td>\n      <td>-14.31</td>\n      <td>2</td>\n      <td>0</td>\n      <td>0</td>\n    </tr>\n    <tr>\n      <th>2</th>\n      <td>5.0</td>\n      <td>49ers</td>\n      <td>Sun</td>\n      <td>10-Oct</td>\n      <td>4:25PM ET</td>\n      <td>L</td>\n      <td>No</td>\n      <td>Away</td>\n      <td>10.0</td>\n      <td>17.0</td>\n      <td>19.0</td>\n      <td>338.0</td>\n      <td>186.0</td>\n      <td>152.0</td>\n      <td>1.0</td>\n      <td>20.0</td>\n      <td>304.0</td>\n      <td>210.0</td>\n      <td>94.0</td>\n      <td>1.0</td>\n      <td>-6.53</td>\n      <td>-1.74</td>\n      <td>-0.47</td>\n      <td>3</td>\n      <td>0</td>\n      <td>0</td>\n    </tr>\n    <tr>\n      <th>4</th>\n      <td>7.0</td>\n      <td>49ers</td>\n      <td>Sun</td>\n      <td>24-Oct</td>\n      <td>8:20PM ET</td>\n      <td>L</td>\n      <td>No</td>\n      <td>Home</td>\n      <td>18.0</td>\n      <td>30.0</td>\n      <td>13.0</td>\n      <td>280.0</td>\n      <td>169.0</td>\n      <td>111.0</td>\n      <td>4.0</td>\n      <td>17.0</td>\n      <td>295.0</td>\n      <td>147.0</td>\n      <td>148.0</td>\n      <td>2.0</td>\n      <td>-15.30</td>\n      <td>-1.16</td>\n      <td>4.24</td>\n      <td>4</td>\n      <td>0</td>\n      <td>0</td>\n    </tr>\n    <tr>\n      <th>5</th>\n      <td>8.0</td>\n      <td>49ers</td>\n      <td>Sun</td>\n      <td>31-Oct</td>\n      <td>1:00PM ET</td>\n      <td>W</td>\n      <td>No</td>\n      <td>Away</td>\n      <td>33.0</td>\n      <td>22.0</td>\n      <td>21.0</td>\n      <td>467.0</td>\n      <td>322.0</td>\n      <td>145.0</td>\n      <td>0.0</td>\n      <td>22.0</td>\n      <td>324.0</td>\n      <td>148.0</td>\n      <td>176.0</td>\n      <td>1.0</td>\n      <td>21.75</td>\n      <td>-9.87</td>\n      <td>-2.14</td>\n      <td>4</td>\n      <td>0</td>\n      <td>0</td>\n    </tr>\n    <tr>\n      <th>...</th>\n      <td>...</td>\n      <td>...</td>\n      <td>...</td>\n      <td>...</td>\n      <td>...</td>\n      <td>...</td>\n      <td>...</td>\n      <td>...</td>\n      <td>...</td>\n      <td>...</td>\n      <td>...</td>\n      <td>...</td>\n      <td>...</td>\n      <td>...</td>\n      <td>...</td>\n      <td>...</td>\n      <td>...</td>\n      <td>...</td>\n      <td>...</td>\n      <td>...</td>\n      <td>...</td>\n      <td>...</td>\n      <td>...</td>\n      <td>...</td>\n      <td>...</td>\n      <td>...</td>\n    </tr>\n    <tr>\n      <th>609</th>\n      <td>14.0</td>\n      <td>vikings</td>\n      <td>Thu</td>\n      <td>9-Dec</td>\n      <td>8:20PM ET</td>\n      <td>W</td>\n      <td>No</td>\n      <td>Home</td>\n      <td>36.0</td>\n      <td>28.0</td>\n      <td>22.0</td>\n      <td>458.0</td>\n      <td>216.0</td>\n      <td>242.0</td>\n      <td>2.0</td>\n      <td>22.0</td>\n      <td>375.0</td>\n      <td>269.0</td>\n      <td>106.0</td>\n      <td>1.0</td>\n      <td>8.68</td>\n      <td>-6.41</td>\n      <td>1.31</td>\n      <td>7</td>\n      <td>0</td>\n      <td>0</td>\n    </tr>\n    <tr>\n      <th>610</th>\n      <td>15.0</td>\n      <td>vikings</td>\n      <td>Mon</td>\n      <td>20-Dec</td>\n      <td>8:15PM ET</td>\n      <td>W</td>\n      <td>No</td>\n      <td>Away</td>\n      <td>17.0</td>\n      <td>9.0</td>\n      <td>13.0</td>\n      <td>193.0</td>\n      <td>61.0</td>\n      <td>132.0</td>\n      <td>1.0</td>\n      <td>24.0</td>\n      <td>370.0</td>\n      <td>255.0</td>\n      <td>115.0</td>\n      <td>3.0</td>\n      <td>-4.65</td>\n      <td>7.72</td>\n      <td>5.92</td>\n      <td>7</td>\n      <td>0</td>\n      <td>0</td>\n    </tr>\n    <tr>\n      <th>611</th>\n      <td>16.0</td>\n      <td>vikings</td>\n      <td>Sun</td>\n      <td>26-Dec</td>\n      <td>1:00PM ET</td>\n      <td>L</td>\n      <td>No</td>\n      <td>Home</td>\n      <td>23.0</td>\n      <td>30.0</td>\n      <td>19.0</td>\n      <td>361.0</td>\n      <td>295.0</td>\n      <td>66.0</td>\n      <td>1.0</td>\n      <td>22.0</td>\n      <td>356.0</td>\n      <td>197.0</td>\n      <td>159.0</td>\n      <td>3.0</td>\n      <td>-1.81</td>\n      <td>0.84</td>\n      <td>-7.80</td>\n      <td>8</td>\n      <td>0</td>\n      <td>0</td>\n    </tr>\n    <tr>\n      <th>612</th>\n      <td>17.0</td>\n      <td>vikings</td>\n      <td>Sun</td>\n      <td>2-Jan</td>\n      <td>8:20PM ET</td>\n      <td>L</td>\n      <td>No</td>\n      <td>Away</td>\n      <td>10.0</td>\n      <td>37.0</td>\n      <td>11.0</td>\n      <td>206.0</td>\n      <td>179.0</td>\n      <td>27.0</td>\n      <td>0.0</td>\n      <td>29.0</td>\n      <td>481.0</td>\n      <td>307.0</td>\n      <td>174.0</td>\n      <td>0.0</td>\n      <td>-13.56</td>\n      <td>-21.96</td>\n      <td>7.80</td>\n      <td>9</td>\n      <td>0</td>\n      <td>0</td>\n    </tr>\n    <tr>\n      <th>613</th>\n      <td>18.0</td>\n      <td>vikings</td>\n      <td>Sun</td>\n      <td>9-Jan</td>\n      <td>1:00PM ET</td>\n      <td>W</td>\n      <td>No</td>\n      <td>Home</td>\n      <td>31.0</td>\n      <td>17.0</td>\n      <td>11.0</td>\n      <td>331.0</td>\n      <td>227.0</td>\n      <td>104.0</td>\n      <td>0.0</td>\n      <td>24.0</td>\n      <td>356.0</td>\n      <td>266.0</td>\n      <td>90.0</td>\n      <td>2.0</td>\n      <td>7.18</td>\n      <td>12.22</td>\n      <td>-1.20</td>\n      <td>9</td>\n      <td>0</td>\n      <td>0</td>\n    </tr>\n  </tbody>\n</table>\n<p>542 rows × 26 columns</p>\n</div>"
     },
     "execution_count": 27,
     "metadata": {},
     "output_type": "execute_result"
    }
   ],
   "source": [
    "data1"
   ],
   "metadata": {
    "collapsed": false,
    "ExecuteTime": {
     "end_time": "2024-02-16T00:16:08.199769800Z",
     "start_time": "2024-02-16T00:16:08.110455Z"
    }
   },
   "id": "3cb2d308"
  },
  {
   "cell_type": "code",
   "execution_count": 32,
   "outputs": [],
   "source": [
    "import pandas as pd\n",
    "\n",
    "pd.set_option('display.max_columns', None)\n",
    "\n",
    "column_names = [\"Week\", \"Team\", \"Day\", \"Date\", \"Time\", \"Link\", \"Result\", \"OT\",  \n",
    "        \"Rec\", \"H/A\", \"Opp\", \"Score_Tm\", \"Score_Opp\", \n",
    "        \"Off_1stD\", \"Off_TotYd\", \"Off_PassY\", \"Off_RushY\", \"Off_TO\", \n",
    "        \"Def_1stD\", \"Def_TotYd\", \"Def_PassY\", \"Def_RushY\", \"Def_TO\", \n",
    "        \"Exp_Offense\", \"Exp_Defense\", \"Exp_SpecTms\"]\n",
    "\n",
    "data2 = pd.read_csv('2021data.csv', skiprows=3, names=column_names)\n",
    "\n",
    "data2 = data2[data2['Result'].isin(['W', 'L', 'T'])]\n",
    "\n",
    "data2.drop(columns=['Link', 'Opp'], inplace=True)\n",
    "\n",
    "data2['OT'] = data2['OT'].apply(lambda x: 'Yes' if x == 'OT' else 'No')\n",
    "data2['H/A'] = data2['H/A'].apply(lambda x: 'Away' if x == '@' else 'Home')\n",
    "\n",
    "cols_to_fill = [col for col in data2.columns if col.startswith(('Score', 'Off', 'Def', 'Exp'))]\n",
    "data2[cols_to_fill] = data2[cols_to_fill].fillna(0)\n",
    "\n",
    "data2['Week'] = pd.to_numeric(data2['Week'], errors='coerce')\n",
    "data2 = data2.dropna(subset=['Week'])\n",
    "\n",
    "rec_split = data2['Rec'].str.split('-', expand=True)\n",
    "if len(rec_split.columns) == 2:\n",
    "    rec_split[2] = '0'\n",
    "rec_split.columns = ['Win', 'Loss', 'Tie']\n",
    "data2[['Win', 'Loss', 'Tie']] = rec_split\n",
    "\n",
    "# Replace non-numeric values in 'Win', 'Loss', and 'Tie' columns with 0\n",
    "data2[['Win', 'Loss', 'Tie']] = data2[['Win', 'Loss', 'Tie']].apply(pd.to_numeric, errors='coerce').fillna(0).astype(int)\n",
    "\n",
    "data2 = data2.drop(columns=['Rec'])"
   ],
   "metadata": {
    "collapsed": false,
    "ExecuteTime": {
     "end_time": "2024-02-16T00:21:01.159625Z",
     "start_time": "2024-02-16T00:21:01.076293300Z"
    }
   },
   "id": "cd25723a420074dc"
  },
  {
   "cell_type": "code",
   "execution_count": 33,
   "outputs": [
    {
     "data": {
      "text/plain": "     Week     Team  Day    Date       Time Result  OT   H/A  Score_Tm  \\\n0     3.0    49ers  Sun  26-Sep  8:20PM ET      L  No  Home      28.0   \n1     4.0    49ers  Sun   3-Oct  4:05PM ET      L  No  Home      21.0   \n2     5.0    49ers  Sun  10-Oct  4:25PM ET      L  No  Away      10.0   \n4     7.0    49ers  Sun  24-Oct  8:20PM ET      L  No  Home      18.0   \n5     8.0    49ers  Sun  31-Oct  1:00PM ET      W  No  Away      33.0   \n..    ...      ...  ...     ...        ...    ...  ..   ...       ...   \n609  14.0  vikings  Thu   9-Dec  8:20PM ET      W  No  Home      36.0   \n610  15.0  vikings  Mon  20-Dec  8:15PM ET      W  No  Away      17.0   \n611  16.0  vikings  Sun  26-Dec  1:00PM ET      L  No  Home      23.0   \n612  17.0  vikings  Sun   2-Jan  8:20PM ET      L  No  Away      10.0   \n613  18.0  vikings  Sun   9-Jan  1:00PM ET      W  No  Home      31.0   \n\n     Score_Opp  Off_1stD  Off_TotYd  Off_PassY  Off_RushY  Off_TO  Def_1stD  \\\n0         30.0      26.0      298.0      231.0       67.0     2.0      21.0   \n1         28.0      23.0      457.0      314.0      143.0     2.0      14.0   \n2         17.0      19.0      338.0      186.0      152.0     1.0      20.0   \n4         30.0      13.0      280.0      169.0      111.0     4.0      17.0   \n5         22.0      21.0      467.0      322.0      145.0     0.0      22.0   \n..         ...       ...        ...        ...        ...     ...       ...   \n609       28.0      22.0      458.0      216.0      242.0     2.0      22.0   \n610        9.0      13.0      193.0       61.0      132.0     1.0      24.0   \n611       30.0      19.0      361.0      295.0       66.0     1.0      22.0   \n612       37.0      11.0      206.0      179.0       27.0     0.0      29.0   \n613       17.0      11.0      331.0      227.0      104.0     0.0      24.0   \n\n     Def_TotYd  Def_PassY  Def_RushY  Def_TO  Exp_Offense  Exp_Defense  \\\n0        353.0      253.0      100.0     0.0        12.19       -15.14   \n1        234.0      129.0      105.0     0.0         8.61        -2.20   \n2        304.0      210.0       94.0     1.0        -6.53        -1.74   \n4        295.0      147.0      148.0     2.0       -15.30        -1.16   \n5        324.0      148.0      176.0     1.0        21.75        -9.87   \n..         ...        ...        ...     ...          ...          ...   \n609      375.0      269.0      106.0     1.0         8.68        -6.41   \n610      370.0      255.0      115.0     3.0        -4.65         7.72   \n611      356.0      197.0      159.0     3.0        -1.81         0.84   \n612      481.0      307.0      174.0     0.0       -13.56       -21.96   \n613      356.0      266.0       90.0     2.0         7.18        12.22   \n\n     Exp_SpecTms  Win  Loss  Tie  \n0           0.95    1     0    0  \n1         -14.31    2     0    0  \n2          -0.47    3     0    0  \n4           4.24    4     0    0  \n5          -2.14    4     0    0  \n..           ...  ...   ...  ...  \n609         1.31    7     0    0  \n610         5.92    7     0    0  \n611        -7.80    8     0    0  \n612         7.80    9     0    0  \n613        -1.20    9     0    0  \n\n[542 rows x 26 columns]",
      "text/html": "<div>\n<style scoped>\n    .dataframe tbody tr th:only-of-type {\n        vertical-align: middle;\n    }\n\n    .dataframe tbody tr th {\n        vertical-align: top;\n    }\n\n    .dataframe thead th {\n        text-align: right;\n    }\n</style>\n<table border=\"1\" class=\"dataframe\">\n  <thead>\n    <tr style=\"text-align: right;\">\n      <th></th>\n      <th>Week</th>\n      <th>Team</th>\n      <th>Day</th>\n      <th>Date</th>\n      <th>Time</th>\n      <th>Result</th>\n      <th>OT</th>\n      <th>H/A</th>\n      <th>Score_Tm</th>\n      <th>Score_Opp</th>\n      <th>Off_1stD</th>\n      <th>Off_TotYd</th>\n      <th>Off_PassY</th>\n      <th>Off_RushY</th>\n      <th>Off_TO</th>\n      <th>Def_1stD</th>\n      <th>Def_TotYd</th>\n      <th>Def_PassY</th>\n      <th>Def_RushY</th>\n      <th>Def_TO</th>\n      <th>Exp_Offense</th>\n      <th>Exp_Defense</th>\n      <th>Exp_SpecTms</th>\n      <th>Win</th>\n      <th>Loss</th>\n      <th>Tie</th>\n    </tr>\n  </thead>\n  <tbody>\n    <tr>\n      <th>0</th>\n      <td>3.0</td>\n      <td>49ers</td>\n      <td>Sun</td>\n      <td>26-Sep</td>\n      <td>8:20PM ET</td>\n      <td>L</td>\n      <td>No</td>\n      <td>Home</td>\n      <td>28.0</td>\n      <td>30.0</td>\n      <td>26.0</td>\n      <td>298.0</td>\n      <td>231.0</td>\n      <td>67.0</td>\n      <td>2.0</td>\n      <td>21.0</td>\n      <td>353.0</td>\n      <td>253.0</td>\n      <td>100.0</td>\n      <td>0.0</td>\n      <td>12.19</td>\n      <td>-15.14</td>\n      <td>0.95</td>\n      <td>1</td>\n      <td>0</td>\n      <td>0</td>\n    </tr>\n    <tr>\n      <th>1</th>\n      <td>4.0</td>\n      <td>49ers</td>\n      <td>Sun</td>\n      <td>3-Oct</td>\n      <td>4:05PM ET</td>\n      <td>L</td>\n      <td>No</td>\n      <td>Home</td>\n      <td>21.0</td>\n      <td>28.0</td>\n      <td>23.0</td>\n      <td>457.0</td>\n      <td>314.0</td>\n      <td>143.0</td>\n      <td>2.0</td>\n      <td>14.0</td>\n      <td>234.0</td>\n      <td>129.0</td>\n      <td>105.0</td>\n      <td>0.0</td>\n      <td>8.61</td>\n      <td>-2.20</td>\n      <td>-14.31</td>\n      <td>2</td>\n      <td>0</td>\n      <td>0</td>\n    </tr>\n    <tr>\n      <th>2</th>\n      <td>5.0</td>\n      <td>49ers</td>\n      <td>Sun</td>\n      <td>10-Oct</td>\n      <td>4:25PM ET</td>\n      <td>L</td>\n      <td>No</td>\n      <td>Away</td>\n      <td>10.0</td>\n      <td>17.0</td>\n      <td>19.0</td>\n      <td>338.0</td>\n      <td>186.0</td>\n      <td>152.0</td>\n      <td>1.0</td>\n      <td>20.0</td>\n      <td>304.0</td>\n      <td>210.0</td>\n      <td>94.0</td>\n      <td>1.0</td>\n      <td>-6.53</td>\n      <td>-1.74</td>\n      <td>-0.47</td>\n      <td>3</td>\n      <td>0</td>\n      <td>0</td>\n    </tr>\n    <tr>\n      <th>4</th>\n      <td>7.0</td>\n      <td>49ers</td>\n      <td>Sun</td>\n      <td>24-Oct</td>\n      <td>8:20PM ET</td>\n      <td>L</td>\n      <td>No</td>\n      <td>Home</td>\n      <td>18.0</td>\n      <td>30.0</td>\n      <td>13.0</td>\n      <td>280.0</td>\n      <td>169.0</td>\n      <td>111.0</td>\n      <td>4.0</td>\n      <td>17.0</td>\n      <td>295.0</td>\n      <td>147.0</td>\n      <td>148.0</td>\n      <td>2.0</td>\n      <td>-15.30</td>\n      <td>-1.16</td>\n      <td>4.24</td>\n      <td>4</td>\n      <td>0</td>\n      <td>0</td>\n    </tr>\n    <tr>\n      <th>5</th>\n      <td>8.0</td>\n      <td>49ers</td>\n      <td>Sun</td>\n      <td>31-Oct</td>\n      <td>1:00PM ET</td>\n      <td>W</td>\n      <td>No</td>\n      <td>Away</td>\n      <td>33.0</td>\n      <td>22.0</td>\n      <td>21.0</td>\n      <td>467.0</td>\n      <td>322.0</td>\n      <td>145.0</td>\n      <td>0.0</td>\n      <td>22.0</td>\n      <td>324.0</td>\n      <td>148.0</td>\n      <td>176.0</td>\n      <td>1.0</td>\n      <td>21.75</td>\n      <td>-9.87</td>\n      <td>-2.14</td>\n      <td>4</td>\n      <td>0</td>\n      <td>0</td>\n    </tr>\n    <tr>\n      <th>...</th>\n      <td>...</td>\n      <td>...</td>\n      <td>...</td>\n      <td>...</td>\n      <td>...</td>\n      <td>...</td>\n      <td>...</td>\n      <td>...</td>\n      <td>...</td>\n      <td>...</td>\n      <td>...</td>\n      <td>...</td>\n      <td>...</td>\n      <td>...</td>\n      <td>...</td>\n      <td>...</td>\n      <td>...</td>\n      <td>...</td>\n      <td>...</td>\n      <td>...</td>\n      <td>...</td>\n      <td>...</td>\n      <td>...</td>\n      <td>...</td>\n      <td>...</td>\n      <td>...</td>\n    </tr>\n    <tr>\n      <th>609</th>\n      <td>14.0</td>\n      <td>vikings</td>\n      <td>Thu</td>\n      <td>9-Dec</td>\n      <td>8:20PM ET</td>\n      <td>W</td>\n      <td>No</td>\n      <td>Home</td>\n      <td>36.0</td>\n      <td>28.0</td>\n      <td>22.0</td>\n      <td>458.0</td>\n      <td>216.0</td>\n      <td>242.0</td>\n      <td>2.0</td>\n      <td>22.0</td>\n      <td>375.0</td>\n      <td>269.0</td>\n      <td>106.0</td>\n      <td>1.0</td>\n      <td>8.68</td>\n      <td>-6.41</td>\n      <td>1.31</td>\n      <td>7</td>\n      <td>0</td>\n      <td>0</td>\n    </tr>\n    <tr>\n      <th>610</th>\n      <td>15.0</td>\n      <td>vikings</td>\n      <td>Mon</td>\n      <td>20-Dec</td>\n      <td>8:15PM ET</td>\n      <td>W</td>\n      <td>No</td>\n      <td>Away</td>\n      <td>17.0</td>\n      <td>9.0</td>\n      <td>13.0</td>\n      <td>193.0</td>\n      <td>61.0</td>\n      <td>132.0</td>\n      <td>1.0</td>\n      <td>24.0</td>\n      <td>370.0</td>\n      <td>255.0</td>\n      <td>115.0</td>\n      <td>3.0</td>\n      <td>-4.65</td>\n      <td>7.72</td>\n      <td>5.92</td>\n      <td>7</td>\n      <td>0</td>\n      <td>0</td>\n    </tr>\n    <tr>\n      <th>611</th>\n      <td>16.0</td>\n      <td>vikings</td>\n      <td>Sun</td>\n      <td>26-Dec</td>\n      <td>1:00PM ET</td>\n      <td>L</td>\n      <td>No</td>\n      <td>Home</td>\n      <td>23.0</td>\n      <td>30.0</td>\n      <td>19.0</td>\n      <td>361.0</td>\n      <td>295.0</td>\n      <td>66.0</td>\n      <td>1.0</td>\n      <td>22.0</td>\n      <td>356.0</td>\n      <td>197.0</td>\n      <td>159.0</td>\n      <td>3.0</td>\n      <td>-1.81</td>\n      <td>0.84</td>\n      <td>-7.80</td>\n      <td>8</td>\n      <td>0</td>\n      <td>0</td>\n    </tr>\n    <tr>\n      <th>612</th>\n      <td>17.0</td>\n      <td>vikings</td>\n      <td>Sun</td>\n      <td>2-Jan</td>\n      <td>8:20PM ET</td>\n      <td>L</td>\n      <td>No</td>\n      <td>Away</td>\n      <td>10.0</td>\n      <td>37.0</td>\n      <td>11.0</td>\n      <td>206.0</td>\n      <td>179.0</td>\n      <td>27.0</td>\n      <td>0.0</td>\n      <td>29.0</td>\n      <td>481.0</td>\n      <td>307.0</td>\n      <td>174.0</td>\n      <td>0.0</td>\n      <td>-13.56</td>\n      <td>-21.96</td>\n      <td>7.80</td>\n      <td>9</td>\n      <td>0</td>\n      <td>0</td>\n    </tr>\n    <tr>\n      <th>613</th>\n      <td>18.0</td>\n      <td>vikings</td>\n      <td>Sun</td>\n      <td>9-Jan</td>\n      <td>1:00PM ET</td>\n      <td>W</td>\n      <td>No</td>\n      <td>Home</td>\n      <td>31.0</td>\n      <td>17.0</td>\n      <td>11.0</td>\n      <td>331.0</td>\n      <td>227.0</td>\n      <td>104.0</td>\n      <td>0.0</td>\n      <td>24.0</td>\n      <td>356.0</td>\n      <td>266.0</td>\n      <td>90.0</td>\n      <td>2.0</td>\n      <td>7.18</td>\n      <td>12.22</td>\n      <td>-1.20</td>\n      <td>9</td>\n      <td>0</td>\n      <td>0</td>\n    </tr>\n  </tbody>\n</table>\n<p>542 rows × 26 columns</p>\n</div>"
     },
     "execution_count": 33,
     "metadata": {},
     "output_type": "execute_result"
    }
   ],
   "source": [
    "data2"
   ],
   "metadata": {
    "collapsed": false,
    "ExecuteTime": {
     "end_time": "2024-02-16T00:21:05.102868100Z",
     "start_time": "2024-02-16T00:21:05.047636700Z"
    }
   },
   "id": "b7a94a663c7d0cd4"
  },
  {
   "cell_type": "code",
   "execution_count": 34,
   "outputs": [],
   "source": [
    "import pandas as pd\n",
    "\n",
    "pd.set_option('display.max_columns', None)\n",
    "\n",
    "column_names = [\"Week\", \"Team\", \"Day\", \"Date\", \"Time\", \"Link\", \"Result\", \"OT\",  \n",
    "        \"Rec\", \"H/A\", \"Opp\", \"Score_Tm\", \"Score_Opp\", \n",
    "        \"Off_1stD\", \"Off_TotYd\", \"Off_PassY\", \"Off_RushY\", \"Off_TO\", \n",
    "        \"Def_1stD\", \"Def_TotYd\", \"Def_PassY\", \"Def_RushY\", \"Def_TO\", \n",
    "        \"Exp_Offense\", \"Exp_Defense\", \"Exp_SpecTms\"]\n",
    "\n",
    "data3 = pd.read_csv('2021data.csv', skiprows=3, names=column_names)\n",
    "\n",
    "data3 = data3[data3['Result'].isin(['W', 'L', 'T'])]\n",
    "\n",
    "data3.drop(columns=['Link', 'Opp'], inplace=True)\n",
    "\n",
    "data3['OT'] = data3['OT'].apply(lambda x: 'Yes' if x == 'OT' else 'No')\n",
    "data3['H/A'] = data3['H/A'].apply(lambda x: 'Away' if x == '@' else 'Home')\n",
    "\n",
    "cols_to_fill = [col for col in data3.columns if col.startswith(('Score', 'Off', 'Def', 'Exp'))]\n",
    "data3[cols_to_fill] = data3[cols_to_fill].fillna(0)\n",
    "\n",
    "data3['Week'] = pd.to_numeric(data3['Week'], errors='coerce')\n",
    "data3 = data3.dropna(subset=['Week'])\n",
    "\n",
    "rec_split = data3['Rec'].str.split('-', expand=True)\n",
    "if len(rec_split.columns) == 2:\n",
    "    rec_split[2] = '0'\n",
    "rec_split.columns = ['Win', 'Loss', 'Tie']\n",
    "data3[['Win', 'Loss', 'Tie']] = rec_split\n",
    "\n",
    "# Replace non-numeric values in 'Win', 'Loss', and 'Tie' columns with 0\n",
    "data3[['Win', 'Loss', 'Tie']] = data3[['Win', 'Loss', 'Tie']].apply(pd.to_numeric, errors='coerce').fillna(0).astype(int)\n",
    "\n",
    "data3 = data3.drop(columns=['Rec'])"
   ],
   "metadata": {
    "collapsed": false,
    "ExecuteTime": {
     "end_time": "2024-02-16T00:21:39.186251300Z",
     "start_time": "2024-02-16T00:21:39.075011Z"
    }
   },
   "id": "eb1e628bda361d6"
  },
  {
   "cell_type": "code",
   "execution_count": 35,
   "outputs": [
    {
     "data": {
      "text/plain": "     Week     Team  Day    Date       Time Result  OT   H/A  Score_Tm  \\\n0     3.0    49ers  Sun  26-Sep  8:20PM ET      L  No  Home      28.0   \n1     4.0    49ers  Sun   3-Oct  4:05PM ET      L  No  Home      21.0   \n2     5.0    49ers  Sun  10-Oct  4:25PM ET      L  No  Away      10.0   \n4     7.0    49ers  Sun  24-Oct  8:20PM ET      L  No  Home      18.0   \n5     8.0    49ers  Sun  31-Oct  1:00PM ET      W  No  Away      33.0   \n..    ...      ...  ...     ...        ...    ...  ..   ...       ...   \n609  14.0  vikings  Thu   9-Dec  8:20PM ET      W  No  Home      36.0   \n610  15.0  vikings  Mon  20-Dec  8:15PM ET      W  No  Away      17.0   \n611  16.0  vikings  Sun  26-Dec  1:00PM ET      L  No  Home      23.0   \n612  17.0  vikings  Sun   2-Jan  8:20PM ET      L  No  Away      10.0   \n613  18.0  vikings  Sun   9-Jan  1:00PM ET      W  No  Home      31.0   \n\n     Score_Opp  Off_1stD  Off_TotYd  Off_PassY  Off_RushY  Off_TO  Def_1stD  \\\n0         30.0      26.0      298.0      231.0       67.0     2.0      21.0   \n1         28.0      23.0      457.0      314.0      143.0     2.0      14.0   \n2         17.0      19.0      338.0      186.0      152.0     1.0      20.0   \n4         30.0      13.0      280.0      169.0      111.0     4.0      17.0   \n5         22.0      21.0      467.0      322.0      145.0     0.0      22.0   \n..         ...       ...        ...        ...        ...     ...       ...   \n609       28.0      22.0      458.0      216.0      242.0     2.0      22.0   \n610        9.0      13.0      193.0       61.0      132.0     1.0      24.0   \n611       30.0      19.0      361.0      295.0       66.0     1.0      22.0   \n612       37.0      11.0      206.0      179.0       27.0     0.0      29.0   \n613       17.0      11.0      331.0      227.0      104.0     0.0      24.0   \n\n     Def_TotYd  Def_PassY  Def_RushY  Def_TO  Exp_Offense  Exp_Defense  \\\n0        353.0      253.0      100.0     0.0        12.19       -15.14   \n1        234.0      129.0      105.0     0.0         8.61        -2.20   \n2        304.0      210.0       94.0     1.0        -6.53        -1.74   \n4        295.0      147.0      148.0     2.0       -15.30        -1.16   \n5        324.0      148.0      176.0     1.0        21.75        -9.87   \n..         ...        ...        ...     ...          ...          ...   \n609      375.0      269.0      106.0     1.0         8.68        -6.41   \n610      370.0      255.0      115.0     3.0        -4.65         7.72   \n611      356.0      197.0      159.0     3.0        -1.81         0.84   \n612      481.0      307.0      174.0     0.0       -13.56       -21.96   \n613      356.0      266.0       90.0     2.0         7.18        12.22   \n\n     Exp_SpecTms  Win  Loss  Tie  \n0           0.95    1     0    0  \n1         -14.31    2     0    0  \n2          -0.47    3     0    0  \n4           4.24    4     0    0  \n5          -2.14    4     0    0  \n..           ...  ...   ...  ...  \n609         1.31    7     0    0  \n610         5.92    7     0    0  \n611        -7.80    8     0    0  \n612         7.80    9     0    0  \n613        -1.20    9     0    0  \n\n[542 rows x 26 columns]",
      "text/html": "<div>\n<style scoped>\n    .dataframe tbody tr th:only-of-type {\n        vertical-align: middle;\n    }\n\n    .dataframe tbody tr th {\n        vertical-align: top;\n    }\n\n    .dataframe thead th {\n        text-align: right;\n    }\n</style>\n<table border=\"1\" class=\"dataframe\">\n  <thead>\n    <tr style=\"text-align: right;\">\n      <th></th>\n      <th>Week</th>\n      <th>Team</th>\n      <th>Day</th>\n      <th>Date</th>\n      <th>Time</th>\n      <th>Result</th>\n      <th>OT</th>\n      <th>H/A</th>\n      <th>Score_Tm</th>\n      <th>Score_Opp</th>\n      <th>Off_1stD</th>\n      <th>Off_TotYd</th>\n      <th>Off_PassY</th>\n      <th>Off_RushY</th>\n      <th>Off_TO</th>\n      <th>Def_1stD</th>\n      <th>Def_TotYd</th>\n      <th>Def_PassY</th>\n      <th>Def_RushY</th>\n      <th>Def_TO</th>\n      <th>Exp_Offense</th>\n      <th>Exp_Defense</th>\n      <th>Exp_SpecTms</th>\n      <th>Win</th>\n      <th>Loss</th>\n      <th>Tie</th>\n    </tr>\n  </thead>\n  <tbody>\n    <tr>\n      <th>0</th>\n      <td>3.0</td>\n      <td>49ers</td>\n      <td>Sun</td>\n      <td>26-Sep</td>\n      <td>8:20PM ET</td>\n      <td>L</td>\n      <td>No</td>\n      <td>Home</td>\n      <td>28.0</td>\n      <td>30.0</td>\n      <td>26.0</td>\n      <td>298.0</td>\n      <td>231.0</td>\n      <td>67.0</td>\n      <td>2.0</td>\n      <td>21.0</td>\n      <td>353.0</td>\n      <td>253.0</td>\n      <td>100.0</td>\n      <td>0.0</td>\n      <td>12.19</td>\n      <td>-15.14</td>\n      <td>0.95</td>\n      <td>1</td>\n      <td>0</td>\n      <td>0</td>\n    </tr>\n    <tr>\n      <th>1</th>\n      <td>4.0</td>\n      <td>49ers</td>\n      <td>Sun</td>\n      <td>3-Oct</td>\n      <td>4:05PM ET</td>\n      <td>L</td>\n      <td>No</td>\n      <td>Home</td>\n      <td>21.0</td>\n      <td>28.0</td>\n      <td>23.0</td>\n      <td>457.0</td>\n      <td>314.0</td>\n      <td>143.0</td>\n      <td>2.0</td>\n      <td>14.0</td>\n      <td>234.0</td>\n      <td>129.0</td>\n      <td>105.0</td>\n      <td>0.0</td>\n      <td>8.61</td>\n      <td>-2.20</td>\n      <td>-14.31</td>\n      <td>2</td>\n      <td>0</td>\n      <td>0</td>\n    </tr>\n    <tr>\n      <th>2</th>\n      <td>5.0</td>\n      <td>49ers</td>\n      <td>Sun</td>\n      <td>10-Oct</td>\n      <td>4:25PM ET</td>\n      <td>L</td>\n      <td>No</td>\n      <td>Away</td>\n      <td>10.0</td>\n      <td>17.0</td>\n      <td>19.0</td>\n      <td>338.0</td>\n      <td>186.0</td>\n      <td>152.0</td>\n      <td>1.0</td>\n      <td>20.0</td>\n      <td>304.0</td>\n      <td>210.0</td>\n      <td>94.0</td>\n      <td>1.0</td>\n      <td>-6.53</td>\n      <td>-1.74</td>\n      <td>-0.47</td>\n      <td>3</td>\n      <td>0</td>\n      <td>0</td>\n    </tr>\n    <tr>\n      <th>4</th>\n      <td>7.0</td>\n      <td>49ers</td>\n      <td>Sun</td>\n      <td>24-Oct</td>\n      <td>8:20PM ET</td>\n      <td>L</td>\n      <td>No</td>\n      <td>Home</td>\n      <td>18.0</td>\n      <td>30.0</td>\n      <td>13.0</td>\n      <td>280.0</td>\n      <td>169.0</td>\n      <td>111.0</td>\n      <td>4.0</td>\n      <td>17.0</td>\n      <td>295.0</td>\n      <td>147.0</td>\n      <td>148.0</td>\n      <td>2.0</td>\n      <td>-15.30</td>\n      <td>-1.16</td>\n      <td>4.24</td>\n      <td>4</td>\n      <td>0</td>\n      <td>0</td>\n    </tr>\n    <tr>\n      <th>5</th>\n      <td>8.0</td>\n      <td>49ers</td>\n      <td>Sun</td>\n      <td>31-Oct</td>\n      <td>1:00PM ET</td>\n      <td>W</td>\n      <td>No</td>\n      <td>Away</td>\n      <td>33.0</td>\n      <td>22.0</td>\n      <td>21.0</td>\n      <td>467.0</td>\n      <td>322.0</td>\n      <td>145.0</td>\n      <td>0.0</td>\n      <td>22.0</td>\n      <td>324.0</td>\n      <td>148.0</td>\n      <td>176.0</td>\n      <td>1.0</td>\n      <td>21.75</td>\n      <td>-9.87</td>\n      <td>-2.14</td>\n      <td>4</td>\n      <td>0</td>\n      <td>0</td>\n    </tr>\n    <tr>\n      <th>...</th>\n      <td>...</td>\n      <td>...</td>\n      <td>...</td>\n      <td>...</td>\n      <td>...</td>\n      <td>...</td>\n      <td>...</td>\n      <td>...</td>\n      <td>...</td>\n      <td>...</td>\n      <td>...</td>\n      <td>...</td>\n      <td>...</td>\n      <td>...</td>\n      <td>...</td>\n      <td>...</td>\n      <td>...</td>\n      <td>...</td>\n      <td>...</td>\n      <td>...</td>\n      <td>...</td>\n      <td>...</td>\n      <td>...</td>\n      <td>...</td>\n      <td>...</td>\n      <td>...</td>\n    </tr>\n    <tr>\n      <th>609</th>\n      <td>14.0</td>\n      <td>vikings</td>\n      <td>Thu</td>\n      <td>9-Dec</td>\n      <td>8:20PM ET</td>\n      <td>W</td>\n      <td>No</td>\n      <td>Home</td>\n      <td>36.0</td>\n      <td>28.0</td>\n      <td>22.0</td>\n      <td>458.0</td>\n      <td>216.0</td>\n      <td>242.0</td>\n      <td>2.0</td>\n      <td>22.0</td>\n      <td>375.0</td>\n      <td>269.0</td>\n      <td>106.0</td>\n      <td>1.0</td>\n      <td>8.68</td>\n      <td>-6.41</td>\n      <td>1.31</td>\n      <td>7</td>\n      <td>0</td>\n      <td>0</td>\n    </tr>\n    <tr>\n      <th>610</th>\n      <td>15.0</td>\n      <td>vikings</td>\n      <td>Mon</td>\n      <td>20-Dec</td>\n      <td>8:15PM ET</td>\n      <td>W</td>\n      <td>No</td>\n      <td>Away</td>\n      <td>17.0</td>\n      <td>9.0</td>\n      <td>13.0</td>\n      <td>193.0</td>\n      <td>61.0</td>\n      <td>132.0</td>\n      <td>1.0</td>\n      <td>24.0</td>\n      <td>370.0</td>\n      <td>255.0</td>\n      <td>115.0</td>\n      <td>3.0</td>\n      <td>-4.65</td>\n      <td>7.72</td>\n      <td>5.92</td>\n      <td>7</td>\n      <td>0</td>\n      <td>0</td>\n    </tr>\n    <tr>\n      <th>611</th>\n      <td>16.0</td>\n      <td>vikings</td>\n      <td>Sun</td>\n      <td>26-Dec</td>\n      <td>1:00PM ET</td>\n      <td>L</td>\n      <td>No</td>\n      <td>Home</td>\n      <td>23.0</td>\n      <td>30.0</td>\n      <td>19.0</td>\n      <td>361.0</td>\n      <td>295.0</td>\n      <td>66.0</td>\n      <td>1.0</td>\n      <td>22.0</td>\n      <td>356.0</td>\n      <td>197.0</td>\n      <td>159.0</td>\n      <td>3.0</td>\n      <td>-1.81</td>\n      <td>0.84</td>\n      <td>-7.80</td>\n      <td>8</td>\n      <td>0</td>\n      <td>0</td>\n    </tr>\n    <tr>\n      <th>612</th>\n      <td>17.0</td>\n      <td>vikings</td>\n      <td>Sun</td>\n      <td>2-Jan</td>\n      <td>8:20PM ET</td>\n      <td>L</td>\n      <td>No</td>\n      <td>Away</td>\n      <td>10.0</td>\n      <td>37.0</td>\n      <td>11.0</td>\n      <td>206.0</td>\n      <td>179.0</td>\n      <td>27.0</td>\n      <td>0.0</td>\n      <td>29.0</td>\n      <td>481.0</td>\n      <td>307.0</td>\n      <td>174.0</td>\n      <td>0.0</td>\n      <td>-13.56</td>\n      <td>-21.96</td>\n      <td>7.80</td>\n      <td>9</td>\n      <td>0</td>\n      <td>0</td>\n    </tr>\n    <tr>\n      <th>613</th>\n      <td>18.0</td>\n      <td>vikings</td>\n      <td>Sun</td>\n      <td>9-Jan</td>\n      <td>1:00PM ET</td>\n      <td>W</td>\n      <td>No</td>\n      <td>Home</td>\n      <td>31.0</td>\n      <td>17.0</td>\n      <td>11.0</td>\n      <td>331.0</td>\n      <td>227.0</td>\n      <td>104.0</td>\n      <td>0.0</td>\n      <td>24.0</td>\n      <td>356.0</td>\n      <td>266.0</td>\n      <td>90.0</td>\n      <td>2.0</td>\n      <td>7.18</td>\n      <td>12.22</td>\n      <td>-1.20</td>\n      <td>9</td>\n      <td>0</td>\n      <td>0</td>\n    </tr>\n  </tbody>\n</table>\n<p>542 rows × 26 columns</p>\n</div>"
     },
     "execution_count": 35,
     "metadata": {},
     "output_type": "execute_result"
    }
   ],
   "source": [
    "data3"
   ],
   "metadata": {
    "collapsed": false,
    "ExecuteTime": {
     "end_time": "2024-02-16T00:21:41.147360500Z",
     "start_time": "2024-02-16T00:21:41.091838Z"
    }
   },
   "id": "e6b22738e2edbaf9"
  },
  {
   "cell_type": "code",
   "execution_count": 35,
   "outputs": [],
   "source": [],
   "metadata": {
    "collapsed": false,
    "ExecuteTime": {
     "end_time": "2024-02-16T00:22:11.566081900Z",
     "start_time": "2024-02-16T00:22:11.497742900Z"
    }
   },
   "id": "7e930699daf34c98"
  },
  {
   "cell_type": "code",
   "execution_count": null,
   "outputs": [],
   "source": [],
   "metadata": {
    "collapsed": false
   },
   "id": "d72eb1b59fc09817"
  }
 ],
 "metadata": {
  "kernelspec": {
   "display_name": "Python 3 (ipykernel)",
   "language": "python",
   "name": "python3"
  },
  "language_info": {
   "codemirror_mode": {
    "name": "ipython",
    "version": 3
   },
   "file_extension": ".py",
   "mimetype": "text/x-python",
   "name": "python",
   "nbconvert_exporter": "python",
   "pygments_lexer": "ipython3",
   "version": "3.7.17"
  }
 },
 "nbformat": 4,
 "nbformat_minor": 5
}
