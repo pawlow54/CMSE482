{
 "cells": [
  {
   "cell_type": "code",
   "execution_count": 1,
   "id": "initial_id",
   "metadata": {
    "collapsed": true,
    "ExecuteTime": {
     "end_time": "2024-04-10T14:53:11.648675800Z",
     "start_time": "2024-04-10T14:53:10.877492800Z"
    }
   },
   "outputs": [
    {
     "name": "stderr",
     "output_type": "stream",
     "text": [
      "C:\\Users\\krizm\\AppData\\Local\\Temp\\ipykernel_11364\\4292807522.py:1: DeprecationWarning: \n",
      "Pyarrow will become a required dependency of pandas in the next major release of pandas (pandas 3.0),\n",
      "(to allow more performant data types, such as the Arrow string type, and better interoperability with other libraries)\n",
      "but was not found to be installed on your system.\n",
      "If this would cause problems for you,\n",
      "please provide us feedback at https://github.com/pandas-dev/pandas/issues/54466\n",
      "        \n",
      "  import pandas as pd\n"
     ]
    }
   ],
   "source": [
    "import pandas as pd\n",
    "from pymongo import MongoClient"
   ]
  },
  {
   "cell_type": "code",
   "execution_count": 9,
   "outputs": [
    {
     "name": "stdout",
     "output_type": "stream",
     "text": [
      "Data imported into MongoDB successfully.\n"
     ]
    }
   ],
   "source": [
    "# Load data from the CSV file\n",
    "data1 = pd.read_csv('2021data.csv')\n",
    "data2 = pd.read_csv('2022data.csv')\n",
    "data3 = pd.read_csv('2023data.csv')\n",
    "\n",
    "# Replace empty strings, which are not well handled by MongoDB, with NaN\n",
    "data1.replace(\"\", pd.NA, inplace=True)\n",
    "data2.replace(\"\", pd.NA, inplace=True)\n",
    "data3.replace(\"\", pd.NA, inplace=True)\n",
    "\n",
    "\n",
    "# Convert the DataFrame to a dictionary format that MongoDB can understand\n",
    "data_dict1 = data1.to_dict(\"records\")\n",
    "data_dict2 = data2.to_dict(\"records\")\n",
    "data_dict3 = data3.to_dict(\"records\")\n",
    "\n",
    "\n",
    "# Connect to MongoDB\n",
    "client = MongoClient('mongodb://localhost:27017/')\n",
    "\n",
    "# Specify the database and collection\n",
    "db = client['sports_database']\n",
    "collection1 = db['2021 Data']\n",
    "collection2 = db['2022 Data']\n",
    "collection3 = db['2023 Data']\n",
    "\n",
    "# Insert data into the collection\n",
    "collection1.insert_many(data_dict1)\n",
    "collection2.insert_many(data_dict2)\n",
    "collection3.insert_many(data_dict3)\n",
    "\n",
    "print(\"Data imported into MongoDB successfully.\")"
   ],
   "metadata": {
    "collapsed": false,
    "ExecuteTime": {
     "end_time": "2024-04-10T15:03:18.567411500Z",
     "start_time": "2024-04-10T15:03:18.323497800Z"
    }
   },
   "id": "5d5109c7edc19a0c"
  }
 ],
 "metadata": {
  "kernelspec": {
   "display_name": "Python 3",
   "language": "python",
   "name": "python3"
  },
  "language_info": {
   "codemirror_mode": {
    "name": "ipython",
    "version": 2
   },
   "file_extension": ".py",
   "mimetype": "text/x-python",
   "name": "python",
   "nbconvert_exporter": "python",
   "pygments_lexer": "ipython2",
   "version": "2.7.6"
  }
 },
 "nbformat": 4,
 "nbformat_minor": 5
}
