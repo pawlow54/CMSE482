{
 "cells": [
  {
   "cell_type": "code",
   "execution_count": 1,
   "id": "52590631",
   "metadata": {
    "ExecuteTime": {
     "end_time": "2024-02-15T16:14:01.716838300Z",
     "start_time": "2024-02-15T16:14:01.197888800Z"
    }
   },
   "outputs": [],
   "source": [
    "import pandas as pd\n",
    "import os"
   ]
  },
  {
   "cell_type": "code",
   "execution_count": 2,
   "outputs": [
    {
     "name": "stdout",
     "output_type": "stream",
     "text": [
      "    Week     Team  Day          Date       Time  boxscore W/L   OT   Rec  \\\n",
      "0      1    49ers  Sun  September 10  1:00PM ET  boxscore   W  NaN   1-0   \n",
      "1      2    49ers  Sun  September 17  4:05PM ET  boxscore   W  NaN   2-0   \n",
      "2      3    49ers  Thu  September 21  8:15PM ET  boxscore   W  NaN   3-0   \n",
      "3      4    49ers  Sun     October 1  4:25PM ET  boxscore   W  NaN   4-0   \n",
      "4      5    49ers  Sun     October 8  8:20PM ET  boxscore   W  NaN   5-0   \n",
      "..   ...      ...  ...           ...        ...       ...  ..  ...   ...   \n",
      "611   14  vikings  Sun   December 10  4:05PM ET  boxscore   W  NaN   7-6   \n",
      "612   15  vikings  Sat   December 16  1:00PM ET  boxscore   L   OT   7-7   \n",
      "613   16  vikings  Sun   December 24  1:00PM ET  boxscore   L  NaN   7-8   \n",
      "614   17  vikings  Sun   December 31  8:20PM ET  boxscore   L  NaN   7-9   \n",
      "615   18  vikings  Sun     January 7  1:00PM ET  boxscore   L  NaN  7-10   \n",
      "\n",
      "    Home/Away  ...  RushY   TO  1stD.1  TotYd.1  PassY.1  RushY.1  TO.1  \\\n",
      "0           @  ...  188.0  1.0    15.0    239.0    198.0     41.0   2.0   \n",
      "1           @  ...  159.0  NaN    28.0    386.0    297.0     89.0   2.0   \n",
      "2         NaN  ...  141.0  NaN    10.0    150.0    121.0     29.0   1.0   \n",
      "3         NaN  ...  124.0  NaN    23.0    362.0    257.0    105.0   NaN   \n",
      "4         NaN  ...  170.0  1.0     8.0    197.0    140.0     57.0   4.0   \n",
      "..        ...  ...    ...  ...     ...      ...      ...      ...   ...   \n",
      "611         @  ...  132.0  NaN     8.0    202.0    146.0     56.0   3.0   \n",
      "612         @  ...  143.0  2.0    22.0    378.0    298.0     80.0   1.0   \n",
      "613       NaN  ...   17.0  4.0    28.0    389.0    246.0    143.0   1.0   \n",
      "614       NaN  ...   67.0  2.0    28.0    470.0    293.0    177.0   1.0   \n",
      "615         @  ...   89.0  2.0    19.0    381.0    311.0     70.0   NaN   \n",
      "\n",
      "     Offense  Defense  Sp. Tms  \n",
      "0       9.73    13.55    -0.78  \n",
      "1      12.36    -3.31    -2.05  \n",
      "2      19.00    11.82    -9.72  \n",
      "3      30.46    -9.72    -1.63  \n",
      "4      12.84    23.12    -5.21  \n",
      "..       ...      ...      ...  \n",
      "611   -10.05    20.46    -6.43  \n",
      "612     8.62    -9.29    -1.35  \n",
      "613    11.43   -15.44    -0.61  \n",
      "614   -14.27   -22.54    12.19  \n",
      "615     4.55   -17.81    -1.13  \n",
      "\n",
      "[616 rows x 26 columns]\n"
     ]
    }
   ],
   "source": [
    "folder_path = r'C:\\Users\\krizm\\Downloads\\CSE482\\CMSE482ProjectGithub\\2023'\n",
    "files = os.listdir(folder_path)\n",
    "csv_files = [file for file in files if file.endswith('.csv')]\n",
    "\n",
    "dfs = []\n",
    "\n",
    "if len(csv_files) == 0:\n",
    "    print(\"No CSV files found in the specified folder.\")\n",
    "else:\n",
    "    for csv_file in csv_files:\n",
    "        csv_file_path = os.path.join(folder_path, csv_file)\n",
    "        try:\n",
    "            df = pd.read_csv(csv_file_path, encoding='utf-8')\n",
    "            team_name = csv_file.split('2023')[0]\n",
    "            df.insert(1, 'Team', team_name)\n",
    "            dfs.append(df)\n",
    "        except Exception as e:\n",
    "            print(f\"Error reading file {csv_file}: {e}\")\n",
    "\n",
    "if len(dfs) == 0:\n",
    "    print(\"No dataframes were created.\")\n",
    "else:\n",
    "    concatenated_df = pd.concat(dfs, ignore_index=True)\n",
    "    print(concatenated_df)"
   ],
   "metadata": {
    "collapsed": false,
    "ExecuteTime": {
     "end_time": "2024-02-15T16:14:19.694447100Z",
     "start_time": "2024-02-15T16:14:19.210371100Z"
    }
   },
   "id": "2fd9537306baeeda"
  },
  {
   "cell_type": "code",
   "execution_count": 3,
   "outputs": [
    {
     "data": {
      "text/plain": "    Week     Team  Day          Date       Time  boxscore W/L   OT   Rec  \\\n0      1    49ers  Sun  September 10  1:00PM ET  boxscore   W  NaN   1-0   \n1      2    49ers  Sun  September 17  4:05PM ET  boxscore   W  NaN   2-0   \n2      3    49ers  Thu  September 21  8:15PM ET  boxscore   W  NaN   3-0   \n3      4    49ers  Sun     October 1  4:25PM ET  boxscore   W  NaN   4-0   \n4      5    49ers  Sun     October 8  8:20PM ET  boxscore   W  NaN   5-0   \n..   ...      ...  ...           ...        ...       ...  ..  ...   ...   \n611   14  vikings  Sun   December 10  4:05PM ET  boxscore   W  NaN   7-6   \n612   15  vikings  Sat   December 16  1:00PM ET  boxscore   L   OT   7-7   \n613   16  vikings  Sun   December 24  1:00PM ET  boxscore   L  NaN   7-8   \n614   17  vikings  Sun   December 31  8:20PM ET  boxscore   L  NaN   7-9   \n615   18  vikings  Sun     January 7  1:00PM ET  boxscore   L  NaN  7-10   \n\n    Home/Away  ...  RushY   TO  1stD.1  TotYd.1  PassY.1  RushY.1  TO.1  \\\n0           @  ...  188.0  1.0    15.0    239.0    198.0     41.0   2.0   \n1           @  ...  159.0  NaN    28.0    386.0    297.0     89.0   2.0   \n2         NaN  ...  141.0  NaN    10.0    150.0    121.0     29.0   1.0   \n3         NaN  ...  124.0  NaN    23.0    362.0    257.0    105.0   NaN   \n4         NaN  ...  170.0  1.0     8.0    197.0    140.0     57.0   4.0   \n..        ...  ...    ...  ...     ...      ...      ...      ...   ...   \n611         @  ...  132.0  NaN     8.0    202.0    146.0     56.0   3.0   \n612         @  ...  143.0  2.0    22.0    378.0    298.0     80.0   1.0   \n613       NaN  ...   17.0  4.0    28.0    389.0    246.0    143.0   1.0   \n614       NaN  ...   67.0  2.0    28.0    470.0    293.0    177.0   1.0   \n615         @  ...   89.0  2.0    19.0    381.0    311.0     70.0   NaN   \n\n     Offense  Defense  Sp. Tms  \n0       9.73    13.55    -0.78  \n1      12.36    -3.31    -2.05  \n2      19.00    11.82    -9.72  \n3      30.46    -9.72    -1.63  \n4      12.84    23.12    -5.21  \n..       ...      ...      ...  \n611   -10.05    20.46    -6.43  \n612     8.62    -9.29    -1.35  \n613    11.43   -15.44    -0.61  \n614   -14.27   -22.54    12.19  \n615     4.55   -17.81    -1.13  \n\n[616 rows x 26 columns]",
      "text/html": "<div>\n<style scoped>\n    .dataframe tbody tr th:only-of-type {\n        vertical-align: middle;\n    }\n\n    .dataframe tbody tr th {\n        vertical-align: top;\n    }\n\n    .dataframe thead th {\n        text-align: right;\n    }\n</style>\n<table border=\"1\" class=\"dataframe\">\n  <thead>\n    <tr style=\"text-align: right;\">\n      <th></th>\n      <th>Week</th>\n      <th>Team</th>\n      <th>Day</th>\n      <th>Date</th>\n      <th>Time</th>\n      <th>boxscore</th>\n      <th>W/L</th>\n      <th>OT</th>\n      <th>Rec</th>\n      <th>Home/Away</th>\n      <th>...</th>\n      <th>RushY</th>\n      <th>TO</th>\n      <th>1stD.1</th>\n      <th>TotYd.1</th>\n      <th>PassY.1</th>\n      <th>RushY.1</th>\n      <th>TO.1</th>\n      <th>Offense</th>\n      <th>Defense</th>\n      <th>Sp. Tms</th>\n    </tr>\n  </thead>\n  <tbody>\n    <tr>\n      <th>0</th>\n      <td>1</td>\n      <td>49ers</td>\n      <td>Sun</td>\n      <td>September 10</td>\n      <td>1:00PM ET</td>\n      <td>boxscore</td>\n      <td>W</td>\n      <td>NaN</td>\n      <td>1-0</td>\n      <td>@</td>\n      <td>...</td>\n      <td>188.0</td>\n      <td>1.0</td>\n      <td>15.0</td>\n      <td>239.0</td>\n      <td>198.0</td>\n      <td>41.0</td>\n      <td>2.0</td>\n      <td>9.73</td>\n      <td>13.55</td>\n      <td>-0.78</td>\n    </tr>\n    <tr>\n      <th>1</th>\n      <td>2</td>\n      <td>49ers</td>\n      <td>Sun</td>\n      <td>September 17</td>\n      <td>4:05PM ET</td>\n      <td>boxscore</td>\n      <td>W</td>\n      <td>NaN</td>\n      <td>2-0</td>\n      <td>@</td>\n      <td>...</td>\n      <td>159.0</td>\n      <td>NaN</td>\n      <td>28.0</td>\n      <td>386.0</td>\n      <td>297.0</td>\n      <td>89.0</td>\n      <td>2.0</td>\n      <td>12.36</td>\n      <td>-3.31</td>\n      <td>-2.05</td>\n    </tr>\n    <tr>\n      <th>2</th>\n      <td>3</td>\n      <td>49ers</td>\n      <td>Thu</td>\n      <td>September 21</td>\n      <td>8:15PM ET</td>\n      <td>boxscore</td>\n      <td>W</td>\n      <td>NaN</td>\n      <td>3-0</td>\n      <td>NaN</td>\n      <td>...</td>\n      <td>141.0</td>\n      <td>NaN</td>\n      <td>10.0</td>\n      <td>150.0</td>\n      <td>121.0</td>\n      <td>29.0</td>\n      <td>1.0</td>\n      <td>19.00</td>\n      <td>11.82</td>\n      <td>-9.72</td>\n    </tr>\n    <tr>\n      <th>3</th>\n      <td>4</td>\n      <td>49ers</td>\n      <td>Sun</td>\n      <td>October 1</td>\n      <td>4:25PM ET</td>\n      <td>boxscore</td>\n      <td>W</td>\n      <td>NaN</td>\n      <td>4-0</td>\n      <td>NaN</td>\n      <td>...</td>\n      <td>124.0</td>\n      <td>NaN</td>\n      <td>23.0</td>\n      <td>362.0</td>\n      <td>257.0</td>\n      <td>105.0</td>\n      <td>NaN</td>\n      <td>30.46</td>\n      <td>-9.72</td>\n      <td>-1.63</td>\n    </tr>\n    <tr>\n      <th>4</th>\n      <td>5</td>\n      <td>49ers</td>\n      <td>Sun</td>\n      <td>October 8</td>\n      <td>8:20PM ET</td>\n      <td>boxscore</td>\n      <td>W</td>\n      <td>NaN</td>\n      <td>5-0</td>\n      <td>NaN</td>\n      <td>...</td>\n      <td>170.0</td>\n      <td>1.0</td>\n      <td>8.0</td>\n      <td>197.0</td>\n      <td>140.0</td>\n      <td>57.0</td>\n      <td>4.0</td>\n      <td>12.84</td>\n      <td>23.12</td>\n      <td>-5.21</td>\n    </tr>\n    <tr>\n      <th>...</th>\n      <td>...</td>\n      <td>...</td>\n      <td>...</td>\n      <td>...</td>\n      <td>...</td>\n      <td>...</td>\n      <td>...</td>\n      <td>...</td>\n      <td>...</td>\n      <td>...</td>\n      <td>...</td>\n      <td>...</td>\n      <td>...</td>\n      <td>...</td>\n      <td>...</td>\n      <td>...</td>\n      <td>...</td>\n      <td>...</td>\n      <td>...</td>\n      <td>...</td>\n      <td>...</td>\n    </tr>\n    <tr>\n      <th>611</th>\n      <td>14</td>\n      <td>vikings</td>\n      <td>Sun</td>\n      <td>December 10</td>\n      <td>4:05PM ET</td>\n      <td>boxscore</td>\n      <td>W</td>\n      <td>NaN</td>\n      <td>7-6</td>\n      <td>@</td>\n      <td>...</td>\n      <td>132.0</td>\n      <td>NaN</td>\n      <td>8.0</td>\n      <td>202.0</td>\n      <td>146.0</td>\n      <td>56.0</td>\n      <td>3.0</td>\n      <td>-10.05</td>\n      <td>20.46</td>\n      <td>-6.43</td>\n    </tr>\n    <tr>\n      <th>612</th>\n      <td>15</td>\n      <td>vikings</td>\n      <td>Sat</td>\n      <td>December 16</td>\n      <td>1:00PM ET</td>\n      <td>boxscore</td>\n      <td>L</td>\n      <td>OT</td>\n      <td>7-7</td>\n      <td>@</td>\n      <td>...</td>\n      <td>143.0</td>\n      <td>2.0</td>\n      <td>22.0</td>\n      <td>378.0</td>\n      <td>298.0</td>\n      <td>80.0</td>\n      <td>1.0</td>\n      <td>8.62</td>\n      <td>-9.29</td>\n      <td>-1.35</td>\n    </tr>\n    <tr>\n      <th>613</th>\n      <td>16</td>\n      <td>vikings</td>\n      <td>Sun</td>\n      <td>December 24</td>\n      <td>1:00PM ET</td>\n      <td>boxscore</td>\n      <td>L</td>\n      <td>NaN</td>\n      <td>7-8</td>\n      <td>NaN</td>\n      <td>...</td>\n      <td>17.0</td>\n      <td>4.0</td>\n      <td>28.0</td>\n      <td>389.0</td>\n      <td>246.0</td>\n      <td>143.0</td>\n      <td>1.0</td>\n      <td>11.43</td>\n      <td>-15.44</td>\n      <td>-0.61</td>\n    </tr>\n    <tr>\n      <th>614</th>\n      <td>17</td>\n      <td>vikings</td>\n      <td>Sun</td>\n      <td>December 31</td>\n      <td>8:20PM ET</td>\n      <td>boxscore</td>\n      <td>L</td>\n      <td>NaN</td>\n      <td>7-9</td>\n      <td>NaN</td>\n      <td>...</td>\n      <td>67.0</td>\n      <td>2.0</td>\n      <td>28.0</td>\n      <td>470.0</td>\n      <td>293.0</td>\n      <td>177.0</td>\n      <td>1.0</td>\n      <td>-14.27</td>\n      <td>-22.54</td>\n      <td>12.19</td>\n    </tr>\n    <tr>\n      <th>615</th>\n      <td>18</td>\n      <td>vikings</td>\n      <td>Sun</td>\n      <td>January 7</td>\n      <td>1:00PM ET</td>\n      <td>boxscore</td>\n      <td>L</td>\n      <td>NaN</td>\n      <td>7-10</td>\n      <td>@</td>\n      <td>...</td>\n      <td>89.0</td>\n      <td>2.0</td>\n      <td>19.0</td>\n      <td>381.0</td>\n      <td>311.0</td>\n      <td>70.0</td>\n      <td>NaN</td>\n      <td>4.55</td>\n      <td>-17.81</td>\n      <td>-1.13</td>\n    </tr>\n  </tbody>\n</table>\n<p>616 rows × 26 columns</p>\n</div>"
     },
     "execution_count": 3,
     "metadata": {},
     "output_type": "execute_result"
    }
   ],
   "source": [
    "concatenated_df"
   ],
   "metadata": {
    "collapsed": false,
    "ExecuteTime": {
     "end_time": "2024-02-15T16:14:21.707983400Z",
     "start_time": "2024-02-15T16:14:21.627549900Z"
    }
   },
   "id": "d1c57c11e0286554"
  },
  {
   "cell_type": "code",
   "execution_count": null,
   "outputs": [],
   "source": [],
   "metadata": {
    "collapsed": false
   },
   "id": "ae476f158d42b74f"
  }
 ],
 "metadata": {
  "kernelspec": {
   "display_name": "Python 3 (ipykernel)",
   "language": "python",
   "name": "python3"
  },
  "language_info": {
   "codemirror_mode": {
    "name": "ipython",
    "version": 3
   },
   "file_extension": ".py",
   "mimetype": "text/x-python",
   "name": "python",
   "nbconvert_exporter": "python",
   "pygments_lexer": "ipython3",
   "version": "3.9.13"
  }
 },
 "nbformat": 4,
 "nbformat_minor": 5
}
