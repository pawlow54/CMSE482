{
 "cells": [
  {
   "cell_type": "code",
   "execution_count": 1,
   "id": "initial_id",
   "metadata": {
    "collapsed": true,
    "ExecuteTime": {
     "end_time": "2024-03-28T16:22:32.954204600Z",
     "start_time": "2024-03-28T16:22:28.932009500Z"
    }
   },
   "outputs": [
    {
     "name": "stderr",
     "output_type": "stream",
     "text": [
      "C:\\Users\\krizm\\AppData\\Local\\Temp\\ipykernel_6344\\3160212280.py:4: DeprecationWarning: \n",
      "Pyarrow will become a required dependency of pandas in the next major release of pandas (pandas 3.0),\n",
      "(to allow more performant data types, such as the Arrow string type, and better interoperability with other libraries)\n",
      "but was not found to be installed on your system.\n",
      "If this would cause problems for you,\n",
      "please provide us feedback at https://github.com/pandas-dev/pandas/issues/54466\n",
      "        \n",
      "  import pandas as pd\n"
     ]
    }
   ],
   "source": [
    "from sklearn.model_selection import train_test_split\n",
    "from sklearn.ensemble import RandomForestRegressor\n",
    "from sklearn.metrics import accuracy_score\n",
    "import pandas as pd"
   ]
  },
  {
   "cell_type": "code",
   "execution_count": 2,
   "outputs": [
    {
     "data": {
      "text/plain": "   0  1  0.1  0.636364  0.090909  0.363636  23.636364  20.636364  18.818182  \\\n0  1  2    0  0.636364  0.090909  0.363636  23.636364  20.636364  18.818182   \n1  2  3    0  0.636364  0.090909  0.363636  23.636364  20.636364  18.818182   \n2  3  4    0  0.636364  0.090909  0.363636  23.636364  20.636364  18.818182   \n3  4  5    0  0.636364  0.090909  0.363636  23.636364  20.636364  18.818182   \n4  5  6    0  0.636364  0.090909  0.363636  23.636364  20.636364  18.818182   \n\n   358.636364  ...  2.000000  18.500000.1  271.625000  154.375000  117.250000  \\\n0  358.636364  ...  1.625000    21.875000  365.375000  250.375000  115.000000   \n1  358.636364  ...  1.285714    18.142857  317.000000  211.428571  105.571429   \n2  358.636364  ...  2.181818    19.272727  323.090909  235.000000   88.090909   \n3  358.636364  ...  2.100000    17.100000  282.400000  178.600000  103.800000   \n4  358.636364  ...  1.769231    21.923077  354.076923  227.692308  126.384615   \n\n   1.875000  -2.573750  3.120000  -0.567500  0.2  \n0  1.250000   1.265000 -4.305000   1.530000    1  \n1  1.428571   4.684286  1.810000  -1.164286    0  \n2  1.727273   2.621818  0.015455   0.578182    1  \n3  1.500000  -6.894000  4.772000  -0.035000    1  \n4  1.461538  -1.977692 -7.066923   0.968462    0  \n\n[5 rows x 41 columns]",
      "text/html": "<div>\n<style scoped>\n    .dataframe tbody tr th:only-of-type {\n        vertical-align: middle;\n    }\n\n    .dataframe tbody tr th {\n        vertical-align: top;\n    }\n\n    .dataframe thead th {\n        text-align: right;\n    }\n</style>\n<table border=\"1\" class=\"dataframe\">\n  <thead>\n    <tr style=\"text-align: right;\">\n      <th></th>\n      <th>0</th>\n      <th>1</th>\n      <th>0.1</th>\n      <th>0.636364</th>\n      <th>0.090909</th>\n      <th>0.363636</th>\n      <th>23.636364</th>\n      <th>20.636364</th>\n      <th>18.818182</th>\n      <th>358.636364</th>\n      <th>...</th>\n      <th>2.000000</th>\n      <th>18.500000.1</th>\n      <th>271.625000</th>\n      <th>154.375000</th>\n      <th>117.250000</th>\n      <th>1.875000</th>\n      <th>-2.573750</th>\n      <th>3.120000</th>\n      <th>-0.567500</th>\n      <th>0.2</th>\n    </tr>\n  </thead>\n  <tbody>\n    <tr>\n      <th>0</th>\n      <td>1</td>\n      <td>2</td>\n      <td>0</td>\n      <td>0.636364</td>\n      <td>0.090909</td>\n      <td>0.363636</td>\n      <td>23.636364</td>\n      <td>20.636364</td>\n      <td>18.818182</td>\n      <td>358.636364</td>\n      <td>...</td>\n      <td>1.625000</td>\n      <td>21.875000</td>\n      <td>365.375000</td>\n      <td>250.375000</td>\n      <td>115.000000</td>\n      <td>1.250000</td>\n      <td>1.265000</td>\n      <td>-4.305000</td>\n      <td>1.530000</td>\n      <td>1</td>\n    </tr>\n    <tr>\n      <th>1</th>\n      <td>2</td>\n      <td>3</td>\n      <td>0</td>\n      <td>0.636364</td>\n      <td>0.090909</td>\n      <td>0.363636</td>\n      <td>23.636364</td>\n      <td>20.636364</td>\n      <td>18.818182</td>\n      <td>358.636364</td>\n      <td>...</td>\n      <td>1.285714</td>\n      <td>18.142857</td>\n      <td>317.000000</td>\n      <td>211.428571</td>\n      <td>105.571429</td>\n      <td>1.428571</td>\n      <td>4.684286</td>\n      <td>1.810000</td>\n      <td>-1.164286</td>\n      <td>0</td>\n    </tr>\n    <tr>\n      <th>2</th>\n      <td>3</td>\n      <td>4</td>\n      <td>0</td>\n      <td>0.636364</td>\n      <td>0.090909</td>\n      <td>0.363636</td>\n      <td>23.636364</td>\n      <td>20.636364</td>\n      <td>18.818182</td>\n      <td>358.636364</td>\n      <td>...</td>\n      <td>2.181818</td>\n      <td>19.272727</td>\n      <td>323.090909</td>\n      <td>235.000000</td>\n      <td>88.090909</td>\n      <td>1.727273</td>\n      <td>2.621818</td>\n      <td>0.015455</td>\n      <td>0.578182</td>\n      <td>1</td>\n    </tr>\n    <tr>\n      <th>3</th>\n      <td>4</td>\n      <td>5</td>\n      <td>0</td>\n      <td>0.636364</td>\n      <td>0.090909</td>\n      <td>0.363636</td>\n      <td>23.636364</td>\n      <td>20.636364</td>\n      <td>18.818182</td>\n      <td>358.636364</td>\n      <td>...</td>\n      <td>2.100000</td>\n      <td>17.100000</td>\n      <td>282.400000</td>\n      <td>178.600000</td>\n      <td>103.800000</td>\n      <td>1.500000</td>\n      <td>-6.894000</td>\n      <td>4.772000</td>\n      <td>-0.035000</td>\n      <td>1</td>\n    </tr>\n    <tr>\n      <th>4</th>\n      <td>5</td>\n      <td>6</td>\n      <td>0</td>\n      <td>0.636364</td>\n      <td>0.090909</td>\n      <td>0.363636</td>\n      <td>23.636364</td>\n      <td>20.636364</td>\n      <td>18.818182</td>\n      <td>358.636364</td>\n      <td>...</td>\n      <td>1.769231</td>\n      <td>21.923077</td>\n      <td>354.076923</td>\n      <td>227.692308</td>\n      <td>126.384615</td>\n      <td>1.461538</td>\n      <td>-1.977692</td>\n      <td>-7.066923</td>\n      <td>0.968462</td>\n      <td>0</td>\n    </tr>\n  </tbody>\n</table>\n<p>5 rows × 41 columns</p>\n</div>"
     },
     "execution_count": 2,
     "metadata": {},
     "output_type": "execute_result"
    }
   ],
   "source": [
    "data = pd.read_csv(\"df_agg_combined.csv\")\n",
    "data.head()"
   ],
   "metadata": {
    "collapsed": false,
    "ExecuteTime": {
     "end_time": "2024-03-28T16:22:45.913531900Z",
     "start_time": "2024-03-28T16:22:45.886009900Z"
    }
   },
   "id": "3dbdd6f1384b42ec"
  },
  {
   "cell_type": "code",
   "execution_count": 3,
   "outputs": [
    {
     "data": {
      "text/plain": "0.5555555555555556"
     },
     "execution_count": 3,
     "metadata": {},
     "output_type": "execute_result"
    }
   ],
   "source": [
    "# Splitting the dataset into features (X) and target variable (y)\n",
    "X = data.iloc[:, :-1]  # All columns except the last one\n",
    "y = data.iloc[:, -1]   # The last column is the target variable\n",
    "\n",
    "# Splitting the data into training and test sets\n",
    "X_train, X_test, y_train, y_test = train_test_split(X, y, test_size=0.2, random_state=42)\n",
    "\n",
    "# Initializing the RandomForestRegressor\n",
    "rf_regressor = RandomForestRegressor(n_estimators=100, random_state=42)\n",
    "\n",
    "# Training the regressor\n",
    "rf_regressor.fit(X_train, y_train)\n",
    "\n",
    "# Making predictions on the test set\n",
    "y_pred = rf_regressor.predict(X_test)\n",
    "\n",
    "# Rounding the predictions to the nearest integer to interpret them as win/loss predictions\n",
    "y_pred_rounded = [round(value) for value in y_pred]\n",
    "\n",
    "# Calculating accuracy\n",
    "accuracy = accuracy_score(y_test, y_pred_rounded)\n",
    "\n",
    "accuracy"
   ],
   "metadata": {
    "collapsed": false,
    "ExecuteTime": {
     "end_time": "2024-03-28T16:23:00.188341100Z",
     "start_time": "2024-03-28T16:22:59.760833400Z"
    }
   },
   "id": "e14c58d7d0ecbed9"
  },
  {
   "cell_type": "code",
   "execution_count": null,
   "outputs": [],
   "source": [],
   "metadata": {
    "collapsed": false
   },
   "id": "f6bb6af33004047b"
  }
 ],
 "metadata": {
  "kernelspec": {
   "display_name": "Python 3",
   "language": "python",
   "name": "python3"
  },
  "language_info": {
   "codemirror_mode": {
    "name": "ipython",
    "version": 2
   },
   "file_extension": ".py",
   "mimetype": "text/x-python",
   "name": "python",
   "nbconvert_exporter": "python",
   "pygments_lexer": "ipython2",
   "version": "2.7.6"
  }
 },
 "nbformat": 4,
 "nbformat_minor": 5
}
