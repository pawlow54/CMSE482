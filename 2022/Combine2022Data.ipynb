{
 "cells": [
  {
   "cell_type": "code",
   "execution_count": 10,
   "outputs": [],
   "source": [
    "import pandas as pd\n",
    "import os"
   ],
   "metadata": {
    "collapsed": false,
    "ExecuteTime": {
     "end_time": "2024-02-15T16:11:29.636212200Z",
     "start_time": "2024-02-15T16:11:29.621850Z"
    }
   },
   "id": "c4d82be5cbb0bc55"
  },
  {
   "cell_type": "code",
   "execution_count": 11,
   "outputs": [
    {
     "name": "stdout",
     "output_type": "stream",
     "text": [
      "          Week     Team  Day          Date       Time  boxscore  W/L   OT  \\\n",
      "0            1    49ers  Sun  September 11  1:00PM ET  boxscore    L  NaN   \n",
      "1            2    49ers  Sun  September 18  4:05PM ET  boxscore    W  NaN   \n",
      "2            3    49ers  Sun  September 25  8:20PM ET  boxscore    L  NaN   \n",
      "3            4    49ers  Mon     October 3  8:15PM ET  boxscore    W  NaN   \n",
      "4            5    49ers  Sun     October 9  4:05PM ET  boxscore    W  NaN   \n",
      "..         ...      ...  ...           ...        ...       ...  ...  ...   \n",
      "611         16  vikings  Sat   December 24  1:00PM ET  boxscore    W  NaN   \n",
      "612         17  vikings  Sun     January 1  4:25PM ET  boxscore    L  NaN   \n",
      "613         18  vikings  Sun     January 8  1:00PM ET  boxscore    W  NaN   \n",
      "614        NaN  vikings  NaN      Playoffs        NaN       NaN  NaN  NaN   \n",
      "615  Wild Card  vikings  Sun    January 15  4:30PM ET  boxscore    L  NaN   \n",
      "\n",
      "      Rec Home/Away  ...  RushY   TO  1stD.1  TotYd.1  PassY.1  RushY.1  TO.1  \\\n",
      "0     0-1         @  ...  176.0  2.0    15.0    204.0    105.0     99.0   1.0   \n",
      "1     1-1       NaN  ...  189.0  NaN    14.0    216.0    180.0     36.0   3.0   \n",
      "2     1-2         @  ...   88.0  3.0    14.0    261.0    160.0    101.0   NaN   \n",
      "3     2-2       NaN  ...   88.0  NaN    21.0    257.0    200.0     57.0   2.0   \n",
      "4     3-2         @  ...  153.0  1.0    15.0    308.0    244.0     64.0   1.0   \n",
      "..    ...       ...  ...    ...  ...     ...      ...      ...      ...   ...   \n",
      "611  12-3       NaN  ...   83.0  NaN    23.0    445.0    319.0    126.0   2.0   \n",
      "612  12-4         @  ...  102.0  4.0    20.0    315.0    152.0    163.0   NaN   \n",
      "613  13-4         @  ...  141.0  2.0    13.0    259.0    141.0    118.0   2.0   \n",
      "614   NaN       NaN  ...    NaN  NaN     NaN      NaN      NaN      NaN   NaN   \n",
      "615  13-5       NaN  ...   61.0  NaN    28.0    431.0    289.0    142.0   NaN   \n",
      "\n",
      "     Offense  Defense  Sp. Tms  \n",
      "0     -11.26    -0.67     0.42  \n",
      "1      16.39     9.18    -7.67  \n",
      "2     -16.39    13.59    -1.26  \n",
      "3      10.05    11.56    -7.93  \n",
      "4      16.04    13.22    -7.82  \n",
      "..       ...      ...      ...  \n",
      "611     7.38    -6.20     3.12  \n",
      "612   -10.20    -9.54    -4.19  \n",
      "613    16.54     5.75    -5.65  \n",
      "614      NaN      NaN      NaN  \n",
      "615    13.86   -24.00     3.74  \n",
      "\n",
      "[616 rows x 26 columns]\n"
     ]
    }
   ],
   "source": [
    "folder_path = r'C:\\Users\\krizm\\Downloads\\CSE482\\CMSE482ProjectGithub\\2022'\n",
    "files = os.listdir(folder_path)\n",
    "csv_files = [file for file in files if file.endswith('.csv')]\n",
    "\n",
    "dfs = []\n",
    "\n",
    "if len(csv_files) == 0:\n",
    "    print(\"No CSV files found in the specified folder.\")\n",
    "else:\n",
    "    for csv_file in csv_files:\n",
    "        csv_file_path = os.path.join(folder_path, csv_file)\n",
    "        try:\n",
    "            df = pd.read_csv(csv_file_path, encoding='utf-8')\n",
    "            team_name = csv_file.split('2022')[0]\n",
    "            df.insert(1, 'Team', team_name)\n",
    "            dfs.append(df)\n",
    "        except Exception as e:\n",
    "            print(f\"Error reading file {csv_file}: {e}\")\n",
    "\n",
    "if len(dfs) == 0:\n",
    "    print(\"No dataframes were created.\")\n",
    "else:\n",
    "    concatenated_df = pd.concat(dfs, ignore_index=True)\n",
    "    print(concatenated_df)"
   ],
   "metadata": {
    "collapsed": false,
    "ExecuteTime": {
     "end_time": "2024-02-15T16:11:30.288109800Z",
     "start_time": "2024-02-15T16:11:30.134010200Z"
    }
   },
   "id": "9c7dab1cb215c107"
  },
  {
   "cell_type": "code",
   "execution_count": 12,
   "outputs": [
    {
     "data": {
      "text/plain": "          Week     Team  Day          Date       Time  boxscore  W/L   OT  \\\n0            1    49ers  Sun  September 11  1:00PM ET  boxscore    L  NaN   \n1            2    49ers  Sun  September 18  4:05PM ET  boxscore    W  NaN   \n2            3    49ers  Sun  September 25  8:20PM ET  boxscore    L  NaN   \n3            4    49ers  Mon     October 3  8:15PM ET  boxscore    W  NaN   \n4            5    49ers  Sun     October 9  4:05PM ET  boxscore    W  NaN   \n..         ...      ...  ...           ...        ...       ...  ...  ...   \n611         16  vikings  Sat   December 24  1:00PM ET  boxscore    W  NaN   \n612         17  vikings  Sun     January 1  4:25PM ET  boxscore    L  NaN   \n613         18  vikings  Sun     January 8  1:00PM ET  boxscore    W  NaN   \n614        NaN  vikings  NaN      Playoffs        NaN       NaN  NaN  NaN   \n615  Wild Card  vikings  Sun    January 15  4:30PM ET  boxscore    L  NaN   \n\n      Rec Home/Away  ...  RushY   TO  1stD.1  TotYd.1  PassY.1  RushY.1  TO.1  \\\n0     0-1         @  ...  176.0  2.0    15.0    204.0    105.0     99.0   1.0   \n1     1-1       NaN  ...  189.0  NaN    14.0    216.0    180.0     36.0   3.0   \n2     1-2         @  ...   88.0  3.0    14.0    261.0    160.0    101.0   NaN   \n3     2-2       NaN  ...   88.0  NaN    21.0    257.0    200.0     57.0   2.0   \n4     3-2         @  ...  153.0  1.0    15.0    308.0    244.0     64.0   1.0   \n..    ...       ...  ...    ...  ...     ...      ...      ...      ...   ...   \n611  12-3       NaN  ...   83.0  NaN    23.0    445.0    319.0    126.0   2.0   \n612  12-4         @  ...  102.0  4.0    20.0    315.0    152.0    163.0   NaN   \n613  13-4         @  ...  141.0  2.0    13.0    259.0    141.0    118.0   2.0   \n614   NaN       NaN  ...    NaN  NaN     NaN      NaN      NaN      NaN   NaN   \n615  13-5       NaN  ...   61.0  NaN    28.0    431.0    289.0    142.0   NaN   \n\n     Offense  Defense  Sp. Tms  \n0     -11.26    -0.67     0.42  \n1      16.39     9.18    -7.67  \n2     -16.39    13.59    -1.26  \n3      10.05    11.56    -7.93  \n4      16.04    13.22    -7.82  \n..       ...      ...      ...  \n611     7.38    -6.20     3.12  \n612   -10.20    -9.54    -4.19  \n613    16.54     5.75    -5.65  \n614      NaN      NaN      NaN  \n615    13.86   -24.00     3.74  \n\n[616 rows x 26 columns]",
      "text/html": "<div>\n<style scoped>\n    .dataframe tbody tr th:only-of-type {\n        vertical-align: middle;\n    }\n\n    .dataframe tbody tr th {\n        vertical-align: top;\n    }\n\n    .dataframe thead th {\n        text-align: right;\n    }\n</style>\n<table border=\"1\" class=\"dataframe\">\n  <thead>\n    <tr style=\"text-align: right;\">\n      <th></th>\n      <th>Week</th>\n      <th>Team</th>\n      <th>Day</th>\n      <th>Date</th>\n      <th>Time</th>\n      <th>boxscore</th>\n      <th>W/L</th>\n      <th>OT</th>\n      <th>Rec</th>\n      <th>Home/Away</th>\n      <th>...</th>\n      <th>RushY</th>\n      <th>TO</th>\n      <th>1stD.1</th>\n      <th>TotYd.1</th>\n      <th>PassY.1</th>\n      <th>RushY.1</th>\n      <th>TO.1</th>\n      <th>Offense</th>\n      <th>Defense</th>\n      <th>Sp. Tms</th>\n    </tr>\n  </thead>\n  <tbody>\n    <tr>\n      <th>0</th>\n      <td>1</td>\n      <td>49ers</td>\n      <td>Sun</td>\n      <td>September 11</td>\n      <td>1:00PM ET</td>\n      <td>boxscore</td>\n      <td>L</td>\n      <td>NaN</td>\n      <td>0-1</td>\n      <td>@</td>\n      <td>...</td>\n      <td>176.0</td>\n      <td>2.0</td>\n      <td>15.0</td>\n      <td>204.0</td>\n      <td>105.0</td>\n      <td>99.0</td>\n      <td>1.0</td>\n      <td>-11.26</td>\n      <td>-0.67</td>\n      <td>0.42</td>\n    </tr>\n    <tr>\n      <th>1</th>\n      <td>2</td>\n      <td>49ers</td>\n      <td>Sun</td>\n      <td>September 18</td>\n      <td>4:05PM ET</td>\n      <td>boxscore</td>\n      <td>W</td>\n      <td>NaN</td>\n      <td>1-1</td>\n      <td>NaN</td>\n      <td>...</td>\n      <td>189.0</td>\n      <td>NaN</td>\n      <td>14.0</td>\n      <td>216.0</td>\n      <td>180.0</td>\n      <td>36.0</td>\n      <td>3.0</td>\n      <td>16.39</td>\n      <td>9.18</td>\n      <td>-7.67</td>\n    </tr>\n    <tr>\n      <th>2</th>\n      <td>3</td>\n      <td>49ers</td>\n      <td>Sun</td>\n      <td>September 25</td>\n      <td>8:20PM ET</td>\n      <td>boxscore</td>\n      <td>L</td>\n      <td>NaN</td>\n      <td>1-2</td>\n      <td>@</td>\n      <td>...</td>\n      <td>88.0</td>\n      <td>3.0</td>\n      <td>14.0</td>\n      <td>261.0</td>\n      <td>160.0</td>\n      <td>101.0</td>\n      <td>NaN</td>\n      <td>-16.39</td>\n      <td>13.59</td>\n      <td>-1.26</td>\n    </tr>\n    <tr>\n      <th>3</th>\n      <td>4</td>\n      <td>49ers</td>\n      <td>Mon</td>\n      <td>October 3</td>\n      <td>8:15PM ET</td>\n      <td>boxscore</td>\n      <td>W</td>\n      <td>NaN</td>\n      <td>2-2</td>\n      <td>NaN</td>\n      <td>...</td>\n      <td>88.0</td>\n      <td>NaN</td>\n      <td>21.0</td>\n      <td>257.0</td>\n      <td>200.0</td>\n      <td>57.0</td>\n      <td>2.0</td>\n      <td>10.05</td>\n      <td>11.56</td>\n      <td>-7.93</td>\n    </tr>\n    <tr>\n      <th>4</th>\n      <td>5</td>\n      <td>49ers</td>\n      <td>Sun</td>\n      <td>October 9</td>\n      <td>4:05PM ET</td>\n      <td>boxscore</td>\n      <td>W</td>\n      <td>NaN</td>\n      <td>3-2</td>\n      <td>@</td>\n      <td>...</td>\n      <td>153.0</td>\n      <td>1.0</td>\n      <td>15.0</td>\n      <td>308.0</td>\n      <td>244.0</td>\n      <td>64.0</td>\n      <td>1.0</td>\n      <td>16.04</td>\n      <td>13.22</td>\n      <td>-7.82</td>\n    </tr>\n    <tr>\n      <th>...</th>\n      <td>...</td>\n      <td>...</td>\n      <td>...</td>\n      <td>...</td>\n      <td>...</td>\n      <td>...</td>\n      <td>...</td>\n      <td>...</td>\n      <td>...</td>\n      <td>...</td>\n      <td>...</td>\n      <td>...</td>\n      <td>...</td>\n      <td>...</td>\n      <td>...</td>\n      <td>...</td>\n      <td>...</td>\n      <td>...</td>\n      <td>...</td>\n      <td>...</td>\n      <td>...</td>\n    </tr>\n    <tr>\n      <th>611</th>\n      <td>16</td>\n      <td>vikings</td>\n      <td>Sat</td>\n      <td>December 24</td>\n      <td>1:00PM ET</td>\n      <td>boxscore</td>\n      <td>W</td>\n      <td>NaN</td>\n      <td>12-3</td>\n      <td>NaN</td>\n      <td>...</td>\n      <td>83.0</td>\n      <td>NaN</td>\n      <td>23.0</td>\n      <td>445.0</td>\n      <td>319.0</td>\n      <td>126.0</td>\n      <td>2.0</td>\n      <td>7.38</td>\n      <td>-6.20</td>\n      <td>3.12</td>\n    </tr>\n    <tr>\n      <th>612</th>\n      <td>17</td>\n      <td>vikings</td>\n      <td>Sun</td>\n      <td>January 1</td>\n      <td>4:25PM ET</td>\n      <td>boxscore</td>\n      <td>L</td>\n      <td>NaN</td>\n      <td>12-4</td>\n      <td>@</td>\n      <td>...</td>\n      <td>102.0</td>\n      <td>4.0</td>\n      <td>20.0</td>\n      <td>315.0</td>\n      <td>152.0</td>\n      <td>163.0</td>\n      <td>NaN</td>\n      <td>-10.20</td>\n      <td>-9.54</td>\n      <td>-4.19</td>\n    </tr>\n    <tr>\n      <th>613</th>\n      <td>18</td>\n      <td>vikings</td>\n      <td>Sun</td>\n      <td>January 8</td>\n      <td>1:00PM ET</td>\n      <td>boxscore</td>\n      <td>W</td>\n      <td>NaN</td>\n      <td>13-4</td>\n      <td>@</td>\n      <td>...</td>\n      <td>141.0</td>\n      <td>2.0</td>\n      <td>13.0</td>\n      <td>259.0</td>\n      <td>141.0</td>\n      <td>118.0</td>\n      <td>2.0</td>\n      <td>16.54</td>\n      <td>5.75</td>\n      <td>-5.65</td>\n    </tr>\n    <tr>\n      <th>614</th>\n      <td>NaN</td>\n      <td>vikings</td>\n      <td>NaN</td>\n      <td>Playoffs</td>\n      <td>NaN</td>\n      <td>NaN</td>\n      <td>NaN</td>\n      <td>NaN</td>\n      <td>NaN</td>\n      <td>NaN</td>\n      <td>...</td>\n      <td>NaN</td>\n      <td>NaN</td>\n      <td>NaN</td>\n      <td>NaN</td>\n      <td>NaN</td>\n      <td>NaN</td>\n      <td>NaN</td>\n      <td>NaN</td>\n      <td>NaN</td>\n      <td>NaN</td>\n    </tr>\n    <tr>\n      <th>615</th>\n      <td>Wild Card</td>\n      <td>vikings</td>\n      <td>Sun</td>\n      <td>January 15</td>\n      <td>4:30PM ET</td>\n      <td>boxscore</td>\n      <td>L</td>\n      <td>NaN</td>\n      <td>13-5</td>\n      <td>NaN</td>\n      <td>...</td>\n      <td>61.0</td>\n      <td>NaN</td>\n      <td>28.0</td>\n      <td>431.0</td>\n      <td>289.0</td>\n      <td>142.0</td>\n      <td>NaN</td>\n      <td>13.86</td>\n      <td>-24.00</td>\n      <td>3.74</td>\n    </tr>\n  </tbody>\n</table>\n<p>616 rows × 26 columns</p>\n</div>"
     },
     "execution_count": 12,
     "metadata": {},
     "output_type": "execute_result"
    }
   ],
   "source": [
    "concatenated_df"
   ],
   "metadata": {
    "collapsed": false,
    "ExecuteTime": {
     "end_time": "2024-02-15T16:11:32.159891800Z",
     "start_time": "2024-02-15T16:11:32.097913700Z"
    }
   },
   "id": "a09f11975a1ca401"
  },
  {
   "cell_type": "code",
   "execution_count": null,
   "outputs": [],
   "source": [],
   "metadata": {
    "collapsed": false
   },
   "id": "f67a84fe60352f49"
  }
 ],
 "metadata": {
  "kernelspec": {
   "name": "python3",
   "language": "python",
   "display_name": "Python 3 (ipykernel)"
  }
 },
 "nbformat": 4,
 "nbformat_minor": 5
}
