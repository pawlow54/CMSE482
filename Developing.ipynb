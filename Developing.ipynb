{
 "cells": [
  {
   "cell_type": "code",
   "execution_count": 91,
   "id": "initial_id",
   "metadata": {
    "collapsed": true,
    "ExecuteTime": {
     "end_time": "2024-03-25T21:23:45.726861500Z",
     "start_time": "2024-03-25T21:23:45.688961200Z"
    }
   },
   "outputs": [],
   "source": [
    "import pandas as pd\n",
    "import numpy as np\n",
    "from sklearn.model_selection import train_test_split\n",
    "from sklearn.ensemble import RandomForestClassifier\n",
    "from sklearn.preprocessing import OneHotEncoder\n",
    "from sklearn.impute import SimpleImputer\n",
    "from sklearn.pipeline import make_pipeline\n",
    "from sklearn.compose import make_column_transformer\n",
    "from sklearn.metrics import accuracy_score"
   ]
  },
  {
   "cell_type": "code",
   "execution_count": 92,
   "outputs": [],
   "source": [
    "# Load the datasets\n",
    "df_2021 = pd.read_csv('2021data.csv')\n",
    "df_2022 = pd.read_csv('2022data.csv')\n",
    "df_2023 = pd.read_csv('2023data.csv')\n",
    "\n",
    "# Combine the datasets\n",
    "data = pd.concat([df_2021, df_2022, df_2023])\n",
    "\n",
    "# Save the combined dataset\n",
    "data.to_csv('combined_dataset.csv', index=False)"
   ],
   "metadata": {
    "collapsed": false,
    "ExecuteTime": {
     "end_time": "2024-03-25T21:23:46.071487300Z",
     "start_time": "2024-03-25T21:23:46.000151700Z"
    }
   },
   "id": "3f3cba652e2974df"
  },
  {
   "cell_type": "code",
   "outputs": [
    {
     "data": {
      "text/plain": "    Week     Team  Day    Date       Time      Link Result   OT     Rec  H/A  \\\n0      1    49ers  Sun  12-Sep  1:00PM ET  boxscore      W  NaN  Jan-00    @   \n1      2    49ers  Sun  19-Sep  1:00PM ET  boxscore      W  NaN  Feb-00    @   \n2      3    49ers  Sun  26-Sep  8:20PM ET  boxscore      L  NaN   1-Feb  NaN   \n3      4    49ers  Sun   3-Oct  4:05PM ET  boxscore      L  NaN   2-Feb  NaN   \n4      5    49ers  Sun  10-Oct  4:25PM ET  boxscore      L  NaN   3-Feb    @   \n..   ...      ...  ...     ...        ...       ...    ...  ...     ...  ...   \n611   14  vikings  Sun  10-Dec  4:05PM ET  boxscore      W  NaN   6-Jul    @   \n612   15  vikings  Sat  16-Dec  1:00PM ET  boxscore      L   OT   7-Jul    @   \n613   16  vikings  Sun  24-Dec  1:00PM ET  boxscore      L  NaN   8-Jul  NaN   \n614   17  vikings  Sun  31-Dec  8:20PM ET  boxscore      L  NaN   9-Jul  NaN   \n615   18  vikings  Sun   7-Jan  1:00PM ET  boxscore      L  NaN  10-Jul    @   \n\n     ... Off_RushYd Off_TO  Def_1stD  Def_TotYd  Def_PassYd  Def_RushYD  \\\n0    ...      131.0    2.0      31.0      430.0       314.0       116.0   \n1    ...      117.0    NaN      18.0      328.0       177.0       151.0   \n2    ...       67.0    2.0      21.0      353.0       253.0       100.0   \n3    ...      143.0    2.0      14.0      234.0       129.0       105.0   \n4    ...      152.0    1.0      20.0      304.0       210.0        94.0   \n..   ...        ...    ...       ...        ...         ...         ...   \n611  ...      132.0    NaN       8.0      202.0       146.0        56.0   \n612  ...      143.0    2.0      22.0      378.0       298.0        80.0   \n613  ...       17.0    4.0      28.0      389.0       246.0       143.0   \n614  ...       67.0    2.0      28.0      470.0       293.0       177.0   \n615  ...       89.0    2.0      19.0      381.0       311.0        70.0   \n\n     Def_TO  Exp_Offense  Exp_Defense  Exp_SpecTms  \n0       1.0        15.48        -5.16        -1.73  \n1       NaN         7.86        -5.30         2.68  \n2       NaN        12.19       -15.14         0.95  \n3       NaN         8.61        -2.20       -14.31  \n4       1.0        -6.53        -1.74        -0.47  \n..      ...          ...          ...          ...  \n611     3.0       -10.05        20.46        -6.43  \n612     1.0         8.62        -9.29        -1.35  \n613     1.0        11.43       -15.44        -0.61  \n614     1.0       -14.27       -22.54        12.19  \n615     NaN         4.55       -17.81        -1.13  \n\n[1848 rows x 26 columns]",
      "text/html": "<div>\n<style scoped>\n    .dataframe tbody tr th:only-of-type {\n        vertical-align: middle;\n    }\n\n    .dataframe tbody tr th {\n        vertical-align: top;\n    }\n\n    .dataframe thead th {\n        text-align: right;\n    }\n</style>\n<table border=\"1\" class=\"dataframe\">\n  <thead>\n    <tr style=\"text-align: right;\">\n      <th></th>\n      <th>Week</th>\n      <th>Team</th>\n      <th>Day</th>\n      <th>Date</th>\n      <th>Time</th>\n      <th>Link</th>\n      <th>Result</th>\n      <th>OT</th>\n      <th>Rec</th>\n      <th>H/A</th>\n      <th>...</th>\n      <th>Off_RushYd</th>\n      <th>Off_TO</th>\n      <th>Def_1stD</th>\n      <th>Def_TotYd</th>\n      <th>Def_PassYd</th>\n      <th>Def_RushYD</th>\n      <th>Def_TO</th>\n      <th>Exp_Offense</th>\n      <th>Exp_Defense</th>\n      <th>Exp_SpecTms</th>\n    </tr>\n  </thead>\n  <tbody>\n    <tr>\n      <th>0</th>\n      <td>1</td>\n      <td>49ers</td>\n      <td>Sun</td>\n      <td>12-Sep</td>\n      <td>1:00PM ET</td>\n      <td>boxscore</td>\n      <td>W</td>\n      <td>NaN</td>\n      <td>Jan-00</td>\n      <td>@</td>\n      <td>...</td>\n      <td>131.0</td>\n      <td>2.0</td>\n      <td>31.0</td>\n      <td>430.0</td>\n      <td>314.0</td>\n      <td>116.0</td>\n      <td>1.0</td>\n      <td>15.48</td>\n      <td>-5.16</td>\n      <td>-1.73</td>\n    </tr>\n    <tr>\n      <th>1</th>\n      <td>2</td>\n      <td>49ers</td>\n      <td>Sun</td>\n      <td>19-Sep</td>\n      <td>1:00PM ET</td>\n      <td>boxscore</td>\n      <td>W</td>\n      <td>NaN</td>\n      <td>Feb-00</td>\n      <td>@</td>\n      <td>...</td>\n      <td>117.0</td>\n      <td>NaN</td>\n      <td>18.0</td>\n      <td>328.0</td>\n      <td>177.0</td>\n      <td>151.0</td>\n      <td>NaN</td>\n      <td>7.86</td>\n      <td>-5.30</td>\n      <td>2.68</td>\n    </tr>\n    <tr>\n      <th>2</th>\n      <td>3</td>\n      <td>49ers</td>\n      <td>Sun</td>\n      <td>26-Sep</td>\n      <td>8:20PM ET</td>\n      <td>boxscore</td>\n      <td>L</td>\n      <td>NaN</td>\n      <td>1-Feb</td>\n      <td>NaN</td>\n      <td>...</td>\n      <td>67.0</td>\n      <td>2.0</td>\n      <td>21.0</td>\n      <td>353.0</td>\n      <td>253.0</td>\n      <td>100.0</td>\n      <td>NaN</td>\n      <td>12.19</td>\n      <td>-15.14</td>\n      <td>0.95</td>\n    </tr>\n    <tr>\n      <th>3</th>\n      <td>4</td>\n      <td>49ers</td>\n      <td>Sun</td>\n      <td>3-Oct</td>\n      <td>4:05PM ET</td>\n      <td>boxscore</td>\n      <td>L</td>\n      <td>NaN</td>\n      <td>2-Feb</td>\n      <td>NaN</td>\n      <td>...</td>\n      <td>143.0</td>\n      <td>2.0</td>\n      <td>14.0</td>\n      <td>234.0</td>\n      <td>129.0</td>\n      <td>105.0</td>\n      <td>NaN</td>\n      <td>8.61</td>\n      <td>-2.20</td>\n      <td>-14.31</td>\n    </tr>\n    <tr>\n      <th>4</th>\n      <td>5</td>\n      <td>49ers</td>\n      <td>Sun</td>\n      <td>10-Oct</td>\n      <td>4:25PM ET</td>\n      <td>boxscore</td>\n      <td>L</td>\n      <td>NaN</td>\n      <td>3-Feb</td>\n      <td>@</td>\n      <td>...</td>\n      <td>152.0</td>\n      <td>1.0</td>\n      <td>20.0</td>\n      <td>304.0</td>\n      <td>210.0</td>\n      <td>94.0</td>\n      <td>1.0</td>\n      <td>-6.53</td>\n      <td>-1.74</td>\n      <td>-0.47</td>\n    </tr>\n    <tr>\n      <th>...</th>\n      <td>...</td>\n      <td>...</td>\n      <td>...</td>\n      <td>...</td>\n      <td>...</td>\n      <td>...</td>\n      <td>...</td>\n      <td>...</td>\n      <td>...</td>\n      <td>...</td>\n      <td>...</td>\n      <td>...</td>\n      <td>...</td>\n      <td>...</td>\n      <td>...</td>\n      <td>...</td>\n      <td>...</td>\n      <td>...</td>\n      <td>...</td>\n      <td>...</td>\n      <td>...</td>\n    </tr>\n    <tr>\n      <th>611</th>\n      <td>14</td>\n      <td>vikings</td>\n      <td>Sun</td>\n      <td>10-Dec</td>\n      <td>4:05PM ET</td>\n      <td>boxscore</td>\n      <td>W</td>\n      <td>NaN</td>\n      <td>6-Jul</td>\n      <td>@</td>\n      <td>...</td>\n      <td>132.0</td>\n      <td>NaN</td>\n      <td>8.0</td>\n      <td>202.0</td>\n      <td>146.0</td>\n      <td>56.0</td>\n      <td>3.0</td>\n      <td>-10.05</td>\n      <td>20.46</td>\n      <td>-6.43</td>\n    </tr>\n    <tr>\n      <th>612</th>\n      <td>15</td>\n      <td>vikings</td>\n      <td>Sat</td>\n      <td>16-Dec</td>\n      <td>1:00PM ET</td>\n      <td>boxscore</td>\n      <td>L</td>\n      <td>OT</td>\n      <td>7-Jul</td>\n      <td>@</td>\n      <td>...</td>\n      <td>143.0</td>\n      <td>2.0</td>\n      <td>22.0</td>\n      <td>378.0</td>\n      <td>298.0</td>\n      <td>80.0</td>\n      <td>1.0</td>\n      <td>8.62</td>\n      <td>-9.29</td>\n      <td>-1.35</td>\n    </tr>\n    <tr>\n      <th>613</th>\n      <td>16</td>\n      <td>vikings</td>\n      <td>Sun</td>\n      <td>24-Dec</td>\n      <td>1:00PM ET</td>\n      <td>boxscore</td>\n      <td>L</td>\n      <td>NaN</td>\n      <td>8-Jul</td>\n      <td>NaN</td>\n      <td>...</td>\n      <td>17.0</td>\n      <td>4.0</td>\n      <td>28.0</td>\n      <td>389.0</td>\n      <td>246.0</td>\n      <td>143.0</td>\n      <td>1.0</td>\n      <td>11.43</td>\n      <td>-15.44</td>\n      <td>-0.61</td>\n    </tr>\n    <tr>\n      <th>614</th>\n      <td>17</td>\n      <td>vikings</td>\n      <td>Sun</td>\n      <td>31-Dec</td>\n      <td>8:20PM ET</td>\n      <td>boxscore</td>\n      <td>L</td>\n      <td>NaN</td>\n      <td>9-Jul</td>\n      <td>NaN</td>\n      <td>...</td>\n      <td>67.0</td>\n      <td>2.0</td>\n      <td>28.0</td>\n      <td>470.0</td>\n      <td>293.0</td>\n      <td>177.0</td>\n      <td>1.0</td>\n      <td>-14.27</td>\n      <td>-22.54</td>\n      <td>12.19</td>\n    </tr>\n    <tr>\n      <th>615</th>\n      <td>18</td>\n      <td>vikings</td>\n      <td>Sun</td>\n      <td>7-Jan</td>\n      <td>1:00PM ET</td>\n      <td>boxscore</td>\n      <td>L</td>\n      <td>NaN</td>\n      <td>10-Jul</td>\n      <td>@</td>\n      <td>...</td>\n      <td>89.0</td>\n      <td>2.0</td>\n      <td>19.0</td>\n      <td>381.0</td>\n      <td>311.0</td>\n      <td>70.0</td>\n      <td>NaN</td>\n      <td>4.55</td>\n      <td>-17.81</td>\n      <td>-1.13</td>\n    </tr>\n  </tbody>\n</table>\n<p>1848 rows × 26 columns</p>\n</div>"
     },
     "execution_count": 93,
     "metadata": {},
     "output_type": "execute_result"
    }
   ],
   "source": [
    "data"
   ],
   "metadata": {
    "collapsed": false,
    "ExecuteTime": {
     "end_time": "2024-03-25T21:23:46.387465800Z",
     "start_time": "2024-03-25T21:23:46.272646400Z"
    }
   },
   "id": "bf798c49f219bd68",
   "execution_count": 93
  },
  {
   "cell_type": "code",
   "outputs": [
    {
     "name": "stderr",
     "output_type": "stream",
     "text": [
      "C:\\Users\\bpawl\\AppData\\Local\\Temp\\ipykernel_13508\\3175668919.py:4: FutureWarning: Downcasting behavior in `replace` is deprecated and will be removed in a future version. To retain the old behavior, explicitly call `result.infer_objects(copy=False)`. To opt-in to the future behavior, set `pd.set_option('future.no_silent_downcasting', True)`\n",
      "  data['OT'] = data['OT'].fillna(0).replace('OT', 1)\n"
     ]
    }
   ],
   "source": [
    "data['Result'] = data['Result'].apply(lambda x: 1 if x == 'W' else 0)  # Convert Win to 1 and anything else to 0\n",
    "\n",
    "#1 if OT, 0 if no OT\n",
    "data['OT'] = data['OT'].fillna(0).replace('OT', 1)\n",
    "\n",
    "# 1 is home, 0 is away\n",
    "data['H/A'] = data['H/A'].fillna(1).replace('@', 0)\n",
    "\n",
    "data = data.drop(columns = ['Day', 'Date', 'Time', 'Link', 'Rec', 'Week'])\n",
    "\n",
    "data = data.dropna()\n",
    "\n",
    "data = data.reset_index()"
   ],
   "metadata": {
    "collapsed": false,
    "ExecuteTime": {
     "end_time": "2024-03-25T21:23:46.813509800Z",
     "start_time": "2024-03-25T21:23:46.749112100Z"
    }
   },
   "id": "a093cdda0e39aa5b",
   "execution_count": 94
  },
  {
   "cell_type": "code",
   "outputs": [
    {
     "data": {
      "text/plain": "   index   Team  Result  OT H/A                 Opp Score_Tm  Score_Opp  \\\n0      0  49ers       1   0   0       Detroit Lions     41.0       33.0   \n1      4  49ers       0   0   0   Arizona Cardinals     10.0       17.0   \n2      6  49ers       0   0   1  Indianapolis Colts     18.0       30.0   \n3     11  49ers       1   0   1   Minnesota Vikings     34.0       26.0   \n4     12  49ers       0   0   0    Seattle Seahawks     23.0       30.0   \n\n   Off_1stD  Off_TotYd  ...  Off_RushYd  Off_TO  Def_1stD  Def_TotYd  \\\n0      21.0      442.0  ...       131.0     2.0      31.0      430.0   \n1      19.0      338.0  ...       152.0     1.0      20.0      304.0   \n2      13.0      280.0  ...       111.0     4.0      17.0      295.0   \n3      23.0      423.0  ...       208.0     1.0      17.0      323.0   \n4      17.0      365.0  ...        71.0     3.0      21.0      327.0   \n\n   Def_PassYd  Def_RushYD  Def_TO  Exp_Offense  Exp_Defense  Exp_SpecTms  \n0       314.0       116.0     1.0        15.48        -5.16        -1.73  \n1       210.0        94.0     1.0        -6.53        -1.74        -0.47  \n2       147.0       148.0     2.0       -15.30        -1.16         4.24  \n3       256.0        67.0     2.0         8.93         4.16        -6.10  \n4       181.0       146.0     3.0        -0.51        -2.27        -3.44  \n\n[5 rows x 21 columns]",
      "text/html": "<div>\n<style scoped>\n    .dataframe tbody tr th:only-of-type {\n        vertical-align: middle;\n    }\n\n    .dataframe tbody tr th {\n        vertical-align: top;\n    }\n\n    .dataframe thead th {\n        text-align: right;\n    }\n</style>\n<table border=\"1\" class=\"dataframe\">\n  <thead>\n    <tr style=\"text-align: right;\">\n      <th></th>\n      <th>index</th>\n      <th>Team</th>\n      <th>Result</th>\n      <th>OT</th>\n      <th>H/A</th>\n      <th>Opp</th>\n      <th>Score_Tm</th>\n      <th>Score_Opp</th>\n      <th>Off_1stD</th>\n      <th>Off_TotYd</th>\n      <th>...</th>\n      <th>Off_RushYd</th>\n      <th>Off_TO</th>\n      <th>Def_1stD</th>\n      <th>Def_TotYd</th>\n      <th>Def_PassYd</th>\n      <th>Def_RushYD</th>\n      <th>Def_TO</th>\n      <th>Exp_Offense</th>\n      <th>Exp_Defense</th>\n      <th>Exp_SpecTms</th>\n    </tr>\n  </thead>\n  <tbody>\n    <tr>\n      <th>0</th>\n      <td>0</td>\n      <td>49ers</td>\n      <td>1</td>\n      <td>0</td>\n      <td>0</td>\n      <td>Detroit Lions</td>\n      <td>41.0</td>\n      <td>33.0</td>\n      <td>21.0</td>\n      <td>442.0</td>\n      <td>...</td>\n      <td>131.0</td>\n      <td>2.0</td>\n      <td>31.0</td>\n      <td>430.0</td>\n      <td>314.0</td>\n      <td>116.0</td>\n      <td>1.0</td>\n      <td>15.48</td>\n      <td>-5.16</td>\n      <td>-1.73</td>\n    </tr>\n    <tr>\n      <th>1</th>\n      <td>4</td>\n      <td>49ers</td>\n      <td>0</td>\n      <td>0</td>\n      <td>0</td>\n      <td>Arizona Cardinals</td>\n      <td>10.0</td>\n      <td>17.0</td>\n      <td>19.0</td>\n      <td>338.0</td>\n      <td>...</td>\n      <td>152.0</td>\n      <td>1.0</td>\n      <td>20.0</td>\n      <td>304.0</td>\n      <td>210.0</td>\n      <td>94.0</td>\n      <td>1.0</td>\n      <td>-6.53</td>\n      <td>-1.74</td>\n      <td>-0.47</td>\n    </tr>\n    <tr>\n      <th>2</th>\n      <td>6</td>\n      <td>49ers</td>\n      <td>0</td>\n      <td>0</td>\n      <td>1</td>\n      <td>Indianapolis Colts</td>\n      <td>18.0</td>\n      <td>30.0</td>\n      <td>13.0</td>\n      <td>280.0</td>\n      <td>...</td>\n      <td>111.0</td>\n      <td>4.0</td>\n      <td>17.0</td>\n      <td>295.0</td>\n      <td>147.0</td>\n      <td>148.0</td>\n      <td>2.0</td>\n      <td>-15.30</td>\n      <td>-1.16</td>\n      <td>4.24</td>\n    </tr>\n    <tr>\n      <th>3</th>\n      <td>11</td>\n      <td>49ers</td>\n      <td>1</td>\n      <td>0</td>\n      <td>1</td>\n      <td>Minnesota Vikings</td>\n      <td>34.0</td>\n      <td>26.0</td>\n      <td>23.0</td>\n      <td>423.0</td>\n      <td>...</td>\n      <td>208.0</td>\n      <td>1.0</td>\n      <td>17.0</td>\n      <td>323.0</td>\n      <td>256.0</td>\n      <td>67.0</td>\n      <td>2.0</td>\n      <td>8.93</td>\n      <td>4.16</td>\n      <td>-6.10</td>\n    </tr>\n    <tr>\n      <th>4</th>\n      <td>12</td>\n      <td>49ers</td>\n      <td>0</td>\n      <td>0</td>\n      <td>0</td>\n      <td>Seattle Seahawks</td>\n      <td>23.0</td>\n      <td>30.0</td>\n      <td>17.0</td>\n      <td>365.0</td>\n      <td>...</td>\n      <td>71.0</td>\n      <td>3.0</td>\n      <td>21.0</td>\n      <td>327.0</td>\n      <td>181.0</td>\n      <td>146.0</td>\n      <td>3.0</td>\n      <td>-0.51</td>\n      <td>-2.27</td>\n      <td>-3.44</td>\n    </tr>\n  </tbody>\n</table>\n<p>5 rows × 21 columns</p>\n</div>"
     },
     "execution_count": 95,
     "metadata": {},
     "output_type": "execute_result"
    }
   ],
   "source": [
    "data.head()\n"
   ],
   "metadata": {
    "collapsed": false,
    "ExecuteTime": {
     "end_time": "2024-03-25T21:23:55.225163200Z",
     "start_time": "2024-03-25T21:23:55.193980Z"
    }
   },
   "id": "b2e68467b0150df1",
   "execution_count": 95
  },
  {
   "cell_type": "code",
   "outputs": [
    {
     "data": {
      "text/plain": "    Team                 Opp  Result  OT  H/A  Score_Tm  Score_Opp  Off_1stD  \\\n0  49ers       Detroit Lions       1   0    0      41.0       33.0      21.0   \n1  49ers   Arizona Cardinals       0   0    0      10.0       17.0      19.0   \n2  49ers  Indianapolis Colts       0   0    1      18.0       30.0      13.0   \n3  49ers   Minnesota Vikings       1   0    1      34.0       26.0      23.0   \n4  49ers    Seattle Seahawks       0   0    0      23.0       30.0      17.0   \n\n   Off_TotYd  Off_PassYd  Off_RushYd  Off_TO  Def_1stD  Def_TotYd  Def_PassYd  \\\n0      442.0       311.0       131.0     2.0      31.0      430.0       314.0   \n1      338.0       186.0       152.0     1.0      20.0      304.0       210.0   \n2      280.0       169.0       111.0     4.0      17.0      295.0       147.0   \n3      423.0       215.0       208.0     1.0      17.0      323.0       256.0   \n4      365.0       294.0        71.0     3.0      21.0      327.0       181.0   \n\n   Def_RushYD  Def_TO  Exp_Offense  Exp_Defense  Exp_SpecTms  \n0       116.0     1.0        15.48        -5.16        -1.73  \n1        94.0     1.0        -6.53        -1.74        -0.47  \n2       148.0     2.0       -15.30        -1.16         4.24  \n3        67.0     2.0         8.93         4.16        -6.10  \n4       146.0     3.0        -0.51        -2.27        -3.44  ",
      "text/html": "<div>\n<style scoped>\n    .dataframe tbody tr th:only-of-type {\n        vertical-align: middle;\n    }\n\n    .dataframe tbody tr th {\n        vertical-align: top;\n    }\n\n    .dataframe thead th {\n        text-align: right;\n    }\n</style>\n<table border=\"1\" class=\"dataframe\">\n  <thead>\n    <tr style=\"text-align: right;\">\n      <th></th>\n      <th>Team</th>\n      <th>Opp</th>\n      <th>Result</th>\n      <th>OT</th>\n      <th>H/A</th>\n      <th>Score_Tm</th>\n      <th>Score_Opp</th>\n      <th>Off_1stD</th>\n      <th>Off_TotYd</th>\n      <th>Off_PassYd</th>\n      <th>Off_RushYd</th>\n      <th>Off_TO</th>\n      <th>Def_1stD</th>\n      <th>Def_TotYd</th>\n      <th>Def_PassYd</th>\n      <th>Def_RushYD</th>\n      <th>Def_TO</th>\n      <th>Exp_Offense</th>\n      <th>Exp_Defense</th>\n      <th>Exp_SpecTms</th>\n    </tr>\n  </thead>\n  <tbody>\n    <tr>\n      <th>0</th>\n      <td>49ers</td>\n      <td>Detroit Lions</td>\n      <td>1</td>\n      <td>0</td>\n      <td>0</td>\n      <td>41.0</td>\n      <td>33.0</td>\n      <td>21.0</td>\n      <td>442.0</td>\n      <td>311.0</td>\n      <td>131.0</td>\n      <td>2.0</td>\n      <td>31.0</td>\n      <td>430.0</td>\n      <td>314.0</td>\n      <td>116.0</td>\n      <td>1.0</td>\n      <td>15.48</td>\n      <td>-5.16</td>\n      <td>-1.73</td>\n    </tr>\n    <tr>\n      <th>1</th>\n      <td>49ers</td>\n      <td>Arizona Cardinals</td>\n      <td>0</td>\n      <td>0</td>\n      <td>0</td>\n      <td>10.0</td>\n      <td>17.0</td>\n      <td>19.0</td>\n      <td>338.0</td>\n      <td>186.0</td>\n      <td>152.0</td>\n      <td>1.0</td>\n      <td>20.0</td>\n      <td>304.0</td>\n      <td>210.0</td>\n      <td>94.0</td>\n      <td>1.0</td>\n      <td>-6.53</td>\n      <td>-1.74</td>\n      <td>-0.47</td>\n    </tr>\n    <tr>\n      <th>2</th>\n      <td>49ers</td>\n      <td>Indianapolis Colts</td>\n      <td>0</td>\n      <td>0</td>\n      <td>1</td>\n      <td>18.0</td>\n      <td>30.0</td>\n      <td>13.0</td>\n      <td>280.0</td>\n      <td>169.0</td>\n      <td>111.0</td>\n      <td>4.0</td>\n      <td>17.0</td>\n      <td>295.0</td>\n      <td>147.0</td>\n      <td>148.0</td>\n      <td>2.0</td>\n      <td>-15.30</td>\n      <td>-1.16</td>\n      <td>4.24</td>\n    </tr>\n    <tr>\n      <th>3</th>\n      <td>49ers</td>\n      <td>Minnesota Vikings</td>\n      <td>1</td>\n      <td>0</td>\n      <td>1</td>\n      <td>34.0</td>\n      <td>26.0</td>\n      <td>23.0</td>\n      <td>423.0</td>\n      <td>215.0</td>\n      <td>208.0</td>\n      <td>1.0</td>\n      <td>17.0</td>\n      <td>323.0</td>\n      <td>256.0</td>\n      <td>67.0</td>\n      <td>2.0</td>\n      <td>8.93</td>\n      <td>4.16</td>\n      <td>-6.10</td>\n    </tr>\n    <tr>\n      <th>4</th>\n      <td>49ers</td>\n      <td>Seattle Seahawks</td>\n      <td>0</td>\n      <td>0</td>\n      <td>0</td>\n      <td>23.0</td>\n      <td>30.0</td>\n      <td>17.0</td>\n      <td>365.0</td>\n      <td>294.0</td>\n      <td>71.0</td>\n      <td>3.0</td>\n      <td>21.0</td>\n      <td>327.0</td>\n      <td>181.0</td>\n      <td>146.0</td>\n      <td>3.0</td>\n      <td>-0.51</td>\n      <td>-2.27</td>\n      <td>-3.44</td>\n    </tr>\n  </tbody>\n</table>\n</div>"
     },
     "execution_count": 96,
     "metadata": {},
     "output_type": "execute_result"
    }
   ],
   "source": [
    "data = data.drop(columns = ['index'])\n",
    "data['Score_Tm'] = data['Score_Tm'].astype(float)\n",
    "data = data[~(data['H/A'] == 'N')]\n",
    "data['H/A'] = data['H/A'].astype(int)\n",
    "column = data.pop('Opp')\n",
    "data.insert(1, 'Opp', column)\n",
    "data.head()"
   ],
   "metadata": {
    "collapsed": false,
    "ExecuteTime": {
     "end_time": "2024-03-25T21:24:34.835481100Z",
     "start_time": "2024-03-25T21:24:34.745812700Z"
    }
   },
   "id": "4200794abbb45782",
   "execution_count": 96
  },
  {
   "cell_type": "code",
   "outputs": [
    {
     "data": {
      "text/plain": "H/A\n0    416\n1    416\nName: count, dtype: int64"
     },
     "execution_count": 87,
     "metadata": {},
     "output_type": "execute_result"
    }
   ],
   "source": [
    "data['H/A'].value_counts()"
   ],
   "metadata": {
    "collapsed": false,
    "ExecuteTime": {
     "end_time": "2024-03-25T21:22:33.735866Z",
     "start_time": "2024-03-25T21:22:33.627575900Z"
    }
   },
   "id": "6757ce06e4327f4d",
   "execution_count": 87
  },
  {
   "cell_type": "code",
   "outputs": [],
   "source": [
    "X_train, X_test, y_train, y_test = train_test_split(data.iloc[:, 3:19], data.iloc[:, 2], test_size = 0.2, random_state = 1)"
   ],
   "metadata": {
    "collapsed": false,
    "ExecuteTime": {
     "end_time": "2024-03-25T21:24:49.551960500Z",
     "start_time": "2024-03-25T21:24:49.504264Z"
    }
   },
   "id": "d6a0b4eb6ad7fc1c",
   "execution_count": 97
  },
  {
   "cell_type": "code",
   "outputs": [
    {
     "data": {
      "text/plain": "Score_Tm\n17.0    39\n20.0    36\n27.0    29\n10.0    24\n31.0    22\n        ..\n8.0      1\n39       1\n45.0     1\n48       1\n49       1\nName: count, Length: 81, dtype: int64"
     },
     "execution_count": 57,
     "metadata": {},
     "output_type": "execute_result"
    }
   ],
   "source": [],
   "metadata": {
    "collapsed": false,
    "ExecuteTime": {
     "end_time": "2024-03-25T21:17:28.061997Z",
     "start_time": "2024-03-25T21:17:28.032525Z"
    }
   },
   "id": "ad063082299575e2",
   "execution_count": 57
  },
  {
   "cell_type": "code",
   "outputs": [
    {
     "name": "stdout",
     "output_type": "stream",
     "text": [
      "0.9221556886227545\n"
     ]
    }
   ],
   "source": [
    "rf = RandomForestClassifier(n_estimators = 100, random_state = 1)\n",
    "\n",
    "rf.fit(X_train, y_train)\n",
    "\n",
    "y_pred = rf.predict(X_test)\n",
    "\n",
    "accuracy = accuracy_score(y_test, y_pred)\n",
    "\n",
    "print(accuracy)"
   ],
   "metadata": {
    "collapsed": false,
    "ExecuteTime": {
     "end_time": "2024-03-25T21:24:51.659852800Z",
     "start_time": "2024-03-25T21:24:51.376223200Z"
    }
   },
   "id": "1ca83e7ad7acbf27",
   "execution_count": 98
  },
  {
   "cell_type": "code",
   "outputs": [
    {
     "data": {
      "text/plain": "array([1, 0, 0, 0, 1, 1, 0, 0, 0, 1, 1, 0, 0, 1, 0, 0, 1, 1, 1, 0, 0, 0,\n       0, 1, 1, 0, 0, 0, 1, 0, 1, 1, 0, 1, 0, 1, 0, 1, 0, 0, 0, 1, 0, 1,\n       0, 1, 0, 1, 1, 0, 1, 0, 1, 0, 0, 1, 0, 0, 1, 0, 0, 0, 1, 0, 0, 0,\n       0, 0, 0, 0, 0, 0, 0, 0, 1, 0, 1, 1, 1, 0, 1, 0, 1, 0, 1, 0, 1, 1,\n       1, 0, 1, 0, 1, 0, 0, 0, 1, 1, 0, 0, 0, 1, 1, 1, 0, 1, 1, 1, 0, 0,\n       0, 0, 0, 1, 1, 1, 1, 1, 0, 0, 0, 0, 1, 0, 1, 1, 1, 1, 1, 1, 0, 0,\n       0, 1, 0, 1, 0, 1, 1, 1, 0, 1, 0, 1, 1, 1, 0, 1, 0, 1, 0, 1, 0, 0,\n       1, 1, 0, 0, 1, 1, 0, 0, 0, 0, 1, 1, 0], dtype=int64)"
     },
     "execution_count": 90,
     "metadata": {},
     "output_type": "execute_result"
    }
   ],
   "source": [],
   "metadata": {
    "collapsed": false,
    "ExecuteTime": {
     "end_time": "2024-03-25T21:22:46.875531800Z",
     "start_time": "2024-03-25T21:22:46.808712900Z"
    }
   },
   "id": "2ff3f26b87a650b0",
   "execution_count": 90
  },
  {
   "cell_type": "code",
   "execution_count": 13,
   "outputs": [
    {
     "ename": "IndexError",
     "evalue": "single positional indexer is out-of-bounds",
     "output_type": "error",
     "traceback": [
      "\u001B[1;31m---------------------------------------------------------------------------\u001B[0m",
      "\u001B[1;31mIndexError\u001B[0m                                Traceback (most recent call last)",
      "Cell \u001B[1;32mIn[13], line 10\u001B[0m\n\u001B[0;32m      6\u001B[0m typical_lions_game \u001B[38;5;241m=\u001B[39m typical_lions_game\u001B[38;5;241m.\u001B[39mto_frame()\u001B[38;5;241m.\u001B[39mtranspose()\n\u001B[0;32m      8\u001B[0m \u001B[38;5;66;03m# We'll need to handle categorical data separately as we can't just take a mean\u001B[39;00m\n\u001B[0;32m      9\u001B[0m \u001B[38;5;66;03m# For this example, we'll assume the mode (most common category) for categorical attributes\u001B[39;00m\n\u001B[1;32m---> 10\u001B[0m typical_lions_categorical \u001B[38;5;241m=\u001B[39m \u001B[43mlions_games\u001B[49m\u001B[43m[\u001B[49m\u001B[43mcategorical_columns\u001B[49m\u001B[43m]\u001B[49m\u001B[38;5;241;43m.\u001B[39;49m\u001B[43mmode\u001B[49m\u001B[43m(\u001B[49m\u001B[43m)\u001B[49m\u001B[38;5;241;43m.\u001B[39;49m\u001B[43miloc\u001B[49m\u001B[43m[\u001B[49m\u001B[38;5;241;43m0\u001B[39;49m\u001B[43m]\u001B[49m\n\u001B[0;32m     12\u001B[0m \u001B[38;5;66;03m# Combine numerical and categorical \"typical\" game data\u001B[39;00m\n\u001B[0;32m     13\u001B[0m typical_lions_game \u001B[38;5;241m=\u001B[39m pd\u001B[38;5;241m.\u001B[39mconcat([typical_lions_game, typical_lions_categorical], axis\u001B[38;5;241m=\u001B[39m\u001B[38;5;241m1\u001B[39m)\n",
      "File \u001B[1;32m~\\AppData\\Local\\Programs\\Python\\Python311\\Lib\\site-packages\\pandas\\core\\indexing.py:1192\u001B[0m, in \u001B[0;36m_LocationIndexer.__getitem__\u001B[1;34m(self, key)\u001B[0m\n\u001B[0;32m   1190\u001B[0m maybe_callable \u001B[38;5;241m=\u001B[39m com\u001B[38;5;241m.\u001B[39mapply_if_callable(key, \u001B[38;5;28mself\u001B[39m\u001B[38;5;241m.\u001B[39mobj)\n\u001B[0;32m   1191\u001B[0m maybe_callable \u001B[38;5;241m=\u001B[39m \u001B[38;5;28mself\u001B[39m\u001B[38;5;241m.\u001B[39m_check_deprecated_callable_usage(key, maybe_callable)\n\u001B[1;32m-> 1192\u001B[0m \u001B[38;5;28;01mreturn\u001B[39;00m \u001B[38;5;28;43mself\u001B[39;49m\u001B[38;5;241;43m.\u001B[39;49m\u001B[43m_getitem_axis\u001B[49m\u001B[43m(\u001B[49m\u001B[43mmaybe_callable\u001B[49m\u001B[43m,\u001B[49m\u001B[43m \u001B[49m\u001B[43maxis\u001B[49m\u001B[38;5;241;43m=\u001B[39;49m\u001B[43maxis\u001B[49m\u001B[43m)\u001B[49m\n",
      "File \u001B[1;32m~\\AppData\\Local\\Programs\\Python\\Python311\\Lib\\site-packages\\pandas\\core\\indexing.py:1753\u001B[0m, in \u001B[0;36m_iLocIndexer._getitem_axis\u001B[1;34m(self, key, axis)\u001B[0m\n\u001B[0;32m   1750\u001B[0m     \u001B[38;5;28;01mraise\u001B[39;00m \u001B[38;5;167;01mTypeError\u001B[39;00m(\u001B[38;5;124m\"\u001B[39m\u001B[38;5;124mCannot index by location index with a non-integer key\u001B[39m\u001B[38;5;124m\"\u001B[39m)\n\u001B[0;32m   1752\u001B[0m \u001B[38;5;66;03m# validate the location\u001B[39;00m\n\u001B[1;32m-> 1753\u001B[0m \u001B[38;5;28;43mself\u001B[39;49m\u001B[38;5;241;43m.\u001B[39;49m\u001B[43m_validate_integer\u001B[49m\u001B[43m(\u001B[49m\u001B[43mkey\u001B[49m\u001B[43m,\u001B[49m\u001B[43m \u001B[49m\u001B[43maxis\u001B[49m\u001B[43m)\u001B[49m\n\u001B[0;32m   1755\u001B[0m \u001B[38;5;28;01mreturn\u001B[39;00m \u001B[38;5;28mself\u001B[39m\u001B[38;5;241m.\u001B[39mobj\u001B[38;5;241m.\u001B[39m_ixs(key, axis\u001B[38;5;241m=\u001B[39maxis)\n",
      "File \u001B[1;32m~\\AppData\\Local\\Programs\\Python\\Python311\\Lib\\site-packages\\pandas\\core\\indexing.py:1686\u001B[0m, in \u001B[0;36m_iLocIndexer._validate_integer\u001B[1;34m(self, key, axis)\u001B[0m\n\u001B[0;32m   1684\u001B[0m len_axis \u001B[38;5;241m=\u001B[39m \u001B[38;5;28mlen\u001B[39m(\u001B[38;5;28mself\u001B[39m\u001B[38;5;241m.\u001B[39mobj\u001B[38;5;241m.\u001B[39m_get_axis(axis))\n\u001B[0;32m   1685\u001B[0m \u001B[38;5;28;01mif\u001B[39;00m key \u001B[38;5;241m>\u001B[39m\u001B[38;5;241m=\u001B[39m len_axis \u001B[38;5;129;01mor\u001B[39;00m key \u001B[38;5;241m<\u001B[39m \u001B[38;5;241m-\u001B[39mlen_axis:\n\u001B[1;32m-> 1686\u001B[0m     \u001B[38;5;28;01mraise\u001B[39;00m \u001B[38;5;167;01mIndexError\u001B[39;00m(\u001B[38;5;124m\"\u001B[39m\u001B[38;5;124msingle positional indexer is out-of-bounds\u001B[39m\u001B[38;5;124m\"\u001B[39m)\n",
      "\u001B[1;31mIndexError\u001B[0m: single positional indexer is out-of-bounds"
     ]
    }
   ],
   "source": [
    "# Filter the dataset for Detroit Lions games\n",
    "lions_games = data[data['Team'] == 'Lions']\n",
    "\n",
    "# For simplicity, we will create a \"typical\" game for the Lions based on their historical data's mean\n",
    "typical_lions_game = lions_games[numeric_columns].apply(lambda x: x.mean(), axis=0)\n",
    "typical_lions_game = typical_lions_game.to_frame().transpose()\n",
    "\n",
    "# We'll need to handle categorical data separately as we can't just take a mean\n",
    "# For this example, we'll assume the mode (most common category) for categorical attributes\n",
    "typical_lions_categorical = lions_games[categorical_columns].mode().iloc[0]\n",
    "\n",
    "# Combine numerical and categorical \"typical\" game data\n",
    "typical_lions_game = pd.concat([typical_lions_game, typical_lions_categorical], axis=1)\n",
    "\n",
    "# We assume that the 'Result' column (our label) is not present in the new data we want to predict\n",
    "typical_lions_game = typical_lions_game[X_train.columns]\n",
    "\n",
    "# Now we use our trained model to make a prediction\n",
    "# Note: This prediction is speculative and based on the \"average\" past game features\n",
    "lions_next_game_pred = rf_pipeline.predict(typical_lions_game)\n",
    "\n",
    "# Convert prediction back to 'W' or 'L'\n",
    "lions_next_game_result = 'W' if lions_next_game_pred[0] == 1 else 'L'\n",
    "lions_next_game_result\n"
   ],
   "metadata": {
    "collapsed": false,
    "ExecuteTime": {
     "end_time": "2024-03-25T20:44:04.456952400Z",
     "start_time": "2024-03-25T20:44:04.243851700Z"
    }
   },
   "id": "94c1ae3a1269f04f"
  },
  {
   "cell_type": "code",
   "execution_count": 12,
   "outputs": [
    {
     "ename": "NameError",
     "evalue": "name 'lions_games' is not defined",
     "output_type": "error",
     "traceback": [
      "\u001B[1;31m---------------------------------------------------------------------------\u001B[0m",
      "\u001B[1;31mNameError\u001B[0m                                 Traceback (most recent call last)",
      "Cell \u001B[1;32mIn[12], line 2\u001B[0m\n\u001B[0;32m      1\u001B[0m \u001B[38;5;66;03m# Check how many Lions games are available in the dataset\u001B[39;00m\n\u001B[1;32m----> 2\u001B[0m lions_games_count \u001B[38;5;241m=\u001B[39m \u001B[43mlions_games\u001B[49m\u001B[38;5;241m.\u001B[39mshape[\u001B[38;5;241m0\u001B[39m]\n\u001B[0;32m      4\u001B[0m \u001B[38;5;66;03m# Check for any columns that might have all null values, which could cause the mode to fail\u001B[39;00m\n\u001B[0;32m      5\u001B[0m null_columns \u001B[38;5;241m=\u001B[39m lions_games[categorical_columns]\u001B[38;5;241m.\u001B[39misnull()\u001B[38;5;241m.\u001B[39mall()\n",
      "\u001B[1;31mNameError\u001B[0m: name 'lions_games' is not defined"
     ]
    }
   ],
   "source": [
    "# Check how many Lions games are available in the dataset\n",
    "lions_games_count = lions_games.shape[0]\n",
    "\n",
    "# Check for any columns that might have all null values, which could cause the mode to fail\n",
    "null_columns = lions_games[categorical_columns].isnull().all()\n",
    "\n",
    "# Display the number of Lions games and any categorical columns that have only null values\n",
    "(lions_games_count, null_columns)"
   ],
   "metadata": {
    "collapsed": false,
    "ExecuteTime": {
     "end_time": "2024-03-25T20:43:49.030780100Z",
     "start_time": "2024-03-25T20:43:48.998794700Z"
    }
   },
   "id": "dd68952a5bb6e73b"
  },
  {
   "cell_type": "code",
   "execution_count": null,
   "outputs": [],
   "source": [],
   "metadata": {
    "collapsed": false
   },
   "id": "2e46325ee092478f"
  }
 ],
 "metadata": {
  "kernelspec": {
   "display_name": "Python 3",
   "language": "python",
   "name": "python3"
  },
  "language_info": {
   "codemirror_mode": {
    "name": "ipython",
    "version": 2
   },
   "file_extension": ".py",
   "mimetype": "text/x-python",
   "name": "python",
   "nbconvert_exporter": "python",
   "pygments_lexer": "ipython2",
   "version": "2.7.6"
  }
 },
 "nbformat": 4,
 "nbformat_minor": 5
}
