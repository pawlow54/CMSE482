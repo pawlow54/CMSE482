{
 "cells": [
  {
   "cell_type": "code",
   "execution_count": 91,
   "id": "initial_id",
   "metadata": {
    "collapsed": true,
    "ExecuteTime": {
     "end_time": "2024-03-25T21:23:45.726861500Z",
     "start_time": "2024-03-25T21:23:45.688961200Z"
    }
   },
   "outputs": [],
   "source": [
    "import pandas as pd\n",
    "import numpy as np\n",
    "from sklearn.model_selection import train_test_split\n",
    "from sklearn.ensemble import RandomForestClassifier\n",
    "from sklearn.preprocessing import OneHotEncoder\n",
    "from sklearn.impute import SimpleImputer\n",
    "from sklearn.pipeline import make_pipeline\n",
    "from sklearn.compose import make_column_transformer\n",
    "from sklearn.metrics import accuracy_score"
   ]
  },
  {
   "cell_type": "code",
   "execution_count": 106,
   "outputs": [],
   "source": [
    "# Load the datasets\n",
    "df_2021 = pd.read_csv('2021data.csv')\n",
    "df_2022 = pd.read_csv('2022data.csv')\n",
    "df_2023 = pd.read_csv('2023data.csv')\n",
    "\n",
    "# Combine the datasets\n",
    "data = pd.concat([df_2021, df_2022, df_2023])\n",
    "\n",
    "# Save the combined dataset\n",
    "data.to_csv('combined_dataset.csv', index=False)"
   ],
   "metadata": {
    "collapsed": false,
    "ExecuteTime": {
     "end_time": "2024-03-25T22:25:12.214128500Z",
     "start_time": "2024-03-25T22:25:12.139029300Z"
    }
   },
   "id": "3f3cba652e2974df"
  },
  {
   "cell_type": "code",
   "outputs": [
    {
     "data": {
      "text/plain": "    Team                 Opp  Result  OT  H/A  Score_Tm  Score_Opp  Off_1stD  \\\n0  49ers       Detroit Lions       1   0    0      41.0       33.0      21.0   \n1  49ers   Arizona Cardinals       0   0    0      10.0       17.0      19.0   \n2  49ers  Indianapolis Colts       0   0    1      18.0       30.0      13.0   \n3  49ers   Minnesota Vikings       1   0    1      34.0       26.0      23.0   \n4  49ers    Seattle Seahawks       0   0    0      23.0       30.0      17.0   \n\n   Off_TotYd  Off_PassYd  Off_RushYd  Off_TO  Def_1stD  Def_TotYd  Def_PassYd  \\\n0      442.0       311.0       131.0     2.0      31.0      430.0       314.0   \n1      338.0       186.0       152.0     1.0      20.0      304.0       210.0   \n2      280.0       169.0       111.0     4.0      17.0      295.0       147.0   \n3      423.0       215.0       208.0     1.0      17.0      323.0       256.0   \n4      365.0       294.0        71.0     3.0      21.0      327.0       181.0   \n\n   Def_RushYD  Def_TO  Exp_Offense  Exp_Defense  Exp_SpecTms  \n0       116.0     1.0        15.48        -5.16        -1.73  \n1        94.0     1.0        -6.53        -1.74        -0.47  \n2       148.0     2.0       -15.30        -1.16         4.24  \n3        67.0     2.0         8.93         4.16        -6.10  \n4       146.0     3.0        -0.51        -2.27        -3.44  ",
      "text/html": "<div>\n<style scoped>\n    .dataframe tbody tr th:only-of-type {\n        vertical-align: middle;\n    }\n\n    .dataframe tbody tr th {\n        vertical-align: top;\n    }\n\n    .dataframe thead th {\n        text-align: right;\n    }\n</style>\n<table border=\"1\" class=\"dataframe\">\n  <thead>\n    <tr style=\"text-align: right;\">\n      <th></th>\n      <th>Team</th>\n      <th>Opp</th>\n      <th>Result</th>\n      <th>OT</th>\n      <th>H/A</th>\n      <th>Score_Tm</th>\n      <th>Score_Opp</th>\n      <th>Off_1stD</th>\n      <th>Off_TotYd</th>\n      <th>Off_PassYd</th>\n      <th>Off_RushYd</th>\n      <th>Off_TO</th>\n      <th>Def_1stD</th>\n      <th>Def_TotYd</th>\n      <th>Def_PassYd</th>\n      <th>Def_RushYD</th>\n      <th>Def_TO</th>\n      <th>Exp_Offense</th>\n      <th>Exp_Defense</th>\n      <th>Exp_SpecTms</th>\n    </tr>\n  </thead>\n  <tbody>\n    <tr>\n      <th>0</th>\n      <td>49ers</td>\n      <td>Detroit Lions</td>\n      <td>1</td>\n      <td>0</td>\n      <td>0</td>\n      <td>41.0</td>\n      <td>33.0</td>\n      <td>21.0</td>\n      <td>442.0</td>\n      <td>311.0</td>\n      <td>131.0</td>\n      <td>2.0</td>\n      <td>31.0</td>\n      <td>430.0</td>\n      <td>314.0</td>\n      <td>116.0</td>\n      <td>1.0</td>\n      <td>15.48</td>\n      <td>-5.16</td>\n      <td>-1.73</td>\n    </tr>\n    <tr>\n      <th>1</th>\n      <td>49ers</td>\n      <td>Arizona Cardinals</td>\n      <td>0</td>\n      <td>0</td>\n      <td>0</td>\n      <td>10.0</td>\n      <td>17.0</td>\n      <td>19.0</td>\n      <td>338.0</td>\n      <td>186.0</td>\n      <td>152.0</td>\n      <td>1.0</td>\n      <td>20.0</td>\n      <td>304.0</td>\n      <td>210.0</td>\n      <td>94.0</td>\n      <td>1.0</td>\n      <td>-6.53</td>\n      <td>-1.74</td>\n      <td>-0.47</td>\n    </tr>\n    <tr>\n      <th>2</th>\n      <td>49ers</td>\n      <td>Indianapolis Colts</td>\n      <td>0</td>\n      <td>0</td>\n      <td>1</td>\n      <td>18.0</td>\n      <td>30.0</td>\n      <td>13.0</td>\n      <td>280.0</td>\n      <td>169.0</td>\n      <td>111.0</td>\n      <td>4.0</td>\n      <td>17.0</td>\n      <td>295.0</td>\n      <td>147.0</td>\n      <td>148.0</td>\n      <td>2.0</td>\n      <td>-15.30</td>\n      <td>-1.16</td>\n      <td>4.24</td>\n    </tr>\n    <tr>\n      <th>3</th>\n      <td>49ers</td>\n      <td>Minnesota Vikings</td>\n      <td>1</td>\n      <td>0</td>\n      <td>1</td>\n      <td>34.0</td>\n      <td>26.0</td>\n      <td>23.0</td>\n      <td>423.0</td>\n      <td>215.0</td>\n      <td>208.0</td>\n      <td>1.0</td>\n      <td>17.0</td>\n      <td>323.0</td>\n      <td>256.0</td>\n      <td>67.0</td>\n      <td>2.0</td>\n      <td>8.93</td>\n      <td>4.16</td>\n      <td>-6.10</td>\n    </tr>\n    <tr>\n      <th>4</th>\n      <td>49ers</td>\n      <td>Seattle Seahawks</td>\n      <td>0</td>\n      <td>0</td>\n      <td>0</td>\n      <td>23.0</td>\n      <td>30.0</td>\n      <td>17.0</td>\n      <td>365.0</td>\n      <td>294.0</td>\n      <td>71.0</td>\n      <td>3.0</td>\n      <td>21.0</td>\n      <td>327.0</td>\n      <td>181.0</td>\n      <td>146.0</td>\n      <td>3.0</td>\n      <td>-0.51</td>\n      <td>-2.27</td>\n      <td>-3.44</td>\n    </tr>\n  </tbody>\n</table>\n</div>"
     },
     "execution_count": 100,
     "metadata": {},
     "output_type": "execute_result"
    }
   ],
   "source": [
    "data"
   ],
   "metadata": {
    "collapsed": false,
    "ExecuteTime": {
     "end_time": "2024-03-25T22:17:12.536452200Z",
     "start_time": "2024-03-25T22:17:12.461181400Z"
    }
   },
   "id": "bf798c49f219bd68",
   "execution_count": 100
  },
  {
   "cell_type": "code",
   "outputs": [
    {
     "name": "stderr",
     "output_type": "stream",
     "text": [
      "C:\\Users\\bpawl\\AppData\\Local\\Temp\\ipykernel_13508\\3175668919.py:4: FutureWarning: Downcasting behavior in `replace` is deprecated and will be removed in a future version. To retain the old behavior, explicitly call `result.infer_objects(copy=False)`. To opt-in to the future behavior, set `pd.set_option('future.no_silent_downcasting', True)`\n",
      "  data['OT'] = data['OT'].fillna(0).replace('OT', 1)\n"
     ]
    }
   ],
   "source": [
    "data['Result'] = data['Result'].apply(lambda x: 1 if x == 'W' else 0)  # Convert Win to 1 and anything else to 0\n",
    "\n",
    "#1 if OT, 0 if no OT\n",
    "data['OT'] = data['OT'].fillna(0).replace('OT', 1)\n",
    "\n",
    "# 1 is home, 0 is away\n",
    "data['H/A'] = data['H/A'].fillna(1).replace('@', 0)\n",
    "\n",
    "data = data.drop(columns = ['Day', 'Date', 'Time', 'Link', 'Rec', 'Week'])\n",
    "\n",
    "data = data.dropna()\n",
    "\n",
    "data = data.reset_index()\n",
    "\n",
    "data = data.drop(columns = ['index'])\n",
    "data['Score_Tm'] = data['Score_Tm'].astype(float)\n",
    "data = data[~(data['H/A'] == 'N')]\n",
    "data['H/A'] = data['H/A'].astype(float)\n",
    "data['OT'] = data['OT'].astype(float)\n",
    "data['Result'] = data['Result'].astype(float)\n",
    "column = data.pop('Opp')\n",
    "data.insert(1, 'Opp', column)"
   ],
   "metadata": {
    "collapsed": false,
    "ExecuteTime": {
     "end_time": "2024-03-25T21:23:46.813509800Z",
     "start_time": "2024-03-25T21:23:46.749112100Z"
    }
   },
   "id": "a093cdda0e39aa5b",
   "execution_count": 94
  },
  {
   "cell_type": "code",
   "outputs": [
    {
     "data": {
      "text/plain": "    Team                 Opp  Result  OT  H/A  Score_Tm  Score_Opp  Off_1stD  \\\n0  49ers       Detroit Lions       1   0    0      41.0       33.0      21.0   \n1  49ers   Arizona Cardinals       0   0    0      10.0       17.0      19.0   \n2  49ers  Indianapolis Colts       0   0    1      18.0       30.0      13.0   \n3  49ers   Minnesota Vikings       1   0    1      34.0       26.0      23.0   \n4  49ers    Seattle Seahawks       0   0    0      23.0       30.0      17.0   \n\n   Off_TotYd  Off_PassYd  Off_RushYd  Off_TO  Def_1stD  Def_TotYd  Def_PassYd  \\\n0      442.0       311.0       131.0     2.0      31.0      430.0       314.0   \n1      338.0       186.0       152.0     1.0      20.0      304.0       210.0   \n2      280.0       169.0       111.0     4.0      17.0      295.0       147.0   \n3      423.0       215.0       208.0     1.0      17.0      323.0       256.0   \n4      365.0       294.0        71.0     3.0      21.0      327.0       181.0   \n\n   Def_RushYD  Def_TO  Exp_Offense  Exp_Defense  Exp_SpecTms  \n0       116.0     1.0        15.48        -5.16        -1.73  \n1        94.0     1.0        -6.53        -1.74        -0.47  \n2       148.0     2.0       -15.30        -1.16         4.24  \n3        67.0     2.0         8.93         4.16        -6.10  \n4       146.0     3.0        -0.51        -2.27        -3.44  ",
      "text/html": "<div>\n<style scoped>\n    .dataframe tbody tr th:only-of-type {\n        vertical-align: middle;\n    }\n\n    .dataframe tbody tr th {\n        vertical-align: top;\n    }\n\n    .dataframe thead th {\n        text-align: right;\n    }\n</style>\n<table border=\"1\" class=\"dataframe\">\n  <thead>\n    <tr style=\"text-align: right;\">\n      <th></th>\n      <th>Team</th>\n      <th>Opp</th>\n      <th>Result</th>\n      <th>OT</th>\n      <th>H/A</th>\n      <th>Score_Tm</th>\n      <th>Score_Opp</th>\n      <th>Off_1stD</th>\n      <th>Off_TotYd</th>\n      <th>Off_PassYd</th>\n      <th>Off_RushYd</th>\n      <th>Off_TO</th>\n      <th>Def_1stD</th>\n      <th>Def_TotYd</th>\n      <th>Def_PassYd</th>\n      <th>Def_RushYD</th>\n      <th>Def_TO</th>\n      <th>Exp_Offense</th>\n      <th>Exp_Defense</th>\n      <th>Exp_SpecTms</th>\n    </tr>\n  </thead>\n  <tbody>\n    <tr>\n      <th>0</th>\n      <td>49ers</td>\n      <td>Detroit Lions</td>\n      <td>1</td>\n      <td>0</td>\n      <td>0</td>\n      <td>41.0</td>\n      <td>33.0</td>\n      <td>21.0</td>\n      <td>442.0</td>\n      <td>311.0</td>\n      <td>131.0</td>\n      <td>2.0</td>\n      <td>31.0</td>\n      <td>430.0</td>\n      <td>314.0</td>\n      <td>116.0</td>\n      <td>1.0</td>\n      <td>15.48</td>\n      <td>-5.16</td>\n      <td>-1.73</td>\n    </tr>\n    <tr>\n      <th>1</th>\n      <td>49ers</td>\n      <td>Arizona Cardinals</td>\n      <td>0</td>\n      <td>0</td>\n      <td>0</td>\n      <td>10.0</td>\n      <td>17.0</td>\n      <td>19.0</td>\n      <td>338.0</td>\n      <td>186.0</td>\n      <td>152.0</td>\n      <td>1.0</td>\n      <td>20.0</td>\n      <td>304.0</td>\n      <td>210.0</td>\n      <td>94.0</td>\n      <td>1.0</td>\n      <td>-6.53</td>\n      <td>-1.74</td>\n      <td>-0.47</td>\n    </tr>\n    <tr>\n      <th>2</th>\n      <td>49ers</td>\n      <td>Indianapolis Colts</td>\n      <td>0</td>\n      <td>0</td>\n      <td>1</td>\n      <td>18.0</td>\n      <td>30.0</td>\n      <td>13.0</td>\n      <td>280.0</td>\n      <td>169.0</td>\n      <td>111.0</td>\n      <td>4.0</td>\n      <td>17.0</td>\n      <td>295.0</td>\n      <td>147.0</td>\n      <td>148.0</td>\n      <td>2.0</td>\n      <td>-15.30</td>\n      <td>-1.16</td>\n      <td>4.24</td>\n    </tr>\n    <tr>\n      <th>3</th>\n      <td>49ers</td>\n      <td>Minnesota Vikings</td>\n      <td>1</td>\n      <td>0</td>\n      <td>1</td>\n      <td>34.0</td>\n      <td>26.0</td>\n      <td>23.0</td>\n      <td>423.0</td>\n      <td>215.0</td>\n      <td>208.0</td>\n      <td>1.0</td>\n      <td>17.0</td>\n      <td>323.0</td>\n      <td>256.0</td>\n      <td>67.0</td>\n      <td>2.0</td>\n      <td>8.93</td>\n      <td>4.16</td>\n      <td>-6.10</td>\n    </tr>\n    <tr>\n      <th>4</th>\n      <td>49ers</td>\n      <td>Seattle Seahawks</td>\n      <td>0</td>\n      <td>0</td>\n      <td>0</td>\n      <td>23.0</td>\n      <td>30.0</td>\n      <td>17.0</td>\n      <td>365.0</td>\n      <td>294.0</td>\n      <td>71.0</td>\n      <td>3.0</td>\n      <td>21.0</td>\n      <td>327.0</td>\n      <td>181.0</td>\n      <td>146.0</td>\n      <td>3.0</td>\n      <td>-0.51</td>\n      <td>-2.27</td>\n      <td>-3.44</td>\n    </tr>\n  </tbody>\n</table>\n</div>"
     },
     "execution_count": 96,
     "metadata": {},
     "output_type": "execute_result"
    }
   ],
   "source": [
    "data.head()"
   ],
   "metadata": {
    "collapsed": false
   },
   "id": "4200794abbb45782",
   "execution_count": 96
  },
  {
   "cell_type": "code",
   "outputs": [],
   "source": [],
   "metadata": {
    "collapsed": false,
    "ExecuteTime": {
     "end_time": "2024-03-25T21:26:26.719359700Z",
     "start_time": "2024-03-25T21:26:26.688931Z"
    }
   },
   "id": "2ff3f26b87a650b0",
   "execution_count": 98
  },
  {
   "cell_type": "code",
   "execution_count": 101,
   "outputs": [
    {
     "data": {
      "text/plain": "    Week     Team  Day    Date       Time      Link Result   OT     Rec  H/A  \\\n0      1    49ers  Sun  12-Sep  1:00PM ET  boxscore      W  NaN  Jan-00    @   \n1      2    49ers  Sun  19-Sep  1:00PM ET  boxscore      W  NaN  Feb-00    @   \n2      3    49ers  Sun  26-Sep  8:20PM ET  boxscore      L  NaN   1-Feb  NaN   \n3      4    49ers  Sun   3-Oct  4:05PM ET  boxscore      L  NaN   2-Feb  NaN   \n4      5    49ers  Sun  10-Oct  4:25PM ET  boxscore      L  NaN   3-Feb    @   \n..   ...      ...  ...     ...        ...       ...    ...  ...     ...  ...   \n611   14  vikings  Thu   9-Dec  8:20PM ET  boxscore      W  NaN   7-Jun  NaN   \n612   15  vikings  Mon  20-Dec  8:15PM ET  boxscore      W  NaN   7-Jul    @   \n613   16  vikings  Sun  26-Dec  1:00PM ET  boxscore      L  NaN   8-Jul  NaN   \n614   17  vikings  Sun   2-Jan  8:20PM ET  boxscore      L  NaN   9-Jul    @   \n615   18  vikings  Sun   9-Jan  1:00PM ET  boxscore      W  NaN   9-Aug  NaN   \n\n     ... Off_RushYd  Off_TO  Def_1stD  Def_TotYd  Def_PassYd  Def_RushYD  \\\n0    ...      131.0     2.0      31.0      430.0       314.0       116.0   \n1    ...      117.0     NaN      18.0      328.0       177.0       151.0   \n2    ...       67.0     2.0      21.0      353.0       253.0       100.0   \n3    ...      143.0     2.0      14.0      234.0       129.0       105.0   \n4    ...      152.0     1.0      20.0      304.0       210.0        94.0   \n..   ...        ...     ...       ...        ...         ...         ...   \n611  ...      242.0     2.0      22.0      375.0       269.0       106.0   \n612  ...      132.0     1.0      24.0      370.0       255.0       115.0   \n613  ...       66.0     1.0      22.0      356.0       197.0       159.0   \n614  ...       27.0     NaN      29.0      481.0       307.0       174.0   \n615  ...      104.0     NaN      24.0      356.0       266.0        90.0   \n\n     Def_TO  Exp_Offense  Exp_Defense  Exp_SpecTms  \n0       1.0        15.48        -5.16        -1.73  \n1       NaN         7.86        -5.30         2.68  \n2       NaN        12.19       -15.14         0.95  \n3       NaN         8.61        -2.20       -14.31  \n4       1.0        -6.53        -1.74        -0.47  \n..      ...          ...          ...          ...  \n611     1.0         8.68        -6.41         1.31  \n612     3.0        -4.65         7.72         5.92  \n613     3.0        -1.81         0.84        -7.80  \n614     NaN       -13.56       -21.96         7.80  \n615     2.0         7.18        12.22        -1.20  \n\n[616 rows x 26 columns]",
      "text/html": "<div>\n<style scoped>\n    .dataframe tbody tr th:only-of-type {\n        vertical-align: middle;\n    }\n\n    .dataframe tbody tr th {\n        vertical-align: top;\n    }\n\n    .dataframe thead th {\n        text-align: right;\n    }\n</style>\n<table border=\"1\" class=\"dataframe\">\n  <thead>\n    <tr style=\"text-align: right;\">\n      <th></th>\n      <th>Week</th>\n      <th>Team</th>\n      <th>Day</th>\n      <th>Date</th>\n      <th>Time</th>\n      <th>Link</th>\n      <th>Result</th>\n      <th>OT</th>\n      <th>Rec</th>\n      <th>H/A</th>\n      <th>...</th>\n      <th>Off_RushYd</th>\n      <th>Off_TO</th>\n      <th>Def_1stD</th>\n      <th>Def_TotYd</th>\n      <th>Def_PassYd</th>\n      <th>Def_RushYD</th>\n      <th>Def_TO</th>\n      <th>Exp_Offense</th>\n      <th>Exp_Defense</th>\n      <th>Exp_SpecTms</th>\n    </tr>\n  </thead>\n  <tbody>\n    <tr>\n      <th>0</th>\n      <td>1</td>\n      <td>49ers</td>\n      <td>Sun</td>\n      <td>12-Sep</td>\n      <td>1:00PM ET</td>\n      <td>boxscore</td>\n      <td>W</td>\n      <td>NaN</td>\n      <td>Jan-00</td>\n      <td>@</td>\n      <td>...</td>\n      <td>131.0</td>\n      <td>2.0</td>\n      <td>31.0</td>\n      <td>430.0</td>\n      <td>314.0</td>\n      <td>116.0</td>\n      <td>1.0</td>\n      <td>15.48</td>\n      <td>-5.16</td>\n      <td>-1.73</td>\n    </tr>\n    <tr>\n      <th>1</th>\n      <td>2</td>\n      <td>49ers</td>\n      <td>Sun</td>\n      <td>19-Sep</td>\n      <td>1:00PM ET</td>\n      <td>boxscore</td>\n      <td>W</td>\n      <td>NaN</td>\n      <td>Feb-00</td>\n      <td>@</td>\n      <td>...</td>\n      <td>117.0</td>\n      <td>NaN</td>\n      <td>18.0</td>\n      <td>328.0</td>\n      <td>177.0</td>\n      <td>151.0</td>\n      <td>NaN</td>\n      <td>7.86</td>\n      <td>-5.30</td>\n      <td>2.68</td>\n    </tr>\n    <tr>\n      <th>2</th>\n      <td>3</td>\n      <td>49ers</td>\n      <td>Sun</td>\n      <td>26-Sep</td>\n      <td>8:20PM ET</td>\n      <td>boxscore</td>\n      <td>L</td>\n      <td>NaN</td>\n      <td>1-Feb</td>\n      <td>NaN</td>\n      <td>...</td>\n      <td>67.0</td>\n      <td>2.0</td>\n      <td>21.0</td>\n      <td>353.0</td>\n      <td>253.0</td>\n      <td>100.0</td>\n      <td>NaN</td>\n      <td>12.19</td>\n      <td>-15.14</td>\n      <td>0.95</td>\n    </tr>\n    <tr>\n      <th>3</th>\n      <td>4</td>\n      <td>49ers</td>\n      <td>Sun</td>\n      <td>3-Oct</td>\n      <td>4:05PM ET</td>\n      <td>boxscore</td>\n      <td>L</td>\n      <td>NaN</td>\n      <td>2-Feb</td>\n      <td>NaN</td>\n      <td>...</td>\n      <td>143.0</td>\n      <td>2.0</td>\n      <td>14.0</td>\n      <td>234.0</td>\n      <td>129.0</td>\n      <td>105.0</td>\n      <td>NaN</td>\n      <td>8.61</td>\n      <td>-2.20</td>\n      <td>-14.31</td>\n    </tr>\n    <tr>\n      <th>4</th>\n      <td>5</td>\n      <td>49ers</td>\n      <td>Sun</td>\n      <td>10-Oct</td>\n      <td>4:25PM ET</td>\n      <td>boxscore</td>\n      <td>L</td>\n      <td>NaN</td>\n      <td>3-Feb</td>\n      <td>@</td>\n      <td>...</td>\n      <td>152.0</td>\n      <td>1.0</td>\n      <td>20.0</td>\n      <td>304.0</td>\n      <td>210.0</td>\n      <td>94.0</td>\n      <td>1.0</td>\n      <td>-6.53</td>\n      <td>-1.74</td>\n      <td>-0.47</td>\n    </tr>\n    <tr>\n      <th>...</th>\n      <td>...</td>\n      <td>...</td>\n      <td>...</td>\n      <td>...</td>\n      <td>...</td>\n      <td>...</td>\n      <td>...</td>\n      <td>...</td>\n      <td>...</td>\n      <td>...</td>\n      <td>...</td>\n      <td>...</td>\n      <td>...</td>\n      <td>...</td>\n      <td>...</td>\n      <td>...</td>\n      <td>...</td>\n      <td>...</td>\n      <td>...</td>\n      <td>...</td>\n      <td>...</td>\n    </tr>\n    <tr>\n      <th>611</th>\n      <td>14</td>\n      <td>vikings</td>\n      <td>Thu</td>\n      <td>9-Dec</td>\n      <td>8:20PM ET</td>\n      <td>boxscore</td>\n      <td>W</td>\n      <td>NaN</td>\n      <td>7-Jun</td>\n      <td>NaN</td>\n      <td>...</td>\n      <td>242.0</td>\n      <td>2.0</td>\n      <td>22.0</td>\n      <td>375.0</td>\n      <td>269.0</td>\n      <td>106.0</td>\n      <td>1.0</td>\n      <td>8.68</td>\n      <td>-6.41</td>\n      <td>1.31</td>\n    </tr>\n    <tr>\n      <th>612</th>\n      <td>15</td>\n      <td>vikings</td>\n      <td>Mon</td>\n      <td>20-Dec</td>\n      <td>8:15PM ET</td>\n      <td>boxscore</td>\n      <td>W</td>\n      <td>NaN</td>\n      <td>7-Jul</td>\n      <td>@</td>\n      <td>...</td>\n      <td>132.0</td>\n      <td>1.0</td>\n      <td>24.0</td>\n      <td>370.0</td>\n      <td>255.0</td>\n      <td>115.0</td>\n      <td>3.0</td>\n      <td>-4.65</td>\n      <td>7.72</td>\n      <td>5.92</td>\n    </tr>\n    <tr>\n      <th>613</th>\n      <td>16</td>\n      <td>vikings</td>\n      <td>Sun</td>\n      <td>26-Dec</td>\n      <td>1:00PM ET</td>\n      <td>boxscore</td>\n      <td>L</td>\n      <td>NaN</td>\n      <td>8-Jul</td>\n      <td>NaN</td>\n      <td>...</td>\n      <td>66.0</td>\n      <td>1.0</td>\n      <td>22.0</td>\n      <td>356.0</td>\n      <td>197.0</td>\n      <td>159.0</td>\n      <td>3.0</td>\n      <td>-1.81</td>\n      <td>0.84</td>\n      <td>-7.80</td>\n    </tr>\n    <tr>\n      <th>614</th>\n      <td>17</td>\n      <td>vikings</td>\n      <td>Sun</td>\n      <td>2-Jan</td>\n      <td>8:20PM ET</td>\n      <td>boxscore</td>\n      <td>L</td>\n      <td>NaN</td>\n      <td>9-Jul</td>\n      <td>@</td>\n      <td>...</td>\n      <td>27.0</td>\n      <td>NaN</td>\n      <td>29.0</td>\n      <td>481.0</td>\n      <td>307.0</td>\n      <td>174.0</td>\n      <td>NaN</td>\n      <td>-13.56</td>\n      <td>-21.96</td>\n      <td>7.80</td>\n    </tr>\n    <tr>\n      <th>615</th>\n      <td>18</td>\n      <td>vikings</td>\n      <td>Sun</td>\n      <td>9-Jan</td>\n      <td>1:00PM ET</td>\n      <td>boxscore</td>\n      <td>W</td>\n      <td>NaN</td>\n      <td>9-Aug</td>\n      <td>NaN</td>\n      <td>...</td>\n      <td>104.0</td>\n      <td>NaN</td>\n      <td>24.0</td>\n      <td>356.0</td>\n      <td>266.0</td>\n      <td>90.0</td>\n      <td>2.0</td>\n      <td>7.18</td>\n      <td>12.22</td>\n      <td>-1.20</td>\n    </tr>\n  </tbody>\n</table>\n<p>616 rows × 26 columns</p>\n</div>"
     },
     "execution_count": 101,
     "metadata": {},
     "output_type": "execute_result"
    }
   ],
   "source": [
    "df_2021"
   ],
   "metadata": {
    "collapsed": false,
    "ExecuteTime": {
     "end_time": "2024-03-25T22:21:23.272094800Z",
     "start_time": "2024-03-25T22:21:23.235784400Z"
    }
   },
   "id": "2e46325ee092478f"
  },
  {
   "cell_type": "markdown",
   "source": [
    "# THE GOOD STUFF"
   ],
   "metadata": {
    "collapsed": false
   },
   "id": "ca432c920128bc09"
  },
  {
   "cell_type": "code",
   "outputs": [],
   "source": [
    "df_2021 = pd.read_csv('2021data.csv')\n",
    "df_2022 = pd.read_csv('2022data.csv')\n",
    "df_2023 = pd.read_csv('2023data.csv')"
   ],
   "metadata": {
    "collapsed": false,
    "ExecuteTime": {
     "end_time": "2024-03-26T00:59:35.151771Z",
     "start_time": "2024-03-26T00:59:35.089937100Z"
    }
   },
   "id": "569565b1a7085714",
   "execution_count": 305
  },
  {
   "cell_type": "code",
   "outputs": [
    {
     "name": "stderr",
     "output_type": "stream",
     "text": [
      "C:\\Users\\bpawl\\AppData\\Local\\Temp\\ipykernel_13508\\3988736548.py:5: FutureWarning: Downcasting behavior in `replace` is deprecated and will be removed in a future version. To retain the old behavior, explicitly call `result.infer_objects(copy=False)`. To opt-in to the future behavior, set `pd.set_option('future.no_silent_downcasting', True)`\n",
      "  df_2021['OT'] = df_2021['OT'].fillna(0).replace('OT', 1)\n"
     ]
    },
    {
     "data": {
      "text/plain": "    Team  Result   OT  H/A  Score_Tm  Score_Opp  Off_1stD  Off_TotYd  \\\n0  49ers     1.0  0.0  0.0      41.0       33.0      21.0      442.0   \n1  49ers     0.0  0.0  0.0      10.0       17.0      19.0      338.0   \n2  49ers     0.0  0.0  1.0      18.0       30.0      13.0      280.0   \n3  49ers     1.0  0.0  1.0      34.0       26.0      23.0      423.0   \n4  49ers     0.0  0.0  0.0      23.0       30.0      17.0      365.0   \n\n   Off_PassYd  Off_RushYd  Off_TO  Def_1stD  Def_TotYd  Def_PassYd  \\\n0       311.0       131.0     2.0      31.0      430.0       314.0   \n1       186.0       152.0     1.0      20.0      304.0       210.0   \n2       169.0       111.0     4.0      17.0      295.0       147.0   \n3       215.0       208.0     1.0      17.0      323.0       256.0   \n4       294.0        71.0     3.0      21.0      327.0       181.0   \n\n   Def_RushYD  Def_TO  Exp_Offense  Exp_Defense  Exp_SpecTms  \n0       116.0     1.0        15.48        -5.16        -1.73  \n1        94.0     1.0        -6.53        -1.74        -0.47  \n2       148.0     2.0       -15.30        -1.16         4.24  \n3        67.0     2.0         8.93         4.16        -6.10  \n4       146.0     3.0        -0.51        -2.27        -3.44  ",
      "text/html": "<div>\n<style scoped>\n    .dataframe tbody tr th:only-of-type {\n        vertical-align: middle;\n    }\n\n    .dataframe tbody tr th {\n        vertical-align: top;\n    }\n\n    .dataframe thead th {\n        text-align: right;\n    }\n</style>\n<table border=\"1\" class=\"dataframe\">\n  <thead>\n    <tr style=\"text-align: right;\">\n      <th></th>\n      <th>Team</th>\n      <th>Result</th>\n      <th>OT</th>\n      <th>H/A</th>\n      <th>Score_Tm</th>\n      <th>Score_Opp</th>\n      <th>Off_1stD</th>\n      <th>Off_TotYd</th>\n      <th>Off_PassYd</th>\n      <th>Off_RushYd</th>\n      <th>Off_TO</th>\n      <th>Def_1stD</th>\n      <th>Def_TotYd</th>\n      <th>Def_PassYd</th>\n      <th>Def_RushYD</th>\n      <th>Def_TO</th>\n      <th>Exp_Offense</th>\n      <th>Exp_Defense</th>\n      <th>Exp_SpecTms</th>\n    </tr>\n  </thead>\n  <tbody>\n    <tr>\n      <th>0</th>\n      <td>49ers</td>\n      <td>1.0</td>\n      <td>0.0</td>\n      <td>0.0</td>\n      <td>41.0</td>\n      <td>33.0</td>\n      <td>21.0</td>\n      <td>442.0</td>\n      <td>311.0</td>\n      <td>131.0</td>\n      <td>2.0</td>\n      <td>31.0</td>\n      <td>430.0</td>\n      <td>314.0</td>\n      <td>116.0</td>\n      <td>1.0</td>\n      <td>15.48</td>\n      <td>-5.16</td>\n      <td>-1.73</td>\n    </tr>\n    <tr>\n      <th>1</th>\n      <td>49ers</td>\n      <td>0.0</td>\n      <td>0.0</td>\n      <td>0.0</td>\n      <td>10.0</td>\n      <td>17.0</td>\n      <td>19.0</td>\n      <td>338.0</td>\n      <td>186.0</td>\n      <td>152.0</td>\n      <td>1.0</td>\n      <td>20.0</td>\n      <td>304.0</td>\n      <td>210.0</td>\n      <td>94.0</td>\n      <td>1.0</td>\n      <td>-6.53</td>\n      <td>-1.74</td>\n      <td>-0.47</td>\n    </tr>\n    <tr>\n      <th>2</th>\n      <td>49ers</td>\n      <td>0.0</td>\n      <td>0.0</td>\n      <td>1.0</td>\n      <td>18.0</td>\n      <td>30.0</td>\n      <td>13.0</td>\n      <td>280.0</td>\n      <td>169.0</td>\n      <td>111.0</td>\n      <td>4.0</td>\n      <td>17.0</td>\n      <td>295.0</td>\n      <td>147.0</td>\n      <td>148.0</td>\n      <td>2.0</td>\n      <td>-15.30</td>\n      <td>-1.16</td>\n      <td>4.24</td>\n    </tr>\n    <tr>\n      <th>3</th>\n      <td>49ers</td>\n      <td>1.0</td>\n      <td>0.0</td>\n      <td>1.0</td>\n      <td>34.0</td>\n      <td>26.0</td>\n      <td>23.0</td>\n      <td>423.0</td>\n      <td>215.0</td>\n      <td>208.0</td>\n      <td>1.0</td>\n      <td>17.0</td>\n      <td>323.0</td>\n      <td>256.0</td>\n      <td>67.0</td>\n      <td>2.0</td>\n      <td>8.93</td>\n      <td>4.16</td>\n      <td>-6.10</td>\n    </tr>\n    <tr>\n      <th>4</th>\n      <td>49ers</td>\n      <td>0.0</td>\n      <td>0.0</td>\n      <td>0.0</td>\n      <td>23.0</td>\n      <td>30.0</td>\n      <td>17.0</td>\n      <td>365.0</td>\n      <td>294.0</td>\n      <td>71.0</td>\n      <td>3.0</td>\n      <td>21.0</td>\n      <td>327.0</td>\n      <td>181.0</td>\n      <td>146.0</td>\n      <td>3.0</td>\n      <td>-0.51</td>\n      <td>-2.27</td>\n      <td>-3.44</td>\n    </tr>\n  </tbody>\n</table>\n</div>"
     },
     "execution_count": 306,
     "metadata": {},
     "output_type": "execute_result"
    }
   ],
   "source": [
    "# Convert Win to 1 and anything else to 0\n",
    "df_2021['Result'] = df_2021['Result'].apply(lambda x: 1 if x == 'W' else 0) \n",
    "\n",
    "# 1 if OT, 0 if no OT\n",
    "df_2021['OT'] = df_2021['OT'].fillna(0).replace('OT', 1)\n",
    "\n",
    "# 1 is home, 0 is away\n",
    "df_2021['H/A'] = df_2021['H/A'].fillna(1).replace('@', 0)\n",
    "\n",
    "df_2021 = df_2021.drop(columns=['Day', 'Date', 'Time', 'Link', 'Rec', 'Week'])\n",
    "df_2021 = df_2021.dropna()\n",
    "df_2021 = df_2021.reset_index()\n",
    "df_2021 = df_2021.drop(columns=['index'])\n",
    "df_2021['Score_Tm'] = df_2021['Score_Tm'].astype(float)\n",
    "df_2021 = df_2021[~(df_2021['H/A'] == 'N')]\n",
    "df_2021['H/A'] = df_2021['H/A'].astype(float)\n",
    "df_2021['OT'] = df_2021['OT'].astype(float)\n",
    "df_2021['Result'] = df_2021['Result'].astype(float)\n",
    "df_2021.pop('Opp')\n",
    "\n",
    "df_2021.head()"
   ],
   "metadata": {
    "collapsed": false,
    "ExecuteTime": {
     "end_time": "2024-03-26T00:59:35.605353300Z",
     "start_time": "2024-03-26T00:59:35.466960700Z"
    }
   },
   "id": "1cbb62aeeac4af53",
   "execution_count": 306
  },
  {
   "cell_type": "code",
   "outputs": [
    {
     "name": "stderr",
     "output_type": "stream",
     "text": [
      "C:\\Users\\bpawl\\AppData\\Local\\Temp\\ipykernel_13508\\288872902.py:5: FutureWarning: Downcasting behavior in `replace` is deprecated and will be removed in a future version. To retain the old behavior, explicitly call `result.infer_objects(copy=False)`. To opt-in to the future behavior, set `pd.set_option('future.no_silent_downcasting', True)`\n",
      "  df_2022['OT'] = df_2022['OT'].fillna(0).replace('OT', 1)\n"
     ]
    },
    {
     "data": {
      "text/plain": "    Team  Result   OT  H/A  Score_Tm  Score_Opp  Off_1stD  Off_TotYd  \\\n0  49ers     0.0  0.0  0.0      10.0       19.0      17.0      331.0   \n1  49ers     1.0  0.0  0.0      37.0       15.0      22.0      397.0   \n2  49ers     0.0  0.0  1.0      23.0       44.0      25.0      444.0   \n3  49ers     1.0  0.0  1.0      22.0       16.0      22.0      387.0   \n4  49ers     1.0  0.0  1.0      33.0       17.0      24.0      351.0   \n\n   Off_PassYd  Off_RushYd  Off_TO  Def_1stD  Def_TotYd  Def_PassYd  \\\n0       155.0       176.0     2.0      15.0      204.0       105.0   \n1       244.0       153.0     1.0      15.0      308.0       244.0   \n2       343.0       101.0     3.0      24.0      529.0       417.0   \n3       230.0       157.0     1.0      12.0      238.0       187.0   \n4       230.0       121.0     1.0      14.0      308.0       275.0   \n\n   Def_RushYD  Def_TO  Exp_Offense  Exp_Defense  Exp_SpecTms  \n0        99.0     1.0       -11.26        -0.67         0.42  \n1        64.0     1.0        16.04        13.22        -7.82  \n2       112.0     2.0         3.59       -30.58         8.50  \n3        51.0     1.0         6.20         7.29        -5.38  \n4        33.0     4.0         1.78        13.36         1.00  ",
      "text/html": "<div>\n<style scoped>\n    .dataframe tbody tr th:only-of-type {\n        vertical-align: middle;\n    }\n\n    .dataframe tbody tr th {\n        vertical-align: top;\n    }\n\n    .dataframe thead th {\n        text-align: right;\n    }\n</style>\n<table border=\"1\" class=\"dataframe\">\n  <thead>\n    <tr style=\"text-align: right;\">\n      <th></th>\n      <th>Team</th>\n      <th>Result</th>\n      <th>OT</th>\n      <th>H/A</th>\n      <th>Score_Tm</th>\n      <th>Score_Opp</th>\n      <th>Off_1stD</th>\n      <th>Off_TotYd</th>\n      <th>Off_PassYd</th>\n      <th>Off_RushYd</th>\n      <th>Off_TO</th>\n      <th>Def_1stD</th>\n      <th>Def_TotYd</th>\n      <th>Def_PassYd</th>\n      <th>Def_RushYD</th>\n      <th>Def_TO</th>\n      <th>Exp_Offense</th>\n      <th>Exp_Defense</th>\n      <th>Exp_SpecTms</th>\n    </tr>\n  </thead>\n  <tbody>\n    <tr>\n      <th>0</th>\n      <td>49ers</td>\n      <td>0.0</td>\n      <td>0.0</td>\n      <td>0.0</td>\n      <td>10.0</td>\n      <td>19.0</td>\n      <td>17.0</td>\n      <td>331.0</td>\n      <td>155.0</td>\n      <td>176.0</td>\n      <td>2.0</td>\n      <td>15.0</td>\n      <td>204.0</td>\n      <td>105.0</td>\n      <td>99.0</td>\n      <td>1.0</td>\n      <td>-11.26</td>\n      <td>-0.67</td>\n      <td>0.42</td>\n    </tr>\n    <tr>\n      <th>1</th>\n      <td>49ers</td>\n      <td>1.0</td>\n      <td>0.0</td>\n      <td>0.0</td>\n      <td>37.0</td>\n      <td>15.0</td>\n      <td>22.0</td>\n      <td>397.0</td>\n      <td>244.0</td>\n      <td>153.0</td>\n      <td>1.0</td>\n      <td>15.0</td>\n      <td>308.0</td>\n      <td>244.0</td>\n      <td>64.0</td>\n      <td>1.0</td>\n      <td>16.04</td>\n      <td>13.22</td>\n      <td>-7.82</td>\n    </tr>\n    <tr>\n      <th>2</th>\n      <td>49ers</td>\n      <td>0.0</td>\n      <td>0.0</td>\n      <td>1.0</td>\n      <td>23.0</td>\n      <td>44.0</td>\n      <td>25.0</td>\n      <td>444.0</td>\n      <td>343.0</td>\n      <td>101.0</td>\n      <td>3.0</td>\n      <td>24.0</td>\n      <td>529.0</td>\n      <td>417.0</td>\n      <td>112.0</td>\n      <td>2.0</td>\n      <td>3.59</td>\n      <td>-30.58</td>\n      <td>8.50</td>\n    </tr>\n    <tr>\n      <th>3</th>\n      <td>49ers</td>\n      <td>1.0</td>\n      <td>0.0</td>\n      <td>1.0</td>\n      <td>22.0</td>\n      <td>16.0</td>\n      <td>22.0</td>\n      <td>387.0</td>\n      <td>230.0</td>\n      <td>157.0</td>\n      <td>1.0</td>\n      <td>12.0</td>\n      <td>238.0</td>\n      <td>187.0</td>\n      <td>51.0</td>\n      <td>1.0</td>\n      <td>6.20</td>\n      <td>7.29</td>\n      <td>-5.38</td>\n    </tr>\n    <tr>\n      <th>4</th>\n      <td>49ers</td>\n      <td>1.0</td>\n      <td>0.0</td>\n      <td>1.0</td>\n      <td>33.0</td>\n      <td>17.0</td>\n      <td>24.0</td>\n      <td>351.0</td>\n      <td>230.0</td>\n      <td>121.0</td>\n      <td>1.0</td>\n      <td>14.0</td>\n      <td>308.0</td>\n      <td>275.0</td>\n      <td>33.0</td>\n      <td>4.0</td>\n      <td>1.78</td>\n      <td>13.36</td>\n      <td>1.00</td>\n    </tr>\n  </tbody>\n</table>\n</div>"
     },
     "execution_count": 307,
     "metadata": {},
     "output_type": "execute_result"
    }
   ],
   "source": [
    "# Convert Win to 1 and anything else to 0\n",
    "df_2022['Result'] = df_2022['Result'].apply(lambda x: 1 if x == 'W' else 0) \n",
    "\n",
    "# 1 if OT, 0 if no OT\n",
    "df_2022['OT'] = df_2022['OT'].fillna(0).replace('OT', 1)\n",
    "\n",
    "# 1 is home, 0 is away\n",
    "df_2022['H/A'] = df_2022['H/A'].fillna(1).replace('@', 0)\n",
    "\n",
    "df_2022 = df_2022.drop(columns=['Day', 'Date', 'Time', 'Link', 'Rec', 'Week'])\n",
    "df_2022 = df_2022.dropna()\n",
    "df_2022 = df_2022.reset_index()\n",
    "df_2022 = df_2022.drop(columns=['index'])\n",
    "df_2022['Score_Tm'] = df_2022['Score_Tm'].astype(float)\n",
    "df_2022 = df_2022[~(df_2022['H/A'] == 'N')]\n",
    "df_2022['H/A'] = df_2022['H/A'].astype(float)\n",
    "df_2022['OT'] = df_2022['OT'].astype(float)\n",
    "df_2022['Result'] = df_2022['Result'].astype(float)\n",
    "df_2022.pop('Opp')\n",
    "\n",
    "df_2022.head()"
   ],
   "metadata": {
    "collapsed": false,
    "ExecuteTime": {
     "end_time": "2024-03-26T00:59:36.353908100Z",
     "start_time": "2024-03-26T00:59:36.265551500Z"
    }
   },
   "id": "4f1c90aaab93a85a",
   "execution_count": 307
  },
  {
   "cell_type": "code",
   "outputs": [
    {
     "name": "stderr",
     "output_type": "stream",
     "text": [
      "C:\\Users\\bpawl\\AppData\\Local\\Temp\\ipykernel_13508\\3475630129.py:5: FutureWarning: Downcasting behavior in `replace` is deprecated and will be removed in a future version. To retain the old behavior, explicitly call `result.infer_objects(copy=False)`. To opt-in to the future behavior, set `pd.set_option('future.no_silent_downcasting', True)`\n",
      "  df_2023['OT'] = df_2023['OT'].fillna(0).replace('OT', 1)\n"
     ]
    },
    {
     "data": {
      "text/plain": "    Team  Result   OT  H/A  Score_Tm  Score_Opp  Off_1stD  Off_TotYd  \\\n0  49ers     1.0  0.0  0.0      30.0        7.0      22.0      391.0   \n1  49ers     1.0  0.0  1.0      42.0       10.0      25.0      421.0   \n2  49ers     0.0  0.0  0.0      17.0       19.0      15.0      215.0   \n3  49ers     0.0  0.0  0.0      17.0       22.0      19.0      325.0   \n4  49ers     0.0  0.0  1.0      17.0       31.0      24.0      460.0   \n\n   Off_PassYd  Off_RushYd  Off_TO  Def_1stD  Def_TotYd  Def_PassYd  \\\n0       203.0       188.0     1.0      15.0      239.0       198.0   \n1       251.0       170.0     1.0       8.0      197.0       140.0   \n2       107.0       108.0     1.0      18.0      334.0       174.0   \n3       260.0        65.0     3.0      24.0      452.0       378.0   \n4       347.0       113.0     3.0      29.0      400.0       266.0   \n\n   Def_RushYD  Def_TO  Exp_Offense  Exp_Defense  Exp_SpecTms  \n0        41.0     2.0         9.73        13.55        -0.78  \n1        57.0     4.0        12.84        23.12        -5.21  \n2       160.0     2.0        -6.05        11.32        -7.34  \n3        74.0     1.0         5.43       -16.30         6.07  \n4       134.0     1.0         9.25       -18.30         2.48  ",
      "text/html": "<div>\n<style scoped>\n    .dataframe tbody tr th:only-of-type {\n        vertical-align: middle;\n    }\n\n    .dataframe tbody tr th {\n        vertical-align: top;\n    }\n\n    .dataframe thead th {\n        text-align: right;\n    }\n</style>\n<table border=\"1\" class=\"dataframe\">\n  <thead>\n    <tr style=\"text-align: right;\">\n      <th></th>\n      <th>Team</th>\n      <th>Result</th>\n      <th>OT</th>\n      <th>H/A</th>\n      <th>Score_Tm</th>\n      <th>Score_Opp</th>\n      <th>Off_1stD</th>\n      <th>Off_TotYd</th>\n      <th>Off_PassYd</th>\n      <th>Off_RushYd</th>\n      <th>Off_TO</th>\n      <th>Def_1stD</th>\n      <th>Def_TotYd</th>\n      <th>Def_PassYd</th>\n      <th>Def_RushYD</th>\n      <th>Def_TO</th>\n      <th>Exp_Offense</th>\n      <th>Exp_Defense</th>\n      <th>Exp_SpecTms</th>\n    </tr>\n  </thead>\n  <tbody>\n    <tr>\n      <th>0</th>\n      <td>49ers</td>\n      <td>1.0</td>\n      <td>0.0</td>\n      <td>0.0</td>\n      <td>30.0</td>\n      <td>7.0</td>\n      <td>22.0</td>\n      <td>391.0</td>\n      <td>203.0</td>\n      <td>188.0</td>\n      <td>1.0</td>\n      <td>15.0</td>\n      <td>239.0</td>\n      <td>198.0</td>\n      <td>41.0</td>\n      <td>2.0</td>\n      <td>9.73</td>\n      <td>13.55</td>\n      <td>-0.78</td>\n    </tr>\n    <tr>\n      <th>1</th>\n      <td>49ers</td>\n      <td>1.0</td>\n      <td>0.0</td>\n      <td>1.0</td>\n      <td>42.0</td>\n      <td>10.0</td>\n      <td>25.0</td>\n      <td>421.0</td>\n      <td>251.0</td>\n      <td>170.0</td>\n      <td>1.0</td>\n      <td>8.0</td>\n      <td>197.0</td>\n      <td>140.0</td>\n      <td>57.0</td>\n      <td>4.0</td>\n      <td>12.84</td>\n      <td>23.12</td>\n      <td>-5.21</td>\n    </tr>\n    <tr>\n      <th>2</th>\n      <td>49ers</td>\n      <td>0.0</td>\n      <td>0.0</td>\n      <td>0.0</td>\n      <td>17.0</td>\n      <td>19.0</td>\n      <td>15.0</td>\n      <td>215.0</td>\n      <td>107.0</td>\n      <td>108.0</td>\n      <td>1.0</td>\n      <td>18.0</td>\n      <td>334.0</td>\n      <td>174.0</td>\n      <td>160.0</td>\n      <td>2.0</td>\n      <td>-6.05</td>\n      <td>11.32</td>\n      <td>-7.34</td>\n    </tr>\n    <tr>\n      <th>3</th>\n      <td>49ers</td>\n      <td>0.0</td>\n      <td>0.0</td>\n      <td>0.0</td>\n      <td>17.0</td>\n      <td>22.0</td>\n      <td>19.0</td>\n      <td>325.0</td>\n      <td>260.0</td>\n      <td>65.0</td>\n      <td>3.0</td>\n      <td>24.0</td>\n      <td>452.0</td>\n      <td>378.0</td>\n      <td>74.0</td>\n      <td>1.0</td>\n      <td>5.43</td>\n      <td>-16.30</td>\n      <td>6.07</td>\n    </tr>\n    <tr>\n      <th>4</th>\n      <td>49ers</td>\n      <td>0.0</td>\n      <td>0.0</td>\n      <td>1.0</td>\n      <td>17.0</td>\n      <td>31.0</td>\n      <td>24.0</td>\n      <td>460.0</td>\n      <td>347.0</td>\n      <td>113.0</td>\n      <td>3.0</td>\n      <td>29.0</td>\n      <td>400.0</td>\n      <td>266.0</td>\n      <td>134.0</td>\n      <td>1.0</td>\n      <td>9.25</td>\n      <td>-18.30</td>\n      <td>2.48</td>\n    </tr>\n  </tbody>\n</table>\n</div>"
     },
     "execution_count": 308,
     "metadata": {},
     "output_type": "execute_result"
    }
   ],
   "source": [
    "# Convert Win to 1 and anything else to 0\n",
    "df_2023['Result'] = df_2023['Result'].apply(lambda x: 1 if x == 'W' else 0) \n",
    "\n",
    "# 1 if OT, 0 if no OT\n",
    "df_2023['OT'] = df_2023['OT'].fillna(0).replace('OT', 1)\n",
    "\n",
    "# 1 is home, 0 is away\n",
    "df_2023['H/A'] = df_2023['H/A'].fillna(1).replace('@', 0)\n",
    "\n",
    "df_2023 = df_2023.drop(columns=['Day', 'Date', 'Time', 'Link', 'Rec', 'Week'])\n",
    "df_2023 = df_2023.dropna()\n",
    "df_2023 = df_2023.reset_index()\n",
    "df_2023 = df_2023.drop(columns=['index'])\n",
    "df_2023['Score_Tm'] = df_2023['Score_Tm'].astype(float)\n",
    "df_2023 = df_2023[~(df_2023['H/A'] == 'N')]\n",
    "df_2023['H/A'] = df_2023['H/A'].astype(float)\n",
    "df_2023['OT'] = df_2023['OT'].astype(float)\n",
    "df_2023['Result'] = df_2023['Result'].astype(float)\n",
    "df_2023.pop('Opp')\n",
    "\n",
    "df_2023.head()"
   ],
   "metadata": {
    "collapsed": false,
    "ExecuteTime": {
     "end_time": "2024-03-26T00:59:37.052693500Z",
     "start_time": "2024-03-26T00:59:36.891552500Z"
    }
   },
   "id": "947f90ca3f7a3a39",
   "execution_count": 308
  },
  {
   "cell_type": "code",
   "outputs": [],
   "source": [
    "agg_2021 = df_2021.groupby(df_2021.columns[0]).mean().reset_index()\n",
    "\n",
    "agg_2022 = df_2021.groupby(df_2022.columns[0]).mean().reset_index()\n",
    "\n",
    "agg_2023 = df_2021.groupby(df_2023.columns[0]).mean().reset_index()"
   ],
   "metadata": {
    "collapsed": false,
    "ExecuteTime": {
     "end_time": "2024-03-26T00:59:37.980998400Z",
     "start_time": "2024-03-26T00:59:37.828325600Z"
    }
   },
   "id": "d779c04727e15e94",
   "execution_count": 309
  },
  {
   "cell_type": "code",
   "outputs": [
    {
     "data": {
      "text/plain": "      Team    Result        OT       H/A   Score_Tm  Score_Opp   Off_1stD  \\\n0    49ers  0.636364  0.090909  0.363636  23.636364  20.636364  18.818182   \n1    bears  0.500000  0.000000  0.625000  17.625000  18.500000  18.625000   \n2  bengals  0.600000  0.200000  0.300000  26.900000  20.400000  18.900000   \n3    bills  0.666667  0.000000  0.444444  28.666667  12.111111  22.666667   \n4  broncos  0.571429  0.000000  0.571429  19.857143  16.428571  20.428571   \n\n    Off_TotYd  Off_PassYd  Off_RushYd    Off_TO   Def_1stD   Def_TotYd  \\\n0  358.636364  225.000000  133.636364  1.636364  19.272727  309.727273   \n1  331.750000  212.750000  119.000000  2.000000  18.500000  271.625000   \n2  331.700000  223.200000  108.500000  1.700000  19.200000  342.300000   \n3  358.333333  225.111111  133.222222  1.777778  14.777778  249.111111   \n4  346.285714  221.857143  124.428571  1.285714  18.142857  317.000000   \n\n   Def_PassYd  Def_RushYD    Def_TO  Exp_Offense  Exp_Defense  Exp_SpecTms  \n0  219.090909   90.636364  1.454545     3.477273     0.251818    -1.626364  \n1  154.375000  117.250000  1.875000    -2.573750     3.120000    -0.567500  \n2  250.800000   91.500000  2.100000     2.364000     2.279000     2.332000  \n3  146.111111  103.000000  2.111111     8.024444     9.343333    -1.233333  \n4  211.428571  105.571429  1.428571     4.684286     1.810000    -1.164286  ",
      "text/html": "<div>\n<style scoped>\n    .dataframe tbody tr th:only-of-type {\n        vertical-align: middle;\n    }\n\n    .dataframe tbody tr th {\n        vertical-align: top;\n    }\n\n    .dataframe thead th {\n        text-align: right;\n    }\n</style>\n<table border=\"1\" class=\"dataframe\">\n  <thead>\n    <tr style=\"text-align: right;\">\n      <th></th>\n      <th>Team</th>\n      <th>Result</th>\n      <th>OT</th>\n      <th>H/A</th>\n      <th>Score_Tm</th>\n      <th>Score_Opp</th>\n      <th>Off_1stD</th>\n      <th>Off_TotYd</th>\n      <th>Off_PassYd</th>\n      <th>Off_RushYd</th>\n      <th>Off_TO</th>\n      <th>Def_1stD</th>\n      <th>Def_TotYd</th>\n      <th>Def_PassYd</th>\n      <th>Def_RushYD</th>\n      <th>Def_TO</th>\n      <th>Exp_Offense</th>\n      <th>Exp_Defense</th>\n      <th>Exp_SpecTms</th>\n    </tr>\n  </thead>\n  <tbody>\n    <tr>\n      <th>0</th>\n      <td>49ers</td>\n      <td>0.636364</td>\n      <td>0.090909</td>\n      <td>0.363636</td>\n      <td>23.636364</td>\n      <td>20.636364</td>\n      <td>18.818182</td>\n      <td>358.636364</td>\n      <td>225.000000</td>\n      <td>133.636364</td>\n      <td>1.636364</td>\n      <td>19.272727</td>\n      <td>309.727273</td>\n      <td>219.090909</td>\n      <td>90.636364</td>\n      <td>1.454545</td>\n      <td>3.477273</td>\n      <td>0.251818</td>\n      <td>-1.626364</td>\n    </tr>\n    <tr>\n      <th>1</th>\n      <td>bears</td>\n      <td>0.500000</td>\n      <td>0.000000</td>\n      <td>0.625000</td>\n      <td>17.625000</td>\n      <td>18.500000</td>\n      <td>18.625000</td>\n      <td>331.750000</td>\n      <td>212.750000</td>\n      <td>119.000000</td>\n      <td>2.000000</td>\n      <td>18.500000</td>\n      <td>271.625000</td>\n      <td>154.375000</td>\n      <td>117.250000</td>\n      <td>1.875000</td>\n      <td>-2.573750</td>\n      <td>3.120000</td>\n      <td>-0.567500</td>\n    </tr>\n    <tr>\n      <th>2</th>\n      <td>bengals</td>\n      <td>0.600000</td>\n      <td>0.200000</td>\n      <td>0.300000</td>\n      <td>26.900000</td>\n      <td>20.400000</td>\n      <td>18.900000</td>\n      <td>331.700000</td>\n      <td>223.200000</td>\n      <td>108.500000</td>\n      <td>1.700000</td>\n      <td>19.200000</td>\n      <td>342.300000</td>\n      <td>250.800000</td>\n      <td>91.500000</td>\n      <td>2.100000</td>\n      <td>2.364000</td>\n      <td>2.279000</td>\n      <td>2.332000</td>\n    </tr>\n    <tr>\n      <th>3</th>\n      <td>bills</td>\n      <td>0.666667</td>\n      <td>0.000000</td>\n      <td>0.444444</td>\n      <td>28.666667</td>\n      <td>12.111111</td>\n      <td>22.666667</td>\n      <td>358.333333</td>\n      <td>225.111111</td>\n      <td>133.222222</td>\n      <td>1.777778</td>\n      <td>14.777778</td>\n      <td>249.111111</td>\n      <td>146.111111</td>\n      <td>103.000000</td>\n      <td>2.111111</td>\n      <td>8.024444</td>\n      <td>9.343333</td>\n      <td>-1.233333</td>\n    </tr>\n    <tr>\n      <th>4</th>\n      <td>broncos</td>\n      <td>0.571429</td>\n      <td>0.000000</td>\n      <td>0.571429</td>\n      <td>19.857143</td>\n      <td>16.428571</td>\n      <td>20.428571</td>\n      <td>346.285714</td>\n      <td>221.857143</td>\n      <td>124.428571</td>\n      <td>1.285714</td>\n      <td>18.142857</td>\n      <td>317.000000</td>\n      <td>211.428571</td>\n      <td>105.571429</td>\n      <td>1.428571</td>\n      <td>4.684286</td>\n      <td>1.810000</td>\n      <td>-1.164286</td>\n    </tr>\n  </tbody>\n</table>\n</div>"
     },
     "execution_count": 310,
     "metadata": {},
     "output_type": "execute_result"
    }
   ],
   "source": [
    "agg_2021.head()"
   ],
   "metadata": {
    "collapsed": false,
    "ExecuteTime": {
     "end_time": "2024-03-26T00:59:38.767610500Z",
     "start_time": "2024-03-26T00:59:38.733186300Z"
    }
   },
   "id": "3103764fbf585e8d",
   "execution_count": 310
  },
  {
   "cell_type": "code",
   "outputs": [],
   "source": [
    "df_2022 = pd.read_csv('2022data.csv')\n",
    "df_2023 = pd.read_csv('2023data.csv')\n",
    "#df_2024\n",
    "\n",
    "mask = df_2022['Week'].isin(['Wild Card', 'Division', 'Conf. Champ.', 'SuperBowl'])\n",
    "df_2022 = df_2022[~mask]\n",
    "df_2022 = df_2022.dropna(subset = ['Opp'])\n",
    "df_2022 = df_2022[df_2022['Opp'] != 'Bye Week'].reset_index()\n",
    "\n",
    "mask = df_2023['Week'].isin(['Wild Card', 'Division', 'Conf. Champ.', 'SuperBowl'])\n",
    "df_2023 = df_2023[~mask]\n",
    "df_2023 = df_2023.dropna(subset = ['Opp'])\n",
    "df_2023 = df_2023[df_2023['Opp'] != 'Bye Week'].reset_index()"
   ],
   "metadata": {
    "collapsed": false,
    "ExecuteTime": {
     "end_time": "2024-03-26T01:12:42.050433500Z",
     "start_time": "2024-03-26T01:12:42.002209800Z"
    }
   },
   "id": "f7bb075bb39cfe19",
   "execution_count": 336
  },
  {
   "cell_type": "code",
   "outputs": [],
   "source": [
    "wl_2022 = df_2022[['Result']]\n",
    "wl_2023 = df_2023[['Result']]\n",
    "\n",
    "df_2022 = df_2022[['Week', 'Team', 'Opp']]\n",
    "df_2023 = df_2023[['Week', 'Team', 'Opp']]\n",
    "#df_2024"
   ],
   "metadata": {
    "collapsed": false,
    "ExecuteTime": {
     "end_time": "2024-03-26T01:12:42.560379600Z",
     "start_time": "2024-03-26T01:12:42.536269700Z"
    }
   },
   "id": "5f88646224249e70",
   "execution_count": 337
  },
  {
   "cell_type": "code",
   "outputs": [],
   "source": [
    "# Create a mapping dictionary to convert team names\n",
    "team_mapping = {\n",
    "    'Chicago Bears': 'bears',\n",
    "    'Seattle Seahawks': 'seahawks',\n",
    "    'Denver Broncos': 'broncos',\n",
    "    'Los Angeles Rams': 'rams',\n",
    "    'Carolina Panthers': 'panthers',\n",
    "    'Atlanta Falcons': 'falcons',\n",
    "    'Kansas City Chiefs': 'chiefs',\n",
    "    'Los Angeles Chargers': 'chargers',\n",
    "    'Arizona Cardinals': 'cardinals',\n",
    "    'New Orleans Saints': 'saints',\n",
    "    'Miami Dolphins': 'dolphins',\n",
    "    'Tampa Bay Buccaneers': 'buccaneers',\n",
    "    'Washington Commanders': 'commanders',\n",
    "    'Las Vegas Raiders': 'raiders',\n",
    "    'Dallas Cowboys': 'cowboys',\n",
    "    'Philadelphia Eagles': 'eagles',\n",
    "    'San Francisco 49ers': '49ers',\n",
    "    'Green Bay Packers': 'packers',\n",
    "    'Houston Texans': 'texans',\n",
    "    'New York Giants': 'giants',\n",
    "    'Minnesota Vikings': 'vikings',\n",
    "    'New England Patriots': 'patriots',\n",
    "    'Detroit Lions': 'lions',\n",
    "    'New York Jets': 'jets',\n",
    "    'Buffalo Bills': 'bills',\n",
    "    'Pittsburgh Steelers': 'steelers',\n",
    "    'Baltimore Ravens': 'ravens',\n",
    "    'Cleveland Browns': 'browns',\n",
    "    'Tennessee Titans': 'titans',\n",
    "    'Cincinnati Bengals': 'bengals',\n",
    "    'Indianapolis Colts': 'colts',\n",
    "    'Jacksonville Jaguars': 'jaguars'\n",
    "}\n",
    "\n",
    "# Map team names to their abbreviated versions in the 'Opp' column\n",
    "df_2022['Opp'] = df_2022['Opp'].map(team_mapping)\n",
    "df_2023['Opp'] = df_2023['Opp'].map(team_mapping)"
   ],
   "metadata": {
    "collapsed": false,
    "ExecuteTime": {
     "end_time": "2024-03-26T01:12:42.967332300Z",
     "start_time": "2024-03-26T01:12:42.898697400Z"
    }
   },
   "id": "458ca25cdc52f41e",
   "execution_count": 338
  },
  {
   "cell_type": "code",
   "outputs": [],
   "source": [
    "df_2022_team = df_2022[['Week', 'Team']]\n",
    "df_2022_opp = df_2022[['Week', 'Opp']]\n",
    "\n",
    "df_2023_team = df_2023[['Week', 'Team']]\n",
    "df_2023_opp = df_2023[['Week', 'Opp']]"
   ],
   "metadata": {
    "collapsed": false,
    "ExecuteTime": {
     "end_time": "2024-03-26T01:12:43.300555Z",
     "start_time": "2024-03-26T01:12:43.272304200Z"
    }
   },
   "id": "7234b70f1c6e552a",
   "execution_count": 339
  },
  {
   "cell_type": "code",
   "outputs": [],
   "source": [
    "df_2022_team = pd.merge(df_2022_team, agg_2021, how = 'left', on = 'Team')\n",
    "\n",
    "for col in df_2022_team.columns:\n",
    "    if col not in ['Team', 'Week']:\n",
    "        df_2022_team.rename(columns={col: 'Team_' + col}, inplace=True)\n",
    "     \n",
    "     \n",
    "df_2023_team = pd.merge(df_2023_team, agg_2022, how = 'left', on = 'Team')\n",
    "\n",
    "for col in df_2023_team.columns:\n",
    "    if col not in ['Team', 'Week']:\n",
    "        df_2023_team.rename(columns={col: 'Team_' + col}, inplace=True)   "
   ],
   "metadata": {
    "collapsed": false,
    "ExecuteTime": {
     "end_time": "2024-03-26T01:12:43.726430600Z",
     "start_time": "2024-03-26T01:12:43.674568900Z"
    }
   },
   "id": "f8b1c68397e9d1d5",
   "execution_count": 340
  },
  {
   "cell_type": "code",
   "outputs": [],
   "source": [
    "df_2022_opp = pd.merge(df_2022_opp, agg_2021, how = 'left', left_on = 'Opp', right_on = 'Team')\n",
    "df_2022_opp = df_2022_opp.drop(columns = 'Team')\n",
    "\n",
    "for col in df_2022_opp.columns:\n",
    "    if col not in ['Opp', 'Week']:\n",
    "        df_2022_opp.rename(columns={col: 'Opp_' + col}, inplace=True)\n",
    "        \n",
    "df_2022_opp = df_2022_opp.drop(columns = ['Week'])\n",
    "\n",
    "\n",
    "df_2023_opp = pd.merge(df_2023_opp, agg_2022, how = 'left', left_on = 'Opp', right_on = 'Team')\n",
    "df_2023_opp = df_2023_opp.drop(columns = 'Team')\n",
    "\n",
    "for col in df_2023_opp.columns:\n",
    "    if col not in ['Opp', 'Week']:\n",
    "        df_2023_opp.rename(columns={col: 'Opp_' + col}, inplace=True)\n",
    "        \n",
    "df_2023_opp = df_2023_opp.drop(columns = ['Week'])"
   ],
   "metadata": {
    "collapsed": false,
    "ExecuteTime": {
     "end_time": "2024-03-26T01:12:44.162430500Z",
     "start_time": "2024-03-26T01:12:44.123681400Z"
    }
   },
   "id": "80918e5f377a411f",
   "execution_count": 341
  },
  {
   "cell_type": "code",
   "outputs": [],
   "source": [
    "df_2022_agg = pd.concat([df_2022_team, df_2022_opp], axis = 1)\n",
    "df_2022_agg = pd.concat([df_2022_agg, wl_2022], axis = 1)\n",
    "\n",
    "df_2023_agg = pd.concat([df_2023_team, df_2023_opp], axis = 1)\n",
    "df_2023_agg = pd.concat([df_2023_agg, wl_2023], axis = 1)"
   ],
   "metadata": {
    "collapsed": false,
    "ExecuteTime": {
     "end_time": "2024-03-26T01:12:44.616125800Z",
     "start_time": "2024-03-26T01:12:44.570269700Z"
    }
   },
   "id": "e1bd06cc98ea01af",
   "execution_count": 342
  },
  {
   "cell_type": "code",
   "outputs": [
    {
     "data": {
      "text/plain": "    Week    Team  Team_Result   Team_OT  Team_H/A  Team_Score_Tm  \\\n0      1   49ers     0.636364  0.090909  0.363636      23.636364   \n1      2   49ers     0.636364  0.090909  0.363636      23.636364   \n2      3   49ers     0.636364  0.090909  0.363636      23.636364   \n3      4   49ers     0.636364  0.090909  0.363636      23.636364   \n4      5   49ers     0.636364  0.090909  0.363636      23.636364   \n..   ...     ...          ...       ...       ...            ...   \n445    4  saints     0.142857  0.142857  0.571429      16.571429   \n446    5  saints     0.142857  0.142857  0.571429      16.571429   \n451   10  saints     0.142857  0.142857  0.571429      16.571429   \n499    8  texans     0.000000  0.000000  0.375000       9.750000   \n507   16  texans     0.000000  0.000000  0.375000       9.750000   \n\n     Team_Score_Opp  Team_Off_1stD  Team_Off_TotYd  Team_Off_PassYd  ...  \\\n0         20.636364      18.818182      358.636364       225.000000  ...   \n1         20.636364      18.818182      358.636364       225.000000  ...   \n2         20.636364      18.818182      358.636364       225.000000  ...   \n3         20.636364      18.818182      358.636364       225.000000  ...   \n4         20.636364      18.818182      358.636364       225.000000  ...   \n..              ...            ...             ...              ...  ...   \n445       27.571429      14.571429      283.428571       182.714286  ...   \n446       27.571429      14.571429      283.428571       182.714286  ...   \n451       27.571429      14.571429      283.428571       182.714286  ...   \n499       27.375000      12.000000      221.000000       148.750000  ...   \n507       27.375000      12.000000      221.000000       148.750000  ...   \n\n     Opp_Off_TO  Opp_Def_1stD  Opp_Def_TotYd  Opp_Def_PassYd  Opp_Def_RushYD  \\\n0      2.000000     18.500000     271.625000      154.375000      117.250000   \n1      1.625000     21.875000     365.375000      250.375000      115.000000   \n2      1.285714     18.142857     317.000000      211.428571      105.571429   \n3      2.181818     19.272727     323.090909      235.000000       88.090909   \n4      2.100000     17.100000     282.400000      178.600000      103.800000   \n..          ...           ...            ...             ...             ...   \n445    1.375000     22.000000     342.875000      218.375000      124.500000   \n446    1.625000     21.875000     365.375000      250.375000      115.000000   \n451    1.400000     19.800000     365.100000      215.000000      150.100000   \n499    1.833333     22.500000     361.000000      271.500000       89.500000   \n507    1.833333     22.500000     361.000000      271.500000       89.500000   \n\n     Opp_Def_TO  Opp_Exp_Offense  Opp_Exp_Defense  Opp_Exp_SpecTms  Result  \n0      1.875000        -2.573750         3.120000        -0.567500       L  \n1      1.250000         1.265000        -4.305000         1.530000       W  \n2      1.428571         4.684286         1.810000        -1.164286       L  \n3      1.727273         2.621818         0.015455         0.578182       W  \n4      1.500000        -6.894000         4.772000        -0.035000       W  \n..          ...              ...              ...              ...     ...  \n445    2.000000         2.143750         0.177500        -1.373750       L  \n446    1.250000         1.265000        -4.305000         1.530000       W  \n451    1.600000        -1.306000        -2.900000        -0.072000       L  \n499    1.833333         3.473333        -0.823333        -0.740000       L  \n507    1.833333         3.473333        -0.823333        -0.740000       W  \n\n[272 rows x 40 columns]",
      "text/html": "<div>\n<style scoped>\n    .dataframe tbody tr th:only-of-type {\n        vertical-align: middle;\n    }\n\n    .dataframe tbody tr th {\n        vertical-align: top;\n    }\n\n    .dataframe thead th {\n        text-align: right;\n    }\n</style>\n<table border=\"1\" class=\"dataframe\">\n  <thead>\n    <tr style=\"text-align: right;\">\n      <th></th>\n      <th>Week</th>\n      <th>Team</th>\n      <th>Team_Result</th>\n      <th>Team_OT</th>\n      <th>Team_H/A</th>\n      <th>Team_Score_Tm</th>\n      <th>Team_Score_Opp</th>\n      <th>Team_Off_1stD</th>\n      <th>Team_Off_TotYd</th>\n      <th>Team_Off_PassYd</th>\n      <th>...</th>\n      <th>Opp_Off_TO</th>\n      <th>Opp_Def_1stD</th>\n      <th>Opp_Def_TotYd</th>\n      <th>Opp_Def_PassYd</th>\n      <th>Opp_Def_RushYD</th>\n      <th>Opp_Def_TO</th>\n      <th>Opp_Exp_Offense</th>\n      <th>Opp_Exp_Defense</th>\n      <th>Opp_Exp_SpecTms</th>\n      <th>Result</th>\n    </tr>\n  </thead>\n  <tbody>\n    <tr>\n      <th>0</th>\n      <td>1</td>\n      <td>49ers</td>\n      <td>0.636364</td>\n      <td>0.090909</td>\n      <td>0.363636</td>\n      <td>23.636364</td>\n      <td>20.636364</td>\n      <td>18.818182</td>\n      <td>358.636364</td>\n      <td>225.000000</td>\n      <td>...</td>\n      <td>2.000000</td>\n      <td>18.500000</td>\n      <td>271.625000</td>\n      <td>154.375000</td>\n      <td>117.250000</td>\n      <td>1.875000</td>\n      <td>-2.573750</td>\n      <td>3.120000</td>\n      <td>-0.567500</td>\n      <td>L</td>\n    </tr>\n    <tr>\n      <th>1</th>\n      <td>2</td>\n      <td>49ers</td>\n      <td>0.636364</td>\n      <td>0.090909</td>\n      <td>0.363636</td>\n      <td>23.636364</td>\n      <td>20.636364</td>\n      <td>18.818182</td>\n      <td>358.636364</td>\n      <td>225.000000</td>\n      <td>...</td>\n      <td>1.625000</td>\n      <td>21.875000</td>\n      <td>365.375000</td>\n      <td>250.375000</td>\n      <td>115.000000</td>\n      <td>1.250000</td>\n      <td>1.265000</td>\n      <td>-4.305000</td>\n      <td>1.530000</td>\n      <td>W</td>\n    </tr>\n    <tr>\n      <th>2</th>\n      <td>3</td>\n      <td>49ers</td>\n      <td>0.636364</td>\n      <td>0.090909</td>\n      <td>0.363636</td>\n      <td>23.636364</td>\n      <td>20.636364</td>\n      <td>18.818182</td>\n      <td>358.636364</td>\n      <td>225.000000</td>\n      <td>...</td>\n      <td>1.285714</td>\n      <td>18.142857</td>\n      <td>317.000000</td>\n      <td>211.428571</td>\n      <td>105.571429</td>\n      <td>1.428571</td>\n      <td>4.684286</td>\n      <td>1.810000</td>\n      <td>-1.164286</td>\n      <td>L</td>\n    </tr>\n    <tr>\n      <th>3</th>\n      <td>4</td>\n      <td>49ers</td>\n      <td>0.636364</td>\n      <td>0.090909</td>\n      <td>0.363636</td>\n      <td>23.636364</td>\n      <td>20.636364</td>\n      <td>18.818182</td>\n      <td>358.636364</td>\n      <td>225.000000</td>\n      <td>...</td>\n      <td>2.181818</td>\n      <td>19.272727</td>\n      <td>323.090909</td>\n      <td>235.000000</td>\n      <td>88.090909</td>\n      <td>1.727273</td>\n      <td>2.621818</td>\n      <td>0.015455</td>\n      <td>0.578182</td>\n      <td>W</td>\n    </tr>\n    <tr>\n      <th>4</th>\n      <td>5</td>\n      <td>49ers</td>\n      <td>0.636364</td>\n      <td>0.090909</td>\n      <td>0.363636</td>\n      <td>23.636364</td>\n      <td>20.636364</td>\n      <td>18.818182</td>\n      <td>358.636364</td>\n      <td>225.000000</td>\n      <td>...</td>\n      <td>2.100000</td>\n      <td>17.100000</td>\n      <td>282.400000</td>\n      <td>178.600000</td>\n      <td>103.800000</td>\n      <td>1.500000</td>\n      <td>-6.894000</td>\n      <td>4.772000</td>\n      <td>-0.035000</td>\n      <td>W</td>\n    </tr>\n    <tr>\n      <th>...</th>\n      <td>...</td>\n      <td>...</td>\n      <td>...</td>\n      <td>...</td>\n      <td>...</td>\n      <td>...</td>\n      <td>...</td>\n      <td>...</td>\n      <td>...</td>\n      <td>...</td>\n      <td>...</td>\n      <td>...</td>\n      <td>...</td>\n      <td>...</td>\n      <td>...</td>\n      <td>...</td>\n      <td>...</td>\n      <td>...</td>\n      <td>...</td>\n      <td>...</td>\n      <td>...</td>\n    </tr>\n    <tr>\n      <th>445</th>\n      <td>4</td>\n      <td>saints</td>\n      <td>0.142857</td>\n      <td>0.142857</td>\n      <td>0.571429</td>\n      <td>16.571429</td>\n      <td>27.571429</td>\n      <td>14.571429</td>\n      <td>283.428571</td>\n      <td>182.714286</td>\n      <td>...</td>\n      <td>1.375000</td>\n      <td>22.000000</td>\n      <td>342.875000</td>\n      <td>218.375000</td>\n      <td>124.500000</td>\n      <td>2.000000</td>\n      <td>2.143750</td>\n      <td>0.177500</td>\n      <td>-1.373750</td>\n      <td>L</td>\n    </tr>\n    <tr>\n      <th>446</th>\n      <td>5</td>\n      <td>saints</td>\n      <td>0.142857</td>\n      <td>0.142857</td>\n      <td>0.571429</td>\n      <td>16.571429</td>\n      <td>27.571429</td>\n      <td>14.571429</td>\n      <td>283.428571</td>\n      <td>182.714286</td>\n      <td>...</td>\n      <td>1.625000</td>\n      <td>21.875000</td>\n      <td>365.375000</td>\n      <td>250.375000</td>\n      <td>115.000000</td>\n      <td>1.250000</td>\n      <td>1.265000</td>\n      <td>-4.305000</td>\n      <td>1.530000</td>\n      <td>W</td>\n    </tr>\n    <tr>\n      <th>451</th>\n      <td>10</td>\n      <td>saints</td>\n      <td>0.142857</td>\n      <td>0.142857</td>\n      <td>0.571429</td>\n      <td>16.571429</td>\n      <td>27.571429</td>\n      <td>14.571429</td>\n      <td>283.428571</td>\n      <td>182.714286</td>\n      <td>...</td>\n      <td>1.400000</td>\n      <td>19.800000</td>\n      <td>365.100000</td>\n      <td>215.000000</td>\n      <td>150.100000</td>\n      <td>1.600000</td>\n      <td>-1.306000</td>\n      <td>-2.900000</td>\n      <td>-0.072000</td>\n      <td>L</td>\n    </tr>\n    <tr>\n      <th>499</th>\n      <td>8</td>\n      <td>texans</td>\n      <td>0.000000</td>\n      <td>0.000000</td>\n      <td>0.375000</td>\n      <td>9.750000</td>\n      <td>27.375000</td>\n      <td>12.000000</td>\n      <td>221.000000</td>\n      <td>148.750000</td>\n      <td>...</td>\n      <td>1.833333</td>\n      <td>22.500000</td>\n      <td>361.000000</td>\n      <td>271.500000</td>\n      <td>89.500000</td>\n      <td>1.833333</td>\n      <td>3.473333</td>\n      <td>-0.823333</td>\n      <td>-0.740000</td>\n      <td>L</td>\n    </tr>\n    <tr>\n      <th>507</th>\n      <td>16</td>\n      <td>texans</td>\n      <td>0.000000</td>\n      <td>0.000000</td>\n      <td>0.375000</td>\n      <td>9.750000</td>\n      <td>27.375000</td>\n      <td>12.000000</td>\n      <td>221.000000</td>\n      <td>148.750000</td>\n      <td>...</td>\n      <td>1.833333</td>\n      <td>22.500000</td>\n      <td>361.000000</td>\n      <td>271.500000</td>\n      <td>89.500000</td>\n      <td>1.833333</td>\n      <td>3.473333</td>\n      <td>-0.823333</td>\n      <td>-0.740000</td>\n      <td>W</td>\n    </tr>\n  </tbody>\n</table>\n<p>272 rows × 40 columns</p>\n</div>"
     },
     "execution_count": 343,
     "metadata": {},
     "output_type": "execute_result"
    }
   ],
   "source": [
    "df_2022_agg['Match'] = df_2022_agg.apply(lambda row: '-'.join(sorted([row['Team'], row['Opp']])), axis=1)\n",
    "df_2022_agg = df_2022_agg.drop_duplicates(subset=['Match', 'Week'])\n",
    "df_2022_agg = df_2022_agg.drop(columns=['Match'])\n",
    "\n",
    "df_2023_agg['Match'] = df_2023_agg.apply(lambda row: '-'.join(sorted([row['Team'], row['Opp']])), axis=1)\n",
    "df_2023_agg = df_2023_agg.drop_duplicates(subset=['Match', 'Week'])\n",
    "df_2023_agg = df_2023_agg.drop(columns=['Match'])\n",
    "\n",
    "df_2022_agg"
   ],
   "metadata": {
    "collapsed": false,
    "ExecuteTime": {
     "end_time": "2024-03-26T01:12:45.025468300Z",
     "start_time": "2024-03-26T01:12:44.953717200Z"
    }
   },
   "id": "3249122153efe521",
   "execution_count": 343
  },
  {
   "cell_type": "markdown",
   "source": [
    "['49ers' 'bears' 'bengals' 'bills' 'broncos' 'browns' 'buccaneers'\n",
    " 'cardinals' 'chargers' 'chiefs' 'colts' 'commanders' 'cowboys' 'dolphins'\n",
    " 'eagles' 'falcons' 'giants' 'jaguars' 'jets' 'lions' 'packers' 'panthers'\n",
    " 'patriots' 'raiders' 'rams' 'ravens' 'saints' 'seahawks' 'steelers'\n",
    " 'texans' 'titans' 'vikings']"
   ],
   "metadata": {
    "collapsed": false
   },
   "id": "cf8aadbe165df73c"
  },
  {
   "cell_type": "code",
   "outputs": [],
   "source": [
    "team_name_to_number = {\n",
    "    '49ers': 0,\n",
    "    'bears': 1,\n",
    "    'bengals': 2,\n",
    "    'bills': 3,\n",
    "    'broncos': 4,\n",
    "    'browns': 5,\n",
    "    'buccaneers': 6,\n",
    "    'cardinals': 7,\n",
    "    'chargers': 8,\n",
    "    'chiefs': 9,\n",
    "    'colts': 10,\n",
    "    'commanders': 11,\n",
    "    'cowboys': 12,\n",
    "    'dolphins': 13,\n",
    "    'eagles': 14,\n",
    "    'falcons': 15,\n",
    "    'giants': 16,\n",
    "    'jaguars': 17,\n",
    "    'jets': 18,\n",
    "    'lions': 19,\n",
    "    'packers': 20,\n",
    "    'panthers': 21,\n",
    "    'patriots': 22,\n",
    "    'raiders': 23,\n",
    "    'rams': 24,\n",
    "    'ravens': 25,\n",
    "    'saints': 26,\n",
    "    'seahawks': 27,\n",
    "    'steelers': 28,\n",
    "    'texans': 29,\n",
    "    'titans': 30,\n",
    "    'vikings': 31\n",
    "}\n",
    "\n",
    "df_2022_agg['Team'] = df_2022_agg['Team'].map(team_name_to_number)\n",
    "df_2022_agg['Opp'] = df_2022_agg['Opp'].map(team_name_to_number)\n",
    "\n",
    "result_mapping = {'W': 1, 'L': 0}\n",
    "df_2022_agg['Result'] = df_2022_agg['Result'].map(result_mapping)\n",
    "\n",
    "\n",
    "df_2023_agg['Team'] = df_2023_agg['Team'].map(team_name_to_number)\n",
    "df_2023_agg['Opp'] = df_2023_agg['Opp'].map(team_name_to_number)\n",
    "\n",
    "\n",
    "df_2023_agg['Result'] = df_2023_agg['Result'].map(result_mapping)"
   ],
   "metadata": {
    "collapsed": false,
    "ExecuteTime": {
     "end_time": "2024-03-26T01:12:46.510802200Z",
     "start_time": "2024-03-26T01:12:46.417272800Z"
    }
   },
   "id": "2565f2ef1575a923",
   "execution_count": 344
  },
  {
   "cell_type": "code",
   "outputs": [
    {
     "data": {
      "text/plain": "    Week  Team  Team_Result   Team_OT  Team_H/A  Team_Score_Tm  \\\n0      1     0     0.636364  0.090909  0.363636      23.636364   \n1      2     0     0.636364  0.090909  0.363636      23.636364   \n2      3     0     0.636364  0.090909  0.363636      23.636364   \n3      4     0     0.636364  0.090909  0.363636      23.636364   \n4      5     0     0.636364  0.090909  0.363636      23.636364   \n..   ...   ...          ...       ...       ...            ...   \n445    4    26     0.142857  0.142857  0.571429      16.571429   \n446    5    26     0.142857  0.142857  0.571429      16.571429   \n451   10    26     0.142857  0.142857  0.571429      16.571429   \n499    8    29     0.000000  0.000000  0.375000       9.750000   \n507   16    29     0.000000  0.000000  0.375000       9.750000   \n\n     Team_Score_Opp  Team_Off_1stD  Team_Off_TotYd  Team_Off_PassYd  ...  \\\n0         20.636364      18.818182      358.636364       225.000000  ...   \n1         20.636364      18.818182      358.636364       225.000000  ...   \n2         20.636364      18.818182      358.636364       225.000000  ...   \n3         20.636364      18.818182      358.636364       225.000000  ...   \n4         20.636364      18.818182      358.636364       225.000000  ...   \n..              ...            ...             ...              ...  ...   \n445       27.571429      14.571429      283.428571       182.714286  ...   \n446       27.571429      14.571429      283.428571       182.714286  ...   \n451       27.571429      14.571429      283.428571       182.714286  ...   \n499       27.375000      12.000000      221.000000       148.750000  ...   \n507       27.375000      12.000000      221.000000       148.750000  ...   \n\n     Opp_Off_TO  Opp_Def_1stD  Opp_Def_TotYd  Opp_Def_PassYd  Opp_Def_RushYD  \\\n0      2.000000     18.500000     271.625000      154.375000      117.250000   \n1      1.625000     21.875000     365.375000      250.375000      115.000000   \n2      1.285714     18.142857     317.000000      211.428571      105.571429   \n3      2.181818     19.272727     323.090909      235.000000       88.090909   \n4      2.100000     17.100000     282.400000      178.600000      103.800000   \n..          ...           ...            ...             ...             ...   \n445    1.375000     22.000000     342.875000      218.375000      124.500000   \n446    1.625000     21.875000     365.375000      250.375000      115.000000   \n451    1.400000     19.800000     365.100000      215.000000      150.100000   \n499    1.833333     22.500000     361.000000      271.500000       89.500000   \n507    1.833333     22.500000     361.000000      271.500000       89.500000   \n\n     Opp_Def_TO  Opp_Exp_Offense  Opp_Exp_Defense  Opp_Exp_SpecTms  Result  \n0      1.875000        -2.573750         3.120000        -0.567500       0  \n1      1.250000         1.265000        -4.305000         1.530000       1  \n2      1.428571         4.684286         1.810000        -1.164286       0  \n3      1.727273         2.621818         0.015455         0.578182       1  \n4      1.500000        -6.894000         4.772000        -0.035000       1  \n..          ...              ...              ...              ...     ...  \n445    2.000000         2.143750         0.177500        -1.373750       0  \n446    1.250000         1.265000        -4.305000         1.530000       1  \n451    1.600000        -1.306000        -2.900000        -0.072000       0  \n499    1.833333         3.473333        -0.823333        -0.740000       0  \n507    1.833333         3.473333        -0.823333        -0.740000       1  \n\n[269 rows x 40 columns]",
      "text/html": "<div>\n<style scoped>\n    .dataframe tbody tr th:only-of-type {\n        vertical-align: middle;\n    }\n\n    .dataframe tbody tr th {\n        vertical-align: top;\n    }\n\n    .dataframe thead th {\n        text-align: right;\n    }\n</style>\n<table border=\"1\" class=\"dataframe\">\n  <thead>\n    <tr style=\"text-align: right;\">\n      <th></th>\n      <th>Week</th>\n      <th>Team</th>\n      <th>Team_Result</th>\n      <th>Team_OT</th>\n      <th>Team_H/A</th>\n      <th>Team_Score_Tm</th>\n      <th>Team_Score_Opp</th>\n      <th>Team_Off_1stD</th>\n      <th>Team_Off_TotYd</th>\n      <th>Team_Off_PassYd</th>\n      <th>...</th>\n      <th>Opp_Off_TO</th>\n      <th>Opp_Def_1stD</th>\n      <th>Opp_Def_TotYd</th>\n      <th>Opp_Def_PassYd</th>\n      <th>Opp_Def_RushYD</th>\n      <th>Opp_Def_TO</th>\n      <th>Opp_Exp_Offense</th>\n      <th>Opp_Exp_Defense</th>\n      <th>Opp_Exp_SpecTms</th>\n      <th>Result</th>\n    </tr>\n  </thead>\n  <tbody>\n    <tr>\n      <th>0</th>\n      <td>1</td>\n      <td>0</td>\n      <td>0.636364</td>\n      <td>0.090909</td>\n      <td>0.363636</td>\n      <td>23.636364</td>\n      <td>20.636364</td>\n      <td>18.818182</td>\n      <td>358.636364</td>\n      <td>225.000000</td>\n      <td>...</td>\n      <td>2.000000</td>\n      <td>18.500000</td>\n      <td>271.625000</td>\n      <td>154.375000</td>\n      <td>117.250000</td>\n      <td>1.875000</td>\n      <td>-2.573750</td>\n      <td>3.120000</td>\n      <td>-0.567500</td>\n      <td>0</td>\n    </tr>\n    <tr>\n      <th>1</th>\n      <td>2</td>\n      <td>0</td>\n      <td>0.636364</td>\n      <td>0.090909</td>\n      <td>0.363636</td>\n      <td>23.636364</td>\n      <td>20.636364</td>\n      <td>18.818182</td>\n      <td>358.636364</td>\n      <td>225.000000</td>\n      <td>...</td>\n      <td>1.625000</td>\n      <td>21.875000</td>\n      <td>365.375000</td>\n      <td>250.375000</td>\n      <td>115.000000</td>\n      <td>1.250000</td>\n      <td>1.265000</td>\n      <td>-4.305000</td>\n      <td>1.530000</td>\n      <td>1</td>\n    </tr>\n    <tr>\n      <th>2</th>\n      <td>3</td>\n      <td>0</td>\n      <td>0.636364</td>\n      <td>0.090909</td>\n      <td>0.363636</td>\n      <td>23.636364</td>\n      <td>20.636364</td>\n      <td>18.818182</td>\n      <td>358.636364</td>\n      <td>225.000000</td>\n      <td>...</td>\n      <td>1.285714</td>\n      <td>18.142857</td>\n      <td>317.000000</td>\n      <td>211.428571</td>\n      <td>105.571429</td>\n      <td>1.428571</td>\n      <td>4.684286</td>\n      <td>1.810000</td>\n      <td>-1.164286</td>\n      <td>0</td>\n    </tr>\n    <tr>\n      <th>3</th>\n      <td>4</td>\n      <td>0</td>\n      <td>0.636364</td>\n      <td>0.090909</td>\n      <td>0.363636</td>\n      <td>23.636364</td>\n      <td>20.636364</td>\n      <td>18.818182</td>\n      <td>358.636364</td>\n      <td>225.000000</td>\n      <td>...</td>\n      <td>2.181818</td>\n      <td>19.272727</td>\n      <td>323.090909</td>\n      <td>235.000000</td>\n      <td>88.090909</td>\n      <td>1.727273</td>\n      <td>2.621818</td>\n      <td>0.015455</td>\n      <td>0.578182</td>\n      <td>1</td>\n    </tr>\n    <tr>\n      <th>4</th>\n      <td>5</td>\n      <td>0</td>\n      <td>0.636364</td>\n      <td>0.090909</td>\n      <td>0.363636</td>\n      <td>23.636364</td>\n      <td>20.636364</td>\n      <td>18.818182</td>\n      <td>358.636364</td>\n      <td>225.000000</td>\n      <td>...</td>\n      <td>2.100000</td>\n      <td>17.100000</td>\n      <td>282.400000</td>\n      <td>178.600000</td>\n      <td>103.800000</td>\n      <td>1.500000</td>\n      <td>-6.894000</td>\n      <td>4.772000</td>\n      <td>-0.035000</td>\n      <td>1</td>\n    </tr>\n    <tr>\n      <th>...</th>\n      <td>...</td>\n      <td>...</td>\n      <td>...</td>\n      <td>...</td>\n      <td>...</td>\n      <td>...</td>\n      <td>...</td>\n      <td>...</td>\n      <td>...</td>\n      <td>...</td>\n      <td>...</td>\n      <td>...</td>\n      <td>...</td>\n      <td>...</td>\n      <td>...</td>\n      <td>...</td>\n      <td>...</td>\n      <td>...</td>\n      <td>...</td>\n      <td>...</td>\n      <td>...</td>\n    </tr>\n    <tr>\n      <th>445</th>\n      <td>4</td>\n      <td>26</td>\n      <td>0.142857</td>\n      <td>0.142857</td>\n      <td>0.571429</td>\n      <td>16.571429</td>\n      <td>27.571429</td>\n      <td>14.571429</td>\n      <td>283.428571</td>\n      <td>182.714286</td>\n      <td>...</td>\n      <td>1.375000</td>\n      <td>22.000000</td>\n      <td>342.875000</td>\n      <td>218.375000</td>\n      <td>124.500000</td>\n      <td>2.000000</td>\n      <td>2.143750</td>\n      <td>0.177500</td>\n      <td>-1.373750</td>\n      <td>0</td>\n    </tr>\n    <tr>\n      <th>446</th>\n      <td>5</td>\n      <td>26</td>\n      <td>0.142857</td>\n      <td>0.142857</td>\n      <td>0.571429</td>\n      <td>16.571429</td>\n      <td>27.571429</td>\n      <td>14.571429</td>\n      <td>283.428571</td>\n      <td>182.714286</td>\n      <td>...</td>\n      <td>1.625000</td>\n      <td>21.875000</td>\n      <td>365.375000</td>\n      <td>250.375000</td>\n      <td>115.000000</td>\n      <td>1.250000</td>\n      <td>1.265000</td>\n      <td>-4.305000</td>\n      <td>1.530000</td>\n      <td>1</td>\n    </tr>\n    <tr>\n      <th>451</th>\n      <td>10</td>\n      <td>26</td>\n      <td>0.142857</td>\n      <td>0.142857</td>\n      <td>0.571429</td>\n      <td>16.571429</td>\n      <td>27.571429</td>\n      <td>14.571429</td>\n      <td>283.428571</td>\n      <td>182.714286</td>\n      <td>...</td>\n      <td>1.400000</td>\n      <td>19.800000</td>\n      <td>365.100000</td>\n      <td>215.000000</td>\n      <td>150.100000</td>\n      <td>1.600000</td>\n      <td>-1.306000</td>\n      <td>-2.900000</td>\n      <td>-0.072000</td>\n      <td>0</td>\n    </tr>\n    <tr>\n      <th>499</th>\n      <td>8</td>\n      <td>29</td>\n      <td>0.000000</td>\n      <td>0.000000</td>\n      <td>0.375000</td>\n      <td>9.750000</td>\n      <td>27.375000</td>\n      <td>12.000000</td>\n      <td>221.000000</td>\n      <td>148.750000</td>\n      <td>...</td>\n      <td>1.833333</td>\n      <td>22.500000</td>\n      <td>361.000000</td>\n      <td>271.500000</td>\n      <td>89.500000</td>\n      <td>1.833333</td>\n      <td>3.473333</td>\n      <td>-0.823333</td>\n      <td>-0.740000</td>\n      <td>0</td>\n    </tr>\n    <tr>\n      <th>507</th>\n      <td>16</td>\n      <td>29</td>\n      <td>0.000000</td>\n      <td>0.000000</td>\n      <td>0.375000</td>\n      <td>9.750000</td>\n      <td>27.375000</td>\n      <td>12.000000</td>\n      <td>221.000000</td>\n      <td>148.750000</td>\n      <td>...</td>\n      <td>1.833333</td>\n      <td>22.500000</td>\n      <td>361.000000</td>\n      <td>271.500000</td>\n      <td>89.500000</td>\n      <td>1.833333</td>\n      <td>3.473333</td>\n      <td>-0.823333</td>\n      <td>-0.740000</td>\n      <td>1</td>\n    </tr>\n  </tbody>\n</table>\n<p>269 rows × 40 columns</p>\n</div>"
     },
     "execution_count": 345,
     "metadata": {},
     "output_type": "execute_result"
    }
   ],
   "source": [
    "df_2022_agg.dropna(subset = ['Result'], inplace=True)\n",
    "df_2022_agg['Result'] = df_2022_agg['Result'].astype(int)\n",
    "\n",
    "df_2023_agg.dropna(subset = ['Result'], inplace=True)\n",
    "df_2023_agg['Result'] = df_2023_agg['Result'].astype(int)\n",
    "\n",
    "df_2022_agg"
   ],
   "metadata": {
    "collapsed": false,
    "ExecuteTime": {
     "end_time": "2024-03-26T01:12:47.131494200Z",
     "start_time": "2024-03-26T01:12:47.041636500Z"
    }
   },
   "id": "b7076250cdfac875",
   "execution_count": 345
  },
  {
   "cell_type": "code",
   "outputs": [
    {
     "name": "stdout",
     "output_type": "stream",
     "text": [
      "0.6481481481481481\n"
     ]
    },
    {
     "name": "stderr",
     "output_type": "stream",
     "text": [
      "C:\\Users\\bpawl\\AppData\\Local\\Programs\\Python\\Python311\\Lib\\site-packages\\sklearn\\linear_model\\_logistic.py:469: ConvergenceWarning: lbfgs failed to converge (status=1):\n",
      "STOP: TOTAL NO. of ITERATIONS REACHED LIMIT.\n",
      "\n",
      "Increase the number of iterations (max_iter) or scale the data as shown in:\n",
      "    https://scikit-learn.org/stable/modules/preprocessing.html\n",
      "Please also refer to the documentation for alternative solver options:\n",
      "    https://scikit-learn.org/stable/modules/linear_model.html#logistic-regression\n",
      "  n_iter_i = _check_optimize_result(\n"
     ]
    }
   ],
   "source": [
    "from sklearn.linear_model import LogisticRegression\n",
    "\n",
    "X_train, X_test, y_train, y_test = train_test_split(df_2022_agg.iloc[:, 2:38], df_2022_agg.iloc[:, 39], test_size = 0.2, random_state = 1)\n",
    "\n",
    "lr = LogisticRegression(max_iter = 10000)\n",
    "\n",
    "lr.fit(X_train, y_train)\n",
    "\n",
    "y_pred = lr.predict(X_test)\n",
    "\n",
    "accuracy = accuracy_score(y_test, y_pred)\n",
    "\n",
    "print(accuracy)"
   ],
   "metadata": {
    "collapsed": false,
    "ExecuteTime": {
     "end_time": "2024-03-26T01:14:16.635338700Z",
     "start_time": "2024-03-26T01:14:14.433049100Z"
    }
   },
   "id": "bc333bf6018622cb",
   "execution_count": 351
  },
  {
   "cell_type": "code",
   "outputs": [],
   "source": [
    "i"
   ],
   "metadata": {
    "collapsed": false
   },
   "id": "3945b4f9f4aad11e"
  }
 ],
 "metadata": {
  "kernelspec": {
   "display_name": "Python 3",
   "language": "python",
   "name": "python3"
  },
  "language_info": {
   "codemirror_mode": {
    "name": "ipython",
    "version": 2
   },
   "file_extension": ".py",
   "mimetype": "text/x-python",
   "name": "python",
   "nbconvert_exporter": "python",
   "pygments_lexer": "ipython2",
   "version": "2.7.6"
  }
 },
 "nbformat": 4,
 "nbformat_minor": 5
}
