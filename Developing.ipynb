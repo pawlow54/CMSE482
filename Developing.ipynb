{
 "cells": [
  {
   "cell_type": "code",
   "execution_count": 1,
   "id": "initial_id",
   "metadata": {
    "ExecuteTime": {
     "end_time": "2024-03-28T16:00:22.668508500Z",
     "start_time": "2024-03-28T16:00:16.669168100Z"
    }
   },
   "outputs": [
    {
     "name": "stderr",
     "output_type": "stream",
     "text": [
      "C:\\Users\\krizm\\AppData\\Local\\Temp\\ipykernel_10316\\948096407.py:1: DeprecationWarning: \n",
      "Pyarrow will become a required dependency of pandas in the next major release of pandas (pandas 3.0),\n",
      "(to allow more performant data types, such as the Arrow string type, and better interoperability with other libraries)\n",
      "but was not found to be installed on your system.\n",
      "If this would cause problems for you,\n",
      "please provide us feedback at https://github.com/pandas-dev/pandas/issues/54466\n",
      "        \n",
      "  import pandas as pd\n"
     ]
    }
   ],
   "source": [
    "import pandas as pd\n",
    "import numpy as np\n",
    "from sklearn.model_selection import train_test_split\n",
    "from sklearn.ensemble import RandomForestClassifier\n",
    "from sklearn.preprocessing import OneHotEncoder\n",
    "from sklearn.impute import SimpleImputer\n",
    "from sklearn.pipeline import make_pipeline\n",
    "from sklearn.compose import make_column_transformer\n",
    "from sklearn.metrics import accuracy_score"
   ]
  },
  {
   "cell_type": "code",
   "execution_count": 2,
   "id": "3f3cba652e2974df",
   "metadata": {
    "ExecuteTime": {
     "end_time": "2024-03-28T16:00:24.720679600Z",
     "start_time": "2024-03-28T16:00:24.630670700Z"
    }
   },
   "outputs": [],
   "source": [
    "# Load the datasets\n",
    "df_2021 = pd.read_csv('2021data.csv')\n",
    "df_2022 = pd.read_csv('2022data.csv')\n",
    "df_2023 = pd.read_csv('2023data.csv')\n",
    "\n",
    "# Combine the datasets\n",
    "data = pd.concat([df_2021, df_2022, df_2023])\n",
    "\n",
    "# Save the combined dataset\n",
    "data.to_csv('combined_dataset.csv', index=False)"
   ]
  },
  {
   "cell_type": "code",
   "execution_count": 3,
   "id": "bf798c49f219bd68",
   "metadata": {
    "ExecuteTime": {
     "end_time": "2024-03-28T16:00:26.411747Z",
     "start_time": "2024-03-28T16:00:26.351885800Z"
    }
   },
   "outputs": [
    {
     "data": {
      "text/plain": "    Week     Team  Day    Date       Time      Link Result   OT     Rec  H/A  \\\n0      1    49ers  Sun  12-Sep  1:00PM ET  boxscore      W  NaN  Jan-00    @   \n1      2    49ers  Sun  19-Sep  1:00PM ET  boxscore      W  NaN  Feb-00    @   \n2      3    49ers  Sun  26-Sep  8:20PM ET  boxscore      L  NaN   1-Feb  NaN   \n3      4    49ers  Sun   3-Oct  4:05PM ET  boxscore      L  NaN   2-Feb  NaN   \n4      5    49ers  Sun  10-Oct  4:25PM ET  boxscore      L  NaN   3-Feb    @   \n..   ...      ...  ...     ...        ...       ...    ...  ...     ...  ...   \n611   14  vikings  Sun  10-Dec  4:05PM ET  boxscore      W  NaN   6-Jul    @   \n612   15  vikings  Sat  16-Dec  1:00PM ET  boxscore      L   OT   7-Jul    @   \n613   16  vikings  Sun  24-Dec  1:00PM ET  boxscore      L  NaN   8-Jul  NaN   \n614   17  vikings  Sun  31-Dec  8:20PM ET  boxscore      L  NaN   9-Jul  NaN   \n615   18  vikings  Sun   7-Jan  1:00PM ET  boxscore      L  NaN  10-Jul    @   \n\n     ... Off_RushYd Off_TO  Def_1stD  Def_TotYd  Def_PassYd  Def_RushYD  \\\n0    ...      131.0    2.0      31.0      430.0       314.0       116.0   \n1    ...      117.0    NaN      18.0      328.0       177.0       151.0   \n2    ...       67.0    2.0      21.0      353.0       253.0       100.0   \n3    ...      143.0    2.0      14.0      234.0       129.0       105.0   \n4    ...      152.0    1.0      20.0      304.0       210.0        94.0   \n..   ...        ...    ...       ...        ...         ...         ...   \n611  ...      132.0    NaN       8.0      202.0       146.0        56.0   \n612  ...      143.0    2.0      22.0      378.0       298.0        80.0   \n613  ...       17.0    4.0      28.0      389.0       246.0       143.0   \n614  ...       67.0    2.0      28.0      470.0       293.0       177.0   \n615  ...       89.0    2.0      19.0      381.0       311.0        70.0   \n\n     Def_TO  Exp_Offense  Exp_Defense  Exp_SpecTms  \n0       1.0        15.48        -5.16        -1.73  \n1       NaN         7.86        -5.30         2.68  \n2       NaN        12.19       -15.14         0.95  \n3       NaN         8.61        -2.20       -14.31  \n4       1.0        -6.53        -1.74        -0.47  \n..      ...          ...          ...          ...  \n611     3.0       -10.05        20.46        -6.43  \n612     1.0         8.62        -9.29        -1.35  \n613     1.0        11.43       -15.44        -0.61  \n614     1.0       -14.27       -22.54        12.19  \n615     NaN         4.55       -17.81        -1.13  \n\n[1848 rows x 26 columns]",
      "text/html": "<div>\n<style scoped>\n    .dataframe tbody tr th:only-of-type {\n        vertical-align: middle;\n    }\n\n    .dataframe tbody tr th {\n        vertical-align: top;\n    }\n\n    .dataframe thead th {\n        text-align: right;\n    }\n</style>\n<table border=\"1\" class=\"dataframe\">\n  <thead>\n    <tr style=\"text-align: right;\">\n      <th></th>\n      <th>Week</th>\n      <th>Team</th>\n      <th>Day</th>\n      <th>Date</th>\n      <th>Time</th>\n      <th>Link</th>\n      <th>Result</th>\n      <th>OT</th>\n      <th>Rec</th>\n      <th>H/A</th>\n      <th>...</th>\n      <th>Off_RushYd</th>\n      <th>Off_TO</th>\n      <th>Def_1stD</th>\n      <th>Def_TotYd</th>\n      <th>Def_PassYd</th>\n      <th>Def_RushYD</th>\n      <th>Def_TO</th>\n      <th>Exp_Offense</th>\n      <th>Exp_Defense</th>\n      <th>Exp_SpecTms</th>\n    </tr>\n  </thead>\n  <tbody>\n    <tr>\n      <th>0</th>\n      <td>1</td>\n      <td>49ers</td>\n      <td>Sun</td>\n      <td>12-Sep</td>\n      <td>1:00PM ET</td>\n      <td>boxscore</td>\n      <td>W</td>\n      <td>NaN</td>\n      <td>Jan-00</td>\n      <td>@</td>\n      <td>...</td>\n      <td>131.0</td>\n      <td>2.0</td>\n      <td>31.0</td>\n      <td>430.0</td>\n      <td>314.0</td>\n      <td>116.0</td>\n      <td>1.0</td>\n      <td>15.48</td>\n      <td>-5.16</td>\n      <td>-1.73</td>\n    </tr>\n    <tr>\n      <th>1</th>\n      <td>2</td>\n      <td>49ers</td>\n      <td>Sun</td>\n      <td>19-Sep</td>\n      <td>1:00PM ET</td>\n      <td>boxscore</td>\n      <td>W</td>\n      <td>NaN</td>\n      <td>Feb-00</td>\n      <td>@</td>\n      <td>...</td>\n      <td>117.0</td>\n      <td>NaN</td>\n      <td>18.0</td>\n      <td>328.0</td>\n      <td>177.0</td>\n      <td>151.0</td>\n      <td>NaN</td>\n      <td>7.86</td>\n      <td>-5.30</td>\n      <td>2.68</td>\n    </tr>\n    <tr>\n      <th>2</th>\n      <td>3</td>\n      <td>49ers</td>\n      <td>Sun</td>\n      <td>26-Sep</td>\n      <td>8:20PM ET</td>\n      <td>boxscore</td>\n      <td>L</td>\n      <td>NaN</td>\n      <td>1-Feb</td>\n      <td>NaN</td>\n      <td>...</td>\n      <td>67.0</td>\n      <td>2.0</td>\n      <td>21.0</td>\n      <td>353.0</td>\n      <td>253.0</td>\n      <td>100.0</td>\n      <td>NaN</td>\n      <td>12.19</td>\n      <td>-15.14</td>\n      <td>0.95</td>\n    </tr>\n    <tr>\n      <th>3</th>\n      <td>4</td>\n      <td>49ers</td>\n      <td>Sun</td>\n      <td>3-Oct</td>\n      <td>4:05PM ET</td>\n      <td>boxscore</td>\n      <td>L</td>\n      <td>NaN</td>\n      <td>2-Feb</td>\n      <td>NaN</td>\n      <td>...</td>\n      <td>143.0</td>\n      <td>2.0</td>\n      <td>14.0</td>\n      <td>234.0</td>\n      <td>129.0</td>\n      <td>105.0</td>\n      <td>NaN</td>\n      <td>8.61</td>\n      <td>-2.20</td>\n      <td>-14.31</td>\n    </tr>\n    <tr>\n      <th>4</th>\n      <td>5</td>\n      <td>49ers</td>\n      <td>Sun</td>\n      <td>10-Oct</td>\n      <td>4:25PM ET</td>\n      <td>boxscore</td>\n      <td>L</td>\n      <td>NaN</td>\n      <td>3-Feb</td>\n      <td>@</td>\n      <td>...</td>\n      <td>152.0</td>\n      <td>1.0</td>\n      <td>20.0</td>\n      <td>304.0</td>\n      <td>210.0</td>\n      <td>94.0</td>\n      <td>1.0</td>\n      <td>-6.53</td>\n      <td>-1.74</td>\n      <td>-0.47</td>\n    </tr>\n    <tr>\n      <th>...</th>\n      <td>...</td>\n      <td>...</td>\n      <td>...</td>\n      <td>...</td>\n      <td>...</td>\n      <td>...</td>\n      <td>...</td>\n      <td>...</td>\n      <td>...</td>\n      <td>...</td>\n      <td>...</td>\n      <td>...</td>\n      <td>...</td>\n      <td>...</td>\n      <td>...</td>\n      <td>...</td>\n      <td>...</td>\n      <td>...</td>\n      <td>...</td>\n      <td>...</td>\n      <td>...</td>\n    </tr>\n    <tr>\n      <th>611</th>\n      <td>14</td>\n      <td>vikings</td>\n      <td>Sun</td>\n      <td>10-Dec</td>\n      <td>4:05PM ET</td>\n      <td>boxscore</td>\n      <td>W</td>\n      <td>NaN</td>\n      <td>6-Jul</td>\n      <td>@</td>\n      <td>...</td>\n      <td>132.0</td>\n      <td>NaN</td>\n      <td>8.0</td>\n      <td>202.0</td>\n      <td>146.0</td>\n      <td>56.0</td>\n      <td>3.0</td>\n      <td>-10.05</td>\n      <td>20.46</td>\n      <td>-6.43</td>\n    </tr>\n    <tr>\n      <th>612</th>\n      <td>15</td>\n      <td>vikings</td>\n      <td>Sat</td>\n      <td>16-Dec</td>\n      <td>1:00PM ET</td>\n      <td>boxscore</td>\n      <td>L</td>\n      <td>OT</td>\n      <td>7-Jul</td>\n      <td>@</td>\n      <td>...</td>\n      <td>143.0</td>\n      <td>2.0</td>\n      <td>22.0</td>\n      <td>378.0</td>\n      <td>298.0</td>\n      <td>80.0</td>\n      <td>1.0</td>\n      <td>8.62</td>\n      <td>-9.29</td>\n      <td>-1.35</td>\n    </tr>\n    <tr>\n      <th>613</th>\n      <td>16</td>\n      <td>vikings</td>\n      <td>Sun</td>\n      <td>24-Dec</td>\n      <td>1:00PM ET</td>\n      <td>boxscore</td>\n      <td>L</td>\n      <td>NaN</td>\n      <td>8-Jul</td>\n      <td>NaN</td>\n      <td>...</td>\n      <td>17.0</td>\n      <td>4.0</td>\n      <td>28.0</td>\n      <td>389.0</td>\n      <td>246.0</td>\n      <td>143.0</td>\n      <td>1.0</td>\n      <td>11.43</td>\n      <td>-15.44</td>\n      <td>-0.61</td>\n    </tr>\n    <tr>\n      <th>614</th>\n      <td>17</td>\n      <td>vikings</td>\n      <td>Sun</td>\n      <td>31-Dec</td>\n      <td>8:20PM ET</td>\n      <td>boxscore</td>\n      <td>L</td>\n      <td>NaN</td>\n      <td>9-Jul</td>\n      <td>NaN</td>\n      <td>...</td>\n      <td>67.0</td>\n      <td>2.0</td>\n      <td>28.0</td>\n      <td>470.0</td>\n      <td>293.0</td>\n      <td>177.0</td>\n      <td>1.0</td>\n      <td>-14.27</td>\n      <td>-22.54</td>\n      <td>12.19</td>\n    </tr>\n    <tr>\n      <th>615</th>\n      <td>18</td>\n      <td>vikings</td>\n      <td>Sun</td>\n      <td>7-Jan</td>\n      <td>1:00PM ET</td>\n      <td>boxscore</td>\n      <td>L</td>\n      <td>NaN</td>\n      <td>10-Jul</td>\n      <td>@</td>\n      <td>...</td>\n      <td>89.0</td>\n      <td>2.0</td>\n      <td>19.0</td>\n      <td>381.0</td>\n      <td>311.0</td>\n      <td>70.0</td>\n      <td>NaN</td>\n      <td>4.55</td>\n      <td>-17.81</td>\n      <td>-1.13</td>\n    </tr>\n  </tbody>\n</table>\n<p>1848 rows × 26 columns</p>\n</div>"
     },
     "execution_count": 3,
     "metadata": {},
     "output_type": "execute_result"
    }
   ],
   "source": [
    "data"
   ]
  },
  {
   "cell_type": "code",
   "execution_count": 4,
   "id": "a093cdda0e39aa5b",
   "metadata": {
    "ExecuteTime": {
     "end_time": "2024-03-28T16:00:38.797702300Z",
     "start_time": "2024-03-28T16:00:38.716368800Z"
    }
   },
   "outputs": [
    {
     "name": "stderr",
     "output_type": "stream",
     "text": [
      "C:\\Users\\krizm\\AppData\\Local\\Temp\\ipykernel_10316\\3462032.py:4: FutureWarning: Downcasting behavior in `replace` is deprecated and will be removed in a future version. To retain the old behavior, explicitly call `result.infer_objects(copy=False)`. To opt-in to the future behavior, set `pd.set_option('future.no_silent_downcasting', True)`\n",
      "  data['OT'] = data['OT'].fillna(0).replace('OT', 1)\n"
     ]
    }
   ],
   "source": [
    "data['Result'] = data['Result'].apply(lambda x: 1 if x == 'W' else 0)  # Convert Win to 1 and anything else to 0\n",
    "\n",
    "#1 if OT, 0 if no OT\n",
    "data['OT'] = data['OT'].fillna(0).replace('OT', 1)\n",
    "\n",
    "# 1 is home, 0 is away\n",
    "data['H/A'] = data['H/A'].fillna(1).replace('@', 0)\n",
    "\n",
    "data = data.drop(columns = ['Day', 'Date', 'Time', 'Link', 'Rec', 'Week'])\n",
    "\n",
    "data = data.dropna()\n",
    "\n",
    "data = data.reset_index()\n",
    "\n",
    "data = data.drop(columns = ['index'])\n",
    "data['Score_Tm'] = data['Score_Tm'].astype(float)\n",
    "data = data[~(data['H/A'] == 'N')]\n",
    "data['H/A'] = data['H/A'].astype(float)\n",
    "data['OT'] = data['OT'].astype(float)\n",
    "data['Result'] = data['Result'].astype(float)\n",
    "column = data.pop('Opp')\n",
    "data.insert(1, 'Opp', column)"
   ]
  },
  {
   "cell_type": "code",
   "execution_count": 5,
   "id": "4200794abbb45782",
   "metadata": {
    "ExecuteTime": {
     "end_time": "2024-03-28T16:00:40.468546800Z",
     "start_time": "2024-03-28T16:00:40.310968200Z"
    }
   },
   "outputs": [
    {
     "data": {
      "text/plain": "    Team                 Opp  Result   OT  H/A  Score_Tm  Score_Opp  Off_1stD  \\\n0  49ers       Detroit Lions     1.0  0.0  0.0      41.0       33.0      21.0   \n1  49ers   Arizona Cardinals     0.0  0.0  0.0      10.0       17.0      19.0   \n2  49ers  Indianapolis Colts     0.0  0.0  1.0      18.0       30.0      13.0   \n3  49ers   Minnesota Vikings     1.0  0.0  1.0      34.0       26.0      23.0   \n4  49ers    Seattle Seahawks     0.0  0.0  0.0      23.0       30.0      17.0   \n\n   Off_TotYd  Off_PassYd  Off_RushYd  Off_TO  Def_1stD  Def_TotYd  Def_PassYd  \\\n0      442.0       311.0       131.0     2.0      31.0      430.0       314.0   \n1      338.0       186.0       152.0     1.0      20.0      304.0       210.0   \n2      280.0       169.0       111.0     4.0      17.0      295.0       147.0   \n3      423.0       215.0       208.0     1.0      17.0      323.0       256.0   \n4      365.0       294.0        71.0     3.0      21.0      327.0       181.0   \n\n   Def_RushYD  Def_TO  Exp_Offense  Exp_Defense  Exp_SpecTms  \n0       116.0     1.0        15.48        -5.16        -1.73  \n1        94.0     1.0        -6.53        -1.74        -0.47  \n2       148.0     2.0       -15.30        -1.16         4.24  \n3        67.0     2.0         8.93         4.16        -6.10  \n4       146.0     3.0        -0.51        -2.27        -3.44  ",
      "text/html": "<div>\n<style scoped>\n    .dataframe tbody tr th:only-of-type {\n        vertical-align: middle;\n    }\n\n    .dataframe tbody tr th {\n        vertical-align: top;\n    }\n\n    .dataframe thead th {\n        text-align: right;\n    }\n</style>\n<table border=\"1\" class=\"dataframe\">\n  <thead>\n    <tr style=\"text-align: right;\">\n      <th></th>\n      <th>Team</th>\n      <th>Opp</th>\n      <th>Result</th>\n      <th>OT</th>\n      <th>H/A</th>\n      <th>Score_Tm</th>\n      <th>Score_Opp</th>\n      <th>Off_1stD</th>\n      <th>Off_TotYd</th>\n      <th>Off_PassYd</th>\n      <th>Off_RushYd</th>\n      <th>Off_TO</th>\n      <th>Def_1stD</th>\n      <th>Def_TotYd</th>\n      <th>Def_PassYd</th>\n      <th>Def_RushYD</th>\n      <th>Def_TO</th>\n      <th>Exp_Offense</th>\n      <th>Exp_Defense</th>\n      <th>Exp_SpecTms</th>\n    </tr>\n  </thead>\n  <tbody>\n    <tr>\n      <th>0</th>\n      <td>49ers</td>\n      <td>Detroit Lions</td>\n      <td>1.0</td>\n      <td>0.0</td>\n      <td>0.0</td>\n      <td>41.0</td>\n      <td>33.0</td>\n      <td>21.0</td>\n      <td>442.0</td>\n      <td>311.0</td>\n      <td>131.0</td>\n      <td>2.0</td>\n      <td>31.0</td>\n      <td>430.0</td>\n      <td>314.0</td>\n      <td>116.0</td>\n      <td>1.0</td>\n      <td>15.48</td>\n      <td>-5.16</td>\n      <td>-1.73</td>\n    </tr>\n    <tr>\n      <th>1</th>\n      <td>49ers</td>\n      <td>Arizona Cardinals</td>\n      <td>0.0</td>\n      <td>0.0</td>\n      <td>0.0</td>\n      <td>10.0</td>\n      <td>17.0</td>\n      <td>19.0</td>\n      <td>338.0</td>\n      <td>186.0</td>\n      <td>152.0</td>\n      <td>1.0</td>\n      <td>20.0</td>\n      <td>304.0</td>\n      <td>210.0</td>\n      <td>94.0</td>\n      <td>1.0</td>\n      <td>-6.53</td>\n      <td>-1.74</td>\n      <td>-0.47</td>\n    </tr>\n    <tr>\n      <th>2</th>\n      <td>49ers</td>\n      <td>Indianapolis Colts</td>\n      <td>0.0</td>\n      <td>0.0</td>\n      <td>1.0</td>\n      <td>18.0</td>\n      <td>30.0</td>\n      <td>13.0</td>\n      <td>280.0</td>\n      <td>169.0</td>\n      <td>111.0</td>\n      <td>4.0</td>\n      <td>17.0</td>\n      <td>295.0</td>\n      <td>147.0</td>\n      <td>148.0</td>\n      <td>2.0</td>\n      <td>-15.30</td>\n      <td>-1.16</td>\n      <td>4.24</td>\n    </tr>\n    <tr>\n      <th>3</th>\n      <td>49ers</td>\n      <td>Minnesota Vikings</td>\n      <td>1.0</td>\n      <td>0.0</td>\n      <td>1.0</td>\n      <td>34.0</td>\n      <td>26.0</td>\n      <td>23.0</td>\n      <td>423.0</td>\n      <td>215.0</td>\n      <td>208.0</td>\n      <td>1.0</td>\n      <td>17.0</td>\n      <td>323.0</td>\n      <td>256.0</td>\n      <td>67.0</td>\n      <td>2.0</td>\n      <td>8.93</td>\n      <td>4.16</td>\n      <td>-6.10</td>\n    </tr>\n    <tr>\n      <th>4</th>\n      <td>49ers</td>\n      <td>Seattle Seahawks</td>\n      <td>0.0</td>\n      <td>0.0</td>\n      <td>0.0</td>\n      <td>23.0</td>\n      <td>30.0</td>\n      <td>17.0</td>\n      <td>365.0</td>\n      <td>294.0</td>\n      <td>71.0</td>\n      <td>3.0</td>\n      <td>21.0</td>\n      <td>327.0</td>\n      <td>181.0</td>\n      <td>146.0</td>\n      <td>3.0</td>\n      <td>-0.51</td>\n      <td>-2.27</td>\n      <td>-3.44</td>\n    </tr>\n  </tbody>\n</table>\n</div>"
     },
     "execution_count": 5,
     "metadata": {},
     "output_type": "execute_result"
    }
   ],
   "source": [
    "data.head()"
   ]
  },
  {
   "cell_type": "code",
   "execution_count": 5,
   "id": "2ff3f26b87a650b0",
   "metadata": {
    "ExecuteTime": {
     "end_time": "2024-03-28T16:00:41.991426600Z",
     "start_time": "2024-03-28T16:00:41.924097300Z"
    }
   },
   "outputs": [],
   "source": []
  },
  {
   "cell_type": "code",
   "execution_count": 6,
   "id": "2e46325ee092478f",
   "metadata": {
    "ExecuteTime": {
     "end_time": "2024-03-28T16:00:42.905514900Z",
     "start_time": "2024-03-28T16:00:42.785690300Z"
    }
   },
   "outputs": [
    {
     "data": {
      "text/plain": "    Week     Team  Day    Date       Time      Link Result   OT     Rec  H/A  \\\n0      1    49ers  Sun  12-Sep  1:00PM ET  boxscore      W  NaN  Jan-00    @   \n1      2    49ers  Sun  19-Sep  1:00PM ET  boxscore      W  NaN  Feb-00    @   \n2      3    49ers  Sun  26-Sep  8:20PM ET  boxscore      L  NaN   1-Feb  NaN   \n3      4    49ers  Sun   3-Oct  4:05PM ET  boxscore      L  NaN   2-Feb  NaN   \n4      5    49ers  Sun  10-Oct  4:25PM ET  boxscore      L  NaN   3-Feb    @   \n..   ...      ...  ...     ...        ...       ...    ...  ...     ...  ...   \n611   14  vikings  Thu   9-Dec  8:20PM ET  boxscore      W  NaN   7-Jun  NaN   \n612   15  vikings  Mon  20-Dec  8:15PM ET  boxscore      W  NaN   7-Jul    @   \n613   16  vikings  Sun  26-Dec  1:00PM ET  boxscore      L  NaN   8-Jul  NaN   \n614   17  vikings  Sun   2-Jan  8:20PM ET  boxscore      L  NaN   9-Jul    @   \n615   18  vikings  Sun   9-Jan  1:00PM ET  boxscore      W  NaN   9-Aug  NaN   \n\n     ... Off_RushYd  Off_TO  Def_1stD  Def_TotYd  Def_PassYd  Def_RushYD  \\\n0    ...      131.0     2.0      31.0      430.0       314.0       116.0   \n1    ...      117.0     NaN      18.0      328.0       177.0       151.0   \n2    ...       67.0     2.0      21.0      353.0       253.0       100.0   \n3    ...      143.0     2.0      14.0      234.0       129.0       105.0   \n4    ...      152.0     1.0      20.0      304.0       210.0        94.0   \n..   ...        ...     ...       ...        ...         ...         ...   \n611  ...      242.0     2.0      22.0      375.0       269.0       106.0   \n612  ...      132.0     1.0      24.0      370.0       255.0       115.0   \n613  ...       66.0     1.0      22.0      356.0       197.0       159.0   \n614  ...       27.0     NaN      29.0      481.0       307.0       174.0   \n615  ...      104.0     NaN      24.0      356.0       266.0        90.0   \n\n     Def_TO  Exp_Offense  Exp_Defense  Exp_SpecTms  \n0       1.0        15.48        -5.16        -1.73  \n1       NaN         7.86        -5.30         2.68  \n2       NaN        12.19       -15.14         0.95  \n3       NaN         8.61        -2.20       -14.31  \n4       1.0        -6.53        -1.74        -0.47  \n..      ...          ...          ...          ...  \n611     1.0         8.68        -6.41         1.31  \n612     3.0        -4.65         7.72         5.92  \n613     3.0        -1.81         0.84        -7.80  \n614     NaN       -13.56       -21.96         7.80  \n615     2.0         7.18        12.22        -1.20  \n\n[616 rows x 26 columns]",
      "text/html": "<div>\n<style scoped>\n    .dataframe tbody tr th:only-of-type {\n        vertical-align: middle;\n    }\n\n    .dataframe tbody tr th {\n        vertical-align: top;\n    }\n\n    .dataframe thead th {\n        text-align: right;\n    }\n</style>\n<table border=\"1\" class=\"dataframe\">\n  <thead>\n    <tr style=\"text-align: right;\">\n      <th></th>\n      <th>Week</th>\n      <th>Team</th>\n      <th>Day</th>\n      <th>Date</th>\n      <th>Time</th>\n      <th>Link</th>\n      <th>Result</th>\n      <th>OT</th>\n      <th>Rec</th>\n      <th>H/A</th>\n      <th>...</th>\n      <th>Off_RushYd</th>\n      <th>Off_TO</th>\n      <th>Def_1stD</th>\n      <th>Def_TotYd</th>\n      <th>Def_PassYd</th>\n      <th>Def_RushYD</th>\n      <th>Def_TO</th>\n      <th>Exp_Offense</th>\n      <th>Exp_Defense</th>\n      <th>Exp_SpecTms</th>\n    </tr>\n  </thead>\n  <tbody>\n    <tr>\n      <th>0</th>\n      <td>1</td>\n      <td>49ers</td>\n      <td>Sun</td>\n      <td>12-Sep</td>\n      <td>1:00PM ET</td>\n      <td>boxscore</td>\n      <td>W</td>\n      <td>NaN</td>\n      <td>Jan-00</td>\n      <td>@</td>\n      <td>...</td>\n      <td>131.0</td>\n      <td>2.0</td>\n      <td>31.0</td>\n      <td>430.0</td>\n      <td>314.0</td>\n      <td>116.0</td>\n      <td>1.0</td>\n      <td>15.48</td>\n      <td>-5.16</td>\n      <td>-1.73</td>\n    </tr>\n    <tr>\n      <th>1</th>\n      <td>2</td>\n      <td>49ers</td>\n      <td>Sun</td>\n      <td>19-Sep</td>\n      <td>1:00PM ET</td>\n      <td>boxscore</td>\n      <td>W</td>\n      <td>NaN</td>\n      <td>Feb-00</td>\n      <td>@</td>\n      <td>...</td>\n      <td>117.0</td>\n      <td>NaN</td>\n      <td>18.0</td>\n      <td>328.0</td>\n      <td>177.0</td>\n      <td>151.0</td>\n      <td>NaN</td>\n      <td>7.86</td>\n      <td>-5.30</td>\n      <td>2.68</td>\n    </tr>\n    <tr>\n      <th>2</th>\n      <td>3</td>\n      <td>49ers</td>\n      <td>Sun</td>\n      <td>26-Sep</td>\n      <td>8:20PM ET</td>\n      <td>boxscore</td>\n      <td>L</td>\n      <td>NaN</td>\n      <td>1-Feb</td>\n      <td>NaN</td>\n      <td>...</td>\n      <td>67.0</td>\n      <td>2.0</td>\n      <td>21.0</td>\n      <td>353.0</td>\n      <td>253.0</td>\n      <td>100.0</td>\n      <td>NaN</td>\n      <td>12.19</td>\n      <td>-15.14</td>\n      <td>0.95</td>\n    </tr>\n    <tr>\n      <th>3</th>\n      <td>4</td>\n      <td>49ers</td>\n      <td>Sun</td>\n      <td>3-Oct</td>\n      <td>4:05PM ET</td>\n      <td>boxscore</td>\n      <td>L</td>\n      <td>NaN</td>\n      <td>2-Feb</td>\n      <td>NaN</td>\n      <td>...</td>\n      <td>143.0</td>\n      <td>2.0</td>\n      <td>14.0</td>\n      <td>234.0</td>\n      <td>129.0</td>\n      <td>105.0</td>\n      <td>NaN</td>\n      <td>8.61</td>\n      <td>-2.20</td>\n      <td>-14.31</td>\n    </tr>\n    <tr>\n      <th>4</th>\n      <td>5</td>\n      <td>49ers</td>\n      <td>Sun</td>\n      <td>10-Oct</td>\n      <td>4:25PM ET</td>\n      <td>boxscore</td>\n      <td>L</td>\n      <td>NaN</td>\n      <td>3-Feb</td>\n      <td>@</td>\n      <td>...</td>\n      <td>152.0</td>\n      <td>1.0</td>\n      <td>20.0</td>\n      <td>304.0</td>\n      <td>210.0</td>\n      <td>94.0</td>\n      <td>1.0</td>\n      <td>-6.53</td>\n      <td>-1.74</td>\n      <td>-0.47</td>\n    </tr>\n    <tr>\n      <th>...</th>\n      <td>...</td>\n      <td>...</td>\n      <td>...</td>\n      <td>...</td>\n      <td>...</td>\n      <td>...</td>\n      <td>...</td>\n      <td>...</td>\n      <td>...</td>\n      <td>...</td>\n      <td>...</td>\n      <td>...</td>\n      <td>...</td>\n      <td>...</td>\n      <td>...</td>\n      <td>...</td>\n      <td>...</td>\n      <td>...</td>\n      <td>...</td>\n      <td>...</td>\n      <td>...</td>\n    </tr>\n    <tr>\n      <th>611</th>\n      <td>14</td>\n      <td>vikings</td>\n      <td>Thu</td>\n      <td>9-Dec</td>\n      <td>8:20PM ET</td>\n      <td>boxscore</td>\n      <td>W</td>\n      <td>NaN</td>\n      <td>7-Jun</td>\n      <td>NaN</td>\n      <td>...</td>\n      <td>242.0</td>\n      <td>2.0</td>\n      <td>22.0</td>\n      <td>375.0</td>\n      <td>269.0</td>\n      <td>106.0</td>\n      <td>1.0</td>\n      <td>8.68</td>\n      <td>-6.41</td>\n      <td>1.31</td>\n    </tr>\n    <tr>\n      <th>612</th>\n      <td>15</td>\n      <td>vikings</td>\n      <td>Mon</td>\n      <td>20-Dec</td>\n      <td>8:15PM ET</td>\n      <td>boxscore</td>\n      <td>W</td>\n      <td>NaN</td>\n      <td>7-Jul</td>\n      <td>@</td>\n      <td>...</td>\n      <td>132.0</td>\n      <td>1.0</td>\n      <td>24.0</td>\n      <td>370.0</td>\n      <td>255.0</td>\n      <td>115.0</td>\n      <td>3.0</td>\n      <td>-4.65</td>\n      <td>7.72</td>\n      <td>5.92</td>\n    </tr>\n    <tr>\n      <th>613</th>\n      <td>16</td>\n      <td>vikings</td>\n      <td>Sun</td>\n      <td>26-Dec</td>\n      <td>1:00PM ET</td>\n      <td>boxscore</td>\n      <td>L</td>\n      <td>NaN</td>\n      <td>8-Jul</td>\n      <td>NaN</td>\n      <td>...</td>\n      <td>66.0</td>\n      <td>1.0</td>\n      <td>22.0</td>\n      <td>356.0</td>\n      <td>197.0</td>\n      <td>159.0</td>\n      <td>3.0</td>\n      <td>-1.81</td>\n      <td>0.84</td>\n      <td>-7.80</td>\n    </tr>\n    <tr>\n      <th>614</th>\n      <td>17</td>\n      <td>vikings</td>\n      <td>Sun</td>\n      <td>2-Jan</td>\n      <td>8:20PM ET</td>\n      <td>boxscore</td>\n      <td>L</td>\n      <td>NaN</td>\n      <td>9-Jul</td>\n      <td>@</td>\n      <td>...</td>\n      <td>27.0</td>\n      <td>NaN</td>\n      <td>29.0</td>\n      <td>481.0</td>\n      <td>307.0</td>\n      <td>174.0</td>\n      <td>NaN</td>\n      <td>-13.56</td>\n      <td>-21.96</td>\n      <td>7.80</td>\n    </tr>\n    <tr>\n      <th>615</th>\n      <td>18</td>\n      <td>vikings</td>\n      <td>Sun</td>\n      <td>9-Jan</td>\n      <td>1:00PM ET</td>\n      <td>boxscore</td>\n      <td>W</td>\n      <td>NaN</td>\n      <td>9-Aug</td>\n      <td>NaN</td>\n      <td>...</td>\n      <td>104.0</td>\n      <td>NaN</td>\n      <td>24.0</td>\n      <td>356.0</td>\n      <td>266.0</td>\n      <td>90.0</td>\n      <td>2.0</td>\n      <td>7.18</td>\n      <td>12.22</td>\n      <td>-1.20</td>\n    </tr>\n  </tbody>\n</table>\n<p>616 rows × 26 columns</p>\n</div>"
     },
     "execution_count": 6,
     "metadata": {},
     "output_type": "execute_result"
    }
   ],
   "source": [
    "df_2021"
   ]
  },
  {
   "cell_type": "markdown",
   "id": "ca432c920128bc09",
   "metadata": {},
   "source": [
    "# THE GOOD STUFF"
   ]
  },
  {
   "cell_type": "code",
   "execution_count": 7,
   "id": "569565b1a7085714",
   "metadata": {
    "ExecuteTime": {
     "end_time": "2024-03-28T16:00:45.367310400Z",
     "start_time": "2024-03-28T16:00:45.324115200Z"
    }
   },
   "outputs": [],
   "source": [
    "df_2021 = pd.read_csv('2021data.csv')\n",
    "df_2022 = pd.read_csv('2022data.csv')\n",
    "df_2023 = pd.read_csv('2023data.csv')"
   ]
  },
  {
   "cell_type": "code",
   "execution_count": 8,
   "id": "1cbb62aeeac4af53",
   "metadata": {
    "ExecuteTime": {
     "end_time": "2024-03-28T16:00:46.169007800Z",
     "start_time": "2024-03-28T16:00:46.039148Z"
    }
   },
   "outputs": [
    {
     "name": "stderr",
     "output_type": "stream",
     "text": [
      "C:\\Users\\krizm\\AppData\\Local\\Temp\\ipykernel_10316\\3988736548.py:5: FutureWarning: Downcasting behavior in `replace` is deprecated and will be removed in a future version. To retain the old behavior, explicitly call `result.infer_objects(copy=False)`. To opt-in to the future behavior, set `pd.set_option('future.no_silent_downcasting', True)`\n",
      "  df_2021['OT'] = df_2021['OT'].fillna(0).replace('OT', 1)\n"
     ]
    },
    {
     "data": {
      "text/plain": "    Team  Result   OT  H/A  Score_Tm  Score_Opp  Off_1stD  Off_TotYd  \\\n0  49ers     1.0  0.0  0.0      41.0       33.0      21.0      442.0   \n1  49ers     0.0  0.0  0.0      10.0       17.0      19.0      338.0   \n2  49ers     0.0  0.0  1.0      18.0       30.0      13.0      280.0   \n3  49ers     1.0  0.0  1.0      34.0       26.0      23.0      423.0   \n4  49ers     0.0  0.0  0.0      23.0       30.0      17.0      365.0   \n\n   Off_PassYd  Off_RushYd  Off_TO  Def_1stD  Def_TotYd  Def_PassYd  \\\n0       311.0       131.0     2.0      31.0      430.0       314.0   \n1       186.0       152.0     1.0      20.0      304.0       210.0   \n2       169.0       111.0     4.0      17.0      295.0       147.0   \n3       215.0       208.0     1.0      17.0      323.0       256.0   \n4       294.0        71.0     3.0      21.0      327.0       181.0   \n\n   Def_RushYD  Def_TO  Exp_Offense  Exp_Defense  Exp_SpecTms  \n0       116.0     1.0        15.48        -5.16        -1.73  \n1        94.0     1.0        -6.53        -1.74        -0.47  \n2       148.0     2.0       -15.30        -1.16         4.24  \n3        67.0     2.0         8.93         4.16        -6.10  \n4       146.0     3.0        -0.51        -2.27        -3.44  ",
      "text/html": "<div>\n<style scoped>\n    .dataframe tbody tr th:only-of-type {\n        vertical-align: middle;\n    }\n\n    .dataframe tbody tr th {\n        vertical-align: top;\n    }\n\n    .dataframe thead th {\n        text-align: right;\n    }\n</style>\n<table border=\"1\" class=\"dataframe\">\n  <thead>\n    <tr style=\"text-align: right;\">\n      <th></th>\n      <th>Team</th>\n      <th>Result</th>\n      <th>OT</th>\n      <th>H/A</th>\n      <th>Score_Tm</th>\n      <th>Score_Opp</th>\n      <th>Off_1stD</th>\n      <th>Off_TotYd</th>\n      <th>Off_PassYd</th>\n      <th>Off_RushYd</th>\n      <th>Off_TO</th>\n      <th>Def_1stD</th>\n      <th>Def_TotYd</th>\n      <th>Def_PassYd</th>\n      <th>Def_RushYD</th>\n      <th>Def_TO</th>\n      <th>Exp_Offense</th>\n      <th>Exp_Defense</th>\n      <th>Exp_SpecTms</th>\n    </tr>\n  </thead>\n  <tbody>\n    <tr>\n      <th>0</th>\n      <td>49ers</td>\n      <td>1.0</td>\n      <td>0.0</td>\n      <td>0.0</td>\n      <td>41.0</td>\n      <td>33.0</td>\n      <td>21.0</td>\n      <td>442.0</td>\n      <td>311.0</td>\n      <td>131.0</td>\n      <td>2.0</td>\n      <td>31.0</td>\n      <td>430.0</td>\n      <td>314.0</td>\n      <td>116.0</td>\n      <td>1.0</td>\n      <td>15.48</td>\n      <td>-5.16</td>\n      <td>-1.73</td>\n    </tr>\n    <tr>\n      <th>1</th>\n      <td>49ers</td>\n      <td>0.0</td>\n      <td>0.0</td>\n      <td>0.0</td>\n      <td>10.0</td>\n      <td>17.0</td>\n      <td>19.0</td>\n      <td>338.0</td>\n      <td>186.0</td>\n      <td>152.0</td>\n      <td>1.0</td>\n      <td>20.0</td>\n      <td>304.0</td>\n      <td>210.0</td>\n      <td>94.0</td>\n      <td>1.0</td>\n      <td>-6.53</td>\n      <td>-1.74</td>\n      <td>-0.47</td>\n    </tr>\n    <tr>\n      <th>2</th>\n      <td>49ers</td>\n      <td>0.0</td>\n      <td>0.0</td>\n      <td>1.0</td>\n      <td>18.0</td>\n      <td>30.0</td>\n      <td>13.0</td>\n      <td>280.0</td>\n      <td>169.0</td>\n      <td>111.0</td>\n      <td>4.0</td>\n      <td>17.0</td>\n      <td>295.0</td>\n      <td>147.0</td>\n      <td>148.0</td>\n      <td>2.0</td>\n      <td>-15.30</td>\n      <td>-1.16</td>\n      <td>4.24</td>\n    </tr>\n    <tr>\n      <th>3</th>\n      <td>49ers</td>\n      <td>1.0</td>\n      <td>0.0</td>\n      <td>1.0</td>\n      <td>34.0</td>\n      <td>26.0</td>\n      <td>23.0</td>\n      <td>423.0</td>\n      <td>215.0</td>\n      <td>208.0</td>\n      <td>1.0</td>\n      <td>17.0</td>\n      <td>323.0</td>\n      <td>256.0</td>\n      <td>67.0</td>\n      <td>2.0</td>\n      <td>8.93</td>\n      <td>4.16</td>\n      <td>-6.10</td>\n    </tr>\n    <tr>\n      <th>4</th>\n      <td>49ers</td>\n      <td>0.0</td>\n      <td>0.0</td>\n      <td>0.0</td>\n      <td>23.0</td>\n      <td>30.0</td>\n      <td>17.0</td>\n      <td>365.0</td>\n      <td>294.0</td>\n      <td>71.0</td>\n      <td>3.0</td>\n      <td>21.0</td>\n      <td>327.0</td>\n      <td>181.0</td>\n      <td>146.0</td>\n      <td>3.0</td>\n      <td>-0.51</td>\n      <td>-2.27</td>\n      <td>-3.44</td>\n    </tr>\n  </tbody>\n</table>\n</div>"
     },
     "execution_count": 8,
     "metadata": {},
     "output_type": "execute_result"
    }
   ],
   "source": [
    "# Convert Win to 1 and anything else to 0\n",
    "df_2021['Result'] = df_2021['Result'].apply(lambda x: 1 if x == 'W' else 0) \n",
    "\n",
    "# 1 if OT, 0 if no OT\n",
    "df_2021['OT'] = df_2021['OT'].fillna(0).replace('OT', 1)\n",
    "\n",
    "# 1 is home, 0 is away\n",
    "df_2021['H/A'] = df_2021['H/A'].fillna(1).replace('@', 0)\n",
    "\n",
    "df_2021 = df_2021.drop(columns=['Day', 'Date', 'Time', 'Link', 'Rec', 'Week'])\n",
    "df_2021 = df_2021.dropna()\n",
    "df_2021 = df_2021.reset_index()\n",
    "df_2021 = df_2021.drop(columns=['index'])\n",
    "df_2021['Score_Tm'] = df_2021['Score_Tm'].astype(float)\n",
    "df_2021 = df_2021[~(df_2021['H/A'] == 'N')]\n",
    "df_2021['H/A'] = df_2021['H/A'].astype(float)\n",
    "df_2021['OT'] = df_2021['OT'].astype(float)\n",
    "df_2021['Result'] = df_2021['Result'].astype(float)\n",
    "df_2021.pop('Opp')\n",
    "\n",
    "df_2021.head()"
   ]
  },
  {
   "cell_type": "code",
   "execution_count": 9,
   "id": "4f1c90aaab93a85a",
   "metadata": {
    "ExecuteTime": {
     "end_time": "2024-03-28T16:00:47.454573100Z",
     "start_time": "2024-03-28T16:00:47.338713800Z"
    }
   },
   "outputs": [
    {
     "name": "stderr",
     "output_type": "stream",
     "text": [
      "C:\\Users\\krizm\\AppData\\Local\\Temp\\ipykernel_10316\\288872902.py:5: FutureWarning: Downcasting behavior in `replace` is deprecated and will be removed in a future version. To retain the old behavior, explicitly call `result.infer_objects(copy=False)`. To opt-in to the future behavior, set `pd.set_option('future.no_silent_downcasting', True)`\n",
      "  df_2022['OT'] = df_2022['OT'].fillna(0).replace('OT', 1)\n"
     ]
    },
    {
     "data": {
      "text/plain": "    Team  Result   OT  H/A  Score_Tm  Score_Opp  Off_1stD  Off_TotYd  \\\n0  49ers     0.0  0.0  0.0      10.0       19.0      17.0      331.0   \n1  49ers     1.0  0.0  0.0      37.0       15.0      22.0      397.0   \n2  49ers     0.0  0.0  1.0      23.0       44.0      25.0      444.0   \n3  49ers     1.0  0.0  1.0      22.0       16.0      22.0      387.0   \n4  49ers     1.0  0.0  1.0      33.0       17.0      24.0      351.0   \n\n   Off_PassYd  Off_RushYd  Off_TO  Def_1stD  Def_TotYd  Def_PassYd  \\\n0       155.0       176.0     2.0      15.0      204.0       105.0   \n1       244.0       153.0     1.0      15.0      308.0       244.0   \n2       343.0       101.0     3.0      24.0      529.0       417.0   \n3       230.0       157.0     1.0      12.0      238.0       187.0   \n4       230.0       121.0     1.0      14.0      308.0       275.0   \n\n   Def_RushYD  Def_TO  Exp_Offense  Exp_Defense  Exp_SpecTms  \n0        99.0     1.0       -11.26        -0.67         0.42  \n1        64.0     1.0        16.04        13.22        -7.82  \n2       112.0     2.0         3.59       -30.58         8.50  \n3        51.0     1.0         6.20         7.29        -5.38  \n4        33.0     4.0         1.78        13.36         1.00  ",
      "text/html": "<div>\n<style scoped>\n    .dataframe tbody tr th:only-of-type {\n        vertical-align: middle;\n    }\n\n    .dataframe tbody tr th {\n        vertical-align: top;\n    }\n\n    .dataframe thead th {\n        text-align: right;\n    }\n</style>\n<table border=\"1\" class=\"dataframe\">\n  <thead>\n    <tr style=\"text-align: right;\">\n      <th></th>\n      <th>Team</th>\n      <th>Result</th>\n      <th>OT</th>\n      <th>H/A</th>\n      <th>Score_Tm</th>\n      <th>Score_Opp</th>\n      <th>Off_1stD</th>\n      <th>Off_TotYd</th>\n      <th>Off_PassYd</th>\n      <th>Off_RushYd</th>\n      <th>Off_TO</th>\n      <th>Def_1stD</th>\n      <th>Def_TotYd</th>\n      <th>Def_PassYd</th>\n      <th>Def_RushYD</th>\n      <th>Def_TO</th>\n      <th>Exp_Offense</th>\n      <th>Exp_Defense</th>\n      <th>Exp_SpecTms</th>\n    </tr>\n  </thead>\n  <tbody>\n    <tr>\n      <th>0</th>\n      <td>49ers</td>\n      <td>0.0</td>\n      <td>0.0</td>\n      <td>0.0</td>\n      <td>10.0</td>\n      <td>19.0</td>\n      <td>17.0</td>\n      <td>331.0</td>\n      <td>155.0</td>\n      <td>176.0</td>\n      <td>2.0</td>\n      <td>15.0</td>\n      <td>204.0</td>\n      <td>105.0</td>\n      <td>99.0</td>\n      <td>1.0</td>\n      <td>-11.26</td>\n      <td>-0.67</td>\n      <td>0.42</td>\n    </tr>\n    <tr>\n      <th>1</th>\n      <td>49ers</td>\n      <td>1.0</td>\n      <td>0.0</td>\n      <td>0.0</td>\n      <td>37.0</td>\n      <td>15.0</td>\n      <td>22.0</td>\n      <td>397.0</td>\n      <td>244.0</td>\n      <td>153.0</td>\n      <td>1.0</td>\n      <td>15.0</td>\n      <td>308.0</td>\n      <td>244.0</td>\n      <td>64.0</td>\n      <td>1.0</td>\n      <td>16.04</td>\n      <td>13.22</td>\n      <td>-7.82</td>\n    </tr>\n    <tr>\n      <th>2</th>\n      <td>49ers</td>\n      <td>0.0</td>\n      <td>0.0</td>\n      <td>1.0</td>\n      <td>23.0</td>\n      <td>44.0</td>\n      <td>25.0</td>\n      <td>444.0</td>\n      <td>343.0</td>\n      <td>101.0</td>\n      <td>3.0</td>\n      <td>24.0</td>\n      <td>529.0</td>\n      <td>417.0</td>\n      <td>112.0</td>\n      <td>2.0</td>\n      <td>3.59</td>\n      <td>-30.58</td>\n      <td>8.50</td>\n    </tr>\n    <tr>\n      <th>3</th>\n      <td>49ers</td>\n      <td>1.0</td>\n      <td>0.0</td>\n      <td>1.0</td>\n      <td>22.0</td>\n      <td>16.0</td>\n      <td>22.0</td>\n      <td>387.0</td>\n      <td>230.0</td>\n      <td>157.0</td>\n      <td>1.0</td>\n      <td>12.0</td>\n      <td>238.0</td>\n      <td>187.0</td>\n      <td>51.0</td>\n      <td>1.0</td>\n      <td>6.20</td>\n      <td>7.29</td>\n      <td>-5.38</td>\n    </tr>\n    <tr>\n      <th>4</th>\n      <td>49ers</td>\n      <td>1.0</td>\n      <td>0.0</td>\n      <td>1.0</td>\n      <td>33.0</td>\n      <td>17.0</td>\n      <td>24.0</td>\n      <td>351.0</td>\n      <td>230.0</td>\n      <td>121.0</td>\n      <td>1.0</td>\n      <td>14.0</td>\n      <td>308.0</td>\n      <td>275.0</td>\n      <td>33.0</td>\n      <td>4.0</td>\n      <td>1.78</td>\n      <td>13.36</td>\n      <td>1.00</td>\n    </tr>\n  </tbody>\n</table>\n</div>"
     },
     "execution_count": 9,
     "metadata": {},
     "output_type": "execute_result"
    }
   ],
   "source": [
    "# Convert Win to 1 and anything else to 0\n",
    "df_2022['Result'] = df_2022['Result'].apply(lambda x: 1 if x == 'W' else 0) \n",
    "\n",
    "# 1 if OT, 0 if no OT\n",
    "df_2022['OT'] = df_2022['OT'].fillna(0).replace('OT', 1)\n",
    "\n",
    "# 1 is home, 0 is away\n",
    "df_2022['H/A'] = df_2022['H/A'].fillna(1).replace('@', 0)\n",
    "\n",
    "df_2022 = df_2022.drop(columns=['Day', 'Date', 'Time', 'Link', 'Rec', 'Week'])\n",
    "df_2022 = df_2022.dropna()\n",
    "df_2022 = df_2022.reset_index()\n",
    "df_2022 = df_2022.drop(columns=['index'])\n",
    "df_2022['Score_Tm'] = df_2022['Score_Tm'].astype(float)\n",
    "df_2022 = df_2022[~(df_2022['H/A'] == 'N')]\n",
    "df_2022['H/A'] = df_2022['H/A'].astype(float)\n",
    "df_2022['OT'] = df_2022['OT'].astype(float)\n",
    "df_2022['Result'] = df_2022['Result'].astype(float)\n",
    "df_2022.pop('Opp')\n",
    "\n",
    "df_2022.head()"
   ]
  },
  {
   "cell_type": "code",
   "execution_count": 10,
   "id": "947f90ca3f7a3a39",
   "metadata": {
    "ExecuteTime": {
     "end_time": "2024-03-28T16:00:53.575184400Z",
     "start_time": "2024-03-28T16:00:53.355917800Z"
    }
   },
   "outputs": [
    {
     "name": "stderr",
     "output_type": "stream",
     "text": [
      "C:\\Users\\krizm\\AppData\\Local\\Temp\\ipykernel_10316\\3475630129.py:5: FutureWarning: Downcasting behavior in `replace` is deprecated and will be removed in a future version. To retain the old behavior, explicitly call `result.infer_objects(copy=False)`. To opt-in to the future behavior, set `pd.set_option('future.no_silent_downcasting', True)`\n",
      "  df_2023['OT'] = df_2023['OT'].fillna(0).replace('OT', 1)\n"
     ]
    },
    {
     "data": {
      "text/plain": "    Team  Result   OT  H/A  Score_Tm  Score_Opp  Off_1stD  Off_TotYd  \\\n0  49ers     1.0  0.0  0.0      30.0        7.0      22.0      391.0   \n1  49ers     1.0  0.0  1.0      42.0       10.0      25.0      421.0   \n2  49ers     0.0  0.0  0.0      17.0       19.0      15.0      215.0   \n3  49ers     0.0  0.0  0.0      17.0       22.0      19.0      325.0   \n4  49ers     0.0  0.0  1.0      17.0       31.0      24.0      460.0   \n\n   Off_PassYd  Off_RushYd  Off_TO  Def_1stD  Def_TotYd  Def_PassYd  \\\n0       203.0       188.0     1.0      15.0      239.0       198.0   \n1       251.0       170.0     1.0       8.0      197.0       140.0   \n2       107.0       108.0     1.0      18.0      334.0       174.0   \n3       260.0        65.0     3.0      24.0      452.0       378.0   \n4       347.0       113.0     3.0      29.0      400.0       266.0   \n\n   Def_RushYD  Def_TO  Exp_Offense  Exp_Defense  Exp_SpecTms  \n0        41.0     2.0         9.73        13.55        -0.78  \n1        57.0     4.0        12.84        23.12        -5.21  \n2       160.0     2.0        -6.05        11.32        -7.34  \n3        74.0     1.0         5.43       -16.30         6.07  \n4       134.0     1.0         9.25       -18.30         2.48  ",
      "text/html": "<div>\n<style scoped>\n    .dataframe tbody tr th:only-of-type {\n        vertical-align: middle;\n    }\n\n    .dataframe tbody tr th {\n        vertical-align: top;\n    }\n\n    .dataframe thead th {\n        text-align: right;\n    }\n</style>\n<table border=\"1\" class=\"dataframe\">\n  <thead>\n    <tr style=\"text-align: right;\">\n      <th></th>\n      <th>Team</th>\n      <th>Result</th>\n      <th>OT</th>\n      <th>H/A</th>\n      <th>Score_Tm</th>\n      <th>Score_Opp</th>\n      <th>Off_1stD</th>\n      <th>Off_TotYd</th>\n      <th>Off_PassYd</th>\n      <th>Off_RushYd</th>\n      <th>Off_TO</th>\n      <th>Def_1stD</th>\n      <th>Def_TotYd</th>\n      <th>Def_PassYd</th>\n      <th>Def_RushYD</th>\n      <th>Def_TO</th>\n      <th>Exp_Offense</th>\n      <th>Exp_Defense</th>\n      <th>Exp_SpecTms</th>\n    </tr>\n  </thead>\n  <tbody>\n    <tr>\n      <th>0</th>\n      <td>49ers</td>\n      <td>1.0</td>\n      <td>0.0</td>\n      <td>0.0</td>\n      <td>30.0</td>\n      <td>7.0</td>\n      <td>22.0</td>\n      <td>391.0</td>\n      <td>203.0</td>\n      <td>188.0</td>\n      <td>1.0</td>\n      <td>15.0</td>\n      <td>239.0</td>\n      <td>198.0</td>\n      <td>41.0</td>\n      <td>2.0</td>\n      <td>9.73</td>\n      <td>13.55</td>\n      <td>-0.78</td>\n    </tr>\n    <tr>\n      <th>1</th>\n      <td>49ers</td>\n      <td>1.0</td>\n      <td>0.0</td>\n      <td>1.0</td>\n      <td>42.0</td>\n      <td>10.0</td>\n      <td>25.0</td>\n      <td>421.0</td>\n      <td>251.0</td>\n      <td>170.0</td>\n      <td>1.0</td>\n      <td>8.0</td>\n      <td>197.0</td>\n      <td>140.0</td>\n      <td>57.0</td>\n      <td>4.0</td>\n      <td>12.84</td>\n      <td>23.12</td>\n      <td>-5.21</td>\n    </tr>\n    <tr>\n      <th>2</th>\n      <td>49ers</td>\n      <td>0.0</td>\n      <td>0.0</td>\n      <td>0.0</td>\n      <td>17.0</td>\n      <td>19.0</td>\n      <td>15.0</td>\n      <td>215.0</td>\n      <td>107.0</td>\n      <td>108.0</td>\n      <td>1.0</td>\n      <td>18.0</td>\n      <td>334.0</td>\n      <td>174.0</td>\n      <td>160.0</td>\n      <td>2.0</td>\n      <td>-6.05</td>\n      <td>11.32</td>\n      <td>-7.34</td>\n    </tr>\n    <tr>\n      <th>3</th>\n      <td>49ers</td>\n      <td>0.0</td>\n      <td>0.0</td>\n      <td>0.0</td>\n      <td>17.0</td>\n      <td>22.0</td>\n      <td>19.0</td>\n      <td>325.0</td>\n      <td>260.0</td>\n      <td>65.0</td>\n      <td>3.0</td>\n      <td>24.0</td>\n      <td>452.0</td>\n      <td>378.0</td>\n      <td>74.0</td>\n      <td>1.0</td>\n      <td>5.43</td>\n      <td>-16.30</td>\n      <td>6.07</td>\n    </tr>\n    <tr>\n      <th>4</th>\n      <td>49ers</td>\n      <td>0.0</td>\n      <td>0.0</td>\n      <td>1.0</td>\n      <td>17.0</td>\n      <td>31.0</td>\n      <td>24.0</td>\n      <td>460.0</td>\n      <td>347.0</td>\n      <td>113.0</td>\n      <td>3.0</td>\n      <td>29.0</td>\n      <td>400.0</td>\n      <td>266.0</td>\n      <td>134.0</td>\n      <td>1.0</td>\n      <td>9.25</td>\n      <td>-18.30</td>\n      <td>2.48</td>\n    </tr>\n  </tbody>\n</table>\n</div>"
     },
     "execution_count": 10,
     "metadata": {},
     "output_type": "execute_result"
    }
   ],
   "source": [
    "# Convert Win to 1 and anything else to 0\n",
    "df_2023['Result'] = df_2023['Result'].apply(lambda x: 1 if x == 'W' else 0) \n",
    "\n",
    "# 1 if OT, 0 if no OT\n",
    "df_2023['OT'] = df_2023['OT'].fillna(0).replace('OT', 1)\n",
    "\n",
    "# 1 is home, 0 is away\n",
    "df_2023['H/A'] = df_2023['H/A'].fillna(1).replace('@', 0)\n",
    "\n",
    "df_2023 = df_2023.drop(columns=['Day', 'Date', 'Time', 'Link', 'Rec', 'Week'])\n",
    "df_2023 = df_2023.dropna()\n",
    "df_2023 = df_2023.reset_index()\n",
    "df_2023 = df_2023.drop(columns=['index'])\n",
    "df_2023['Score_Tm'] = df_2023['Score_Tm'].astype(float)\n",
    "df_2023 = df_2023[~(df_2023['H/A'] == 'N')]\n",
    "df_2023['H/A'] = df_2023['H/A'].astype(float)\n",
    "df_2023['OT'] = df_2023['OT'].astype(float)\n",
    "df_2023['Result'] = df_2023['Result'].astype(float)\n",
    "df_2023.pop('Opp')\n",
    "\n",
    "df_2023.head()"
   ]
  },
  {
   "cell_type": "code",
   "execution_count": 11,
   "id": "d779c04727e15e94",
   "metadata": {
    "ExecuteTime": {
     "end_time": "2024-03-28T16:00:54.485209800Z",
     "start_time": "2024-03-28T16:00:54.230974Z"
    }
   },
   "outputs": [],
   "source": [
    "agg_2021 = df_2021.groupby(df_2021.columns[0]).mean().reset_index()\n",
    "\n",
    "agg_2022 = df_2021.groupby(df_2022.columns[0]).mean().reset_index()\n",
    "\n",
    "agg_2023 = df_2021.groupby(df_2023.columns[0]).mean().reset_index()"
   ]
  },
  {
   "cell_type": "code",
   "execution_count": 12,
   "id": "3103764fbf585e8d",
   "metadata": {
    "ExecuteTime": {
     "end_time": "2024-03-28T16:00:55.104470800Z",
     "start_time": "2024-03-28T16:00:55.023221700Z"
    }
   },
   "outputs": [
    {
     "data": {
      "text/plain": "      Team    Result        OT       H/A   Score_Tm  Score_Opp   Off_1stD  \\\n0    49ers  0.636364  0.090909  0.363636  23.636364  20.636364  18.818182   \n1    bears  0.500000  0.000000  0.625000  17.625000  18.500000  18.625000   \n2  bengals  0.600000  0.200000  0.300000  26.900000  20.400000  18.900000   \n3    bills  0.666667  0.000000  0.444444  28.666667  12.111111  22.666667   \n4  broncos  0.571429  0.000000  0.571429  19.857143  16.428571  20.428571   \n\n    Off_TotYd  Off_PassYd  Off_RushYd    Off_TO   Def_1stD   Def_TotYd  \\\n0  358.636364  225.000000  133.636364  1.636364  19.272727  309.727273   \n1  331.750000  212.750000  119.000000  2.000000  18.500000  271.625000   \n2  331.700000  223.200000  108.500000  1.700000  19.200000  342.300000   \n3  358.333333  225.111111  133.222222  1.777778  14.777778  249.111111   \n4  346.285714  221.857143  124.428571  1.285714  18.142857  317.000000   \n\n   Def_PassYd  Def_RushYD    Def_TO  Exp_Offense  Exp_Defense  Exp_SpecTms  \n0  219.090909   90.636364  1.454545     3.477273     0.251818    -1.626364  \n1  154.375000  117.250000  1.875000    -2.573750     3.120000    -0.567500  \n2  250.800000   91.500000  2.100000     2.364000     2.279000     2.332000  \n3  146.111111  103.000000  2.111111     8.024444     9.343333    -1.233333  \n4  211.428571  105.571429  1.428571     4.684286     1.810000    -1.164286  ",
      "text/html": "<div>\n<style scoped>\n    .dataframe tbody tr th:only-of-type {\n        vertical-align: middle;\n    }\n\n    .dataframe tbody tr th {\n        vertical-align: top;\n    }\n\n    .dataframe thead th {\n        text-align: right;\n    }\n</style>\n<table border=\"1\" class=\"dataframe\">\n  <thead>\n    <tr style=\"text-align: right;\">\n      <th></th>\n      <th>Team</th>\n      <th>Result</th>\n      <th>OT</th>\n      <th>H/A</th>\n      <th>Score_Tm</th>\n      <th>Score_Opp</th>\n      <th>Off_1stD</th>\n      <th>Off_TotYd</th>\n      <th>Off_PassYd</th>\n      <th>Off_RushYd</th>\n      <th>Off_TO</th>\n      <th>Def_1stD</th>\n      <th>Def_TotYd</th>\n      <th>Def_PassYd</th>\n      <th>Def_RushYD</th>\n      <th>Def_TO</th>\n      <th>Exp_Offense</th>\n      <th>Exp_Defense</th>\n      <th>Exp_SpecTms</th>\n    </tr>\n  </thead>\n  <tbody>\n    <tr>\n      <th>0</th>\n      <td>49ers</td>\n      <td>0.636364</td>\n      <td>0.090909</td>\n      <td>0.363636</td>\n      <td>23.636364</td>\n      <td>20.636364</td>\n      <td>18.818182</td>\n      <td>358.636364</td>\n      <td>225.000000</td>\n      <td>133.636364</td>\n      <td>1.636364</td>\n      <td>19.272727</td>\n      <td>309.727273</td>\n      <td>219.090909</td>\n      <td>90.636364</td>\n      <td>1.454545</td>\n      <td>3.477273</td>\n      <td>0.251818</td>\n      <td>-1.626364</td>\n    </tr>\n    <tr>\n      <th>1</th>\n      <td>bears</td>\n      <td>0.500000</td>\n      <td>0.000000</td>\n      <td>0.625000</td>\n      <td>17.625000</td>\n      <td>18.500000</td>\n      <td>18.625000</td>\n      <td>331.750000</td>\n      <td>212.750000</td>\n      <td>119.000000</td>\n      <td>2.000000</td>\n      <td>18.500000</td>\n      <td>271.625000</td>\n      <td>154.375000</td>\n      <td>117.250000</td>\n      <td>1.875000</td>\n      <td>-2.573750</td>\n      <td>3.120000</td>\n      <td>-0.567500</td>\n    </tr>\n    <tr>\n      <th>2</th>\n      <td>bengals</td>\n      <td>0.600000</td>\n      <td>0.200000</td>\n      <td>0.300000</td>\n      <td>26.900000</td>\n      <td>20.400000</td>\n      <td>18.900000</td>\n      <td>331.700000</td>\n      <td>223.200000</td>\n      <td>108.500000</td>\n      <td>1.700000</td>\n      <td>19.200000</td>\n      <td>342.300000</td>\n      <td>250.800000</td>\n      <td>91.500000</td>\n      <td>2.100000</td>\n      <td>2.364000</td>\n      <td>2.279000</td>\n      <td>2.332000</td>\n    </tr>\n    <tr>\n      <th>3</th>\n      <td>bills</td>\n      <td>0.666667</td>\n      <td>0.000000</td>\n      <td>0.444444</td>\n      <td>28.666667</td>\n      <td>12.111111</td>\n      <td>22.666667</td>\n      <td>358.333333</td>\n      <td>225.111111</td>\n      <td>133.222222</td>\n      <td>1.777778</td>\n      <td>14.777778</td>\n      <td>249.111111</td>\n      <td>146.111111</td>\n      <td>103.000000</td>\n      <td>2.111111</td>\n      <td>8.024444</td>\n      <td>9.343333</td>\n      <td>-1.233333</td>\n    </tr>\n    <tr>\n      <th>4</th>\n      <td>broncos</td>\n      <td>0.571429</td>\n      <td>0.000000</td>\n      <td>0.571429</td>\n      <td>19.857143</td>\n      <td>16.428571</td>\n      <td>20.428571</td>\n      <td>346.285714</td>\n      <td>221.857143</td>\n      <td>124.428571</td>\n      <td>1.285714</td>\n      <td>18.142857</td>\n      <td>317.000000</td>\n      <td>211.428571</td>\n      <td>105.571429</td>\n      <td>1.428571</td>\n      <td>4.684286</td>\n      <td>1.810000</td>\n      <td>-1.164286</td>\n    </tr>\n  </tbody>\n</table>\n</div>"
     },
     "execution_count": 12,
     "metadata": {},
     "output_type": "execute_result"
    }
   ],
   "source": [
    "agg_2021.head()"
   ]
  },
  {
   "cell_type": "code",
   "execution_count": 13,
   "id": "f7bb075bb39cfe19",
   "metadata": {
    "ExecuteTime": {
     "end_time": "2024-03-28T16:00:55.914014100Z",
     "start_time": "2024-03-28T16:00:55.798222500Z"
    }
   },
   "outputs": [],
   "source": [
    "df_2022 = pd.read_csv('2022data.csv')\n",
    "df_2023 = pd.read_csv('2023data.csv')\n",
    "#df_2024\n",
    "\n",
    "mask = df_2022['Week'].isin(['Wild Card', 'Division', 'Conf. Champ.', 'SuperBowl'])\n",
    "df_2022 = df_2022[~mask]\n",
    "df_2022 = df_2022.dropna(subset = ['Opp'])\n",
    "df_2022 = df_2022[df_2022['Opp'] != 'Bye Week'].reset_index()\n",
    "\n",
    "mask = df_2023['Week'].isin(['Wild Card', 'Division', 'Conf. Champ.', 'SuperBowl'])\n",
    "df_2023 = df_2023[~mask]\n",
    "df_2023 = df_2023.dropna(subset = ['Opp'])\n",
    "df_2023 = df_2023[df_2023['Opp'] != 'Bye Week'].reset_index()"
   ]
  },
  {
   "cell_type": "code",
   "execution_count": 14,
   "id": "5f88646224249e70",
   "metadata": {
    "ExecuteTime": {
     "end_time": "2024-03-28T16:00:56.412606100Z",
     "start_time": "2024-03-28T16:00:56.374882600Z"
    }
   },
   "outputs": [],
   "source": [
    "wl_2022 = df_2022[['Result']]\n",
    "wl_2023 = df_2023[['Result']]\n",
    "\n",
    "df_2022 = df_2022[['Week', 'Team', 'Opp']]\n",
    "df_2023 = df_2023[['Week', 'Team', 'Opp']]\n",
    "#df_2024"
   ]
  },
  {
   "cell_type": "code",
   "execution_count": 15,
   "id": "458ca25cdc52f41e",
   "metadata": {
    "ExecuteTime": {
     "end_time": "2024-03-28T16:00:56.987678900Z",
     "start_time": "2024-03-28T16:00:56.936368200Z"
    }
   },
   "outputs": [],
   "source": [
    "# Create a mapping dictionary to convert team names\n",
    "team_mapping = {\n",
    "    'Chicago Bears': 'bears',\n",
    "    'Seattle Seahawks': 'seahawks',\n",
    "    'Denver Broncos': 'broncos',\n",
    "    'Los Angeles Rams': 'rams',\n",
    "    'Carolina Panthers': 'panthers',\n",
    "    'Atlanta Falcons': 'falcons',\n",
    "    'Kansas City Chiefs': 'chiefs',\n",
    "    'Los Angeles Chargers': 'chargers',\n",
    "    'Arizona Cardinals': 'cardinals',\n",
    "    'New Orleans Saints': 'saints',\n",
    "    'Miami Dolphins': 'dolphins',\n",
    "    'Tampa Bay Buccaneers': 'buccaneers',\n",
    "    'Washington Commanders': 'commanders',\n",
    "    'Las Vegas Raiders': 'raiders',\n",
    "    'Dallas Cowboys': 'cowboys',\n",
    "    'Philadelphia Eagles': 'eagles',\n",
    "    'San Francisco 49ers': '49ers',\n",
    "    'Green Bay Packers': 'packers',\n",
    "    'Houston Texans': 'texans',\n",
    "    'New York Giants': 'giants',\n",
    "    'Minnesota Vikings': 'vikings',\n",
    "    'New England Patriots': 'patriots',\n",
    "    'Detroit Lions': 'lions',\n",
    "    'New York Jets': 'jets',\n",
    "    'Buffalo Bills': 'bills',\n",
    "    'Pittsburgh Steelers': 'steelers',\n",
    "    'Baltimore Ravens': 'ravens',\n",
    "    'Cleveland Browns': 'browns',\n",
    "    'Tennessee Titans': 'titans',\n",
    "    'Cincinnati Bengals': 'bengals',\n",
    "    'Indianapolis Colts': 'colts',\n",
    "    'Jacksonville Jaguars': 'jaguars'\n",
    "}\n",
    "\n",
    "# Map team names to their abbreviated versions in the 'Opp' column\n",
    "df_2022['Opp'] = df_2022['Opp'].map(team_mapping)\n",
    "df_2023['Opp'] = df_2023['Opp'].map(team_mapping)"
   ]
  },
  {
   "cell_type": "code",
   "execution_count": 16,
   "id": "7234b70f1c6e552a",
   "metadata": {
    "ExecuteTime": {
     "end_time": "2024-03-28T16:00:57.563948200Z",
     "start_time": "2024-03-28T16:00:57.548371200Z"
    }
   },
   "outputs": [],
   "source": [
    "df_2022_team = df_2022[['Week', 'Team']]\n",
    "df_2022_opp = df_2022[['Week', 'Opp']]\n",
    "\n",
    "df_2023_team = df_2023[['Week', 'Team']]\n",
    "df_2023_opp = df_2023[['Week', 'Opp']]"
   ]
  },
  {
   "cell_type": "code",
   "execution_count": 17,
   "id": "f8b1c68397e9d1d5",
   "metadata": {
    "ExecuteTime": {
     "end_time": "2024-03-28T16:00:58.011237Z",
     "start_time": "2024-03-28T16:00:57.963839400Z"
    }
   },
   "outputs": [],
   "source": [
    "df_2022_team = pd.merge(df_2022_team, agg_2021, how = 'left', on = 'Team')\n",
    "\n",
    "for col in df_2022_team.columns:\n",
    "    if col not in ['Team', 'Week']:\n",
    "        df_2022_team.rename(columns={col: 'Team_' + col}, inplace=True)\n",
    "     \n",
    "     \n",
    "df_2023_team = pd.merge(df_2023_team, agg_2022, how = 'left', on = 'Team')\n",
    "\n",
    "for col in df_2023_team.columns:\n",
    "    if col not in ['Team', 'Week']:\n",
    "        df_2023_team.rename(columns={col: 'Team_' + col}, inplace=True)   "
   ]
  },
  {
   "cell_type": "code",
   "execution_count": 18,
   "id": "80918e5f377a411f",
   "metadata": {
    "ExecuteTime": {
     "end_time": "2024-03-28T16:00:58.467719700Z",
     "start_time": "2024-03-28T16:00:58.441734900Z"
    }
   },
   "outputs": [],
   "source": [
    "df_2022_opp = pd.merge(df_2022_opp, agg_2021, how = 'left', left_on = 'Opp', right_on = 'Team')\n",
    "df_2022_opp = df_2022_opp.drop(columns = 'Team')\n",
    "\n",
    "for col in df_2022_opp.columns:\n",
    "    if col not in ['Opp', 'Week']:\n",
    "        df_2022_opp.rename(columns={col: 'Opp_' + col}, inplace=True)\n",
    "        \n",
    "df_2022_opp = df_2022_opp.drop(columns = ['Week'])\n",
    "\n",
    "\n",
    "df_2023_opp = pd.merge(df_2023_opp, agg_2022, how = 'left', left_on = 'Opp', right_on = 'Team')\n",
    "df_2023_opp = df_2023_opp.drop(columns = 'Team')\n",
    "\n",
    "for col in df_2023_opp.columns:\n",
    "    if col not in ['Opp', 'Week']:\n",
    "        df_2023_opp.rename(columns={col: 'Opp_' + col}, inplace=True)\n",
    "        \n",
    "df_2023_opp = df_2023_opp.drop(columns = ['Week'])"
   ]
  },
  {
   "cell_type": "code",
   "execution_count": 19,
   "id": "e1bd06cc98ea01af",
   "metadata": {
    "ExecuteTime": {
     "end_time": "2024-03-28T16:00:58.987302600Z",
     "start_time": "2024-03-28T16:00:58.979418100Z"
    }
   },
   "outputs": [],
   "source": [
    "df_2022_agg = pd.concat([df_2022_team, df_2022_opp], axis = 1)\n",
    "df_2022_agg = pd.concat([df_2022_agg, wl_2022], axis = 1)\n",
    "\n",
    "df_2023_agg = pd.concat([df_2023_team, df_2023_opp], axis = 1)\n",
    "df_2023_agg = pd.concat([df_2023_agg, wl_2023], axis = 1)"
   ]
  },
  {
   "cell_type": "code",
   "execution_count": 20,
   "id": "3249122153efe521",
   "metadata": {
    "ExecuteTime": {
     "end_time": "2024-03-28T16:00:59.651933900Z",
     "start_time": "2024-03-28T16:00:59.580215400Z"
    }
   },
   "outputs": [
    {
     "data": {
      "text/plain": "    Week    Team  Team_Result   Team_OT  Team_H/A  Team_Score_Tm  \\\n0      1   49ers     0.636364  0.090909  0.363636      23.636364   \n1      2   49ers     0.636364  0.090909  0.363636      23.636364   \n2      3   49ers     0.636364  0.090909  0.363636      23.636364   \n3      4   49ers     0.636364  0.090909  0.363636      23.636364   \n4      5   49ers     0.636364  0.090909  0.363636      23.636364   \n..   ...     ...          ...       ...       ...            ...   \n445    4  saints     0.142857  0.142857  0.571429      16.571429   \n446    5  saints     0.142857  0.142857  0.571429      16.571429   \n451   10  saints     0.142857  0.142857  0.571429      16.571429   \n499    8  texans     0.000000  0.000000  0.375000       9.750000   \n507   16  texans     0.000000  0.000000  0.375000       9.750000   \n\n     Team_Score_Opp  Team_Off_1stD  Team_Off_TotYd  Team_Off_PassYd  ...  \\\n0         20.636364      18.818182      358.636364       225.000000  ...   \n1         20.636364      18.818182      358.636364       225.000000  ...   \n2         20.636364      18.818182      358.636364       225.000000  ...   \n3         20.636364      18.818182      358.636364       225.000000  ...   \n4         20.636364      18.818182      358.636364       225.000000  ...   \n..              ...            ...             ...              ...  ...   \n445       27.571429      14.571429      283.428571       182.714286  ...   \n446       27.571429      14.571429      283.428571       182.714286  ...   \n451       27.571429      14.571429      283.428571       182.714286  ...   \n499       27.375000      12.000000      221.000000       148.750000  ...   \n507       27.375000      12.000000      221.000000       148.750000  ...   \n\n     Opp_Off_TO  Opp_Def_1stD  Opp_Def_TotYd  Opp_Def_PassYd  Opp_Def_RushYD  \\\n0      2.000000     18.500000     271.625000      154.375000      117.250000   \n1      1.625000     21.875000     365.375000      250.375000      115.000000   \n2      1.285714     18.142857     317.000000      211.428571      105.571429   \n3      2.181818     19.272727     323.090909      235.000000       88.090909   \n4      2.100000     17.100000     282.400000      178.600000      103.800000   \n..          ...           ...            ...             ...             ...   \n445    1.375000     22.000000     342.875000      218.375000      124.500000   \n446    1.625000     21.875000     365.375000      250.375000      115.000000   \n451    1.400000     19.800000     365.100000      215.000000      150.100000   \n499    1.833333     22.500000     361.000000      271.500000       89.500000   \n507    1.833333     22.500000     361.000000      271.500000       89.500000   \n\n     Opp_Def_TO  Opp_Exp_Offense  Opp_Exp_Defense  Opp_Exp_SpecTms  Result  \n0      1.875000        -2.573750         3.120000        -0.567500       L  \n1      1.250000         1.265000        -4.305000         1.530000       W  \n2      1.428571         4.684286         1.810000        -1.164286       L  \n3      1.727273         2.621818         0.015455         0.578182       W  \n4      1.500000        -6.894000         4.772000        -0.035000       W  \n..          ...              ...              ...              ...     ...  \n445    2.000000         2.143750         0.177500        -1.373750       L  \n446    1.250000         1.265000        -4.305000         1.530000       W  \n451    1.600000        -1.306000        -2.900000        -0.072000       L  \n499    1.833333         3.473333        -0.823333        -0.740000       L  \n507    1.833333         3.473333        -0.823333        -0.740000       W  \n\n[272 rows x 40 columns]",
      "text/html": "<div>\n<style scoped>\n    .dataframe tbody tr th:only-of-type {\n        vertical-align: middle;\n    }\n\n    .dataframe tbody tr th {\n        vertical-align: top;\n    }\n\n    .dataframe thead th {\n        text-align: right;\n    }\n</style>\n<table border=\"1\" class=\"dataframe\">\n  <thead>\n    <tr style=\"text-align: right;\">\n      <th></th>\n      <th>Week</th>\n      <th>Team</th>\n      <th>Team_Result</th>\n      <th>Team_OT</th>\n      <th>Team_H/A</th>\n      <th>Team_Score_Tm</th>\n      <th>Team_Score_Opp</th>\n      <th>Team_Off_1stD</th>\n      <th>Team_Off_TotYd</th>\n      <th>Team_Off_PassYd</th>\n      <th>...</th>\n      <th>Opp_Off_TO</th>\n      <th>Opp_Def_1stD</th>\n      <th>Opp_Def_TotYd</th>\n      <th>Opp_Def_PassYd</th>\n      <th>Opp_Def_RushYD</th>\n      <th>Opp_Def_TO</th>\n      <th>Opp_Exp_Offense</th>\n      <th>Opp_Exp_Defense</th>\n      <th>Opp_Exp_SpecTms</th>\n      <th>Result</th>\n    </tr>\n  </thead>\n  <tbody>\n    <tr>\n      <th>0</th>\n      <td>1</td>\n      <td>49ers</td>\n      <td>0.636364</td>\n      <td>0.090909</td>\n      <td>0.363636</td>\n      <td>23.636364</td>\n      <td>20.636364</td>\n      <td>18.818182</td>\n      <td>358.636364</td>\n      <td>225.000000</td>\n      <td>...</td>\n      <td>2.000000</td>\n      <td>18.500000</td>\n      <td>271.625000</td>\n      <td>154.375000</td>\n      <td>117.250000</td>\n      <td>1.875000</td>\n      <td>-2.573750</td>\n      <td>3.120000</td>\n      <td>-0.567500</td>\n      <td>L</td>\n    </tr>\n    <tr>\n      <th>1</th>\n      <td>2</td>\n      <td>49ers</td>\n      <td>0.636364</td>\n      <td>0.090909</td>\n      <td>0.363636</td>\n      <td>23.636364</td>\n      <td>20.636364</td>\n      <td>18.818182</td>\n      <td>358.636364</td>\n      <td>225.000000</td>\n      <td>...</td>\n      <td>1.625000</td>\n      <td>21.875000</td>\n      <td>365.375000</td>\n      <td>250.375000</td>\n      <td>115.000000</td>\n      <td>1.250000</td>\n      <td>1.265000</td>\n      <td>-4.305000</td>\n      <td>1.530000</td>\n      <td>W</td>\n    </tr>\n    <tr>\n      <th>2</th>\n      <td>3</td>\n      <td>49ers</td>\n      <td>0.636364</td>\n      <td>0.090909</td>\n      <td>0.363636</td>\n      <td>23.636364</td>\n      <td>20.636364</td>\n      <td>18.818182</td>\n      <td>358.636364</td>\n      <td>225.000000</td>\n      <td>...</td>\n      <td>1.285714</td>\n      <td>18.142857</td>\n      <td>317.000000</td>\n      <td>211.428571</td>\n      <td>105.571429</td>\n      <td>1.428571</td>\n      <td>4.684286</td>\n      <td>1.810000</td>\n      <td>-1.164286</td>\n      <td>L</td>\n    </tr>\n    <tr>\n      <th>3</th>\n      <td>4</td>\n      <td>49ers</td>\n      <td>0.636364</td>\n      <td>0.090909</td>\n      <td>0.363636</td>\n      <td>23.636364</td>\n      <td>20.636364</td>\n      <td>18.818182</td>\n      <td>358.636364</td>\n      <td>225.000000</td>\n      <td>...</td>\n      <td>2.181818</td>\n      <td>19.272727</td>\n      <td>323.090909</td>\n      <td>235.000000</td>\n      <td>88.090909</td>\n      <td>1.727273</td>\n      <td>2.621818</td>\n      <td>0.015455</td>\n      <td>0.578182</td>\n      <td>W</td>\n    </tr>\n    <tr>\n      <th>4</th>\n      <td>5</td>\n      <td>49ers</td>\n      <td>0.636364</td>\n      <td>0.090909</td>\n      <td>0.363636</td>\n      <td>23.636364</td>\n      <td>20.636364</td>\n      <td>18.818182</td>\n      <td>358.636364</td>\n      <td>225.000000</td>\n      <td>...</td>\n      <td>2.100000</td>\n      <td>17.100000</td>\n      <td>282.400000</td>\n      <td>178.600000</td>\n      <td>103.800000</td>\n      <td>1.500000</td>\n      <td>-6.894000</td>\n      <td>4.772000</td>\n      <td>-0.035000</td>\n      <td>W</td>\n    </tr>\n    <tr>\n      <th>...</th>\n      <td>...</td>\n      <td>...</td>\n      <td>...</td>\n      <td>...</td>\n      <td>...</td>\n      <td>...</td>\n      <td>...</td>\n      <td>...</td>\n      <td>...</td>\n      <td>...</td>\n      <td>...</td>\n      <td>...</td>\n      <td>...</td>\n      <td>...</td>\n      <td>...</td>\n      <td>...</td>\n      <td>...</td>\n      <td>...</td>\n      <td>...</td>\n      <td>...</td>\n      <td>...</td>\n    </tr>\n    <tr>\n      <th>445</th>\n      <td>4</td>\n      <td>saints</td>\n      <td>0.142857</td>\n      <td>0.142857</td>\n      <td>0.571429</td>\n      <td>16.571429</td>\n      <td>27.571429</td>\n      <td>14.571429</td>\n      <td>283.428571</td>\n      <td>182.714286</td>\n      <td>...</td>\n      <td>1.375000</td>\n      <td>22.000000</td>\n      <td>342.875000</td>\n      <td>218.375000</td>\n      <td>124.500000</td>\n      <td>2.000000</td>\n      <td>2.143750</td>\n      <td>0.177500</td>\n      <td>-1.373750</td>\n      <td>L</td>\n    </tr>\n    <tr>\n      <th>446</th>\n      <td>5</td>\n      <td>saints</td>\n      <td>0.142857</td>\n      <td>0.142857</td>\n      <td>0.571429</td>\n      <td>16.571429</td>\n      <td>27.571429</td>\n      <td>14.571429</td>\n      <td>283.428571</td>\n      <td>182.714286</td>\n      <td>...</td>\n      <td>1.625000</td>\n      <td>21.875000</td>\n      <td>365.375000</td>\n      <td>250.375000</td>\n      <td>115.000000</td>\n      <td>1.250000</td>\n      <td>1.265000</td>\n      <td>-4.305000</td>\n      <td>1.530000</td>\n      <td>W</td>\n    </tr>\n    <tr>\n      <th>451</th>\n      <td>10</td>\n      <td>saints</td>\n      <td>0.142857</td>\n      <td>0.142857</td>\n      <td>0.571429</td>\n      <td>16.571429</td>\n      <td>27.571429</td>\n      <td>14.571429</td>\n      <td>283.428571</td>\n      <td>182.714286</td>\n      <td>...</td>\n      <td>1.400000</td>\n      <td>19.800000</td>\n      <td>365.100000</td>\n      <td>215.000000</td>\n      <td>150.100000</td>\n      <td>1.600000</td>\n      <td>-1.306000</td>\n      <td>-2.900000</td>\n      <td>-0.072000</td>\n      <td>L</td>\n    </tr>\n    <tr>\n      <th>499</th>\n      <td>8</td>\n      <td>texans</td>\n      <td>0.000000</td>\n      <td>0.000000</td>\n      <td>0.375000</td>\n      <td>9.750000</td>\n      <td>27.375000</td>\n      <td>12.000000</td>\n      <td>221.000000</td>\n      <td>148.750000</td>\n      <td>...</td>\n      <td>1.833333</td>\n      <td>22.500000</td>\n      <td>361.000000</td>\n      <td>271.500000</td>\n      <td>89.500000</td>\n      <td>1.833333</td>\n      <td>3.473333</td>\n      <td>-0.823333</td>\n      <td>-0.740000</td>\n      <td>L</td>\n    </tr>\n    <tr>\n      <th>507</th>\n      <td>16</td>\n      <td>texans</td>\n      <td>0.000000</td>\n      <td>0.000000</td>\n      <td>0.375000</td>\n      <td>9.750000</td>\n      <td>27.375000</td>\n      <td>12.000000</td>\n      <td>221.000000</td>\n      <td>148.750000</td>\n      <td>...</td>\n      <td>1.833333</td>\n      <td>22.500000</td>\n      <td>361.000000</td>\n      <td>271.500000</td>\n      <td>89.500000</td>\n      <td>1.833333</td>\n      <td>3.473333</td>\n      <td>-0.823333</td>\n      <td>-0.740000</td>\n      <td>W</td>\n    </tr>\n  </tbody>\n</table>\n<p>272 rows × 40 columns</p>\n</div>"
     },
     "execution_count": 20,
     "metadata": {},
     "output_type": "execute_result"
    }
   ],
   "source": [
    "df_2022_agg['Match'] = df_2022_agg.apply(lambda row: '-'.join(sorted([row['Team'], row['Opp']])), axis=1)\n",
    "df_2022_agg = df_2022_agg.drop_duplicates(subset=['Match', 'Week'])\n",
    "df_2022_agg = df_2022_agg.drop(columns=['Match'])\n",
    "\n",
    "df_2023_agg['Match'] = df_2023_agg.apply(lambda row: '-'.join(sorted([row['Team'], row['Opp']])), axis=1)\n",
    "df_2023_agg = df_2023_agg.drop_duplicates(subset=['Match', 'Week'])\n",
    "df_2023_agg = df_2023_agg.drop(columns=['Match'])\n",
    "\n",
    "df_2022_agg"
   ]
  },
  {
   "cell_type": "markdown",
   "id": "cf8aadbe165df73c",
   "metadata": {},
   "source": [
    "['49ers' 'bears' 'bengals' 'bills' 'broncos' 'browns' 'buccaneers'\n",
    " 'cardinals' 'chargers' 'chiefs' 'colts' 'commanders' 'cowboys' 'dolphins'\n",
    " 'eagles' 'falcons' 'giants' 'jaguars' 'jets' 'lions' 'packers' 'panthers'\n",
    " 'patriots' 'raiders' 'rams' 'ravens' 'saints' 'seahawks' 'steelers'\n",
    " 'texans' 'titans' 'vikings']"
   ]
  },
  {
   "cell_type": "code",
   "execution_count": 21,
   "id": "2565f2ef1575a923",
   "metadata": {
    "ExecuteTime": {
     "end_time": "2024-03-28T16:01:01.253333500Z",
     "start_time": "2024-03-28T16:01:01.232201Z"
    }
   },
   "outputs": [],
   "source": [
    "team_name_to_number = {\n",
    "    '49ers': 0,\n",
    "    'bears': 1,\n",
    "    'bengals': 2,\n",
    "    'bills': 3,\n",
    "    'broncos': 4,\n",
    "    'browns': 5,\n",
    "    'buccaneers': 6,\n",
    "    'cardinals': 7,\n",
    "    'chargers': 8,\n",
    "    'chiefs': 9,\n",
    "    'colts': 10,\n",
    "    'commanders': 11,\n",
    "    'cowboys': 12,\n",
    "    'dolphins': 13,\n",
    "    'eagles': 14,\n",
    "    'falcons': 15,\n",
    "    'giants': 16,\n",
    "    'jaguars': 17,\n",
    "    'jets': 18,\n",
    "    'lions': 19,\n",
    "    'packers': 20,\n",
    "    'panthers': 21,\n",
    "    'patriots': 22,\n",
    "    'raiders': 23,\n",
    "    'rams': 24,\n",
    "    'ravens': 25,\n",
    "    'saints': 26,\n",
    "    'seahawks': 27,\n",
    "    'steelers': 28,\n",
    "    'texans': 29,\n",
    "    'titans': 30,\n",
    "    'vikings': 31\n",
    "}\n",
    "\n",
    "df_2022_agg['Team'] = df_2022_agg['Team'].map(team_name_to_number)\n",
    "df_2022_agg['Opp'] = df_2022_agg['Opp'].map(team_name_to_number)\n",
    "\n",
    "result_mapping = {'W': 1, 'L': 0}\n",
    "df_2022_agg['Result'] = df_2022_agg['Result'].map(result_mapping)\n",
    "\n",
    "\n",
    "df_2023_agg['Team'] = df_2023_agg['Team'].map(team_name_to_number)\n",
    "df_2023_agg['Opp'] = df_2023_agg['Opp'].map(team_name_to_number)\n",
    "\n",
    "\n",
    "df_2023_agg['Result'] = df_2023_agg['Result'].map(result_mapping)"
   ]
  },
  {
   "cell_type": "code",
   "execution_count": 22,
   "id": "b7076250cdfac875",
   "metadata": {
    "ExecuteTime": {
     "end_time": "2024-03-28T16:01:02.026048800Z",
     "start_time": "2024-03-28T16:01:01.932307200Z"
    }
   },
   "outputs": [
    {
     "data": {
      "text/plain": "    Week  Team  Team_Result   Team_OT  Team_H/A  Team_Score_Tm  \\\n0      1     0     0.636364  0.090909  0.363636      23.636364   \n1      2     0     0.636364  0.090909  0.363636      23.636364   \n2      3     0     0.636364  0.090909  0.363636      23.636364   \n3      4     0     0.636364  0.090909  0.363636      23.636364   \n4      5     0     0.636364  0.090909  0.363636      23.636364   \n..   ...   ...          ...       ...       ...            ...   \n445    4    26     0.142857  0.142857  0.571429      16.571429   \n446    5    26     0.142857  0.142857  0.571429      16.571429   \n451   10    26     0.142857  0.142857  0.571429      16.571429   \n499    8    29     0.000000  0.000000  0.375000       9.750000   \n507   16    29     0.000000  0.000000  0.375000       9.750000   \n\n     Team_Score_Opp  Team_Off_1stD  Team_Off_TotYd  Team_Off_PassYd  ...  \\\n0         20.636364      18.818182      358.636364       225.000000  ...   \n1         20.636364      18.818182      358.636364       225.000000  ...   \n2         20.636364      18.818182      358.636364       225.000000  ...   \n3         20.636364      18.818182      358.636364       225.000000  ...   \n4         20.636364      18.818182      358.636364       225.000000  ...   \n..              ...            ...             ...              ...  ...   \n445       27.571429      14.571429      283.428571       182.714286  ...   \n446       27.571429      14.571429      283.428571       182.714286  ...   \n451       27.571429      14.571429      283.428571       182.714286  ...   \n499       27.375000      12.000000      221.000000       148.750000  ...   \n507       27.375000      12.000000      221.000000       148.750000  ...   \n\n     Opp_Off_TO  Opp_Def_1stD  Opp_Def_TotYd  Opp_Def_PassYd  Opp_Def_RushYD  \\\n0      2.000000     18.500000     271.625000      154.375000      117.250000   \n1      1.625000     21.875000     365.375000      250.375000      115.000000   \n2      1.285714     18.142857     317.000000      211.428571      105.571429   \n3      2.181818     19.272727     323.090909      235.000000       88.090909   \n4      2.100000     17.100000     282.400000      178.600000      103.800000   \n..          ...           ...            ...             ...             ...   \n445    1.375000     22.000000     342.875000      218.375000      124.500000   \n446    1.625000     21.875000     365.375000      250.375000      115.000000   \n451    1.400000     19.800000     365.100000      215.000000      150.100000   \n499    1.833333     22.500000     361.000000      271.500000       89.500000   \n507    1.833333     22.500000     361.000000      271.500000       89.500000   \n\n     Opp_Def_TO  Opp_Exp_Offense  Opp_Exp_Defense  Opp_Exp_SpecTms  Result  \n0      1.875000        -2.573750         3.120000        -0.567500       0  \n1      1.250000         1.265000        -4.305000         1.530000       1  \n2      1.428571         4.684286         1.810000        -1.164286       0  \n3      1.727273         2.621818         0.015455         0.578182       1  \n4      1.500000        -6.894000         4.772000        -0.035000       1  \n..          ...              ...              ...              ...     ...  \n445    2.000000         2.143750         0.177500        -1.373750       0  \n446    1.250000         1.265000        -4.305000         1.530000       1  \n451    1.600000        -1.306000        -2.900000        -0.072000       0  \n499    1.833333         3.473333        -0.823333        -0.740000       0  \n507    1.833333         3.473333        -0.823333        -0.740000       1  \n\n[269 rows x 40 columns]",
      "text/html": "<div>\n<style scoped>\n    .dataframe tbody tr th:only-of-type {\n        vertical-align: middle;\n    }\n\n    .dataframe tbody tr th {\n        vertical-align: top;\n    }\n\n    .dataframe thead th {\n        text-align: right;\n    }\n</style>\n<table border=\"1\" class=\"dataframe\">\n  <thead>\n    <tr style=\"text-align: right;\">\n      <th></th>\n      <th>Week</th>\n      <th>Team</th>\n      <th>Team_Result</th>\n      <th>Team_OT</th>\n      <th>Team_H/A</th>\n      <th>Team_Score_Tm</th>\n      <th>Team_Score_Opp</th>\n      <th>Team_Off_1stD</th>\n      <th>Team_Off_TotYd</th>\n      <th>Team_Off_PassYd</th>\n      <th>...</th>\n      <th>Opp_Off_TO</th>\n      <th>Opp_Def_1stD</th>\n      <th>Opp_Def_TotYd</th>\n      <th>Opp_Def_PassYd</th>\n      <th>Opp_Def_RushYD</th>\n      <th>Opp_Def_TO</th>\n      <th>Opp_Exp_Offense</th>\n      <th>Opp_Exp_Defense</th>\n      <th>Opp_Exp_SpecTms</th>\n      <th>Result</th>\n    </tr>\n  </thead>\n  <tbody>\n    <tr>\n      <th>0</th>\n      <td>1</td>\n      <td>0</td>\n      <td>0.636364</td>\n      <td>0.090909</td>\n      <td>0.363636</td>\n      <td>23.636364</td>\n      <td>20.636364</td>\n      <td>18.818182</td>\n      <td>358.636364</td>\n      <td>225.000000</td>\n      <td>...</td>\n      <td>2.000000</td>\n      <td>18.500000</td>\n      <td>271.625000</td>\n      <td>154.375000</td>\n      <td>117.250000</td>\n      <td>1.875000</td>\n      <td>-2.573750</td>\n      <td>3.120000</td>\n      <td>-0.567500</td>\n      <td>0</td>\n    </tr>\n    <tr>\n      <th>1</th>\n      <td>2</td>\n      <td>0</td>\n      <td>0.636364</td>\n      <td>0.090909</td>\n      <td>0.363636</td>\n      <td>23.636364</td>\n      <td>20.636364</td>\n      <td>18.818182</td>\n      <td>358.636364</td>\n      <td>225.000000</td>\n      <td>...</td>\n      <td>1.625000</td>\n      <td>21.875000</td>\n      <td>365.375000</td>\n      <td>250.375000</td>\n      <td>115.000000</td>\n      <td>1.250000</td>\n      <td>1.265000</td>\n      <td>-4.305000</td>\n      <td>1.530000</td>\n      <td>1</td>\n    </tr>\n    <tr>\n      <th>2</th>\n      <td>3</td>\n      <td>0</td>\n      <td>0.636364</td>\n      <td>0.090909</td>\n      <td>0.363636</td>\n      <td>23.636364</td>\n      <td>20.636364</td>\n      <td>18.818182</td>\n      <td>358.636364</td>\n      <td>225.000000</td>\n      <td>...</td>\n      <td>1.285714</td>\n      <td>18.142857</td>\n      <td>317.000000</td>\n      <td>211.428571</td>\n      <td>105.571429</td>\n      <td>1.428571</td>\n      <td>4.684286</td>\n      <td>1.810000</td>\n      <td>-1.164286</td>\n      <td>0</td>\n    </tr>\n    <tr>\n      <th>3</th>\n      <td>4</td>\n      <td>0</td>\n      <td>0.636364</td>\n      <td>0.090909</td>\n      <td>0.363636</td>\n      <td>23.636364</td>\n      <td>20.636364</td>\n      <td>18.818182</td>\n      <td>358.636364</td>\n      <td>225.000000</td>\n      <td>...</td>\n      <td>2.181818</td>\n      <td>19.272727</td>\n      <td>323.090909</td>\n      <td>235.000000</td>\n      <td>88.090909</td>\n      <td>1.727273</td>\n      <td>2.621818</td>\n      <td>0.015455</td>\n      <td>0.578182</td>\n      <td>1</td>\n    </tr>\n    <tr>\n      <th>4</th>\n      <td>5</td>\n      <td>0</td>\n      <td>0.636364</td>\n      <td>0.090909</td>\n      <td>0.363636</td>\n      <td>23.636364</td>\n      <td>20.636364</td>\n      <td>18.818182</td>\n      <td>358.636364</td>\n      <td>225.000000</td>\n      <td>...</td>\n      <td>2.100000</td>\n      <td>17.100000</td>\n      <td>282.400000</td>\n      <td>178.600000</td>\n      <td>103.800000</td>\n      <td>1.500000</td>\n      <td>-6.894000</td>\n      <td>4.772000</td>\n      <td>-0.035000</td>\n      <td>1</td>\n    </tr>\n    <tr>\n      <th>...</th>\n      <td>...</td>\n      <td>...</td>\n      <td>...</td>\n      <td>...</td>\n      <td>...</td>\n      <td>...</td>\n      <td>...</td>\n      <td>...</td>\n      <td>...</td>\n      <td>...</td>\n      <td>...</td>\n      <td>...</td>\n      <td>...</td>\n      <td>...</td>\n      <td>...</td>\n      <td>...</td>\n      <td>...</td>\n      <td>...</td>\n      <td>...</td>\n      <td>...</td>\n      <td>...</td>\n    </tr>\n    <tr>\n      <th>445</th>\n      <td>4</td>\n      <td>26</td>\n      <td>0.142857</td>\n      <td>0.142857</td>\n      <td>0.571429</td>\n      <td>16.571429</td>\n      <td>27.571429</td>\n      <td>14.571429</td>\n      <td>283.428571</td>\n      <td>182.714286</td>\n      <td>...</td>\n      <td>1.375000</td>\n      <td>22.000000</td>\n      <td>342.875000</td>\n      <td>218.375000</td>\n      <td>124.500000</td>\n      <td>2.000000</td>\n      <td>2.143750</td>\n      <td>0.177500</td>\n      <td>-1.373750</td>\n      <td>0</td>\n    </tr>\n    <tr>\n      <th>446</th>\n      <td>5</td>\n      <td>26</td>\n      <td>0.142857</td>\n      <td>0.142857</td>\n      <td>0.571429</td>\n      <td>16.571429</td>\n      <td>27.571429</td>\n      <td>14.571429</td>\n      <td>283.428571</td>\n      <td>182.714286</td>\n      <td>...</td>\n      <td>1.625000</td>\n      <td>21.875000</td>\n      <td>365.375000</td>\n      <td>250.375000</td>\n      <td>115.000000</td>\n      <td>1.250000</td>\n      <td>1.265000</td>\n      <td>-4.305000</td>\n      <td>1.530000</td>\n      <td>1</td>\n    </tr>\n    <tr>\n      <th>451</th>\n      <td>10</td>\n      <td>26</td>\n      <td>0.142857</td>\n      <td>0.142857</td>\n      <td>0.571429</td>\n      <td>16.571429</td>\n      <td>27.571429</td>\n      <td>14.571429</td>\n      <td>283.428571</td>\n      <td>182.714286</td>\n      <td>...</td>\n      <td>1.400000</td>\n      <td>19.800000</td>\n      <td>365.100000</td>\n      <td>215.000000</td>\n      <td>150.100000</td>\n      <td>1.600000</td>\n      <td>-1.306000</td>\n      <td>-2.900000</td>\n      <td>-0.072000</td>\n      <td>0</td>\n    </tr>\n    <tr>\n      <th>499</th>\n      <td>8</td>\n      <td>29</td>\n      <td>0.000000</td>\n      <td>0.000000</td>\n      <td>0.375000</td>\n      <td>9.750000</td>\n      <td>27.375000</td>\n      <td>12.000000</td>\n      <td>221.000000</td>\n      <td>148.750000</td>\n      <td>...</td>\n      <td>1.833333</td>\n      <td>22.500000</td>\n      <td>361.000000</td>\n      <td>271.500000</td>\n      <td>89.500000</td>\n      <td>1.833333</td>\n      <td>3.473333</td>\n      <td>-0.823333</td>\n      <td>-0.740000</td>\n      <td>0</td>\n    </tr>\n    <tr>\n      <th>507</th>\n      <td>16</td>\n      <td>29</td>\n      <td>0.000000</td>\n      <td>0.000000</td>\n      <td>0.375000</td>\n      <td>9.750000</td>\n      <td>27.375000</td>\n      <td>12.000000</td>\n      <td>221.000000</td>\n      <td>148.750000</td>\n      <td>...</td>\n      <td>1.833333</td>\n      <td>22.500000</td>\n      <td>361.000000</td>\n      <td>271.500000</td>\n      <td>89.500000</td>\n      <td>1.833333</td>\n      <td>3.473333</td>\n      <td>-0.823333</td>\n      <td>-0.740000</td>\n      <td>1</td>\n    </tr>\n  </tbody>\n</table>\n<p>269 rows × 40 columns</p>\n</div>"
     },
     "execution_count": 22,
     "metadata": {},
     "output_type": "execute_result"
    }
   ],
   "source": [
    "df_2022_agg.dropna(subset = ['Result'], inplace=True)\n",
    "df_2022_agg['Result'] = df_2022_agg['Result'].astype(int)\n",
    "\n",
    "df_2023_agg.dropna(subset = ['Result'], inplace=True)\n",
    "df_2023_agg['Result'] = df_2023_agg['Result'].astype(int)\n",
    "\n",
    "df_2022_agg"
   ]
  },
  {
   "cell_type": "code",
   "execution_count": 23,
   "id": "f821a304a135cf2b",
   "metadata": {
    "ExecuteTime": {
     "end_time": "2024-03-28T16:01:02.797996100Z",
     "start_time": "2024-03-28T16:01:02.771554300Z"
    }
   },
   "outputs": [
    {
     "data": {
      "text/plain": "    Week  Team  Team_Result   Team_OT  Team_H/A  Team_Score_Tm  \\\n0      1     0     0.636364  0.090909  0.363636      23.636364   \n1      2     0     0.636364  0.090909  0.363636      23.636364   \n2      3     0     0.636364  0.090909  0.363636      23.636364   \n3      4     0     0.636364  0.090909  0.363636      23.636364   \n4      5     0     0.636364  0.090909  0.363636      23.636364   \n..   ...   ...          ...       ...       ...            ...   \n474   17    27     0.375000  0.125000  0.250000      19.750000   \n479    4    28     0.500000  0.200000  0.500000      20.700000   \n483    9    28     0.500000  0.200000  0.500000      20.700000   \n506   15    29     0.000000  0.000000  0.375000       9.750000   \n508   17    29     0.000000  0.000000  0.375000       9.750000   \n\n     Team_Score_Opp  Team_Off_1stD  Team_Off_TotYd  Team_Off_PassYd  ...  \\\n0         20.636364      18.818182      358.636364           225.00  ...   \n1         20.636364      18.818182      358.636364           225.00  ...   \n2         20.636364      18.818182      358.636364           225.00  ...   \n3         20.636364      18.818182      358.636364           225.00  ...   \n4         20.636364      18.818182      358.636364           225.00  ...   \n..              ...            ...             ...              ...  ...   \n474       21.500000      17.000000      311.375000           197.25  ...   \n479       26.300000      19.500000      318.600000           222.60  ...   \n483       26.300000      19.500000      318.600000           222.60  ...   \n506       27.375000      12.000000      221.000000           148.75  ...   \n508       27.375000      12.000000      221.000000           148.75  ...   \n\n     Opp_Off_TO  Opp_Def_1stD  Opp_Def_TotYd  Opp_Def_PassYd  Opp_Def_RushYD  \\\n0      2.000000     18.500000     271.625000      154.375000      117.250000   \n1      1.625000     21.875000     365.375000      250.375000      115.000000   \n2      1.285714     18.142857     317.000000      211.428571      105.571429   \n3      2.181818     19.272727     323.090909      235.000000       88.090909   \n4      2.100000     17.100000     282.400000      178.600000      103.800000   \n..          ...           ...            ...             ...             ...   \n474    1.400000     19.800000     365.100000      215.000000      150.100000   \n479    2.125000     22.250000     360.875000      202.125000      158.750000   \n483    1.833333     22.500000     361.000000      271.500000       89.500000   \n506    1.833333     22.500000     361.000000      271.500000       89.500000   \n508    1.833333     22.500000     361.000000      271.500000       89.500000   \n\n     Opp_Def_TO  Opp_Exp_Offense  Opp_Exp_Defense  Opp_Exp_SpecTms  Result  \n0      1.875000        -2.573750         3.120000        -0.567500       0  \n1      1.250000         1.265000        -4.305000         1.530000       1  \n2      1.428571         4.684286         1.810000        -1.164286       0  \n3      1.727273         2.621818         0.015455         0.578182       1  \n4      1.500000        -6.894000         4.772000        -0.035000       1  \n..          ...              ...              ...              ...     ...  \n474    1.600000        -1.306000        -2.900000        -0.072000       0  \n479    1.750000       -12.305000        -6.358750         1.808750       0  \n483    1.833333         3.473333        -0.823333        -0.740000       1  \n506    1.833333         3.473333        -0.823333        -0.740000       1  \n508    1.833333         3.473333        -0.823333        -0.740000       1  \n\n[541 rows x 40 columns]",
      "text/html": "<div>\n<style scoped>\n    .dataframe tbody tr th:only-of-type {\n        vertical-align: middle;\n    }\n\n    .dataframe tbody tr th {\n        vertical-align: top;\n    }\n\n    .dataframe thead th {\n        text-align: right;\n    }\n</style>\n<table border=\"1\" class=\"dataframe\">\n  <thead>\n    <tr style=\"text-align: right;\">\n      <th></th>\n      <th>Week</th>\n      <th>Team</th>\n      <th>Team_Result</th>\n      <th>Team_OT</th>\n      <th>Team_H/A</th>\n      <th>Team_Score_Tm</th>\n      <th>Team_Score_Opp</th>\n      <th>Team_Off_1stD</th>\n      <th>Team_Off_TotYd</th>\n      <th>Team_Off_PassYd</th>\n      <th>...</th>\n      <th>Opp_Off_TO</th>\n      <th>Opp_Def_1stD</th>\n      <th>Opp_Def_TotYd</th>\n      <th>Opp_Def_PassYd</th>\n      <th>Opp_Def_RushYD</th>\n      <th>Opp_Def_TO</th>\n      <th>Opp_Exp_Offense</th>\n      <th>Opp_Exp_Defense</th>\n      <th>Opp_Exp_SpecTms</th>\n      <th>Result</th>\n    </tr>\n  </thead>\n  <tbody>\n    <tr>\n      <th>0</th>\n      <td>1</td>\n      <td>0</td>\n      <td>0.636364</td>\n      <td>0.090909</td>\n      <td>0.363636</td>\n      <td>23.636364</td>\n      <td>20.636364</td>\n      <td>18.818182</td>\n      <td>358.636364</td>\n      <td>225.00</td>\n      <td>...</td>\n      <td>2.000000</td>\n      <td>18.500000</td>\n      <td>271.625000</td>\n      <td>154.375000</td>\n      <td>117.250000</td>\n      <td>1.875000</td>\n      <td>-2.573750</td>\n      <td>3.120000</td>\n      <td>-0.567500</td>\n      <td>0</td>\n    </tr>\n    <tr>\n      <th>1</th>\n      <td>2</td>\n      <td>0</td>\n      <td>0.636364</td>\n      <td>0.090909</td>\n      <td>0.363636</td>\n      <td>23.636364</td>\n      <td>20.636364</td>\n      <td>18.818182</td>\n      <td>358.636364</td>\n      <td>225.00</td>\n      <td>...</td>\n      <td>1.625000</td>\n      <td>21.875000</td>\n      <td>365.375000</td>\n      <td>250.375000</td>\n      <td>115.000000</td>\n      <td>1.250000</td>\n      <td>1.265000</td>\n      <td>-4.305000</td>\n      <td>1.530000</td>\n      <td>1</td>\n    </tr>\n    <tr>\n      <th>2</th>\n      <td>3</td>\n      <td>0</td>\n      <td>0.636364</td>\n      <td>0.090909</td>\n      <td>0.363636</td>\n      <td>23.636364</td>\n      <td>20.636364</td>\n      <td>18.818182</td>\n      <td>358.636364</td>\n      <td>225.00</td>\n      <td>...</td>\n      <td>1.285714</td>\n      <td>18.142857</td>\n      <td>317.000000</td>\n      <td>211.428571</td>\n      <td>105.571429</td>\n      <td>1.428571</td>\n      <td>4.684286</td>\n      <td>1.810000</td>\n      <td>-1.164286</td>\n      <td>0</td>\n    </tr>\n    <tr>\n      <th>3</th>\n      <td>4</td>\n      <td>0</td>\n      <td>0.636364</td>\n      <td>0.090909</td>\n      <td>0.363636</td>\n      <td>23.636364</td>\n      <td>20.636364</td>\n      <td>18.818182</td>\n      <td>358.636364</td>\n      <td>225.00</td>\n      <td>...</td>\n      <td>2.181818</td>\n      <td>19.272727</td>\n      <td>323.090909</td>\n      <td>235.000000</td>\n      <td>88.090909</td>\n      <td>1.727273</td>\n      <td>2.621818</td>\n      <td>0.015455</td>\n      <td>0.578182</td>\n      <td>1</td>\n    </tr>\n    <tr>\n      <th>4</th>\n      <td>5</td>\n      <td>0</td>\n      <td>0.636364</td>\n      <td>0.090909</td>\n      <td>0.363636</td>\n      <td>23.636364</td>\n      <td>20.636364</td>\n      <td>18.818182</td>\n      <td>358.636364</td>\n      <td>225.00</td>\n      <td>...</td>\n      <td>2.100000</td>\n      <td>17.100000</td>\n      <td>282.400000</td>\n      <td>178.600000</td>\n      <td>103.800000</td>\n      <td>1.500000</td>\n      <td>-6.894000</td>\n      <td>4.772000</td>\n      <td>-0.035000</td>\n      <td>1</td>\n    </tr>\n    <tr>\n      <th>...</th>\n      <td>...</td>\n      <td>...</td>\n      <td>...</td>\n      <td>...</td>\n      <td>...</td>\n      <td>...</td>\n      <td>...</td>\n      <td>...</td>\n      <td>...</td>\n      <td>...</td>\n      <td>...</td>\n      <td>...</td>\n      <td>...</td>\n      <td>...</td>\n      <td>...</td>\n      <td>...</td>\n      <td>...</td>\n      <td>...</td>\n      <td>...</td>\n      <td>...</td>\n      <td>...</td>\n    </tr>\n    <tr>\n      <th>474</th>\n      <td>17</td>\n      <td>27</td>\n      <td>0.375000</td>\n      <td>0.125000</td>\n      <td>0.250000</td>\n      <td>19.750000</td>\n      <td>21.500000</td>\n      <td>17.000000</td>\n      <td>311.375000</td>\n      <td>197.25</td>\n      <td>...</td>\n      <td>1.400000</td>\n      <td>19.800000</td>\n      <td>365.100000</td>\n      <td>215.000000</td>\n      <td>150.100000</td>\n      <td>1.600000</td>\n      <td>-1.306000</td>\n      <td>-2.900000</td>\n      <td>-0.072000</td>\n      <td>0</td>\n    </tr>\n    <tr>\n      <th>479</th>\n      <td>4</td>\n      <td>28</td>\n      <td>0.500000</td>\n      <td>0.200000</td>\n      <td>0.500000</td>\n      <td>20.700000</td>\n      <td>26.300000</td>\n      <td>19.500000</td>\n      <td>318.600000</td>\n      <td>222.60</td>\n      <td>...</td>\n      <td>2.125000</td>\n      <td>22.250000</td>\n      <td>360.875000</td>\n      <td>202.125000</td>\n      <td>158.750000</td>\n      <td>1.750000</td>\n      <td>-12.305000</td>\n      <td>-6.358750</td>\n      <td>1.808750</td>\n      <td>0</td>\n    </tr>\n    <tr>\n      <th>483</th>\n      <td>9</td>\n      <td>28</td>\n      <td>0.500000</td>\n      <td>0.200000</td>\n      <td>0.500000</td>\n      <td>20.700000</td>\n      <td>26.300000</td>\n      <td>19.500000</td>\n      <td>318.600000</td>\n      <td>222.60</td>\n      <td>...</td>\n      <td>1.833333</td>\n      <td>22.500000</td>\n      <td>361.000000</td>\n      <td>271.500000</td>\n      <td>89.500000</td>\n      <td>1.833333</td>\n      <td>3.473333</td>\n      <td>-0.823333</td>\n      <td>-0.740000</td>\n      <td>1</td>\n    </tr>\n    <tr>\n      <th>506</th>\n      <td>15</td>\n      <td>29</td>\n      <td>0.000000</td>\n      <td>0.000000</td>\n      <td>0.375000</td>\n      <td>9.750000</td>\n      <td>27.375000</td>\n      <td>12.000000</td>\n      <td>221.000000</td>\n      <td>148.75</td>\n      <td>...</td>\n      <td>1.833333</td>\n      <td>22.500000</td>\n      <td>361.000000</td>\n      <td>271.500000</td>\n      <td>89.500000</td>\n      <td>1.833333</td>\n      <td>3.473333</td>\n      <td>-0.823333</td>\n      <td>-0.740000</td>\n      <td>1</td>\n    </tr>\n    <tr>\n      <th>508</th>\n      <td>17</td>\n      <td>29</td>\n      <td>0.000000</td>\n      <td>0.000000</td>\n      <td>0.375000</td>\n      <td>9.750000</td>\n      <td>27.375000</td>\n      <td>12.000000</td>\n      <td>221.000000</td>\n      <td>148.75</td>\n      <td>...</td>\n      <td>1.833333</td>\n      <td>22.500000</td>\n      <td>361.000000</td>\n      <td>271.500000</td>\n      <td>89.500000</td>\n      <td>1.833333</td>\n      <td>3.473333</td>\n      <td>-0.823333</td>\n      <td>-0.740000</td>\n      <td>1</td>\n    </tr>\n  </tbody>\n</table>\n<p>541 rows × 40 columns</p>\n</div>"
     },
     "execution_count": 23,
     "metadata": {},
     "output_type": "execute_result"
    }
   ],
   "source": [
    "df_agg_combined = pd.concat([df_2022_agg, df_2023_agg], axis = 0)\n",
    "df_agg_combined"
   ]
  },
  {
   "cell_type": "code",
   "execution_count": 24,
   "id": "bc333bf6018622cb",
   "metadata": {
    "ExecuteTime": {
     "end_time": "2024-03-28T16:01:08.567332100Z",
     "start_time": "2024-03-28T16:01:03.687641100Z"
    }
   },
   "outputs": [
    {
     "name": "stdout",
     "output_type": "stream",
     "text": [
      "0.5229357798165137\n"
     ]
    },
    {
     "name": "stderr",
     "output_type": "stream",
     "text": [
      "C:\\Users\\krizm\\AppData\\Local\\Programs\\Python\\Python311\\Lib\\site-packages\\sklearn\\linear_model\\_logistic.py:469: ConvergenceWarning: lbfgs failed to converge (status=1):\n",
      "STOP: TOTAL NO. of ITERATIONS REACHED LIMIT.\n",
      "\n",
      "Increase the number of iterations (max_iter) or scale the data as shown in:\n",
      "    https://scikit-learn.org/stable/modules/preprocessing.html\n",
      "Please also refer to the documentation for alternative solver options:\n",
      "    https://scikit-learn.org/stable/modules/linear_model.html#logistic-regression\n",
      "  n_iter_i = _check_optimize_result(\n"
     ]
    }
   ],
   "source": [
    "from sklearn.linear_model import LogisticRegression\n",
    "\n",
    "X_train, X_test, y_train, y_test = train_test_split(df_agg_combined.iloc[:, 1:39], df_agg_combined.iloc[:, 39], test_size = 0.2, random_state = 1)\n",
    "\n",
    "lr = LogisticRegression(max_iter = 10000)\n",
    "\n",
    "lr.fit(X_train, y_train)\n",
    "\n",
    "y_pred = lr.predict(X_test)\n",
    "\n",
    "accuracy = accuracy_score(y_test, y_pred)\n",
    "\n",
    "print(accuracy)"
   ]
  },
  {
   "cell_type": "code",
   "execution_count": 25,
   "id": "3945b4f9f4aad11e",
   "metadata": {
    "ExecuteTime": {
     "end_time": "2024-03-28T16:01:09.087282300Z",
     "start_time": "2024-03-28T16:01:08.411891700Z"
    }
   },
   "outputs": [
    {
     "data": {
      "text/plain": "     Team         Opp\n0   lions       bears\n1   lions     packers\n2   lions     vikings\n3   lions  buccaneers\n4   lions        rams\n5   lions    seahawks\n6   lions     jaguars\n7   lions      titans\n8   lions       bills\n9   lions     cowboys\n10  lions   cardinals\n11  lions       49ers\n12  lions      texans\n13  lions       colts",
      "text/html": "<div>\n<style scoped>\n    .dataframe tbody tr th:only-of-type {\n        vertical-align: middle;\n    }\n\n    .dataframe tbody tr th {\n        vertical-align: top;\n    }\n\n    .dataframe thead th {\n        text-align: right;\n    }\n</style>\n<table border=\"1\" class=\"dataframe\">\n  <thead>\n    <tr style=\"text-align: right;\">\n      <th></th>\n      <th>Team</th>\n      <th>Opp</th>\n    </tr>\n  </thead>\n  <tbody>\n    <tr>\n      <th>0</th>\n      <td>lions</td>\n      <td>bears</td>\n    </tr>\n    <tr>\n      <th>1</th>\n      <td>lions</td>\n      <td>packers</td>\n    </tr>\n    <tr>\n      <th>2</th>\n      <td>lions</td>\n      <td>vikings</td>\n    </tr>\n    <tr>\n      <th>3</th>\n      <td>lions</td>\n      <td>buccaneers</td>\n    </tr>\n    <tr>\n      <th>4</th>\n      <td>lions</td>\n      <td>rams</td>\n    </tr>\n    <tr>\n      <th>5</th>\n      <td>lions</td>\n      <td>seahawks</td>\n    </tr>\n    <tr>\n      <th>6</th>\n      <td>lions</td>\n      <td>jaguars</td>\n    </tr>\n    <tr>\n      <th>7</th>\n      <td>lions</td>\n      <td>titans</td>\n    </tr>\n    <tr>\n      <th>8</th>\n      <td>lions</td>\n      <td>bills</td>\n    </tr>\n    <tr>\n      <th>9</th>\n      <td>lions</td>\n      <td>cowboys</td>\n    </tr>\n    <tr>\n      <th>10</th>\n      <td>lions</td>\n      <td>cardinals</td>\n    </tr>\n    <tr>\n      <th>11</th>\n      <td>lions</td>\n      <td>49ers</td>\n    </tr>\n    <tr>\n      <th>12</th>\n      <td>lions</td>\n      <td>texans</td>\n    </tr>\n    <tr>\n      <th>13</th>\n      <td>lions</td>\n      <td>colts</td>\n    </tr>\n  </tbody>\n</table>\n</div>"
     },
     "execution_count": 25,
     "metadata": {},
     "output_type": "execute_result"
    }
   ],
   "source": [
    "lions_2024 = pd.read_excel('lions_2024.xlsx')\n",
    "lions_2024"
   ]
  },
  {
   "cell_type": "code",
   "execution_count": 26,
   "id": "9c91c7a84051c620",
   "metadata": {
    "ExecuteTime": {
     "end_time": "2024-03-28T16:01:09.104877900Z",
     "start_time": "2024-03-28T16:01:09.047494800Z"
    }
   },
   "outputs": [],
   "source": [
    "lions_2024_team = lions_2024[['Team']]\n",
    "lions_2024_opp = lions_2024[['Opp']]\n",
    "\n",
    "lions_2024_team = pd.merge(lions_2024_team, agg_2023, how = 'left', on = 'Team')\n",
    "\n",
    "for col in lions_2024_team.columns:\n",
    "    if col not in ['Team']:\n",
    "        lions_2024_team.rename(columns={col: 'Team_' + col}, inplace=True) \n",
    "        \n",
    "lions_2024_opp = pd.merge(lions_2024_opp, agg_2023, how = 'left', left_on = 'Opp', right_on = 'Team')\n",
    "lions_2024_opp = lions_2024_opp.drop(columns = 'Team')\n",
    "\n",
    "for col in lions_2024_opp.columns:\n",
    "    if col not in ['Opp']:\n",
    "        lions_2024_opp.rename(columns={col: 'Opp_' + col}, inplace=True)\n",
    "        \n",
    "\n",
    "lions_2024_agg = pd.concat([lions_2024_team, lions_2024_opp], axis = 1)\n",
    "\n",
    "lions_2024_agg['Team'] = lions_2024_agg['Team'].map(team_name_to_number)\n",
    "lions_2024_agg['Opp'] = lions_2024_agg['Opp'].map(team_name_to_number)"
   ]
  },
  {
   "cell_type": "code",
   "execution_count": 27,
   "id": "8f1400006832d019",
   "metadata": {
    "ExecuteTime": {
     "end_time": "2024-03-28T16:01:09.127374900Z",
     "start_time": "2024-03-28T16:01:09.078499500Z"
    }
   },
   "outputs": [],
   "source": [
    "lions_pred = lr.predict(lions_2024_agg)\n",
    "\n",
    "lions_2024 = pd.concat([lions_2024, pd.DataFrame(lions_pred)], axis = 1)"
   ]
  },
  {
   "cell_type": "code",
   "execution_count": 28,
   "id": "dcac398a9f741f9a",
   "metadata": {
    "ExecuteTime": {
     "end_time": "2024-03-28T16:01:09.308431800Z",
     "start_time": "2024-03-28T16:01:09.094282500Z"
    }
   },
   "outputs": [
    {
     "data": {
      "text/plain": "     Team         Opp  0\n0   lions       bears  1\n1   lions     packers  0\n2   lions     vikings  0\n3   lions  buccaneers  0\n4   lions        rams  0\n5   lions    seahawks  0\n6   lions     jaguars  0\n7   lions      titans  0\n8   lions       bills  0\n9   lions     cowboys  0\n10  lions   cardinals  0\n11  lions       49ers  0\n12  lions      texans  1\n13  lions       colts  0",
      "text/html": "<div>\n<style scoped>\n    .dataframe tbody tr th:only-of-type {\n        vertical-align: middle;\n    }\n\n    .dataframe tbody tr th {\n        vertical-align: top;\n    }\n\n    .dataframe thead th {\n        text-align: right;\n    }\n</style>\n<table border=\"1\" class=\"dataframe\">\n  <thead>\n    <tr style=\"text-align: right;\">\n      <th></th>\n      <th>Team</th>\n      <th>Opp</th>\n      <th>0</th>\n    </tr>\n  </thead>\n  <tbody>\n    <tr>\n      <th>0</th>\n      <td>lions</td>\n      <td>bears</td>\n      <td>1</td>\n    </tr>\n    <tr>\n      <th>1</th>\n      <td>lions</td>\n      <td>packers</td>\n      <td>0</td>\n    </tr>\n    <tr>\n      <th>2</th>\n      <td>lions</td>\n      <td>vikings</td>\n      <td>0</td>\n    </tr>\n    <tr>\n      <th>3</th>\n      <td>lions</td>\n      <td>buccaneers</td>\n      <td>0</td>\n    </tr>\n    <tr>\n      <th>4</th>\n      <td>lions</td>\n      <td>rams</td>\n      <td>0</td>\n    </tr>\n    <tr>\n      <th>5</th>\n      <td>lions</td>\n      <td>seahawks</td>\n      <td>0</td>\n    </tr>\n    <tr>\n      <th>6</th>\n      <td>lions</td>\n      <td>jaguars</td>\n      <td>0</td>\n    </tr>\n    <tr>\n      <th>7</th>\n      <td>lions</td>\n      <td>titans</td>\n      <td>0</td>\n    </tr>\n    <tr>\n      <th>8</th>\n      <td>lions</td>\n      <td>bills</td>\n      <td>0</td>\n    </tr>\n    <tr>\n      <th>9</th>\n      <td>lions</td>\n      <td>cowboys</td>\n      <td>0</td>\n    </tr>\n    <tr>\n      <th>10</th>\n      <td>lions</td>\n      <td>cardinals</td>\n      <td>0</td>\n    </tr>\n    <tr>\n      <th>11</th>\n      <td>lions</td>\n      <td>49ers</td>\n      <td>0</td>\n    </tr>\n    <tr>\n      <th>12</th>\n      <td>lions</td>\n      <td>texans</td>\n      <td>1</td>\n    </tr>\n    <tr>\n      <th>13</th>\n      <td>lions</td>\n      <td>colts</td>\n      <td>0</td>\n    </tr>\n  </tbody>\n</table>\n</div>"
     },
     "execution_count": 28,
     "metadata": {},
     "output_type": "execute_result"
    }
   ],
   "source": [
    "lions_2024"
   ]
  },
  {
   "cell_type": "code",
   "execution_count": 29,
   "id": "79df4cb5ebf73102",
   "metadata": {
    "ExecuteTime": {
     "end_time": "2024-03-28T16:01:09.424733500Z",
     "start_time": "2024-03-28T16:01:09.111398700Z"
    }
   },
   "outputs": [
    {
     "data": {
      "text/plain": "       Team         Opp\n0   cowboys      giants\n1   cowboys      eagles\n2   cowboys  commanders\n3   cowboys      saints\n4   cowboys  buccaneers\n5   cowboys       lions\n6   cowboys      ravels\n7   cowboys     bengals\n8   cowboys      texans\n9   cowboys     falcons\n10  cowboys    panthers\n11  cowboys       49ers\n12  cowboys      browns\n13  cowboys    steelers",
      "text/html": "<div>\n<style scoped>\n    .dataframe tbody tr th:only-of-type {\n        vertical-align: middle;\n    }\n\n    .dataframe tbody tr th {\n        vertical-align: top;\n    }\n\n    .dataframe thead th {\n        text-align: right;\n    }\n</style>\n<table border=\"1\" class=\"dataframe\">\n  <thead>\n    <tr style=\"text-align: right;\">\n      <th></th>\n      <th>Team</th>\n      <th>Opp</th>\n    </tr>\n  </thead>\n  <tbody>\n    <tr>\n      <th>0</th>\n      <td>cowboys</td>\n      <td>giants</td>\n    </tr>\n    <tr>\n      <th>1</th>\n      <td>cowboys</td>\n      <td>eagles</td>\n    </tr>\n    <tr>\n      <th>2</th>\n      <td>cowboys</td>\n      <td>commanders</td>\n    </tr>\n    <tr>\n      <th>3</th>\n      <td>cowboys</td>\n      <td>saints</td>\n    </tr>\n    <tr>\n      <th>4</th>\n      <td>cowboys</td>\n      <td>buccaneers</td>\n    </tr>\n    <tr>\n      <th>5</th>\n      <td>cowboys</td>\n      <td>lions</td>\n    </tr>\n    <tr>\n      <th>6</th>\n      <td>cowboys</td>\n      <td>ravels</td>\n    </tr>\n    <tr>\n      <th>7</th>\n      <td>cowboys</td>\n      <td>bengals</td>\n    </tr>\n    <tr>\n      <th>8</th>\n      <td>cowboys</td>\n      <td>texans</td>\n    </tr>\n    <tr>\n      <th>9</th>\n      <td>cowboys</td>\n      <td>falcons</td>\n    </tr>\n    <tr>\n      <th>10</th>\n      <td>cowboys</td>\n      <td>panthers</td>\n    </tr>\n    <tr>\n      <th>11</th>\n      <td>cowboys</td>\n      <td>49ers</td>\n    </tr>\n    <tr>\n      <th>12</th>\n      <td>cowboys</td>\n      <td>browns</td>\n    </tr>\n    <tr>\n      <th>13</th>\n      <td>cowboys</td>\n      <td>steelers</td>\n    </tr>\n  </tbody>\n</table>\n</div>"
     },
     "execution_count": 29,
     "metadata": {},
     "output_type": "execute_result"
    }
   ],
   "source": [
    "cowboys_2024 = pd.read_excel('cowboys_2024.xlsx')\n",
    "cowboys_2024"
   ]
  },
  {
   "cell_type": "code",
   "execution_count": 30,
   "id": "99377a40",
   "metadata": {
    "ExecuteTime": {
     "end_time": "2024-03-28T16:01:09.490187400Z",
     "start_time": "2024-03-28T16:01:09.190640100Z"
    }
   },
   "outputs": [],
   "source": [
    "cowboys_2024_team = cowboys_2024[['Team']]\n",
    "cowboys_2024_opp = cowboys_2024[['Opp']]"
   ]
  },
  {
   "cell_type": "code",
   "execution_count": 31,
   "id": "93c3f6ff",
   "metadata": {
    "ExecuteTime": {
     "end_time": "2024-03-28T16:01:09.491193300Z",
     "start_time": "2024-03-28T16:01:09.190640100Z"
    }
   },
   "outputs": [],
   "source": [
    "cowboys_2024_team = pd.merge(cowboys_2024_team, agg_2023, how = 'left', on='Team')"
   ]
  },
  {
   "cell_type": "code",
   "execution_count": 32,
   "id": "dc9c1d5f",
   "metadata": {
    "ExecuteTime": {
     "end_time": "2024-03-28T16:01:09.755809400Z",
     "start_time": "2024-03-28T16:01:09.490187400Z"
    }
   },
   "outputs": [],
   "source": [
    "for col in cowboys_2024_team.columns:\n",
    "    if col not in ['Team']:\n",
    "        cowboys_2024_team.rename(columns = {col: 'Team_' + col}, inplace = True)\n",
    "        \n",
    "cowboys_2024_opp = pd.merge(cowboys_2024_opp, agg_2023, how = 'left', left_on = 'Opp', right_on = 'Team')\n",
    "cowboys_2024_opp = cowboys_2024_opp.drop(columns = 'Team') \n",
    "\n",
    "for col in cowboys_2024_opp.columns:\n",
    "    if col not in ['Opp']:\n",
    "        cowboys_2024_opp.rename(columns={col: 'Opp_' + col}, inplace = True)\n",
    "        \n",
    "cowboys_2024_agg = pd.concat([cowboys_2024_team, cowboys_2024_opp], axis = 1)\n",
    "\n",
    "cowboys_2024_agg['Team'] = cowboys_2024_agg['Team'].map(team_name_to_number)\n",
    "cowboys_2024_agg['Opp'] = cowboys_2024_agg['Opp'].map(team_name_to_number)"
   ]
  },
  {
   "cell_type": "code",
   "execution_count": 33,
   "id": "469d0101",
   "metadata": {
    "ExecuteTime": {
     "end_time": "2024-03-28T16:01:10.590826200Z",
     "start_time": "2024-03-28T16:01:10.542539Z"
    }
   },
   "outputs": [],
   "source": [
    "cowboys_2024_agg.fillna(0, inplace=True)\n",
    "cowboys_pred = lr.predict(cowboys_2024_agg)\n",
    "cowboys_2024 = pd.concat([cowboys_2024, pd.DataFrame(cowboys_pred)], axis = 1)"
   ]
  },
  {
   "cell_type": "code",
   "execution_count": 34,
   "id": "4411be2d",
   "metadata": {
    "ExecuteTime": {
     "end_time": "2024-03-28T16:01:11.498664500Z",
     "start_time": "2024-03-28T16:01:11.440282700Z"
    }
   },
   "outputs": [
    {
     "data": {
      "text/plain": "       Team         Opp  0\n0   cowboys      giants  1\n1   cowboys      eagles  1\n2   cowboys  commanders  1\n3   cowboys      saints  1\n4   cowboys  buccaneers  1\n5   cowboys       lions  1\n6   cowboys      ravels  1\n7   cowboys     bengals  1\n8   cowboys      texans  1\n9   cowboys     falcons  1\n10  cowboys    panthers  1\n11  cowboys       49ers  1\n12  cowboys      browns  1\n13  cowboys    steelers  1",
      "text/html": "<div>\n<style scoped>\n    .dataframe tbody tr th:only-of-type {\n        vertical-align: middle;\n    }\n\n    .dataframe tbody tr th {\n        vertical-align: top;\n    }\n\n    .dataframe thead th {\n        text-align: right;\n    }\n</style>\n<table border=\"1\" class=\"dataframe\">\n  <thead>\n    <tr style=\"text-align: right;\">\n      <th></th>\n      <th>Team</th>\n      <th>Opp</th>\n      <th>0</th>\n    </tr>\n  </thead>\n  <tbody>\n    <tr>\n      <th>0</th>\n      <td>cowboys</td>\n      <td>giants</td>\n      <td>1</td>\n    </tr>\n    <tr>\n      <th>1</th>\n      <td>cowboys</td>\n      <td>eagles</td>\n      <td>1</td>\n    </tr>\n    <tr>\n      <th>2</th>\n      <td>cowboys</td>\n      <td>commanders</td>\n      <td>1</td>\n    </tr>\n    <tr>\n      <th>3</th>\n      <td>cowboys</td>\n      <td>saints</td>\n      <td>1</td>\n    </tr>\n    <tr>\n      <th>4</th>\n      <td>cowboys</td>\n      <td>buccaneers</td>\n      <td>1</td>\n    </tr>\n    <tr>\n      <th>5</th>\n      <td>cowboys</td>\n      <td>lions</td>\n      <td>1</td>\n    </tr>\n    <tr>\n      <th>6</th>\n      <td>cowboys</td>\n      <td>ravels</td>\n      <td>1</td>\n    </tr>\n    <tr>\n      <th>7</th>\n      <td>cowboys</td>\n      <td>bengals</td>\n      <td>1</td>\n    </tr>\n    <tr>\n      <th>8</th>\n      <td>cowboys</td>\n      <td>texans</td>\n      <td>1</td>\n    </tr>\n    <tr>\n      <th>9</th>\n      <td>cowboys</td>\n      <td>falcons</td>\n      <td>1</td>\n    </tr>\n    <tr>\n      <th>10</th>\n      <td>cowboys</td>\n      <td>panthers</td>\n      <td>1</td>\n    </tr>\n    <tr>\n      <th>11</th>\n      <td>cowboys</td>\n      <td>49ers</td>\n      <td>1</td>\n    </tr>\n    <tr>\n      <th>12</th>\n      <td>cowboys</td>\n      <td>browns</td>\n      <td>1</td>\n    </tr>\n    <tr>\n      <th>13</th>\n      <td>cowboys</td>\n      <td>steelers</td>\n      <td>1</td>\n    </tr>\n  </tbody>\n</table>\n</div>"
     },
     "execution_count": 34,
     "metadata": {},
     "output_type": "execute_result"
    }
   ],
   "source": [
    "cowboys_2024"
   ]
  },
  {
   "cell_type": "code",
   "execution_count": 35,
   "id": "e793c689",
   "metadata": {
    "ExecuteTime": {
     "end_time": "2024-03-28T16:01:15.003329Z",
     "start_time": "2024-03-28T16:01:12.049440300Z"
    }
   },
   "outputs": [
    {
     "ename": "ValueError",
     "evalue": "Classification metrics can't handle a mix of binary and continuous targets",
     "output_type": "error",
     "traceback": [
      "\u001B[1;31m---------------------------------------------------------------------------\u001B[0m",
      "\u001B[1;31mValueError\u001B[0m                                Traceback (most recent call last)",
      "Cell \u001B[1;32mIn[35], line 7\u001B[0m\n\u001B[0;32m      5\u001B[0m rf\u001B[38;5;241m.\u001B[39mfit(X_train, y_train)\n\u001B[0;32m      6\u001B[0m y_pred \u001B[38;5;241m=\u001B[39m rf\u001B[38;5;241m.\u001B[39mpredict(X_test)\n\u001B[1;32m----> 7\u001B[0m accuracy \u001B[38;5;241m=\u001B[39m \u001B[43maccuracy_score\u001B[49m\u001B[43m(\u001B[49m\u001B[43my_test\u001B[49m\u001B[43m,\u001B[49m\u001B[43m \u001B[49m\u001B[43my_pred\u001B[49m\u001B[43m)\u001B[49m\n\u001B[0;32m      8\u001B[0m \u001B[38;5;28mprint\u001B[39m(accuracy)\n",
      "File \u001B[1;32m~\\AppData\\Local\\Programs\\Python\\Python311\\Lib\\site-packages\\sklearn\\utils\\_param_validation.py:213\u001B[0m, in \u001B[0;36mvalidate_params.<locals>.decorator.<locals>.wrapper\u001B[1;34m(*args, **kwargs)\u001B[0m\n\u001B[0;32m    207\u001B[0m \u001B[38;5;28;01mtry\u001B[39;00m:\n\u001B[0;32m    208\u001B[0m     \u001B[38;5;28;01mwith\u001B[39;00m config_context(\n\u001B[0;32m    209\u001B[0m         skip_parameter_validation\u001B[38;5;241m=\u001B[39m(\n\u001B[0;32m    210\u001B[0m             prefer_skip_nested_validation \u001B[38;5;129;01mor\u001B[39;00m global_skip_validation\n\u001B[0;32m    211\u001B[0m         )\n\u001B[0;32m    212\u001B[0m     ):\n\u001B[1;32m--> 213\u001B[0m         \u001B[38;5;28;01mreturn\u001B[39;00m \u001B[43mfunc\u001B[49m\u001B[43m(\u001B[49m\u001B[38;5;241;43m*\u001B[39;49m\u001B[43margs\u001B[49m\u001B[43m,\u001B[49m\u001B[43m \u001B[49m\u001B[38;5;241;43m*\u001B[39;49m\u001B[38;5;241;43m*\u001B[39;49m\u001B[43mkwargs\u001B[49m\u001B[43m)\u001B[49m\n\u001B[0;32m    214\u001B[0m \u001B[38;5;28;01mexcept\u001B[39;00m InvalidParameterError \u001B[38;5;28;01mas\u001B[39;00m e:\n\u001B[0;32m    215\u001B[0m     \u001B[38;5;66;03m# When the function is just a wrapper around an estimator, we allow\u001B[39;00m\n\u001B[0;32m    216\u001B[0m     \u001B[38;5;66;03m# the function to delegate validation to the estimator, but we replace\u001B[39;00m\n\u001B[0;32m    217\u001B[0m     \u001B[38;5;66;03m# the name of the estimator by the name of the function in the error\u001B[39;00m\n\u001B[0;32m    218\u001B[0m     \u001B[38;5;66;03m# message to avoid confusion.\u001B[39;00m\n\u001B[0;32m    219\u001B[0m     msg \u001B[38;5;241m=\u001B[39m re\u001B[38;5;241m.\u001B[39msub(\n\u001B[0;32m    220\u001B[0m         \u001B[38;5;124mr\u001B[39m\u001B[38;5;124m\"\u001B[39m\u001B[38;5;124mparameter of \u001B[39m\u001B[38;5;124m\\\u001B[39m\u001B[38;5;124mw+ must be\u001B[39m\u001B[38;5;124m\"\u001B[39m,\n\u001B[0;32m    221\u001B[0m         \u001B[38;5;124mf\u001B[39m\u001B[38;5;124m\"\u001B[39m\u001B[38;5;124mparameter of \u001B[39m\u001B[38;5;132;01m{\u001B[39;00mfunc\u001B[38;5;241m.\u001B[39m\u001B[38;5;18m__qualname__\u001B[39m\u001B[38;5;132;01m}\u001B[39;00m\u001B[38;5;124m must be\u001B[39m\u001B[38;5;124m\"\u001B[39m,\n\u001B[0;32m    222\u001B[0m         \u001B[38;5;28mstr\u001B[39m(e),\n\u001B[0;32m    223\u001B[0m     )\n",
      "File \u001B[1;32m~\\AppData\\Local\\Programs\\Python\\Python311\\Lib\\site-packages\\sklearn\\metrics\\_classification.py:213\u001B[0m, in \u001B[0;36maccuracy_score\u001B[1;34m(y_true, y_pred, normalize, sample_weight)\u001B[0m\n\u001B[0;32m    147\u001B[0m \u001B[38;5;250m\u001B[39m\u001B[38;5;124;03m\"\"\"Accuracy classification score.\u001B[39;00m\n\u001B[0;32m    148\u001B[0m \n\u001B[0;32m    149\u001B[0m \u001B[38;5;124;03mIn multilabel classification, this function computes subset accuracy:\u001B[39;00m\n\u001B[1;32m   (...)\u001B[0m\n\u001B[0;32m    209\u001B[0m \u001B[38;5;124;03m0.5\u001B[39;00m\n\u001B[0;32m    210\u001B[0m \u001B[38;5;124;03m\"\"\"\u001B[39;00m\n\u001B[0;32m    212\u001B[0m \u001B[38;5;66;03m# Compute accuracy for each possible representation\u001B[39;00m\n\u001B[1;32m--> 213\u001B[0m y_type, y_true, y_pred \u001B[38;5;241m=\u001B[39m \u001B[43m_check_targets\u001B[49m\u001B[43m(\u001B[49m\u001B[43my_true\u001B[49m\u001B[43m,\u001B[49m\u001B[43m \u001B[49m\u001B[43my_pred\u001B[49m\u001B[43m)\u001B[49m\n\u001B[0;32m    214\u001B[0m check_consistent_length(y_true, y_pred, sample_weight)\n\u001B[0;32m    215\u001B[0m \u001B[38;5;28;01mif\u001B[39;00m y_type\u001B[38;5;241m.\u001B[39mstartswith(\u001B[38;5;124m\"\u001B[39m\u001B[38;5;124mmultilabel\u001B[39m\u001B[38;5;124m\"\u001B[39m):\n",
      "File \u001B[1;32m~\\AppData\\Local\\Programs\\Python\\Python311\\Lib\\site-packages\\sklearn\\metrics\\_classification.py:94\u001B[0m, in \u001B[0;36m_check_targets\u001B[1;34m(y_true, y_pred)\u001B[0m\n\u001B[0;32m     91\u001B[0m     y_type \u001B[38;5;241m=\u001B[39m {\u001B[38;5;124m\"\u001B[39m\u001B[38;5;124mmulticlass\u001B[39m\u001B[38;5;124m\"\u001B[39m}\n\u001B[0;32m     93\u001B[0m \u001B[38;5;28;01mif\u001B[39;00m \u001B[38;5;28mlen\u001B[39m(y_type) \u001B[38;5;241m>\u001B[39m \u001B[38;5;241m1\u001B[39m:\n\u001B[1;32m---> 94\u001B[0m     \u001B[38;5;28;01mraise\u001B[39;00m \u001B[38;5;167;01mValueError\u001B[39;00m(\n\u001B[0;32m     95\u001B[0m         \u001B[38;5;124m\"\u001B[39m\u001B[38;5;124mClassification metrics can\u001B[39m\u001B[38;5;124m'\u001B[39m\u001B[38;5;124mt handle a mix of \u001B[39m\u001B[38;5;132;01m{0}\u001B[39;00m\u001B[38;5;124m and \u001B[39m\u001B[38;5;132;01m{1}\u001B[39;00m\u001B[38;5;124m targets\u001B[39m\u001B[38;5;124m\"\u001B[39m\u001B[38;5;241m.\u001B[39mformat(\n\u001B[0;32m     96\u001B[0m             type_true, type_pred\n\u001B[0;32m     97\u001B[0m         )\n\u001B[0;32m     98\u001B[0m     )\n\u001B[0;32m    100\u001B[0m \u001B[38;5;66;03m# We can't have more than one value on y_type => The set is no more needed\u001B[39;00m\n\u001B[0;32m    101\u001B[0m y_type \u001B[38;5;241m=\u001B[39m y_type\u001B[38;5;241m.\u001B[39mpop()\n",
      "\u001B[1;31mValueError\u001B[0m: Classification metrics can't handle a mix of binary and continuous targets"
     ]
    }
   ],
   "source": [
    "from sklearn.ensemble import RandomForestRegressor\n",
    "\n",
    "X_train, X_test, y_train, y_test = train_test_split(df_agg_combined.iloc[:, 1:39], df_agg_combined.iloc[:, 39], test_size = 0.2, random_state = 1)\n",
    "rf = RandomForestRegressor(n_estimators = 100, random_state = 42)\n",
    "rf.fit(X_train, y_train)\n",
    "y_pred = rf.predict(X_test)\n",
    "accuracy = accuracy_score(y_test, y_pred)\n",
    "print(accuracy)"
   ]
  },
  {
   "cell_type": "code",
   "execution_count": 36,
   "id": "70e16178",
   "metadata": {
    "ExecuteTime": {
     "end_time": "2024-03-28T16:01:19.911179200Z",
     "start_time": "2024-03-28T16:01:19.859191600Z"
    }
   },
   "outputs": [
    {
     "name": "stdout",
     "output_type": "stream",
     "text": [
      "MAE: 0.4883272436024729, MSE: 0.32558683050343673, R-squared: -0.3024569472092027\n"
     ]
    }
   ],
   "source": [
    "from sklearn.metrics import mean_absolute_error, mean_squared_error, r2_score\n",
    "\n",
    "mae = mean_absolute_error(y_test, y_pred)\n",
    "mse = mean_squared_error(y_test, y_pred)\n",
    "r2 = r2_score(y_test, y_pred)\n",
    "\n",
    "print(f\"MAE: {mae}, MSE: {mse}, R-squared: {r2}\")"
   ]
  },
  {
   "cell_type": "code",
   "execution_count": null,
   "id": "61bc7bc1",
   "metadata": {},
   "outputs": [],
   "source": []
  }
 ],
 "metadata": {
  "kernelspec": {
   "display_name": "Python 3 (ipykernel)",
   "language": "python",
   "name": "python3"
  },
  "language_info": {
   "codemirror_mode": {
    "name": "ipython",
    "version": 3
   },
   "file_extension": ".py",
   "mimetype": "text/x-python",
   "name": "python",
   "nbconvert_exporter": "python",
   "pygments_lexer": "ipython3",
   "version": "3.9.13"
  }
 },
 "nbformat": 4,
 "nbformat_minor": 5
}
